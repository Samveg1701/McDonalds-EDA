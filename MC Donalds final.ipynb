{
 "cells": [
  {
   "cell_type": "code",
   "execution_count": 1,
   "metadata": {},
   "outputs": [
    {
     "name": "stderr",
     "output_type": "stream",
     "text": [
      "ERROR: Invalid requirement: '#'\n",
      "ERROR: Invalid requirement: '#'\n"
     ]
    }
   ],
   "source": [
    "!pip install -q datascience                                         # Package that is required by pandas profiling\n",
    "!pip install -q pandas-profiling                            # Library to generate basic statistics about data"
   ]
  },
  {
   "cell_type": "code",
   "execution_count": 2,
   "metadata": {},
   "outputs": [
    {
     "name": "stderr",
     "output_type": "stream",
     "text": [
      "c:\\Users\\asus\\AppData\\Local\\Programs\\Python\\Python310\\lib\\site-packages\\tqdm\\auto.py:22: TqdmWarning: IProgress not found. Please update jupyter and ipywidgets. See https://ipywidgets.readthedocs.io/en/stable/user_install.html\n",
      "  from .autonotebook import tqdm as notebook_tqdm\n",
      "C:\\Users\\asus\\AppData\\Local\\Temp\\ipykernel_25516\\1801230551.py:3: DeprecationWarning: `import pandas_profiling` is going to be deprecated by April 1st. Please use `import ydata_profiling` instead.\n",
      "  from pandas_profiling import ProfileReport                          # To perform data profiling\n"
     ]
    }
   ],
   "source": [
    "#-------------------------------------------------------------------------------------------------------------------------------\n",
    "import pandas as pd                                                 # Importing for panel data analysis\n",
    "from pandas_profiling import ProfileReport                          # To perform data profiling\n",
    "pd.set_option('display.max_columns', None)                          # Unfolding hidden features if the cardinality is high\n",
    "pd.set_option('display.max_colwidth', None)                         # Unfolding the max feature width for better clearity\n",
    "pd.set_option('display.max_rows', None)                             # Unfolding hidden data points if the cardinality is high\n",
    "pd.set_option('mode.chained_assignment', None)                      # Removing restriction over chained assignments operations\n",
    "#-------------------------------------------------------------------------------------------------------------------------------\n",
    "import numpy as np                                                  # For numerical python operations\n",
    "#-------------------------------------------------------------------------------------------------------------------------------\n",
    "import plotly.graph_objs as go                                      # For interactive graphs\n",
    "#-------------------------------------------------------------------------------------------------------------------------------\n",
    "import warnings                                                     # Importing warning to disable runtime warnings\n",
    "warnings.filterwarnings(\"ignore\")                                   # Warnings will appear only once"
   ]
  },
  {
   "cell_type": "code",
   "execution_count": 3,
   "metadata": {},
   "outputs": [
    {
     "name": "stdout",
     "output_type": "stream",
     "text": [
      "McDonalds Menu Shape: (340, 13)\n",
      "McDonalds Store Location Shape: (340, 18)\n"
     ]
    }
   ],
   "source": [
    "# Nutrition facts about different items for McDonald's menu.\n",
    "df_mcd = pd.read_excel(io='https://github.com/insaid2018/PGPDSAI/raw/main/03%20Term%203%20-%20EDA%20%26%20Data%20Storytelling/03%20Module%203/data/menu.xlsx')\n",
    "\n",
    "# McDonald's store location information.\n",
    "df_store = pd.read_excel(io='https://github.com/insaid2018/PGPDSAI/raw/main/03%20Term%203%20-%20EDA%20%26%20Data%20Storytelling/03%20Module%203/data/outlets.xlsx')\n",
    "\n",
    "# Display data dimensions\n",
    "print('McDonalds Menu Shape:', df_mcd.shape)\n",
    "print('McDonalds Store Location Shape:', df_store.shape)"
   ]
  },
  {
   "cell_type": "code",
   "execution_count": 4,
   "metadata": {},
   "outputs": [
    {
     "name": "stdout",
     "output_type": "stream",
     "text": [
      "McDonalds Menu Shape: (340, 30)\n"
     ]
    },
    {
     "data": {
      "text/html": [
       "<div>\n",
       "<style scoped>\n",
       "    .dataframe tbody tr th:only-of-type {\n",
       "        vertical-align: middle;\n",
       "    }\n",
       "\n",
       "    .dataframe tbody tr th {\n",
       "        vertical-align: top;\n",
       "    }\n",
       "\n",
       "    .dataframe thead th {\n",
       "        text-align: right;\n",
       "    }\n",
       "</style>\n",
       "<table border=\"1\" class=\"dataframe\">\n",
       "  <thead>\n",
       "    <tr style=\"text-align: right;\">\n",
       "      <th></th>\n",
       "      <th>Store_ID</th>\n",
       "      <th>Store_Name</th>\n",
       "      <th>Ownership_Type</th>\n",
       "      <th>Street_Address</th>\n",
       "      <th>City</th>\n",
       "      <th>State</th>\n",
       "      <th>Country</th>\n",
       "      <th>Postcode</th>\n",
       "      <th>Phone_Number</th>\n",
       "      <th>Timezone</th>\n",
       "      <th>Longitude</th>\n",
       "      <th>Latitude</th>\n",
       "      <th>Revenue</th>\n",
       "      <th>Profits</th>\n",
       "      <th>Gross_Profit_Margin</th>\n",
       "      <th>Number_of_Employees</th>\n",
       "      <th>Customers</th>\n",
       "      <th>Best_Selling_Item</th>\n",
       "      <th>Category</th>\n",
       "      <th>Serve_Size</th>\n",
       "      <th>Energy</th>\n",
       "      <th>Protein</th>\n",
       "      <th>Total_Fat</th>\n",
       "      <th>Saturated_Fat</th>\n",
       "      <th>Trans_Fat</th>\n",
       "      <th>Cholestrol</th>\n",
       "      <th>Carbohydrates</th>\n",
       "      <th>Sugars</th>\n",
       "      <th>Dietary_Fibre</th>\n",
       "      <th>Sodium</th>\n",
       "    </tr>\n",
       "  </thead>\n",
       "  <tbody>\n",
       "    <tr>\n",
       "      <th>0</th>\n",
       "      <td>23149-228271</td>\n",
       "      <td>Banjara Hills</td>\n",
       "      <td>Joint Venture</td>\n",
       "      <td>Lower Ground Floor, GVK One, Road Number 1, Banjara Hills</td>\n",
       "      <td>Hyderabad</td>\n",
       "      <td>AP</td>\n",
       "      <td>IN</td>\n",
       "      <td>500034</td>\n",
       "      <td>NaN</td>\n",
       "      <td>GMT+05:30 Asia/New_Delhi</td>\n",
       "      <td>78.45</td>\n",
       "      <td>17.42</td>\n",
       "      <td>2.117344</td>\n",
       "      <td>0.171584</td>\n",
       "      <td>0.747732</td>\n",
       "      <td>34.311197</td>\n",
       "      <td>3979.583117</td>\n",
       "      <td>Egg &amp; Cheese Muﬃn</td>\n",
       "      <td>Breakfast</td>\n",
       "      <td>112</td>\n",
       "      <td>290</td>\n",
       "      <td>14</td>\n",
       "      <td>13.0</td>\n",
       "      <td>7.0</td>\n",
       "      <td>0.2</td>\n",
       "      <td>244</td>\n",
       "      <td>28</td>\n",
       "      <td>2</td>\n",
       "      <td>2</td>\n",
       "      <td>620</td>\n",
       "    </tr>\n",
       "    <tr>\n",
       "      <th>1</th>\n",
       "      <td>23191-228548</td>\n",
       "      <td>Kukatpally</td>\n",
       "      <td>Joint Venture</td>\n",
       "      <td>Upper Ground Floor, Forum Sujana Mall, Kukatpally</td>\n",
       "      <td>Hyderabad</td>\n",
       "      <td>AP</td>\n",
       "      <td>IN</td>\n",
       "      <td>500072</td>\n",
       "      <td>NaN</td>\n",
       "      <td>GMT+05:30 Asia/New_Delhi</td>\n",
       "      <td>78.39</td>\n",
       "      <td>17.48</td>\n",
       "      <td>1.058504</td>\n",
       "      <td>0.054645</td>\n",
       "      <td>0.442299</td>\n",
       "      <td>25.487533</td>\n",
       "      <td>1156.010620</td>\n",
       "      <td>Sausage McMuﬀm</td>\n",
       "      <td>Breakfast</td>\n",
       "      <td>112</td>\n",
       "      <td>273</td>\n",
       "      <td>16</td>\n",
       "      <td>11.0</td>\n",
       "      <td>5.7</td>\n",
       "      <td>0.2</td>\n",
       "      <td>50</td>\n",
       "      <td>28</td>\n",
       "      <td>2</td>\n",
       "      <td>2</td>\n",
       "      <td>950</td>\n",
       "    </tr>\n",
       "    <tr>\n",
       "      <th>2</th>\n",
       "      <td>23193-228546</td>\n",
       "      <td>Madhapur</td>\n",
       "      <td>Joint Venture</td>\n",
       "      <td>Lower Ground Floor, Inorbit Mall, Madhapur</td>\n",
       "      <td>Hyderabad</td>\n",
       "      <td>AP</td>\n",
       "      <td>IN</td>\n",
       "      <td>500081</td>\n",
       "      <td>NaN</td>\n",
       "      <td>GMT+05:30 Asia/New_Delhi</td>\n",
       "      <td>78.39</td>\n",
       "      <td>17.43</td>\n",
       "      <td>4.505020</td>\n",
       "      <td>0.663867</td>\n",
       "      <td>0.933588</td>\n",
       "      <td>54.208502</td>\n",
       "      <td>10346.720786</td>\n",
       "      <td>Sausage &amp; Egg McMuﬀm</td>\n",
       "      <td>Breakfast</td>\n",
       "      <td>157</td>\n",
       "      <td>355</td>\n",
       "      <td>22</td>\n",
       "      <td>17.0</td>\n",
       "      <td>7.9</td>\n",
       "      <td>0.2</td>\n",
       "      <td>277</td>\n",
       "      <td>29</td>\n",
       "      <td>2</td>\n",
       "      <td>2</td>\n",
       "      <td>1020</td>\n",
       "    </tr>\n",
       "  </tbody>\n",
       "</table>\n",
       "</div>"
      ],
      "text/plain": [
       "       Store_ID     Store_Name Ownership_Type  \\\n",
       "0  23149-228271  Banjara Hills  Joint Venture   \n",
       "1  23191-228548     Kukatpally  Joint Venture   \n",
       "2  23193-228546       Madhapur  Joint Venture   \n",
       "\n",
       "                                              Street_Address       City State  \\\n",
       "0  Lower Ground Floor, GVK One, Road Number 1, Banjara Hills  Hyderabad    AP   \n",
       "1          Upper Ground Floor, Forum Sujana Mall, Kukatpally  Hyderabad    AP   \n",
       "2                 Lower Ground Floor, Inorbit Mall, Madhapur  Hyderabad    AP   \n",
       "\n",
       "  Country  Postcode Phone_Number                  Timezone  Longitude  \\\n",
       "0      IN    500034          NaN  GMT+05:30 Asia/New_Delhi      78.45   \n",
       "1      IN    500072          NaN  GMT+05:30 Asia/New_Delhi      78.39   \n",
       "2      IN    500081          NaN  GMT+05:30 Asia/New_Delhi      78.39   \n",
       "\n",
       "   Latitude   Revenue   Profits  Gross_Profit_Margin  Number_of_Employees  \\\n",
       "0     17.42  2.117344  0.171584             0.747732            34.311197   \n",
       "1     17.48  1.058504  0.054645             0.442299            25.487533   \n",
       "2     17.43  4.505020  0.663867             0.933588            54.208502   \n",
       "\n",
       "      Customers     Best_Selling_Item   Category Serve_Size  Energy  Protein  \\\n",
       "0   3979.583117     Egg & Cheese Muﬃn  Breakfast        112     290       14   \n",
       "1   1156.010620        Sausage McMuﬀm  Breakfast        112     273       16   \n",
       "2  10346.720786  Sausage & Egg McMuﬀm  Breakfast        157     355       22   \n",
       "\n",
       "   Total_Fat  Saturated_Fat  Trans_Fat  Cholestrol  Carbohydrates  Sugars  \\\n",
       "0       13.0            7.0        0.2         244             28       2   \n",
       "1       11.0            5.7        0.2          50             28       2   \n",
       "2       17.0            7.9        0.2         277             29       2   \n",
       "\n",
       "   Dietary_Fibre Sodium  \n",
       "0              2    620  \n",
       "1              2    950  \n",
       "2              2   1020  "
      ]
     },
     "execution_count": 4,
     "metadata": {},
     "output_type": "execute_result"
    }
   ],
   "source": [
    "# Merge data using menu and outlets\n",
    "data = pd.merge(left=df_store, \n",
    "                right=df_mcd, \n",
    "                how='inner', \n",
    "                left_on='Best_Selling_Item', \n",
    "                right_on='Item').drop(labels=['Item'], axis=1)\n",
    "\n",
    "# Display the final data shape\n",
    "print('McDonalds Menu Shape:', data.shape)\n",
    "\n",
    "# Output top 3 rows\n",
    "data.head(3)"
   ]
  },
  {
   "cell_type": "code",
   "execution_count": 5,
   "metadata": {},
   "outputs": [
    {
     "data": {
      "text/html": [
       "<div>\n",
       "<style scoped>\n",
       "    .dataframe tbody tr th:only-of-type {\n",
       "        vertical-align: middle;\n",
       "    }\n",
       "\n",
       "    .dataframe tbody tr th {\n",
       "        vertical-align: top;\n",
       "    }\n",
       "\n",
       "    .dataframe thead th {\n",
       "        text-align: right;\n",
       "    }\n",
       "</style>\n",
       "<table border=\"1\" class=\"dataframe\">\n",
       "  <thead>\n",
       "    <tr style=\"text-align: right;\">\n",
       "      <th></th>\n",
       "      <th>Postcode</th>\n",
       "      <th>Longitude</th>\n",
       "      <th>Latitude</th>\n",
       "      <th>Revenue</th>\n",
       "      <th>Profits</th>\n",
       "      <th>Gross_Profit_Margin</th>\n",
       "      <th>Number_of_Employees</th>\n",
       "      <th>Customers</th>\n",
       "      <th>Energy</th>\n",
       "      <th>Protein</th>\n",
       "      <th>Total_Fat</th>\n",
       "      <th>Saturated_Fat</th>\n",
       "      <th>Trans_Fat</th>\n",
       "      <th>Cholestrol</th>\n",
       "      <th>Carbohydrates</th>\n",
       "      <th>Sugars</th>\n",
       "      <th>Dietary_Fibre</th>\n",
       "    </tr>\n",
       "  </thead>\n",
       "  <tbody>\n",
       "    <tr>\n",
       "      <th>count</th>\n",
       "      <td>3.400000e+02</td>\n",
       "      <td>340.000000</td>\n",
       "      <td>340.000000</td>\n",
       "      <td>340.000000</td>\n",
       "      <td>340.000000</td>\n",
       "      <td>340.000000</td>\n",
       "      <td>340.000000</td>\n",
       "      <td>340.000000</td>\n",
       "      <td>340.000000</td>\n",
       "      <td>340.000000</td>\n",
       "      <td>340.000000</td>\n",
       "      <td>340.000000</td>\n",
       "      <td>340.000000</td>\n",
       "      <td>340.000000</td>\n",
       "      <td>340.000000</td>\n",
       "      <td>340.000000</td>\n",
       "      <td>340.000000</td>\n",
       "    </tr>\n",
       "    <tr>\n",
       "      <th>mean</th>\n",
       "      <td>2.902141e+08</td>\n",
       "      <td>-56.761000</td>\n",
       "      <td>33.487647</td>\n",
       "      <td>25.853416</td>\n",
       "      <td>4.643606</td>\n",
       "      <td>3.523310</td>\n",
       "      <td>90.556231</td>\n",
       "      <td>13071.990651</td>\n",
       "      <td>337.800000</td>\n",
       "      <td>11.694118</td>\n",
       "      <td>13.050000</td>\n",
       "      <td>5.595588</td>\n",
       "      <td>0.183235</td>\n",
       "      <td>47.544118</td>\n",
       "      <td>43.770588</td>\n",
       "      <td>26.347059</td>\n",
       "      <td>1.544118</td>\n",
       "    </tr>\n",
       "    <tr>\n",
       "      <th>std</th>\n",
       "      <td>3.649787e+08</td>\n",
       "      <td>76.967267</td>\n",
       "      <td>9.945169</td>\n",
       "      <td>14.476980</td>\n",
       "      <td>3.406981</td>\n",
       "      <td>5.193082</td>\n",
       "      <td>31.352258</td>\n",
       "      <td>6993.912334</td>\n",
       "      <td>231.850796</td>\n",
       "      <td>10.990770</td>\n",
       "      <td>13.639604</td>\n",
       "      <td>5.219422</td>\n",
       "      <td>0.381715</td>\n",
       "      <td>81.815469</td>\n",
       "      <td>26.936400</td>\n",
       "      <td>26.896340</td>\n",
       "      <td>1.663719</td>\n",
       "    </tr>\n",
       "    <tr>\n",
       "      <th>min</th>\n",
       "      <td>2.134000e+03</td>\n",
       "      <td>-158.020000</td>\n",
       "      <td>12.910000</td>\n",
       "      <td>1.001099</td>\n",
       "      <td>0.050085</td>\n",
       "      <td>-4.881901</td>\n",
       "      <td>25.009156</td>\n",
       "      <td>1002.929777</td>\n",
       "      <td>0.000000</td>\n",
       "      <td>0.000000</td>\n",
       "      <td>0.000000</td>\n",
       "      <td>0.000000</td>\n",
       "      <td>0.000000</td>\n",
       "      <td>0.000000</td>\n",
       "      <td>0.000000</td>\n",
       "      <td>0.000000</td>\n",
       "      <td>0.000000</td>\n",
       "    </tr>\n",
       "    <tr>\n",
       "      <th>25%</th>\n",
       "      <td>9.043625e+04</td>\n",
       "      <td>-99.325000</td>\n",
       "      <td>28.522500</td>\n",
       "      <td>15.301218</td>\n",
       "      <td>1.829762</td>\n",
       "      <td>0.069328</td>\n",
       "      <td>64.577738</td>\n",
       "      <td>6877.498703</td>\n",
       "      <td>176.500000</td>\n",
       "      <td>2.000000</td>\n",
       "      <td>1.375000</td>\n",
       "      <td>0.500000</td>\n",
       "      <td>0.000000</td>\n",
       "      <td>4.000000</td>\n",
       "      <td>28.000000</td>\n",
       "      <td>4.000000</td>\n",
       "      <td>0.000000</td>\n",
       "    </tr>\n",
       "    <tr>\n",
       "      <th>50%</th>\n",
       "      <td>5.600790e+05</td>\n",
       "      <td>-87.265000</td>\n",
       "      <td>35.105000</td>\n",
       "      <td>27.056185</td>\n",
       "      <td>3.893049</td>\n",
       "      <td>1.433993</td>\n",
       "      <td>89.164403</td>\n",
       "      <td>13373.546556</td>\n",
       "      <td>299.500000</td>\n",
       "      <td>10.000000</td>\n",
       "      <td>10.000000</td>\n",
       "      <td>4.550000</td>\n",
       "      <td>0.000000</td>\n",
       "      <td>25.000000</td>\n",
       "      <td>41.000000</td>\n",
       "      <td>16.000000</td>\n",
       "      <td>1.000000</td>\n",
       "    </tr>\n",
       "    <tr>\n",
       "      <th>75%</th>\n",
       "      <td>6.604731e+08</td>\n",
       "      <td>-71.122500</td>\n",
       "      <td>40.100000</td>\n",
       "      <td>37.930464</td>\n",
       "      <td>6.919813</td>\n",
       "      <td>6.184580</td>\n",
       "      <td>115.515610</td>\n",
       "      <td>19245.185705</td>\n",
       "      <td>460.000000</td>\n",
       "      <td>17.000000</td>\n",
       "      <td>20.000000</td>\n",
       "      <td>9.000000</td>\n",
       "      <td>0.100000</td>\n",
       "      <td>55.000000</td>\n",
       "      <td>56.000000</td>\n",
       "      <td>43.250000</td>\n",
       "      <td>3.000000</td>\n",
       "    </tr>\n",
       "    <tr>\n",
       "      <th>max</th>\n",
       "      <td>9.966980e+08</td>\n",
       "      <td>80.260000</td>\n",
       "      <td>61.600000</td>\n",
       "      <td>49.680624</td>\n",
       "      <td>13.514181</td>\n",
       "      <td>19.459398</td>\n",
       "      <td>149.087497</td>\n",
       "      <td>24964.842677</td>\n",
       "      <td>1880.000000</td>\n",
       "      <td>87.000000</td>\n",
       "      <td>118.000000</td>\n",
       "      <td>24.100000</td>\n",
       "      <td>2.500000</td>\n",
       "      <td>575.000000</td>\n",
       "      <td>141.000000</td>\n",
       "      <td>128.000000</td>\n",
       "      <td>9.000000</td>\n",
       "    </tr>\n",
       "  </tbody>\n",
       "</table>\n",
       "</div>"
      ],
      "text/plain": [
       "           Postcode   Longitude    Latitude     Revenue     Profits  \\\n",
       "count  3.400000e+02  340.000000  340.000000  340.000000  340.000000   \n",
       "mean   2.902141e+08  -56.761000   33.487647   25.853416    4.643606   \n",
       "std    3.649787e+08   76.967267    9.945169   14.476980    3.406981   \n",
       "min    2.134000e+03 -158.020000   12.910000    1.001099    0.050085   \n",
       "25%    9.043625e+04  -99.325000   28.522500   15.301218    1.829762   \n",
       "50%    5.600790e+05  -87.265000   35.105000   27.056185    3.893049   \n",
       "75%    6.604731e+08  -71.122500   40.100000   37.930464    6.919813   \n",
       "max    9.966980e+08   80.260000   61.600000   49.680624   13.514181   \n",
       "\n",
       "       Gross_Profit_Margin  Number_of_Employees     Customers       Energy  \\\n",
       "count           340.000000           340.000000    340.000000   340.000000   \n",
       "mean              3.523310            90.556231  13071.990651   337.800000   \n",
       "std               5.193082            31.352258   6993.912334   231.850796   \n",
       "min              -4.881901            25.009156   1002.929777     0.000000   \n",
       "25%               0.069328            64.577738   6877.498703   176.500000   \n",
       "50%               1.433993            89.164403  13373.546556   299.500000   \n",
       "75%               6.184580           115.515610  19245.185705   460.000000   \n",
       "max              19.459398           149.087497  24964.842677  1880.000000   \n",
       "\n",
       "          Protein   Total_Fat  Saturated_Fat   Trans_Fat  Cholestrol  \\\n",
       "count  340.000000  340.000000     340.000000  340.000000  340.000000   \n",
       "mean    11.694118   13.050000       5.595588    0.183235   47.544118   \n",
       "std     10.990770   13.639604       5.219422    0.381715   81.815469   \n",
       "min      0.000000    0.000000       0.000000    0.000000    0.000000   \n",
       "25%      2.000000    1.375000       0.500000    0.000000    4.000000   \n",
       "50%     10.000000   10.000000       4.550000    0.000000   25.000000   \n",
       "75%     17.000000   20.000000       9.000000    0.100000   55.000000   \n",
       "max     87.000000  118.000000      24.100000    2.500000  575.000000   \n",
       "\n",
       "       Carbohydrates      Sugars  Dietary_Fibre  \n",
       "count     340.000000  340.000000     340.000000  \n",
       "mean       43.770588   26.347059       1.544118  \n",
       "std        26.936400   26.896340       1.663719  \n",
       "min         0.000000    0.000000       0.000000  \n",
       "25%        28.000000    4.000000       0.000000  \n",
       "50%        41.000000   16.000000       1.000000  \n",
       "75%        56.000000   43.250000       3.000000  \n",
       "max       141.000000  128.000000       9.000000  "
      ]
     },
     "execution_count": 5,
     "metadata": {},
     "output_type": "execute_result"
    }
   ],
   "source": [
    "data.describe()"
   ]
  },
  {
   "cell_type": "code",
   "execution_count": 6,
   "metadata": {},
   "outputs": [
    {
     "name": "stdout",
     "output_type": "stream",
     "text": [
      "<class 'pandas.core.frame.DataFrame'>\n",
      "Int64Index: 340 entries, 0 to 339\n",
      "Data columns (total 30 columns):\n",
      " #   Column               Non-Null Count  Dtype  \n",
      "---  ------               --------------  -----  \n",
      " 0   Store_ID             340 non-null    object \n",
      " 1   Store_Name           340 non-null    object \n",
      " 2   Ownership_Type       340 non-null    object \n",
      " 3   Street_Address       340 non-null    object \n",
      " 4   City                 340 non-null    object \n",
      " 5   State                340 non-null    object \n",
      " 6   Country              340 non-null    object \n",
      " 7   Postcode             340 non-null    int64  \n",
      " 8   Phone_Number         248 non-null    object \n",
      " 9   Timezone             340 non-null    object \n",
      " 10  Longitude            340 non-null    float64\n",
      " 11  Latitude             340 non-null    float64\n",
      " 12  Revenue              340 non-null    float64\n",
      " 13  Profits              340 non-null    float64\n",
      " 14  Gross_Profit_Margin  340 non-null    float64\n",
      " 15  Number_of_Employees  340 non-null    float64\n",
      " 16  Customers            340 non-null    float64\n",
      " 17  Best_Selling_Item    340 non-null    object \n",
      " 18  Category             340 non-null    object \n",
      " 19  Serve_Size           340 non-null    object \n",
      " 20  Energy               340 non-null    int64  \n",
      " 21  Protein              340 non-null    int64  \n",
      " 22  Total_Fat            340 non-null    float64\n",
      " 23  Saturated_Fat        340 non-null    float64\n",
      " 24  Trans_Fat            340 non-null    float64\n",
      " 25  Cholestrol           340 non-null    int64  \n",
      " 26  Carbohydrates        340 non-null    int64  \n",
      " 27  Sugars               340 non-null    int64  \n",
      " 28  Dietary_Fibre        340 non-null    int64  \n",
      " 29  Sodium               340 non-null    object \n",
      "dtypes: float64(10), int64(7), object(13)\n",
      "memory usage: 82.3+ KB\n"
     ]
    },
    {
     "name": "stderr",
     "output_type": "stream",
     "text": [
      "Summarize dataset: 100%|██████████| 328/328 [00:40<00:00,  8.07it/s, Completed]                                       \n",
      "Generate report structure: 100%|██████████| 1/1 [00:06<00:00,  6.18s/it]\n",
      "Render HTML: 100%|██████████| 1/1 [00:05<00:00,  5.59s/it]\n",
      "Export report to file: 100%|██████████| 1/1 [00:00<00:00, 19.70it/s]"
     ]
    },
    {
     "name": "stdout",
     "output_type": "stream",
     "text": [
      "Pandas Profiling Report has been generated successfully.\n"
     ]
    },
    {
     "name": "stderr",
     "output_type": "stream",
     "text": [
      "\n"
     ]
    }
   ],
   "source": [
    "data.info()   # To check the data types of each feature\n",
    "#create a panss profile report\n",
    "profile = ProfileReport(data, title='Pandas Profiling Report', explorative=True)\n",
    "profile.to_file(output_file='Report Profile generated.html')\n",
    "print('Pandas Profiling Report has been generated successfully.')\n",
    "# profile\n",
    "\n"
   ]
  },
  {
   "cell_type": "code",
   "execution_count": 7,
   "metadata": {},
   "outputs": [],
   "source": [
    "#Dropping unnecessary columns: Postcode, Phone_Number, Timezone\n",
    "# data.drop(['Postcode', 'Phone_Number', 'Timezone'], axis=1, inplace=True)\n",
    "data['Number_of_Employees'] = data['Number_of_Employees'].apply(np.floor).astype(int)\n",
    "data['Customers'] = data['Customers'].apply(np.floor).astype(int)\n",
    "data['Serve_Size'] = data['Serve_Size'].astype(str).str.replace(' g', '').astype(int)\n",
    "median = str(int(data[~(data['Sodium'] == '-')]['Sodium'].median()))\n",
    "\n",
    "data['Sodium'] = data['Sodium'].astype(str).str.replace('-', median).astype(int)\n",
    "# data['Sodium'].astype(float)\n"
   ]
  },
  {
   "cell_type": "code",
   "execution_count": 8,
   "metadata": {},
   "outputs": [
    {
     "name": "stderr",
     "output_type": "stream",
     "text": [
      "Summarize dataset: 100%|██████████| 400/400 [00:36<00:00, 10.90it/s, Completed]                                       \n",
      "Generate report structure: 100%|██████████| 1/1 [00:06<00:00,  6.72s/it]\n",
      "Render HTML: 100%|██████████| 1/1 [00:06<00:00,  6.54s/it]\n",
      "Export report to file: 100%|██████████| 1/1 [00:00<00:00, 15.38it/s]"
     ]
    },
    {
     "name": "stdout",
     "output_type": "stream",
     "text": [
      "Accomplished!\n"
     ]
    },
    {
     "name": "stderr",
     "output_type": "stream",
     "text": [
      "\n"
     ]
    }
   ],
   "source": [
    "profile = ProfileReport(df=data)\n",
    "profile.to_file(output_file='Post Profiling Report.html')\n",
    "print('Accomplished!')"
   ]
  },
  {
   "cell_type": "code",
   "execution_count": 9,
   "metadata": {},
   "outputs": [
    {
     "name": "stdout",
     "output_type": "stream",
     "text": [
      "<class 'pandas.core.frame.DataFrame'>\n",
      "Int64Index: 340 entries, 0 to 339\n",
      "Data columns (total 30 columns):\n",
      " #   Column               Non-Null Count  Dtype  \n",
      "---  ------               --------------  -----  \n",
      " 0   Store_ID             340 non-null    object \n",
      " 1   Store_Name           340 non-null    object \n",
      " 2   Ownership_Type       340 non-null    object \n",
      " 3   Street_Address       340 non-null    object \n",
      " 4   City                 340 non-null    object \n",
      " 5   State                340 non-null    object \n",
      " 6   Country              340 non-null    object \n",
      " 7   Postcode             340 non-null    int64  \n",
      " 8   Phone_Number         248 non-null    object \n",
      " 9   Timezone             340 non-null    object \n",
      " 10  Longitude            340 non-null    float64\n",
      " 11  Latitude             340 non-null    float64\n",
      " 12  Revenue              340 non-null    float64\n",
      " 13  Profits              340 non-null    float64\n",
      " 14  Gross_Profit_Margin  340 non-null    float64\n",
      " 15  Number_of_Employees  340 non-null    int32  \n",
      " 16  Customers            340 non-null    int32  \n",
      " 17  Best_Selling_Item    340 non-null    object \n",
      " 18  Category             340 non-null    object \n",
      " 19  Serve_Size           340 non-null    int32  \n",
      " 20  Energy               340 non-null    int64  \n",
      " 21  Protein              340 non-null    int64  \n",
      " 22  Total_Fat            340 non-null    float64\n",
      " 23  Saturated_Fat        340 non-null    float64\n",
      " 24  Trans_Fat            340 non-null    float64\n",
      " 25  Cholestrol           340 non-null    int64  \n",
      " 26  Carbohydrates        340 non-null    int64  \n",
      " 27  Sugars               340 non-null    int64  \n",
      " 28  Dietary_Fibre        340 non-null    int64  \n",
      " 29  Sodium               340 non-null    int32  \n",
      "dtypes: float64(8), int32(4), int64(7), object(11)\n",
      "memory usage: 314.4 KB\n"
     ]
    }
   ],
   "source": [
    "data.info(verbose = True, memory_usage='deep', null_counts=True)"
   ]
  },
  {
   "cell_type": "code",
   "execution_count": 10,
   "metadata": {},
   "outputs": [
    {
     "data": {
      "text/html": [
       "<div>\n",
       "<style scoped>\n",
       "    .dataframe tbody tr th:only-of-type {\n",
       "        vertical-align: middle;\n",
       "    }\n",
       "\n",
       "    .dataframe tbody tr th {\n",
       "        vertical-align: top;\n",
       "    }\n",
       "\n",
       "    .dataframe thead th {\n",
       "        text-align: right;\n",
       "    }\n",
       "</style>\n",
       "<table border=\"1\" class=\"dataframe\">\n",
       "  <thead>\n",
       "    <tr style=\"text-align: right;\">\n",
       "      <th></th>\n",
       "      <th>Store_ID</th>\n",
       "      <th>Store_Name</th>\n",
       "      <th>Ownership_Type</th>\n",
       "      <th>Street_Address</th>\n",
       "      <th>City</th>\n",
       "      <th>State</th>\n",
       "      <th>Country</th>\n",
       "      <th>Postcode</th>\n",
       "      <th>Phone_Number</th>\n",
       "      <th>Timezone</th>\n",
       "      <th>Longitude</th>\n",
       "      <th>Latitude</th>\n",
       "      <th>Revenue</th>\n",
       "      <th>Profits</th>\n",
       "      <th>Gross_Profit_Margin</th>\n",
       "      <th>Number_of_Employees</th>\n",
       "      <th>Customers</th>\n",
       "      <th>Best_Selling_Item</th>\n",
       "      <th>Category</th>\n",
       "      <th>Serve_Size</th>\n",
       "      <th>Energy</th>\n",
       "      <th>Protein</th>\n",
       "      <th>Total_Fat</th>\n",
       "      <th>Saturated_Fat</th>\n",
       "      <th>Trans_Fat</th>\n",
       "      <th>Cholestrol</th>\n",
       "      <th>Carbohydrates</th>\n",
       "      <th>Sugars</th>\n",
       "      <th>Dietary_Fibre</th>\n",
       "      <th>Sodium</th>\n",
       "    </tr>\n",
       "  </thead>\n",
       "  <tbody>\n",
       "    <tr>\n",
       "      <th>0</th>\n",
       "      <td>23149-228271</td>\n",
       "      <td>Banjara Hills</td>\n",
       "      <td>Joint Venture</td>\n",
       "      <td>Lower Ground Floor, GVK One, Road Number 1, Banjara Hills</td>\n",
       "      <td>Hyderabad</td>\n",
       "      <td>AP</td>\n",
       "      <td>IN</td>\n",
       "      <td>500034</td>\n",
       "      <td>NaN</td>\n",
       "      <td>GMT+05:30 Asia/New_Delhi</td>\n",
       "      <td>78.45</td>\n",
       "      <td>17.42</td>\n",
       "      <td>2.117344</td>\n",
       "      <td>0.171584</td>\n",
       "      <td>0.747732</td>\n",
       "      <td>34</td>\n",
       "      <td>3979</td>\n",
       "      <td>Egg &amp; Cheese Muﬃn</td>\n",
       "      <td>Breakfast</td>\n",
       "      <td>112</td>\n",
       "      <td>290</td>\n",
       "      <td>14</td>\n",
       "      <td>13.0</td>\n",
       "      <td>7.0</td>\n",
       "      <td>0.2</td>\n",
       "      <td>244</td>\n",
       "      <td>28</td>\n",
       "      <td>2</td>\n",
       "      <td>2</td>\n",
       "      <td>620</td>\n",
       "    </tr>\n",
       "    <tr>\n",
       "      <th>1</th>\n",
       "      <td>23191-228548</td>\n",
       "      <td>Kukatpally</td>\n",
       "      <td>Joint Venture</td>\n",
       "      <td>Upper Ground Floor, Forum Sujana Mall, Kukatpally</td>\n",
       "      <td>Hyderabad</td>\n",
       "      <td>AP</td>\n",
       "      <td>IN</td>\n",
       "      <td>500072</td>\n",
       "      <td>NaN</td>\n",
       "      <td>GMT+05:30 Asia/New_Delhi</td>\n",
       "      <td>78.39</td>\n",
       "      <td>17.48</td>\n",
       "      <td>1.058504</td>\n",
       "      <td>0.054645</td>\n",
       "      <td>0.442299</td>\n",
       "      <td>25</td>\n",
       "      <td>1156</td>\n",
       "      <td>Sausage McMuﬀm</td>\n",
       "      <td>Breakfast</td>\n",
       "      <td>112</td>\n",
       "      <td>273</td>\n",
       "      <td>16</td>\n",
       "      <td>11.0</td>\n",
       "      <td>5.7</td>\n",
       "      <td>0.2</td>\n",
       "      <td>50</td>\n",
       "      <td>28</td>\n",
       "      <td>2</td>\n",
       "      <td>2</td>\n",
       "      <td>950</td>\n",
       "    </tr>\n",
       "  </tbody>\n",
       "</table>\n",
       "</div>"
      ],
      "text/plain": [
       "       Store_ID     Store_Name Ownership_Type  \\\n",
       "0  23149-228271  Banjara Hills  Joint Venture   \n",
       "1  23191-228548     Kukatpally  Joint Venture   \n",
       "\n",
       "                                              Street_Address       City State  \\\n",
       "0  Lower Ground Floor, GVK One, Road Number 1, Banjara Hills  Hyderabad    AP   \n",
       "1          Upper Ground Floor, Forum Sujana Mall, Kukatpally  Hyderabad    AP   \n",
       "\n",
       "  Country  Postcode Phone_Number                  Timezone  Longitude  \\\n",
       "0      IN    500034          NaN  GMT+05:30 Asia/New_Delhi      78.45   \n",
       "1      IN    500072          NaN  GMT+05:30 Asia/New_Delhi      78.39   \n",
       "\n",
       "   Latitude   Revenue   Profits  Gross_Profit_Margin  Number_of_Employees  \\\n",
       "0     17.42  2.117344  0.171584             0.747732                   34   \n",
       "1     17.48  1.058504  0.054645             0.442299                   25   \n",
       "\n",
       "   Customers  Best_Selling_Item   Category  Serve_Size  Energy  Protein  \\\n",
       "0       3979  Egg & Cheese Muﬃn  Breakfast         112     290       14   \n",
       "1       1156     Sausage McMuﬀm  Breakfast         112     273       16   \n",
       "\n",
       "   Total_Fat  Saturated_Fat  Trans_Fat  Cholestrol  Carbohydrates  Sugars  \\\n",
       "0       13.0            7.0        0.2         244             28       2   \n",
       "1       11.0            5.7        0.2          50             28       2   \n",
       "\n",
       "   Dietary_Fibre  Sodium  \n",
       "0              2     620  \n",
       "1              2     950  "
      ]
     },
     "execution_count": 10,
     "metadata": {},
     "output_type": "execute_result"
    }
   ],
   "source": [
    "data.head(2)"
   ]
  },
  {
   "cell_type": "code",
   "execution_count": 11,
   "metadata": {},
   "outputs": [
    {
     "name": "stderr",
     "output_type": "stream",
     "text": [
      "Summarize dataset: 100%|██████████| 400/400 [00:38<00:00, 10.35it/s, Completed]                                       \n",
      "Generate report structure: 100%|██████████| 1/1 [00:06<00:00,  6.30s/it]\n",
      "Render HTML: 100%|██████████| 1/1 [00:06<00:00,  6.23s/it]\n",
      "Export report to file: 100%|██████████| 1/1 [00:00<00:00, 15.32it/s]"
     ]
    },
    {
     "name": "stdout",
     "output_type": "stream",
     "text": [
      "Accomplished!\n"
     ]
    },
    {
     "name": "stderr",
     "output_type": "stream",
     "text": [
      "\n"
     ]
    }
   ],
   "source": [
    "profile = ProfileReport(df=data)\n",
    "profile.to_file(output_file='Post Profiling Report.html')\n",
    "print('Accomplished!')"
   ]
  },
  {
   "cell_type": "code",
   "execution_count": 12,
   "metadata": {},
   "outputs": [
    {
     "name": "stdout",
     "output_type": "stream",
     "text": [
      "Serve_size had a few values in grams. So, we are removing the grams and converting the data type to integer.\n",
      "Sodium had a few values as -. So, we are replacing the - with median value.\n"
     ]
    }
   ],
   "source": [
    "# data.drop(labels=['Postcode', 'Phone_Number', 'Timezone'], axis=1, inplace=True)\n",
    "data['Number_of_Employees'] = data['Number_of_Employees'].apply(np.floor).astype(int)\n",
    "data['Customers'] = data['Customers'].apply(np.floor).astype(int)\n",
    "print('Serve_size had a few values in grams. So, we are removing the grams and converting the data type to integer.')\n",
    "data['Serve_Size'] = data['Serve_Size'].astype(str).str.replace(' g', '').astype(int)\n",
    "print('Sodium had a few values as -. So, we are replacing the - with median value.')\n",
    "\n",
    "median = str(int(data[~(data['Sodium'] == '-')]['Sodium'].median()))\n",
    "data['Sodium'] = data['Sodium'].astype(str).str.replace('-',median).astype(int)\n",
    "\n",
    "\n"
   ]
  },
  {
   "cell_type": "code",
   "execution_count": 13,
   "metadata": {},
   "outputs": [
    {
     "name": "stderr",
     "output_type": "stream",
     "text": [
      "Summarize dataset: 100%|██████████| 400/400 [00:36<00:00, 10.95it/s, Completed]                                       \n",
      "Generate report structure: 100%|██████████| 1/1 [00:06<00:00,  6.26s/it]\n",
      "Render HTML: 100%|██████████| 1/1 [00:06<00:00,  6.47s/it]\n",
      "Export report to file: 100%|██████████| 1/1 [00:00<00:00, 16.77it/s]"
     ]
    },
    {
     "name": "stdout",
     "output_type": "stream",
     "text": [
      "Accomplished!\n"
     ]
    },
    {
     "name": "stderr",
     "output_type": "stream",
     "text": [
      "\n"
     ]
    }
   ],
   "source": [
    "profile = ProfileReport(df=data)\n",
    "profile.to_file(output_file='Post Profiling Report.html')\n",
    "print('Accomplished!')"
   ]
  },
  {
   "cell_type": "code",
   "execution_count": 14,
   "metadata": {},
   "outputs": [
    {
     "data": {
      "application/vnd.plotly.v1+json": {
       "config": {
        "plotlyServerURL": "https://plot.ly"
       },
       "data": [
        {
         "hole": 0.8,
         "labels": [
          "Company Owned",
          "Licensed",
          "Joint Venture"
         ],
         "type": "pie",
         "values": [
          137,
          121,
          82
         ]
        }
       ],
       "layout": {
        "height": 500,
        "template": {
         "data": {
          "bar": [
           {
            "error_x": {
             "color": "#2a3f5f"
            },
            "error_y": {
             "color": "#2a3f5f"
            },
            "marker": {
             "line": {
              "color": "#E5ECF6",
              "width": 0.5
             },
             "pattern": {
              "fillmode": "overlay",
              "size": 10,
              "solidity": 0.2
             }
            },
            "type": "bar"
           }
          ],
          "barpolar": [
           {
            "marker": {
             "line": {
              "color": "#E5ECF6",
              "width": 0.5
             },
             "pattern": {
              "fillmode": "overlay",
              "size": 10,
              "solidity": 0.2
             }
            },
            "type": "barpolar"
           }
          ],
          "carpet": [
           {
            "aaxis": {
             "endlinecolor": "#2a3f5f",
             "gridcolor": "white",
             "linecolor": "white",
             "minorgridcolor": "white",
             "startlinecolor": "#2a3f5f"
            },
            "baxis": {
             "endlinecolor": "#2a3f5f",
             "gridcolor": "white",
             "linecolor": "white",
             "minorgridcolor": "white",
             "startlinecolor": "#2a3f5f"
            },
            "type": "carpet"
           }
          ],
          "choropleth": [
           {
            "colorbar": {
             "outlinewidth": 0,
             "ticks": ""
            },
            "type": "choropleth"
           }
          ],
          "contour": [
           {
            "colorbar": {
             "outlinewidth": 0,
             "ticks": ""
            },
            "colorscale": [
             [
              0,
              "#0d0887"
             ],
             [
              0.1111111111111111,
              "#46039f"
             ],
             [
              0.2222222222222222,
              "#7201a8"
             ],
             [
              0.3333333333333333,
              "#9c179e"
             ],
             [
              0.4444444444444444,
              "#bd3786"
             ],
             [
              0.5555555555555556,
              "#d8576b"
             ],
             [
              0.6666666666666666,
              "#ed7953"
             ],
             [
              0.7777777777777778,
              "#fb9f3a"
             ],
             [
              0.8888888888888888,
              "#fdca26"
             ],
             [
              1,
              "#f0f921"
             ]
            ],
            "type": "contour"
           }
          ],
          "contourcarpet": [
           {
            "colorbar": {
             "outlinewidth": 0,
             "ticks": ""
            },
            "type": "contourcarpet"
           }
          ],
          "heatmap": [
           {
            "colorbar": {
             "outlinewidth": 0,
             "ticks": ""
            },
            "colorscale": [
             [
              0,
              "#0d0887"
             ],
             [
              0.1111111111111111,
              "#46039f"
             ],
             [
              0.2222222222222222,
              "#7201a8"
             ],
             [
              0.3333333333333333,
              "#9c179e"
             ],
             [
              0.4444444444444444,
              "#bd3786"
             ],
             [
              0.5555555555555556,
              "#d8576b"
             ],
             [
              0.6666666666666666,
              "#ed7953"
             ],
             [
              0.7777777777777778,
              "#fb9f3a"
             ],
             [
              0.8888888888888888,
              "#fdca26"
             ],
             [
              1,
              "#f0f921"
             ]
            ],
            "type": "heatmap"
           }
          ],
          "heatmapgl": [
           {
            "colorbar": {
             "outlinewidth": 0,
             "ticks": ""
            },
            "colorscale": [
             [
              0,
              "#0d0887"
             ],
             [
              0.1111111111111111,
              "#46039f"
             ],
             [
              0.2222222222222222,
              "#7201a8"
             ],
             [
              0.3333333333333333,
              "#9c179e"
             ],
             [
              0.4444444444444444,
              "#bd3786"
             ],
             [
              0.5555555555555556,
              "#d8576b"
             ],
             [
              0.6666666666666666,
              "#ed7953"
             ],
             [
              0.7777777777777778,
              "#fb9f3a"
             ],
             [
              0.8888888888888888,
              "#fdca26"
             ],
             [
              1,
              "#f0f921"
             ]
            ],
            "type": "heatmapgl"
           }
          ],
          "histogram": [
           {
            "marker": {
             "pattern": {
              "fillmode": "overlay",
              "size": 10,
              "solidity": 0.2
             }
            },
            "type": "histogram"
           }
          ],
          "histogram2d": [
           {
            "colorbar": {
             "outlinewidth": 0,
             "ticks": ""
            },
            "colorscale": [
             [
              0,
              "#0d0887"
             ],
             [
              0.1111111111111111,
              "#46039f"
             ],
             [
              0.2222222222222222,
              "#7201a8"
             ],
             [
              0.3333333333333333,
              "#9c179e"
             ],
             [
              0.4444444444444444,
              "#bd3786"
             ],
             [
              0.5555555555555556,
              "#d8576b"
             ],
             [
              0.6666666666666666,
              "#ed7953"
             ],
             [
              0.7777777777777778,
              "#fb9f3a"
             ],
             [
              0.8888888888888888,
              "#fdca26"
             ],
             [
              1,
              "#f0f921"
             ]
            ],
            "type": "histogram2d"
           }
          ],
          "histogram2dcontour": [
           {
            "colorbar": {
             "outlinewidth": 0,
             "ticks": ""
            },
            "colorscale": [
             [
              0,
              "#0d0887"
             ],
             [
              0.1111111111111111,
              "#46039f"
             ],
             [
              0.2222222222222222,
              "#7201a8"
             ],
             [
              0.3333333333333333,
              "#9c179e"
             ],
             [
              0.4444444444444444,
              "#bd3786"
             ],
             [
              0.5555555555555556,
              "#d8576b"
             ],
             [
              0.6666666666666666,
              "#ed7953"
             ],
             [
              0.7777777777777778,
              "#fb9f3a"
             ],
             [
              0.8888888888888888,
              "#fdca26"
             ],
             [
              1,
              "#f0f921"
             ]
            ],
            "type": "histogram2dcontour"
           }
          ],
          "mesh3d": [
           {
            "colorbar": {
             "outlinewidth": 0,
             "ticks": ""
            },
            "type": "mesh3d"
           }
          ],
          "parcoords": [
           {
            "line": {
             "colorbar": {
              "outlinewidth": 0,
              "ticks": ""
             }
            },
            "type": "parcoords"
           }
          ],
          "pie": [
           {
            "automargin": true,
            "type": "pie"
           }
          ],
          "scatter": [
           {
            "fillpattern": {
             "fillmode": "overlay",
             "size": 10,
             "solidity": 0.2
            },
            "type": "scatter"
           }
          ],
          "scatter3d": [
           {
            "line": {
             "colorbar": {
              "outlinewidth": 0,
              "ticks": ""
             }
            },
            "marker": {
             "colorbar": {
              "outlinewidth": 0,
              "ticks": ""
             }
            },
            "type": "scatter3d"
           }
          ],
          "scattercarpet": [
           {
            "marker": {
             "colorbar": {
              "outlinewidth": 0,
              "ticks": ""
             }
            },
            "type": "scattercarpet"
           }
          ],
          "scattergeo": [
           {
            "marker": {
             "colorbar": {
              "outlinewidth": 0,
              "ticks": ""
             }
            },
            "type": "scattergeo"
           }
          ],
          "scattergl": [
           {
            "marker": {
             "colorbar": {
              "outlinewidth": 0,
              "ticks": ""
             }
            },
            "type": "scattergl"
           }
          ],
          "scattermapbox": [
           {
            "marker": {
             "colorbar": {
              "outlinewidth": 0,
              "ticks": ""
             }
            },
            "type": "scattermapbox"
           }
          ],
          "scatterpolar": [
           {
            "marker": {
             "colorbar": {
              "outlinewidth": 0,
              "ticks": ""
             }
            },
            "type": "scatterpolar"
           }
          ],
          "scatterpolargl": [
           {
            "marker": {
             "colorbar": {
              "outlinewidth": 0,
              "ticks": ""
             }
            },
            "type": "scatterpolargl"
           }
          ],
          "scatterternary": [
           {
            "marker": {
             "colorbar": {
              "outlinewidth": 0,
              "ticks": ""
             }
            },
            "type": "scatterternary"
           }
          ],
          "surface": [
           {
            "colorbar": {
             "outlinewidth": 0,
             "ticks": ""
            },
            "colorscale": [
             [
              0,
              "#0d0887"
             ],
             [
              0.1111111111111111,
              "#46039f"
             ],
             [
              0.2222222222222222,
              "#7201a8"
             ],
             [
              0.3333333333333333,
              "#9c179e"
             ],
             [
              0.4444444444444444,
              "#bd3786"
             ],
             [
              0.5555555555555556,
              "#d8576b"
             ],
             [
              0.6666666666666666,
              "#ed7953"
             ],
             [
              0.7777777777777778,
              "#fb9f3a"
             ],
             [
              0.8888888888888888,
              "#fdca26"
             ],
             [
              1,
              "#f0f921"
             ]
            ],
            "type": "surface"
           }
          ],
          "table": [
           {
            "cells": {
             "fill": {
              "color": "#EBF0F8"
             },
             "line": {
              "color": "white"
             }
            },
            "header": {
             "fill": {
              "color": "#C8D4E3"
             },
             "line": {
              "color": "white"
             }
            },
            "type": "table"
           }
          ]
         },
         "layout": {
          "annotationdefaults": {
           "arrowcolor": "#2a3f5f",
           "arrowhead": 0,
           "arrowwidth": 1
          },
          "autotypenumbers": "strict",
          "coloraxis": {
           "colorbar": {
            "outlinewidth": 0,
            "ticks": ""
           }
          },
          "colorscale": {
           "diverging": [
            [
             0,
             "#8e0152"
            ],
            [
             0.1,
             "#c51b7d"
            ],
            [
             0.2,
             "#de77ae"
            ],
            [
             0.3,
             "#f1b6da"
            ],
            [
             0.4,
             "#fde0ef"
            ],
            [
             0.5,
             "#f7f7f7"
            ],
            [
             0.6,
             "#e6f5d0"
            ],
            [
             0.7,
             "#b8e186"
            ],
            [
             0.8,
             "#7fbc41"
            ],
            [
             0.9,
             "#4d9221"
            ],
            [
             1,
             "#276419"
            ]
           ],
           "sequential": [
            [
             0,
             "#0d0887"
            ],
            [
             0.1111111111111111,
             "#46039f"
            ],
            [
             0.2222222222222222,
             "#7201a8"
            ],
            [
             0.3333333333333333,
             "#9c179e"
            ],
            [
             0.4444444444444444,
             "#bd3786"
            ],
            [
             0.5555555555555556,
             "#d8576b"
            ],
            [
             0.6666666666666666,
             "#ed7953"
            ],
            [
             0.7777777777777778,
             "#fb9f3a"
            ],
            [
             0.8888888888888888,
             "#fdca26"
            ],
            [
             1,
             "#f0f921"
            ]
           ],
           "sequentialminus": [
            [
             0,
             "#0d0887"
            ],
            [
             0.1111111111111111,
             "#46039f"
            ],
            [
             0.2222222222222222,
             "#7201a8"
            ],
            [
             0.3333333333333333,
             "#9c179e"
            ],
            [
             0.4444444444444444,
             "#bd3786"
            ],
            [
             0.5555555555555556,
             "#d8576b"
            ],
            [
             0.6666666666666666,
             "#ed7953"
            ],
            [
             0.7777777777777778,
             "#fb9f3a"
            ],
            [
             0.8888888888888888,
             "#fdca26"
            ],
            [
             1,
             "#f0f921"
            ]
           ]
          },
          "colorway": [
           "#636efa",
           "#EF553B",
           "#00cc96",
           "#ab63fa",
           "#FFA15A",
           "#19d3f3",
           "#FF6692",
           "#B6E880",
           "#FF97FF",
           "#FECB52"
          ],
          "font": {
           "color": "#2a3f5f"
          },
          "geo": {
           "bgcolor": "white",
           "lakecolor": "white",
           "landcolor": "#E5ECF6",
           "showlakes": true,
           "showland": true,
           "subunitcolor": "white"
          },
          "hoverlabel": {
           "align": "left"
          },
          "hovermode": "closest",
          "mapbox": {
           "style": "light"
          },
          "paper_bgcolor": "white",
          "plot_bgcolor": "#E5ECF6",
          "polar": {
           "angularaxis": {
            "gridcolor": "white",
            "linecolor": "white",
            "ticks": ""
           },
           "bgcolor": "#E5ECF6",
           "radialaxis": {
            "gridcolor": "white",
            "linecolor": "white",
            "ticks": ""
           }
          },
          "scene": {
           "xaxis": {
            "backgroundcolor": "#E5ECF6",
            "gridcolor": "white",
            "gridwidth": 2,
            "linecolor": "white",
            "showbackground": true,
            "ticks": "",
            "zerolinecolor": "white"
           },
           "yaxis": {
            "backgroundcolor": "#E5ECF6",
            "gridcolor": "white",
            "gridwidth": 2,
            "linecolor": "white",
            "showbackground": true,
            "ticks": "",
            "zerolinecolor": "white"
           },
           "zaxis": {
            "backgroundcolor": "#E5ECF6",
            "gridcolor": "white",
            "gridwidth": 2,
            "linecolor": "white",
            "showbackground": true,
            "ticks": "",
            "zerolinecolor": "white"
           }
          },
          "shapedefaults": {
           "line": {
            "color": "#2a3f5f"
           }
          },
          "ternary": {
           "aaxis": {
            "gridcolor": "white",
            "linecolor": "white",
            "ticks": ""
           },
           "baxis": {
            "gridcolor": "white",
            "linecolor": "white",
            "ticks": ""
           },
           "bgcolor": "#E5ECF6",
           "caxis": {
            "gridcolor": "white",
            "linecolor": "white",
            "ticks": ""
           }
          },
          "title": {
           "x": 0.05
          },
          "xaxis": {
           "automargin": true,
           "gridcolor": "white",
           "linecolor": "white",
           "ticks": "",
           "title": {
            "standoff": 15
           },
           "zerolinecolor": "white",
           "zerolinewidth": 2
          },
          "yaxis": {
           "automargin": true,
           "gridcolor": "white",
           "linecolor": "white",
           "ticks": "",
           "title": {
            "standoff": 15
           },
           "zerolinecolor": "white",
           "zerolinewidth": 2
          }
         }
        },
        "title": {
         "text": "Proportion of Ownership Type",
         "x": 0.5
        },
        "width": 1000
       }
      }
     },
     "metadata": {},
     "output_type": "display_data"
    }
   ],
   "source": [
    "#EDA\n",
    "labels = data['Ownership_Type'].value_counts().index\n",
    "values = data['Ownership_Type'].value_counts().values\n",
    "\n",
    "fig = go.Figure()\n",
    "fig.add_trace(trace=go.Pie(labels=labels, values=values, hole=0.8))\n",
    "fig.update_layout(height=500, \n",
    "                  width=1000, \n",
    "                  title_text='Proportion of Ownership Type', \n",
    "                  title_x=0.5)\n",
    "fig.show()"
   ]
  },
  {
   "cell_type": "code",
   "execution_count": 15,
   "metadata": {},
   "outputs": [
    {
     "data": {
      "application/vnd.plotly.v1+json": {
       "config": {
        "plotlyServerURL": "https://plot.ly"
       },
       "data": [
        {
         "lat": [
          35.32,
          34.67,
          41.46,
          33.2,
          40.65,
          33.57,
          34.8,
          39.61,
          40.11,
          42.92
         ],
         "lon": [
          -97.5,
          -98.4,
          -81.69,
          -87.51,
          -73.87,
          -111.72,
          -92.25,
          -86.16,
          -88.23,
          -78.88
         ],
         "marker": {
          "color": "Green",
          "size": [
           24.840311899166846,
           24.707861568041018,
           24.522003845332193,
           24.45364238410596,
           24.389553514206366,
           24.372463148899808,
           24.34469130527665,
           24.2848750267037,
           24.21224097415082,
           24.145481734672078
          ]
         },
         "text": [
          [
           "19th & Telephone",
           49.68062379833369
          ],
          [
           "Fort Sill BX",
           49.415723136082036
          ],
          [
           "Target Cleveland South T-2228",
           49.04400769066439
          ],
          [
           "Super Target Tuscaloosa ST-1787",
           48.90728476821192
          ],
          [
           "Target Gateway T-1401",
           48.77910702841273
          ],
          [
           "Target Fountain Hills T-1432",
           48.744926297799616
          ],
          [
           "JFK & McCain",
           48.6893826105533
          ],
          [
           "SR 135 & Faith",
           48.5697500534074
          ],
          [
           "Champaign - 5th & Green",
           48.42448194830164
          ],
          [
           "Elmwood Avenue",
           48.290963469344156
          ]
         ],
         "type": "scattergeo"
        }
       ],
       "layout": {
        "geo": {
         "projection": {
          "type": "albers usa"
         },
         "scope": "usa"
        },
        "height": 500,
        "template": {
         "data": {
          "bar": [
           {
            "error_x": {
             "color": "#2a3f5f"
            },
            "error_y": {
             "color": "#2a3f5f"
            },
            "marker": {
             "line": {
              "color": "#E5ECF6",
              "width": 0.5
             },
             "pattern": {
              "fillmode": "overlay",
              "size": 10,
              "solidity": 0.2
             }
            },
            "type": "bar"
           }
          ],
          "barpolar": [
           {
            "marker": {
             "line": {
              "color": "#E5ECF6",
              "width": 0.5
             },
             "pattern": {
              "fillmode": "overlay",
              "size": 10,
              "solidity": 0.2
             }
            },
            "type": "barpolar"
           }
          ],
          "carpet": [
           {
            "aaxis": {
             "endlinecolor": "#2a3f5f",
             "gridcolor": "white",
             "linecolor": "white",
             "minorgridcolor": "white",
             "startlinecolor": "#2a3f5f"
            },
            "baxis": {
             "endlinecolor": "#2a3f5f",
             "gridcolor": "white",
             "linecolor": "white",
             "minorgridcolor": "white",
             "startlinecolor": "#2a3f5f"
            },
            "type": "carpet"
           }
          ],
          "choropleth": [
           {
            "colorbar": {
             "outlinewidth": 0,
             "ticks": ""
            },
            "type": "choropleth"
           }
          ],
          "contour": [
           {
            "colorbar": {
             "outlinewidth": 0,
             "ticks": ""
            },
            "colorscale": [
             [
              0,
              "#0d0887"
             ],
             [
              0.1111111111111111,
              "#46039f"
             ],
             [
              0.2222222222222222,
              "#7201a8"
             ],
             [
              0.3333333333333333,
              "#9c179e"
             ],
             [
              0.4444444444444444,
              "#bd3786"
             ],
             [
              0.5555555555555556,
              "#d8576b"
             ],
             [
              0.6666666666666666,
              "#ed7953"
             ],
             [
              0.7777777777777778,
              "#fb9f3a"
             ],
             [
              0.8888888888888888,
              "#fdca26"
             ],
             [
              1,
              "#f0f921"
             ]
            ],
            "type": "contour"
           }
          ],
          "contourcarpet": [
           {
            "colorbar": {
             "outlinewidth": 0,
             "ticks": ""
            },
            "type": "contourcarpet"
           }
          ],
          "heatmap": [
           {
            "colorbar": {
             "outlinewidth": 0,
             "ticks": ""
            },
            "colorscale": [
             [
              0,
              "#0d0887"
             ],
             [
              0.1111111111111111,
              "#46039f"
             ],
             [
              0.2222222222222222,
              "#7201a8"
             ],
             [
              0.3333333333333333,
              "#9c179e"
             ],
             [
              0.4444444444444444,
              "#bd3786"
             ],
             [
              0.5555555555555556,
              "#d8576b"
             ],
             [
              0.6666666666666666,
              "#ed7953"
             ],
             [
              0.7777777777777778,
              "#fb9f3a"
             ],
             [
              0.8888888888888888,
              "#fdca26"
             ],
             [
              1,
              "#f0f921"
             ]
            ],
            "type": "heatmap"
           }
          ],
          "heatmapgl": [
           {
            "colorbar": {
             "outlinewidth": 0,
             "ticks": ""
            },
            "colorscale": [
             [
              0,
              "#0d0887"
             ],
             [
              0.1111111111111111,
              "#46039f"
             ],
             [
              0.2222222222222222,
              "#7201a8"
             ],
             [
              0.3333333333333333,
              "#9c179e"
             ],
             [
              0.4444444444444444,
              "#bd3786"
             ],
             [
              0.5555555555555556,
              "#d8576b"
             ],
             [
              0.6666666666666666,
              "#ed7953"
             ],
             [
              0.7777777777777778,
              "#fb9f3a"
             ],
             [
              0.8888888888888888,
              "#fdca26"
             ],
             [
              1,
              "#f0f921"
             ]
            ],
            "type": "heatmapgl"
           }
          ],
          "histogram": [
           {
            "marker": {
             "pattern": {
              "fillmode": "overlay",
              "size": 10,
              "solidity": 0.2
             }
            },
            "type": "histogram"
           }
          ],
          "histogram2d": [
           {
            "colorbar": {
             "outlinewidth": 0,
             "ticks": ""
            },
            "colorscale": [
             [
              0,
              "#0d0887"
             ],
             [
              0.1111111111111111,
              "#46039f"
             ],
             [
              0.2222222222222222,
              "#7201a8"
             ],
             [
              0.3333333333333333,
              "#9c179e"
             ],
             [
              0.4444444444444444,
              "#bd3786"
             ],
             [
              0.5555555555555556,
              "#d8576b"
             ],
             [
              0.6666666666666666,
              "#ed7953"
             ],
             [
              0.7777777777777778,
              "#fb9f3a"
             ],
             [
              0.8888888888888888,
              "#fdca26"
             ],
             [
              1,
              "#f0f921"
             ]
            ],
            "type": "histogram2d"
           }
          ],
          "histogram2dcontour": [
           {
            "colorbar": {
             "outlinewidth": 0,
             "ticks": ""
            },
            "colorscale": [
             [
              0,
              "#0d0887"
             ],
             [
              0.1111111111111111,
              "#46039f"
             ],
             [
              0.2222222222222222,
              "#7201a8"
             ],
             [
              0.3333333333333333,
              "#9c179e"
             ],
             [
              0.4444444444444444,
              "#bd3786"
             ],
             [
              0.5555555555555556,
              "#d8576b"
             ],
             [
              0.6666666666666666,
              "#ed7953"
             ],
             [
              0.7777777777777778,
              "#fb9f3a"
             ],
             [
              0.8888888888888888,
              "#fdca26"
             ],
             [
              1,
              "#f0f921"
             ]
            ],
            "type": "histogram2dcontour"
           }
          ],
          "mesh3d": [
           {
            "colorbar": {
             "outlinewidth": 0,
             "ticks": ""
            },
            "type": "mesh3d"
           }
          ],
          "parcoords": [
           {
            "line": {
             "colorbar": {
              "outlinewidth": 0,
              "ticks": ""
             }
            },
            "type": "parcoords"
           }
          ],
          "pie": [
           {
            "automargin": true,
            "type": "pie"
           }
          ],
          "scatter": [
           {
            "fillpattern": {
             "fillmode": "overlay",
             "size": 10,
             "solidity": 0.2
            },
            "type": "scatter"
           }
          ],
          "scatter3d": [
           {
            "line": {
             "colorbar": {
              "outlinewidth": 0,
              "ticks": ""
             }
            },
            "marker": {
             "colorbar": {
              "outlinewidth": 0,
              "ticks": ""
             }
            },
            "type": "scatter3d"
           }
          ],
          "scattercarpet": [
           {
            "marker": {
             "colorbar": {
              "outlinewidth": 0,
              "ticks": ""
             }
            },
            "type": "scattercarpet"
           }
          ],
          "scattergeo": [
           {
            "marker": {
             "colorbar": {
              "outlinewidth": 0,
              "ticks": ""
             }
            },
            "type": "scattergeo"
           }
          ],
          "scattergl": [
           {
            "marker": {
             "colorbar": {
              "outlinewidth": 0,
              "ticks": ""
             }
            },
            "type": "scattergl"
           }
          ],
          "scattermapbox": [
           {
            "marker": {
             "colorbar": {
              "outlinewidth": 0,
              "ticks": ""
             }
            },
            "type": "scattermapbox"
           }
          ],
          "scatterpolar": [
           {
            "marker": {
             "colorbar": {
              "outlinewidth": 0,
              "ticks": ""
             }
            },
            "type": "scatterpolar"
           }
          ],
          "scatterpolargl": [
           {
            "marker": {
             "colorbar": {
              "outlinewidth": 0,
              "ticks": ""
             }
            },
            "type": "scatterpolargl"
           }
          ],
          "scatterternary": [
           {
            "marker": {
             "colorbar": {
              "outlinewidth": 0,
              "ticks": ""
             }
            },
            "type": "scatterternary"
           }
          ],
          "surface": [
           {
            "colorbar": {
             "outlinewidth": 0,
             "ticks": ""
            },
            "colorscale": [
             [
              0,
              "#0d0887"
             ],
             [
              0.1111111111111111,
              "#46039f"
             ],
             [
              0.2222222222222222,
              "#7201a8"
             ],
             [
              0.3333333333333333,
              "#9c179e"
             ],
             [
              0.4444444444444444,
              "#bd3786"
             ],
             [
              0.5555555555555556,
              "#d8576b"
             ],
             [
              0.6666666666666666,
              "#ed7953"
             ],
             [
              0.7777777777777778,
              "#fb9f3a"
             ],
             [
              0.8888888888888888,
              "#fdca26"
             ],
             [
              1,
              "#f0f921"
             ]
            ],
            "type": "surface"
           }
          ],
          "table": [
           {
            "cells": {
             "fill": {
              "color": "#EBF0F8"
             },
             "line": {
              "color": "white"
             }
            },
            "header": {
             "fill": {
              "color": "#C8D4E3"
             },
             "line": {
              "color": "white"
             }
            },
            "type": "table"
           }
          ]
         },
         "layout": {
          "annotationdefaults": {
           "arrowcolor": "#2a3f5f",
           "arrowhead": 0,
           "arrowwidth": 1
          },
          "autotypenumbers": "strict",
          "coloraxis": {
           "colorbar": {
            "outlinewidth": 0,
            "ticks": ""
           }
          },
          "colorscale": {
           "diverging": [
            [
             0,
             "#8e0152"
            ],
            [
             0.1,
             "#c51b7d"
            ],
            [
             0.2,
             "#de77ae"
            ],
            [
             0.3,
             "#f1b6da"
            ],
            [
             0.4,
             "#fde0ef"
            ],
            [
             0.5,
             "#f7f7f7"
            ],
            [
             0.6,
             "#e6f5d0"
            ],
            [
             0.7,
             "#b8e186"
            ],
            [
             0.8,
             "#7fbc41"
            ],
            [
             0.9,
             "#4d9221"
            ],
            [
             1,
             "#276419"
            ]
           ],
           "sequential": [
            [
             0,
             "#0d0887"
            ],
            [
             0.1111111111111111,
             "#46039f"
            ],
            [
             0.2222222222222222,
             "#7201a8"
            ],
            [
             0.3333333333333333,
             "#9c179e"
            ],
            [
             0.4444444444444444,
             "#bd3786"
            ],
            [
             0.5555555555555556,
             "#d8576b"
            ],
            [
             0.6666666666666666,
             "#ed7953"
            ],
            [
             0.7777777777777778,
             "#fb9f3a"
            ],
            [
             0.8888888888888888,
             "#fdca26"
            ],
            [
             1,
             "#f0f921"
            ]
           ],
           "sequentialminus": [
            [
             0,
             "#0d0887"
            ],
            [
             0.1111111111111111,
             "#46039f"
            ],
            [
             0.2222222222222222,
             "#7201a8"
            ],
            [
             0.3333333333333333,
             "#9c179e"
            ],
            [
             0.4444444444444444,
             "#bd3786"
            ],
            [
             0.5555555555555556,
             "#d8576b"
            ],
            [
             0.6666666666666666,
             "#ed7953"
            ],
            [
             0.7777777777777778,
             "#fb9f3a"
            ],
            [
             0.8888888888888888,
             "#fdca26"
            ],
            [
             1,
             "#f0f921"
            ]
           ]
          },
          "colorway": [
           "#636efa",
           "#EF553B",
           "#00cc96",
           "#ab63fa",
           "#FFA15A",
           "#19d3f3",
           "#FF6692",
           "#B6E880",
           "#FF97FF",
           "#FECB52"
          ],
          "font": {
           "color": "#2a3f5f"
          },
          "geo": {
           "bgcolor": "white",
           "lakecolor": "white",
           "landcolor": "#E5ECF6",
           "showlakes": true,
           "showland": true,
           "subunitcolor": "white"
          },
          "hoverlabel": {
           "align": "left"
          },
          "hovermode": "closest",
          "mapbox": {
           "style": "light"
          },
          "paper_bgcolor": "white",
          "plot_bgcolor": "#E5ECF6",
          "polar": {
           "angularaxis": {
            "gridcolor": "white",
            "linecolor": "white",
            "ticks": ""
           },
           "bgcolor": "#E5ECF6",
           "radialaxis": {
            "gridcolor": "white",
            "linecolor": "white",
            "ticks": ""
           }
          },
          "scene": {
           "xaxis": {
            "backgroundcolor": "#E5ECF6",
            "gridcolor": "white",
            "gridwidth": 2,
            "linecolor": "white",
            "showbackground": true,
            "ticks": "",
            "zerolinecolor": "white"
           },
           "yaxis": {
            "backgroundcolor": "#E5ECF6",
            "gridcolor": "white",
            "gridwidth": 2,
            "linecolor": "white",
            "showbackground": true,
            "ticks": "",
            "zerolinecolor": "white"
           },
           "zaxis": {
            "backgroundcolor": "#E5ECF6",
            "gridcolor": "white",
            "gridwidth": 2,
            "linecolor": "white",
            "showbackground": true,
            "ticks": "",
            "zerolinecolor": "white"
           }
          },
          "shapedefaults": {
           "line": {
            "color": "#2a3f5f"
           }
          },
          "ternary": {
           "aaxis": {
            "gridcolor": "white",
            "linecolor": "white",
            "ticks": ""
           },
           "baxis": {
            "gridcolor": "white",
            "linecolor": "white",
            "ticks": ""
           },
           "bgcolor": "#E5ECF6",
           "caxis": {
            "gridcolor": "white",
            "linecolor": "white",
            "ticks": ""
           }
          },
          "title": {
           "x": 0.05
          },
          "xaxis": {
           "automargin": true,
           "gridcolor": "white",
           "linecolor": "white",
           "ticks": "",
           "title": {
            "standoff": 15
           },
           "zerolinecolor": "white",
           "zerolinewidth": 2
          },
          "yaxis": {
           "automargin": true,
           "gridcolor": "white",
           "linecolor": "white",
           "ticks": "",
           "title": {
            "standoff": 15
           },
           "zerolinecolor": "white",
           "zerolinewidth": 2
          }
         }
        },
        "title": {
         "text": "Top 10 Outlets Concerning Revenue (in million INR)",
         "x": 0.5
        },
        "width": 1000
       }
      }
     },
     "metadata": {},
     "output_type": "display_data"
    }
   ],
   "source": [
    "top10outletsrevenue = data.iloc[data['Revenue'].sort_values(ascending=False)[:10].index, :]\n",
    "top10outletsrevenue.head(2)\n",
    "fig = go.Figure()\n",
    "fig.add_trace(trace=go.Scattergeo(lon=['Longitude'], \n",
    "                                  lat=top10outletsrevenue['Latitude'], \n",
    "                                  text=top10outletsrevenue[['Store_Name', 'Revenue']],\n",
    "                                  marker=dict(size=top10outletsrevenue['Revenue'] / 2, \n",
    "                                              color='Green')))\n",
    "fig.update_layout(height=500, \n",
    "                  width=1000, \n",
    "                  title_text='Top 10 Outlets Concerning Revenue (in million INR)', \n",
    "                  title_x=0.5,\n",
    "                  geo=dict(scope='usa', \n",
    "                           projection=go.layout.geo.Projection(type='albers usa')))\n",
    "\n",
    "fig.show()\n"
   ]
  },
  {
   "cell_type": "code",
   "execution_count": 16,
   "metadata": {},
   "outputs": [
    {
     "data": {
      "text/html": [
       "<div>\n",
       "<style scoped>\n",
       "    .dataframe tbody tr th:only-of-type {\n",
       "        vertical-align: middle;\n",
       "    }\n",
       "\n",
       "    .dataframe tbody tr th {\n",
       "        vertical-align: top;\n",
       "    }\n",
       "\n",
       "    .dataframe thead th {\n",
       "        text-align: right;\n",
       "    }\n",
       "</style>\n",
       "<table border=\"1\" class=\"dataframe\">\n",
       "  <thead>\n",
       "    <tr style=\"text-align: right;\">\n",
       "      <th></th>\n",
       "      <th>Store_ID</th>\n",
       "      <th>Store_Name</th>\n",
       "      <th>Ownership_Type</th>\n",
       "      <th>Street_Address</th>\n",
       "      <th>City</th>\n",
       "      <th>State</th>\n",
       "      <th>Country</th>\n",
       "      <th>Postcode</th>\n",
       "      <th>Phone_Number</th>\n",
       "      <th>Timezone</th>\n",
       "      <th>Longitude</th>\n",
       "      <th>Latitude</th>\n",
       "      <th>Revenue</th>\n",
       "      <th>Profits</th>\n",
       "      <th>Gross_Profit_Margin</th>\n",
       "      <th>Number_of_Employees</th>\n",
       "      <th>Customers</th>\n",
       "      <th>Best_Selling_Item</th>\n",
       "      <th>Category</th>\n",
       "      <th>Serve_Size</th>\n",
       "      <th>Energy</th>\n",
       "      <th>Protein</th>\n",
       "      <th>Total_Fat</th>\n",
       "      <th>Saturated_Fat</th>\n",
       "      <th>Trans_Fat</th>\n",
       "      <th>Cholestrol</th>\n",
       "      <th>Carbohydrates</th>\n",
       "      <th>Sugars</th>\n",
       "      <th>Dietary_Fibre</th>\n",
       "      <th>Sodium</th>\n",
       "    </tr>\n",
       "  </thead>\n",
       "  <tbody>\n",
       "    <tr>\n",
       "      <th>316</th>\n",
       "      <td>76725-102051</td>\n",
       "      <td>Target Kansas City T-2222</td>\n",
       "      <td>Licensed</td>\n",
       "      <td>10900 Stadium Pkwy</td>\n",
       "      <td>Kansas City</td>\n",
       "      <td>KS</td>\n",
       "      <td>US</td>\n",
       "      <td>661118100</td>\n",
       "      <td>913-905-0316</td>\n",
       "      <td>GMT-06:00 America/Chicago</td>\n",
       "      <td>-94.83</td>\n",
       "      <td>39.13</td>\n",
       "      <td>46.934416</td>\n",
       "      <td>13.514181</td>\n",
       "      <td>-4.788909</td>\n",
       "      <td>141</td>\n",
       "      <td>23842</td>\n",
       "      <td>Strawberry Banana Smoothie (Medium)</td>\n",
       "      <td>Smoothies &amp; Shakes</td>\n",
       "      <td>453</td>\n",
       "      <td>250</td>\n",
       "      <td>4</td>\n",
       "      <td>1.0</td>\n",
       "      <td>0.0</td>\n",
       "      <td>0.0</td>\n",
       "      <td>5</td>\n",
       "      <td>58</td>\n",
       "      <td>54</td>\n",
       "      <td>3</td>\n",
       "      <td>60</td>\n",
       "    </tr>\n",
       "    <tr>\n",
       "      <th>210</th>\n",
       "      <td>72668-65003</td>\n",
       "      <td>Super Target Tuscaloosa ST-1787</td>\n",
       "      <td>Licensed</td>\n",
       "      <td>1901 13th Ave E</td>\n",
       "      <td>Tuscaloosa</td>\n",
       "      <td>AL</td>\n",
       "      <td>US</td>\n",
       "      <td>354044785</td>\n",
       "      <td>205-462-1064</td>\n",
       "      <td>GMT-06:00 America/Chicago</td>\n",
       "      <td>-87.51</td>\n",
       "      <td>33.20</td>\n",
       "      <td>48.907285</td>\n",
       "      <td>13.431480</td>\n",
       "      <td>-3.558528</td>\n",
       "      <td>146</td>\n",
       "      <td>22564</td>\n",
       "      <td>1% Low Fat Milk Jug</td>\n",
       "      <td>Cold Beverages</td>\n",
       "      <td>236</td>\n",
       "      <td>100</td>\n",
       "      <td>8</td>\n",
       "      <td>2.5</td>\n",
       "      <td>1.5</td>\n",
       "      <td>0.0</td>\n",
       "      <td>10</td>\n",
       "      <td>12</td>\n",
       "      <td>12</td>\n",
       "      <td>0</td>\n",
       "      <td>125</td>\n",
       "    </tr>\n",
       "    <tr>\n",
       "      <th>208</th>\n",
       "      <td>72121-3608</td>\n",
       "      <td>U of AL - Ferguson Cntr</td>\n",
       "      <td>Licensed</td>\n",
       "      <td>1000 McCorvey Dr., UoA-Ferguson Center</td>\n",
       "      <td>Tuscaloosa</td>\n",
       "      <td>AL</td>\n",
       "      <td>US</td>\n",
       "      <td>35487</td>\n",
       "      <td>205-348-9143</td>\n",
       "      <td>GMT-06:00 America/Chicago</td>\n",
       "      <td>-87.55</td>\n",
       "      <td>33.21</td>\n",
       "      <td>44.138005</td>\n",
       "      <td>12.744686</td>\n",
       "      <td>-4.582111</td>\n",
       "      <td>133</td>\n",
       "      <td>23919</td>\n",
       "      <td>Sprite (Large)</td>\n",
       "      <td>Cold Beverages</td>\n",
       "      <td>850</td>\n",
       "      <td>280</td>\n",
       "      <td>0</td>\n",
       "      <td>0.0</td>\n",
       "      <td>0.0</td>\n",
       "      <td>0.0</td>\n",
       "      <td>0</td>\n",
       "      <td>74</td>\n",
       "      <td>74</td>\n",
       "      <td>0</td>\n",
       "      <td>60</td>\n",
       "    </tr>\n",
       "    <tr>\n",
       "      <th>220</th>\n",
       "      <td>21772-214865</td>\n",
       "      <td>2001 L St</td>\n",
       "      <td>Company Owned</td>\n",
       "      <td>2001 L St NW</td>\n",
       "      <td>Washington</td>\n",
       "      <td>DC</td>\n",
       "      <td>US</td>\n",
       "      <td>20036</td>\n",
       "      <td>2023314260</td>\n",
       "      <td>GMT-05:00 America/New_York</td>\n",
       "      <td>-77.05</td>\n",
       "      <td>38.90</td>\n",
       "      <td>46.254006</td>\n",
       "      <td>12.733509</td>\n",
       "      <td>-3.433019</td>\n",
       "      <td>139</td>\n",
       "      <td>22628</td>\n",
       "      <td>Iced Tea (Child)</td>\n",
       "      <td>Hot Beverages</td>\n",
       "      <td>340</td>\n",
       "      <td>0</td>\n",
       "      <td>0</td>\n",
       "      <td>0.0</td>\n",
       "      <td>0.0</td>\n",
       "      <td>0.0</td>\n",
       "      <td>0</td>\n",
       "      <td>0</td>\n",
       "      <td>0</td>\n",
       "      <td>0</td>\n",
       "      <td>5</td>\n",
       "    </tr>\n",
       "    <tr>\n",
       "      <th>291</th>\n",
       "      <td>9706-96992</td>\n",
       "      <td>Champaign - 5th &amp; Green</td>\n",
       "      <td>Company Owned</td>\n",
       "      <td>503 E. Green Street</td>\n",
       "      <td>Champaign</td>\n",
       "      <td>IL</td>\n",
       "      <td>US</td>\n",
       "      <td>618205719</td>\n",
       "      <td>217-344-8613</td>\n",
       "      <td>GMT-06:00 America/Chicago</td>\n",
       "      <td>-88.23</td>\n",
       "      <td>40.11</td>\n",
       "      <td>48.424482</td>\n",
       "      <td>12.536321</td>\n",
       "      <td>-1.845752</td>\n",
       "      <td>145</td>\n",
       "      <td>21052</td>\n",
       "      <td>Iced Mocha (Small)</td>\n",
       "      <td>Hot Beverages</td>\n",
       "      <td>340</td>\n",
       "      <td>290</td>\n",
       "      <td>8</td>\n",
       "      <td>11.0</td>\n",
       "      <td>7.0</td>\n",
       "      <td>0.0</td>\n",
       "      <td>35</td>\n",
       "      <td>41</td>\n",
       "      <td>34</td>\n",
       "      <td>1</td>\n",
       "      <td>125</td>\n",
       "    </tr>\n",
       "  </tbody>\n",
       "</table>\n",
       "</div>"
      ],
      "text/plain": [
       "         Store_ID                       Store_Name Ownership_Type  \\\n",
       "316  76725-102051        Target Kansas City T-2222       Licensed   \n",
       "210   72668-65003  Super Target Tuscaloosa ST-1787       Licensed   \n",
       "208    72121-3608          U of AL - Ferguson Cntr       Licensed   \n",
       "220  21772-214865                        2001 L St  Company Owned   \n",
       "291    9706-96992          Champaign - 5th & Green  Company Owned   \n",
       "\n",
       "                             Street_Address         City State Country  \\\n",
       "316                      10900 Stadium Pkwy  Kansas City    KS      US   \n",
       "210                         1901 13th Ave E   Tuscaloosa    AL      US   \n",
       "208  1000 McCorvey Dr., UoA-Ferguson Center   Tuscaloosa    AL      US   \n",
       "220                            2001 L St NW   Washington    DC      US   \n",
       "291                     503 E. Green Street    Champaign    IL      US   \n",
       "\n",
       "      Postcode  Phone_Number                    Timezone  Longitude  Latitude  \\\n",
       "316  661118100  913-905-0316   GMT-06:00 America/Chicago     -94.83     39.13   \n",
       "210  354044785  205-462-1064   GMT-06:00 America/Chicago     -87.51     33.20   \n",
       "208      35487  205-348-9143   GMT-06:00 America/Chicago     -87.55     33.21   \n",
       "220      20036    2023314260  GMT-05:00 America/New_York     -77.05     38.90   \n",
       "291  618205719  217-344-8613   GMT-06:00 America/Chicago     -88.23     40.11   \n",
       "\n",
       "       Revenue    Profits  Gross_Profit_Margin  Number_of_Employees  \\\n",
       "316  46.934416  13.514181            -4.788909                  141   \n",
       "210  48.907285  13.431480            -3.558528                  146   \n",
       "208  44.138005  12.744686            -4.582111                  133   \n",
       "220  46.254006  12.733509            -3.433019                  139   \n",
       "291  48.424482  12.536321            -1.845752                  145   \n",
       "\n",
       "     Customers                    Best_Selling_Item            Category  \\\n",
       "316      23842  Strawberry Banana Smoothie (Medium)  Smoothies & Shakes   \n",
       "210      22564                  1% Low Fat Milk Jug      Cold Beverages   \n",
       "208      23919                       Sprite (Large)      Cold Beverages   \n",
       "220      22628                     Iced Tea (Child)       Hot Beverages   \n",
       "291      21052                   Iced Mocha (Small)       Hot Beverages   \n",
       "\n",
       "     Serve_Size  Energy  Protein  Total_Fat  Saturated_Fat  Trans_Fat  \\\n",
       "316         453     250        4        1.0            0.0        0.0   \n",
       "210         236     100        8        2.5            1.5        0.0   \n",
       "208         850     280        0        0.0            0.0        0.0   \n",
       "220         340       0        0        0.0            0.0        0.0   \n",
       "291         340     290        8       11.0            7.0        0.0   \n",
       "\n",
       "     Cholestrol  Carbohydrates  Sugars  Dietary_Fibre  Sodium  \n",
       "316           5             58      54              3      60  \n",
       "210          10             12      12              0     125  \n",
       "208           0             74      74              0      60  \n",
       "220           0              0       0              0       5  \n",
       "291          35             41      34              1     125  "
      ]
     },
     "execution_count": 16,
     "metadata": {},
     "output_type": "execute_result"
    }
   ],
   "source": [
    "top10outletsprofit = data.iloc[data['Profits'].sort_values(ascending=False)[:10].index,:]\n",
    "top10outletsprofit.head(5)"
   ]
  },
  {
   "cell_type": "code",
   "execution_count": 17,
   "metadata": {},
   "outputs": [
    {
     "data": {
      "application/vnd.plotly.v1+json": {
       "config": {
        "plotlyServerURL": "https://plot.ly"
       },
       "data": [
        {
         "lat": [
          39.13,
          33.2,
          33.21,
          38.9,
          40.11,
          41.46,
          29.93,
          39.63,
          33.08,
          35.44
         ],
         "lon": [
          -94.83,
          -87.51,
          -87.55,
          -77.05,
          -88.23,
          -81.69,
          -90.08,
          -86.16,
          -97.13,
          -97.4
         ],
         "marker": {
          "color": "Blue",
          "size": [
           13.514181102494293,
           13.431480438747029,
           12.74468553016541,
           12.733508789444823,
           12.536320587638496,
           12.4175619740728,
           12.328887178442665,
           12.32536376893017,
           12.14460163979648,
           12.118769025456238
          ]
         },
         "text": [
          [
           "Target Kansas City T-2222",
           13.514181102494293
          ],
          [
           "Super Target Tuscaloosa ST-1787",
           13.431480438747029
          ],
          [
           "U of AL - Ferguson Cntr",
           12.74468553016541
          ],
          [
           "2001 L St",
           12.733508789444823
          ],
          [
           "Champaign - 5th & Green",
           12.536320587638496
          ],
          [
           "Target Cleveland South T-2228",
           12.4175619740728
          ],
          [
           "Magazine & Washington",
           12.328887178442665
          ],
          [
           "State Rd 135 & Stonegate",
           12.32536376893017
          ],
          [
           "Kroger Southwest Store #572",
           12.14460163979648
          ],
          [
           "Target Midwest City T-2061",
           12.118769025456238
          ]
         ],
         "type": "scattergeo"
        }
       ],
       "layout": {
        "geo": {
         "projection": {
          "type": "albers usa"
         },
         "scope": "usa"
        },
        "height": 500,
        "template": {
         "data": {
          "bar": [
           {
            "error_x": {
             "color": "#2a3f5f"
            },
            "error_y": {
             "color": "#2a3f5f"
            },
            "marker": {
             "line": {
              "color": "#E5ECF6",
              "width": 0.5
             },
             "pattern": {
              "fillmode": "overlay",
              "size": 10,
              "solidity": 0.2
             }
            },
            "type": "bar"
           }
          ],
          "barpolar": [
           {
            "marker": {
             "line": {
              "color": "#E5ECF6",
              "width": 0.5
             },
             "pattern": {
              "fillmode": "overlay",
              "size": 10,
              "solidity": 0.2
             }
            },
            "type": "barpolar"
           }
          ],
          "carpet": [
           {
            "aaxis": {
             "endlinecolor": "#2a3f5f",
             "gridcolor": "white",
             "linecolor": "white",
             "minorgridcolor": "white",
             "startlinecolor": "#2a3f5f"
            },
            "baxis": {
             "endlinecolor": "#2a3f5f",
             "gridcolor": "white",
             "linecolor": "white",
             "minorgridcolor": "white",
             "startlinecolor": "#2a3f5f"
            },
            "type": "carpet"
           }
          ],
          "choropleth": [
           {
            "colorbar": {
             "outlinewidth": 0,
             "ticks": ""
            },
            "type": "choropleth"
           }
          ],
          "contour": [
           {
            "colorbar": {
             "outlinewidth": 0,
             "ticks": ""
            },
            "colorscale": [
             [
              0,
              "#0d0887"
             ],
             [
              0.1111111111111111,
              "#46039f"
             ],
             [
              0.2222222222222222,
              "#7201a8"
             ],
             [
              0.3333333333333333,
              "#9c179e"
             ],
             [
              0.4444444444444444,
              "#bd3786"
             ],
             [
              0.5555555555555556,
              "#d8576b"
             ],
             [
              0.6666666666666666,
              "#ed7953"
             ],
             [
              0.7777777777777778,
              "#fb9f3a"
             ],
             [
              0.8888888888888888,
              "#fdca26"
             ],
             [
              1,
              "#f0f921"
             ]
            ],
            "type": "contour"
           }
          ],
          "contourcarpet": [
           {
            "colorbar": {
             "outlinewidth": 0,
             "ticks": ""
            },
            "type": "contourcarpet"
           }
          ],
          "heatmap": [
           {
            "colorbar": {
             "outlinewidth": 0,
             "ticks": ""
            },
            "colorscale": [
             [
              0,
              "#0d0887"
             ],
             [
              0.1111111111111111,
              "#46039f"
             ],
             [
              0.2222222222222222,
              "#7201a8"
             ],
             [
              0.3333333333333333,
              "#9c179e"
             ],
             [
              0.4444444444444444,
              "#bd3786"
             ],
             [
              0.5555555555555556,
              "#d8576b"
             ],
             [
              0.6666666666666666,
              "#ed7953"
             ],
             [
              0.7777777777777778,
              "#fb9f3a"
             ],
             [
              0.8888888888888888,
              "#fdca26"
             ],
             [
              1,
              "#f0f921"
             ]
            ],
            "type": "heatmap"
           }
          ],
          "heatmapgl": [
           {
            "colorbar": {
             "outlinewidth": 0,
             "ticks": ""
            },
            "colorscale": [
             [
              0,
              "#0d0887"
             ],
             [
              0.1111111111111111,
              "#46039f"
             ],
             [
              0.2222222222222222,
              "#7201a8"
             ],
             [
              0.3333333333333333,
              "#9c179e"
             ],
             [
              0.4444444444444444,
              "#bd3786"
             ],
             [
              0.5555555555555556,
              "#d8576b"
             ],
             [
              0.6666666666666666,
              "#ed7953"
             ],
             [
              0.7777777777777778,
              "#fb9f3a"
             ],
             [
              0.8888888888888888,
              "#fdca26"
             ],
             [
              1,
              "#f0f921"
             ]
            ],
            "type": "heatmapgl"
           }
          ],
          "histogram": [
           {
            "marker": {
             "pattern": {
              "fillmode": "overlay",
              "size": 10,
              "solidity": 0.2
             }
            },
            "type": "histogram"
           }
          ],
          "histogram2d": [
           {
            "colorbar": {
             "outlinewidth": 0,
             "ticks": ""
            },
            "colorscale": [
             [
              0,
              "#0d0887"
             ],
             [
              0.1111111111111111,
              "#46039f"
             ],
             [
              0.2222222222222222,
              "#7201a8"
             ],
             [
              0.3333333333333333,
              "#9c179e"
             ],
             [
              0.4444444444444444,
              "#bd3786"
             ],
             [
              0.5555555555555556,
              "#d8576b"
             ],
             [
              0.6666666666666666,
              "#ed7953"
             ],
             [
              0.7777777777777778,
              "#fb9f3a"
             ],
             [
              0.8888888888888888,
              "#fdca26"
             ],
             [
              1,
              "#f0f921"
             ]
            ],
            "type": "histogram2d"
           }
          ],
          "histogram2dcontour": [
           {
            "colorbar": {
             "outlinewidth": 0,
             "ticks": ""
            },
            "colorscale": [
             [
              0,
              "#0d0887"
             ],
             [
              0.1111111111111111,
              "#46039f"
             ],
             [
              0.2222222222222222,
              "#7201a8"
             ],
             [
              0.3333333333333333,
              "#9c179e"
             ],
             [
              0.4444444444444444,
              "#bd3786"
             ],
             [
              0.5555555555555556,
              "#d8576b"
             ],
             [
              0.6666666666666666,
              "#ed7953"
             ],
             [
              0.7777777777777778,
              "#fb9f3a"
             ],
             [
              0.8888888888888888,
              "#fdca26"
             ],
             [
              1,
              "#f0f921"
             ]
            ],
            "type": "histogram2dcontour"
           }
          ],
          "mesh3d": [
           {
            "colorbar": {
             "outlinewidth": 0,
             "ticks": ""
            },
            "type": "mesh3d"
           }
          ],
          "parcoords": [
           {
            "line": {
             "colorbar": {
              "outlinewidth": 0,
              "ticks": ""
             }
            },
            "type": "parcoords"
           }
          ],
          "pie": [
           {
            "automargin": true,
            "type": "pie"
           }
          ],
          "scatter": [
           {
            "fillpattern": {
             "fillmode": "overlay",
             "size": 10,
             "solidity": 0.2
            },
            "type": "scatter"
           }
          ],
          "scatter3d": [
           {
            "line": {
             "colorbar": {
              "outlinewidth": 0,
              "ticks": ""
             }
            },
            "marker": {
             "colorbar": {
              "outlinewidth": 0,
              "ticks": ""
             }
            },
            "type": "scatter3d"
           }
          ],
          "scattercarpet": [
           {
            "marker": {
             "colorbar": {
              "outlinewidth": 0,
              "ticks": ""
             }
            },
            "type": "scattercarpet"
           }
          ],
          "scattergeo": [
           {
            "marker": {
             "colorbar": {
              "outlinewidth": 0,
              "ticks": ""
             }
            },
            "type": "scattergeo"
           }
          ],
          "scattergl": [
           {
            "marker": {
             "colorbar": {
              "outlinewidth": 0,
              "ticks": ""
             }
            },
            "type": "scattergl"
           }
          ],
          "scattermapbox": [
           {
            "marker": {
             "colorbar": {
              "outlinewidth": 0,
              "ticks": ""
             }
            },
            "type": "scattermapbox"
           }
          ],
          "scatterpolar": [
           {
            "marker": {
             "colorbar": {
              "outlinewidth": 0,
              "ticks": ""
             }
            },
            "type": "scatterpolar"
           }
          ],
          "scatterpolargl": [
           {
            "marker": {
             "colorbar": {
              "outlinewidth": 0,
              "ticks": ""
             }
            },
            "type": "scatterpolargl"
           }
          ],
          "scatterternary": [
           {
            "marker": {
             "colorbar": {
              "outlinewidth": 0,
              "ticks": ""
             }
            },
            "type": "scatterternary"
           }
          ],
          "surface": [
           {
            "colorbar": {
             "outlinewidth": 0,
             "ticks": ""
            },
            "colorscale": [
             [
              0,
              "#0d0887"
             ],
             [
              0.1111111111111111,
              "#46039f"
             ],
             [
              0.2222222222222222,
              "#7201a8"
             ],
             [
              0.3333333333333333,
              "#9c179e"
             ],
             [
              0.4444444444444444,
              "#bd3786"
             ],
             [
              0.5555555555555556,
              "#d8576b"
             ],
             [
              0.6666666666666666,
              "#ed7953"
             ],
             [
              0.7777777777777778,
              "#fb9f3a"
             ],
             [
              0.8888888888888888,
              "#fdca26"
             ],
             [
              1,
              "#f0f921"
             ]
            ],
            "type": "surface"
           }
          ],
          "table": [
           {
            "cells": {
             "fill": {
              "color": "#EBF0F8"
             },
             "line": {
              "color": "white"
             }
            },
            "header": {
             "fill": {
              "color": "#C8D4E3"
             },
             "line": {
              "color": "white"
             }
            },
            "type": "table"
           }
          ]
         },
         "layout": {
          "annotationdefaults": {
           "arrowcolor": "#2a3f5f",
           "arrowhead": 0,
           "arrowwidth": 1
          },
          "autotypenumbers": "strict",
          "coloraxis": {
           "colorbar": {
            "outlinewidth": 0,
            "ticks": ""
           }
          },
          "colorscale": {
           "diverging": [
            [
             0,
             "#8e0152"
            ],
            [
             0.1,
             "#c51b7d"
            ],
            [
             0.2,
             "#de77ae"
            ],
            [
             0.3,
             "#f1b6da"
            ],
            [
             0.4,
             "#fde0ef"
            ],
            [
             0.5,
             "#f7f7f7"
            ],
            [
             0.6,
             "#e6f5d0"
            ],
            [
             0.7,
             "#b8e186"
            ],
            [
             0.8,
             "#7fbc41"
            ],
            [
             0.9,
             "#4d9221"
            ],
            [
             1,
             "#276419"
            ]
           ],
           "sequential": [
            [
             0,
             "#0d0887"
            ],
            [
             0.1111111111111111,
             "#46039f"
            ],
            [
             0.2222222222222222,
             "#7201a8"
            ],
            [
             0.3333333333333333,
             "#9c179e"
            ],
            [
             0.4444444444444444,
             "#bd3786"
            ],
            [
             0.5555555555555556,
             "#d8576b"
            ],
            [
             0.6666666666666666,
             "#ed7953"
            ],
            [
             0.7777777777777778,
             "#fb9f3a"
            ],
            [
             0.8888888888888888,
             "#fdca26"
            ],
            [
             1,
             "#f0f921"
            ]
           ],
           "sequentialminus": [
            [
             0,
             "#0d0887"
            ],
            [
             0.1111111111111111,
             "#46039f"
            ],
            [
             0.2222222222222222,
             "#7201a8"
            ],
            [
             0.3333333333333333,
             "#9c179e"
            ],
            [
             0.4444444444444444,
             "#bd3786"
            ],
            [
             0.5555555555555556,
             "#d8576b"
            ],
            [
             0.6666666666666666,
             "#ed7953"
            ],
            [
             0.7777777777777778,
             "#fb9f3a"
            ],
            [
             0.8888888888888888,
             "#fdca26"
            ],
            [
             1,
             "#f0f921"
            ]
           ]
          },
          "colorway": [
           "#636efa",
           "#EF553B",
           "#00cc96",
           "#ab63fa",
           "#FFA15A",
           "#19d3f3",
           "#FF6692",
           "#B6E880",
           "#FF97FF",
           "#FECB52"
          ],
          "font": {
           "color": "#2a3f5f"
          },
          "geo": {
           "bgcolor": "white",
           "lakecolor": "white",
           "landcolor": "#E5ECF6",
           "showlakes": true,
           "showland": true,
           "subunitcolor": "white"
          },
          "hoverlabel": {
           "align": "left"
          },
          "hovermode": "closest",
          "mapbox": {
           "style": "light"
          },
          "paper_bgcolor": "white",
          "plot_bgcolor": "#E5ECF6",
          "polar": {
           "angularaxis": {
            "gridcolor": "white",
            "linecolor": "white",
            "ticks": ""
           },
           "bgcolor": "#E5ECF6",
           "radialaxis": {
            "gridcolor": "white",
            "linecolor": "white",
            "ticks": ""
           }
          },
          "scene": {
           "xaxis": {
            "backgroundcolor": "#E5ECF6",
            "gridcolor": "white",
            "gridwidth": 2,
            "linecolor": "white",
            "showbackground": true,
            "ticks": "",
            "zerolinecolor": "white"
           },
           "yaxis": {
            "backgroundcolor": "#E5ECF6",
            "gridcolor": "white",
            "gridwidth": 2,
            "linecolor": "white",
            "showbackground": true,
            "ticks": "",
            "zerolinecolor": "white"
           },
           "zaxis": {
            "backgroundcolor": "#E5ECF6",
            "gridcolor": "white",
            "gridwidth": 2,
            "linecolor": "white",
            "showbackground": true,
            "ticks": "",
            "zerolinecolor": "white"
           }
          },
          "shapedefaults": {
           "line": {
            "color": "#2a3f5f"
           }
          },
          "ternary": {
           "aaxis": {
            "gridcolor": "white",
            "linecolor": "white",
            "ticks": ""
           },
           "baxis": {
            "gridcolor": "white",
            "linecolor": "white",
            "ticks": ""
           },
           "bgcolor": "#E5ECF6",
           "caxis": {
            "gridcolor": "white",
            "linecolor": "white",
            "ticks": ""
           }
          },
          "title": {
           "x": 0.05
          },
          "xaxis": {
           "automargin": true,
           "gridcolor": "white",
           "linecolor": "white",
           "ticks": "",
           "title": {
            "standoff": 15
           },
           "zerolinecolor": "white",
           "zerolinewidth": 2
          },
          "yaxis": {
           "automargin": true,
           "gridcolor": "white",
           "linecolor": "white",
           "ticks": "",
           "title": {
            "standoff": 15
           },
           "zerolinecolor": "white",
           "zerolinewidth": 2
          }
         }
        },
        "title": {
         "text": "Top 10 Outlets Concerning Profit (in million INR)",
         "x": 0.5
        },
        "width": 1000
       }
      }
     },
     "metadata": {},
     "output_type": "display_data"
    }
   ],
   "source": [
    "# Initiate an empty figure\n",
    "fig = go.Figure()\n",
    "\n",
    "# Add a trace of scattergeo to the figure\n",
    "fig.add_trace(trace=go.Scattergeo(lon=top10outletsprofit['Longitude'], \n",
    "                                  lat=top10outletsprofit['Latitude'], \n",
    "                                  text=top10outletsprofit[['Store_Name', 'Profits']],\n",
    "                                  marker=dict(size=top10outletsprofit['Profits'], \n",
    "                                              color='Blue')))\n",
    "\n",
    "# Update the layout with some cosmetics\n",
    "fig.update_layout(height=500, \n",
    "                  width=1000, \n",
    "                  title_text='Top 10 Outlets Concerning Profit (in million INR)', \n",
    "                  title_x=0.5,\n",
    "                  geo=dict(scope='usa', \n",
    "                           projection=go.layout.geo.Projection(type='albers usa')))\n",
    "\n",
    "# Display the figure\n",
    "fig.show()"
   ]
  },
  {
   "cell_type": "code",
   "execution_count": 18,
   "metadata": {},
   "outputs": [
    {
     "data": {
      "text/html": [
       "<div>\n",
       "<style scoped>\n",
       "    .dataframe tbody tr th:only-of-type {\n",
       "        vertical-align: middle;\n",
       "    }\n",
       "\n",
       "    .dataframe tbody tr th {\n",
       "        vertical-align: top;\n",
       "    }\n",
       "\n",
       "    .dataframe thead th {\n",
       "        text-align: right;\n",
       "    }\n",
       "</style>\n",
       "<table border=\"1\" class=\"dataframe\">\n",
       "  <thead>\n",
       "    <tr style=\"text-align: right;\">\n",
       "      <th></th>\n",
       "      <th>Store_ID</th>\n",
       "      <th>Store_Name</th>\n",
       "      <th>Ownership_Type</th>\n",
       "      <th>Street_Address</th>\n",
       "      <th>City</th>\n",
       "      <th>State</th>\n",
       "      <th>Country</th>\n",
       "      <th>Postcode</th>\n",
       "      <th>Phone_Number</th>\n",
       "      <th>Timezone</th>\n",
       "      <th>Longitude</th>\n",
       "      <th>Latitude</th>\n",
       "      <th>Revenue</th>\n",
       "      <th>Profits</th>\n",
       "      <th>Gross_Profit_Margin</th>\n",
       "      <th>Number_of_Employees</th>\n",
       "      <th>Customers</th>\n",
       "      <th>Best_Selling_Item</th>\n",
       "      <th>Category</th>\n",
       "      <th>Serve_Size</th>\n",
       "      <th>Energy</th>\n",
       "      <th>Protein</th>\n",
       "      <th>Total_Fat</th>\n",
       "      <th>Saturated_Fat</th>\n",
       "      <th>Trans_Fat</th>\n",
       "      <th>Cholestrol</th>\n",
       "      <th>Carbohydrates</th>\n",
       "      <th>Sugars</th>\n",
       "      <th>Dietary_Fibre</th>\n",
       "      <th>Sodium</th>\n",
       "    </tr>\n",
       "  </thead>\n",
       "  <tbody>\n",
       "    <tr>\n",
       "      <th>281</th>\n",
       "      <td>3236-251306</td>\n",
       "      <td>Hwy 44 and Edgewood - Eagle</td>\n",
       "      <td>Company Owned</td>\n",
       "      <td>1598 E. Riverside Dr.</td>\n",
       "      <td>Eagle</td>\n",
       "      <td>ID</td>\n",
       "      <td>US</td>\n",
       "      <td>83616</td>\n",
       "      <td>2089380630</td>\n",
       "      <td>GMT-07:00 America/Denver</td>\n",
       "      <td>-116.33</td>\n",
       "      <td>43.69</td>\n",
       "      <td>38.209784</td>\n",
       "      <td>11.448942</td>\n",
       "      <td>-4.881901</td>\n",
       "      <td>116</td>\n",
       "      <td>24964</td>\n",
       "      <td>Caramel Iced Coffee (Large)</td>\n",
       "      <td>Hot Beverages</td>\n",
       "      <td>907</td>\n",
       "      <td>260</td>\n",
       "      <td>2</td>\n",
       "      <td>9.0</td>\n",
       "      <td>6.0</td>\n",
       "      <td>0.0</td>\n",
       "      <td>35</td>\n",
       "      <td>43</td>\n",
       "      <td>42</td>\n",
       "      <td>0</td>\n",
       "      <td>65</td>\n",
       "    </tr>\n",
       "    <tr>\n",
       "      <th>57</th>\n",
       "      <td>19530-197407</td>\n",
       "      <td>Bandra East - FIFC</td>\n",
       "      <td>Joint Venture</td>\n",
       "      <td>First International Financial Centre, Bandra Kurla Complex Road, Bandra (East)</td>\n",
       "      <td>Mumbai</td>\n",
       "      <td>MH</td>\n",
       "      <td>IN</td>\n",
       "      <td>400051</td>\n",
       "      <td>NaN</td>\n",
       "      <td>GMT+05:30 Asia/New_Delhi</td>\n",
       "      <td>72.87</td>\n",
       "      <td>19.07</td>\n",
       "      <td>9.917875</td>\n",
       "      <td>2.952737</td>\n",
       "      <td>-1.225380</td>\n",
       "      <td>99</td>\n",
       "      <td>24780</td>\n",
       "      <td>McFloat Fanta</td>\n",
       "      <td>Desserts</td>\n",
       "      <td>237</td>\n",
       "      <td>152</td>\n",
       "      <td>2</td>\n",
       "      <td>2.0</td>\n",
       "      <td>1.1</td>\n",
       "      <td>0.1</td>\n",
       "      <td>3</td>\n",
       "      <td>32</td>\n",
       "      <td>31</td>\n",
       "      <td>0</td>\n",
       "      <td>390</td>\n",
       "    </tr>\n",
       "  </tbody>\n",
       "</table>\n",
       "</div>"
      ],
      "text/plain": [
       "         Store_ID                   Store_Name Ownership_Type  \\\n",
       "281   3236-251306  Hwy 44 and Edgewood - Eagle  Company Owned   \n",
       "57   19530-197407           Bandra East - FIFC  Joint Venture   \n",
       "\n",
       "                                                                     Street_Address  \\\n",
       "281                                                           1598 E. Riverside Dr.   \n",
       "57   First International Financial Centre, Bandra Kurla Complex Road, Bandra (East)   \n",
       "\n",
       "       City State Country  Postcode Phone_Number                  Timezone  \\\n",
       "281   Eagle    ID      US     83616   2089380630  GMT-07:00 America/Denver   \n",
       "57   Mumbai    MH      IN    400051          NaN  GMT+05:30 Asia/New_Delhi   \n",
       "\n",
       "     Longitude  Latitude    Revenue    Profits  Gross_Profit_Margin  \\\n",
       "281    -116.33     43.69  38.209784  11.448942            -4.881901   \n",
       "57       72.87     19.07   9.917875   2.952737            -1.225380   \n",
       "\n",
       "     Number_of_Employees  Customers            Best_Selling_Item  \\\n",
       "281                  116      24964  Caramel Iced Coffee (Large)   \n",
       "57                    99      24780                McFloat Fanta   \n",
       "\n",
       "          Category  Serve_Size  Energy  Protein  Total_Fat  Saturated_Fat  \\\n",
       "281  Hot Beverages         907     260        2        9.0            6.0   \n",
       "57        Desserts         237     152        2        2.0            1.1   \n",
       "\n",
       "     Trans_Fat  Cholestrol  Carbohydrates  Sugars  Dietary_Fibre  Sodium  \n",
       "281        0.0          35             43      42              0      65  \n",
       "57         0.1           3             32      31              0     390  "
      ]
     },
     "execution_count": 18,
     "metadata": {},
     "output_type": "execute_result"
    }
   ],
   "source": [
    "top10outletscust = data.iloc[data['Customers'].sort_values(ascending=False).index, :]\n",
    "top10outletscust.head(2)"
   ]
  },
  {
   "cell_type": "code",
   "execution_count": 19,
   "metadata": {},
   "outputs": [
    {
     "data": {
      "application/vnd.plotly.v1+json": {
       "config": {
        "plotlyServerURL": "https://plot.ly"
       },
       "data": [
        {
         "lat": [
          43.69,
          19.07,
          19.2,
          41.55,
          12.97,
          61.58,
          32.45,
          28.56,
          34.85,
          33.08,
          38.88,
          33.21,
          33.61,
          39.13,
          28.53,
          37.79,
          41.88,
          30.23,
          39.77,
          40.21,
          30.67,
          29.95,
          39.86,
          19.07,
          40.82,
          29.93,
          39.75,
          41.81,
          38.86,
          38.9,
          44.59,
          33.2,
          35.44,
          19,
          19.12,
          18.54,
          40.67,
          32.82,
          30.28,
          39.83,
          42.56,
          41.51,
          19.18,
          35.21,
          34.82,
          37.76,
          40.88,
          39.63,
          38.9,
          37.78,
          33.08,
          38.87,
          29.95,
          40.1,
          19.1,
          40.11,
          61.6,
          33.79,
          61.58,
          32.71,
          43.86,
          37.78,
          12.99,
          33.61,
          19.07,
          12.99,
          36.3,
          41.46,
          44.93,
          42.34,
          40.37,
          19.21,
          42.89,
          40.15,
          33.91,
          30.21,
          39.48,
          43.1,
          25.78,
          12.99,
          32.51,
          18.56,
          13.03,
          34.11,
          41.73,
          36.28,
          35.6,
          28.54,
          28.57,
          18.52,
          41.98,
          29.95,
          41.88,
          19.1,
          40.88,
          25.77,
          39.88,
          42.35,
          44.01,
          40.11,
          38.72,
          25.75,
          17.45,
          21.33,
          33.73,
          19.7,
          19.14,
          29.79,
          43.51,
          39.66,
          19.1,
          35.05,
          28.54,
          19.01,
          47.74,
          25.79,
          44.05,
          19.09,
          28.41,
          44.58,
          29.77,
          13,
          39.16,
          37.78,
          33.46,
          34.76,
          25.77,
          38.91,
          37.77,
          41.57,
          39.53,
          42.96,
          19.06,
          28.5,
          19.13,
          39.85,
          28.56,
          42.02,
          42.88,
          19.11,
          39.54,
          12.99,
          37.35,
          19.08,
          37.78,
          19.21,
          38.89,
          35.99,
          34.62,
          34.1,
          60.49,
          18.55,
          41.14,
          42.35,
          38.47,
          43.48,
          21.29,
          40.11,
          19.72,
          38.9,
          30.34,
          29.49,
          28.56,
          19.09,
          25.79,
          39.89,
          28.5,
          33.87,
          40.67,
          28.64,
          34.11,
          38.86,
          32.54,
          40.53,
          45.42,
          41.12,
          28.47,
          43.53,
          28.48,
          39.12,
          32.47,
          43.69,
          61.58,
          19.01,
          42.92,
          41.71,
          38.97,
          41.9,
          25.81,
          35.28,
          34.35,
          28.67,
          40.45,
          34.8,
          44.04,
          37.76,
          34.01,
          35.25,
          35.02,
          25.77,
          42.51,
          18.92,
          28.63,
          38.88,
          28.57,
          40.46,
          33.78,
          38.9,
          36.18,
          19.09,
          40.92,
          44.93,
          38.94,
          19.06,
          40.51,
          17.43,
          47.69,
          34.15,
          33.57,
          36.17,
          25.76,
          19.17,
          42.47,
          35.47,
          60.48,
          33.28,
          38.85,
          28.55,
          39.02,
          39.53,
          28.48,
          39.14,
          37.77,
          33.2,
          40.44,
          39.24,
          40.1,
          34.16,
          36.33,
          35.16,
          33.46,
          35.65,
          42.89,
          18.93,
          29.95,
          40.65,
          43.65,
          18.56,
          17.42,
          35.05,
          33.68,
          34.67,
          13.06,
          25.65,
          28.57,
          41.41,
          43.5,
          17.45,
          60.13,
          36.39,
          33.45,
          41.71,
          39.13,
          40.44,
          12.97,
          34.9,
          34.63,
          28.63,
          35.25,
          21.39,
          18.52,
          21.28,
          18.52,
          38.07,
          29.94,
          43.8,
          39.15,
          13.09,
          19.7,
          35.02,
          32.46,
          36.35,
          21.33,
          33.79,
          35.16,
          13.06,
          34.28,
          13.01,
          18.5,
          35.26,
          35.32,
          42.58,
          30.11,
          17.42,
          28.46,
          19.17,
          28.53,
          12.94,
          38.85,
          40.24,
          40.45,
          28.55,
          33.6,
          35.44,
          39.63,
          61.6,
          19.05,
          34.11,
          13.01,
          39.13,
          41.51,
          36.14,
          36.31,
          42.92,
          35.05,
          61.58,
          38.72,
          41.54,
          33.21,
          39.13,
          39.91,
          37.66,
          40.36,
          39.63,
          21.3,
          39.61,
          28.69,
          40.09,
          38.11,
          41.52,
          34.8,
          19.7,
          34.51,
          41.71,
          19.1,
          39.5,
          17.48,
          35.65,
          32.39,
          12.91
         ],
         "lon": [
          -116.33,
          72.87,
          72.97,
          -90.48,
          77.61,
          -149.41,
          -93.72,
          77.1,
          -92.4,
          -97.13,
          -77.03,
          -87.55,
          -111.73,
          -94.83,
          77.24,
          -122.28,
          -87.64,
          -97.83,
          -86.16,
          -77.28,
          -87.85,
          -90.07,
          -86.2,
          72.83,
          -91.14,
          -90.08,
          -105.01,
          -87.72,
          -77.04,
          -77.05,
          -123.28,
          -87.51,
          -97.4,
          72.82,
          72.91,
          73.89,
          -73.98,
          -117.18,
          -97.78,
          -75.54,
          -70.89,
          -81.6,
          72.83,
          -84.86,
          -92.23,
          -122.24,
          -111.89,
          -86.16,
          -77.03,
          -122.4,
          -97.13,
          -99.34,
          -90.08,
          -75.29,
          72.88,
          -88.23,
          -149.12,
          -84.27,
          -149.41,
          -117.16,
          -116.49,
          -122.28,
          80.22,
          -111.73,
          73,
          77.66,
          -94.17,
          -81.69,
          -123.31,
          -71.1,
          -111.79,
          72.97,
          -78.88,
          -88.26,
          -84.82,
          -97.82,
          -88.19,
          -75.84,
          -80.14,
          77.57,
          -93.66,
          73.92,
          80.25,
          -117.8,
          -93.6,
          -94.15,
          -87.06,
          77.16,
          77.12,
          73.84,
          -87.9,
          -90.21,
          -87.65,
          72.92,
          -111.89,
          -80.19,
          -104.77,
          -71.13,
          -123.09,
          -88.23,
          -75.09,
          -80.24,
          78.38,
          -158.02,
          -84.74,
          -155.07,
          72.83,
          -94.98,
          -112.02,
          -75.69,
          72.83,
          -89.69,
          77.16,
          72.82,
          -116.79,
          -80.14,
          -123.14,
          72.89,
          77.05,
          -123.26,
          -94.98,
          77.7,
          -84.51,
          -122.41,
          -86.74,
          -84.99,
          -80.13,
          -77.04,
          -122.23,
          -87.48,
          -105.3,
          -78.87,
          72.85,
          77.1,
          72.82,
          -86.26,
          77.12,
          -93.62,
          -77.26,
          72.83,
          -105.29,
          77.73,
          -108.58,
          72.83,
          -122.28,
          72.84,
          -77.02,
          -96.01,
          -98.44,
          -117.82,
          -151.05,
          73.95,
          -112.06,
          -71.08,
          -75.11,
          -112.02,
          -157.84,
          -75.29,
          -155.08,
          -77.02,
          -97.76,
          -98.55,
          77.1,
          72.86,
          -80.13,
          -104.81,
          77.09,
          -117.75,
          -73.98,
          77.11,
          -117.83,
          -104.88,
          -92.65,
          -111.86,
          -122.46,
          -112.02,
          77.06,
          -114.32,
          77.08,
          -94.76,
          -86.43,
          -116.35,
          -149.44,
          72.84,
          -78.88,
          -93.62,
          -95.3,
          -87.63,
          -80.13,
          -93.11,
          -84.05,
          77.13,
          -80.18,
          -92.25,
          -123.09,
          -122.25,
          -84.75,
          -91.73,
          -114.6,
          -80.26,
          -92.44,
          72.83,
          77.22,
          -99.32,
          77.17,
          -75.37,
          -84.3,
          -77.04,
          -94.18,
          72.92,
          -111.89,
          -123.31,
          -95.25,
          72.86,
          -107.55,
          78.39,
          -116.79,
          -118.76,
          -111.72,
          -85.5,
          -80.19,
          72.84,
          -92.46,
          -94.36,
          -151.07,
          -111.79,
          -77.05,
          77.24,
          -96.82,
          -105.31,
          77.09,
          -84.62,
          -122.43,
          -87.53,
          -80,
          -84.59,
          -75.29,
          -118.76,
          -94.18,
          -89.73,
          -94.04,
          -97.46,
          -78.87,
          72.82,
          -90.07,
          -73.87,
          -116.28,
          73.81,
          78.42,
          -89.69,
          -84.23,
          -98.4,
          80.26,
          -80.34,
          77.33,
          -81.84,
          -112.05,
          78.38,
          -149.43,
          -97.91,
          -86.79,
          -93.58,
          -84.52,
          -80,
          77.64,
          -92.15,
          -98.49,
          77.22,
          -91.69,
          -157.95,
          73.94,
          -157.83,
          73.93,
          -97.9,
          -90.06,
          -123.05,
          -84.38,
          80.21,
          -155.07,
          -114.6,
          -86.39,
          -92.37,
          -158.02,
          -84.29,
          -84.88,
          80.25,
          -118.44,
          77.58,
          73.82,
          -84.84,
          -97.5,
          -71.29,
          -97.33,
          78.45,
          77.07,
          72.86,
          77.22,
          77.61,
          -77.05,
          -75.57,
          -75.36,
          77.19,
          -86.65,
          -97.4,
          -86.12,
          -149.13,
          72.83,
          -117.81,
          77.56,
          -84.51,
          -112.02,
          -85.51,
          -94.18,
          -78.76,
          -89.73,
          -149.41,
          -75.13,
          -90.52,
          -87.55,
          -94.83,
          -86.07,
          -113.08,
          -111.97,
          -86.13,
          -157.86,
          -86.16,
          77.15,
          -88.25,
          -97.92,
          -87.47,
          -84.96,
          -155.06,
          -117.4,
          -93.58,
          72.87,
          -106.15,
          78.39,
          -97.47,
          -93.73,
          77.59
         ],
         "marker": {
          "color": "Purple",
          "size": [
           12.482,
           12.39,
           12.2995,
           12.2325,
           12.172,
           12.125,
           12.1025,
           12.081,
           12.0695,
           12.0505,
           12.0095,
           11.9595,
           11.946,
           11.921,
           11.914,
           11.9095,
           11.874,
           11.798,
           11.728,
           11.711,
           11.707,
           11.6945,
           11.6185,
           11.5835,
           11.5055,
           11.5025,
           11.4485,
           11.347,
           11.3285,
           11.314,
           11.2915,
           11.282,
           11.2155,
           11.2035,
           11.1945,
           11.189,
           11.172,
           11.1515,
           11.149,
           11.1215,
           11.076,
           11.0505,
           10.975,
           10.9145,
           10.8685,
           10.814,
           10.804,
           10.7995,
           10.787,
           10.723,
           10.7115,
           10.6505,
           10.6495,
           10.638,
           10.563,
           10.526,
           10.504,
           10.4955,
           10.49,
           10.47,
           10.4675,
           10.462,
           10.448,
           10.4,
           10.352,
           10.3385,
           10.322,
           10.253,
           10.2335,
           10.1715,
           10.1305,
           10.119,
           10.105,
           10.0985,
           10.0285,
           9.989,
           9.9515,
           9.802,
           9.795,
           9.7705,
           9.73,
           9.6985,
           9.6935,
           9.6835,
           9.6375,
           9.617,
           9.5915,
           9.5715,
           9.475,
           9.4455,
           9.4435,
           9.427,
           9.4015,
           9.3145,
           9.3095,
           9.2585,
           9.192,
           9.177,
           9.0995,
           9.011,
           8.9995,
           8.9475,
           8.9435,
           8.9275,
           8.9015,
           8.872,
           8.8435,
           8.801,
           8.7655,
           8.765,
           8.74,
           8.61,
           8.5635,
           8.5375,
           8.505,
           8.4575,
           8.4495,
           8.422,
           8.4195,
           8.393,
           8.351,
           8.3015,
           8.238,
           8.163,
           8.1195,
           8.0825,
           8.061,
           8.0265,
           8.006,
           8.003,
           7.982,
           7.9705,
           7.9485,
           7.924,
           7.919,
           7.837,
           7.804,
           7.801,
           7.7875,
           7.755,
           7.737,
           7.7175,
           7.6655,
           7.655,
           7.6515,
           7.435,
           7.424,
           7.3905,
           7.385,
           7.36,
           7.307,
           7.2915,
           7.226,
           7.2115,
           7.193,
           7.1595,
           7.128,
           7.1095,
           7.05,
           7.032,
           7.0085,
           6.9595,
           6.8975,
           6.8275,
           6.78,
           6.771,
           6.753,
           6.75,
           6.7015,
           6.6955,
           6.6775,
           6.6495,
           6.644,
           6.6325,
           6.5455,
           6.5075,
           6.495,
           6.434,
           6.406,
           6.3935,
           6.3855,
           6.32,
           6.294,
           6.2505,
           6.2355,
           6.23,
           6.2285,
           6.2005,
           6.1405,
           6.1105,
           6.098,
           6.0935,
           6.0215,
           6.0075,
           5.988,
           5.904,
           5.608,
           5.595,
           5.5485,
           5.5455,
           5.5235,
           5.4925,
           5.488,
           5.3875,
           5.372,
           5.319,
           5.3185,
           5.3135,
           5.31,
           5.3,
           5.267,
           5.2325,
           5.229,
           5.2145,
           5.1845,
           5.173,
           5.1165,
           5.0865,
           5.0455,
           5.0125,
           5.0005,
           4.966,
           4.966,
           4.9625,
           4.948,
           4.848,
           4.7795,
           4.7755,
           4.749,
           4.512,
           4.5005,
           4.499,
           4.444,
           4.442,
           4.3075,
           4.27,
           4.2425,
           4.207,
           4.1805,
           4.0945,
           4.065,
           4.004,
           3.8515,
           3.8505,
           3.8395,
           3.7725,
           3.7245,
           3.723,
           3.707,
           3.679,
           3.592,
           3.556,
           3.5205,
           3.5165,
           3.4505,
           3.403,
           3.3475,
           3.326,
           3.3065,
           3.1885,
           3.1305,
           3.1015,
           3.0535,
           3.014,
           2.9905,
           2.971,
           2.9595,
           2.9415,
           2.9135,
           2.889,
           2.798,
           2.746,
           2.706,
           2.6155,
           2.4875,
           2.431,
           2.4165,
           2.4,
           2.319,
           2.305,
           2.3015,
           2.2925,
           2.256,
           2.2505,
           2.243,
           2.1655,
           2.1655,
           2.148,
           2.056,
           2.055,
           2.028,
           2.027,
           2.0245,
           1.9895,
           1.985,
           1.9685,
           1.9585,
           1.88,
           1.849,
           1.842,
           1.8415,
           1.695,
           1.6825,
           1.675,
           1.6645,
           1.6635,
           1.6615,
           1.6,
           1.5355,
           1.4945,
           1.485,
           1.4595,
           1.4565,
           1.365,
           1.3025,
           1.301,
           1.287,
           1.2685,
           1.2135,
           1.2015,
           1.1735,
           1.169,
           1.096,
           1.039,
           0.9745,
           0.953,
           0.907,
           0.904,
           0.8825,
           0.8815,
           0.8135,
           0.764,
           0.721,
           0.6735,
           0.629,
           0.6115,
           0.578,
           0.564,
           0.5595,
           0.501
          ]
         },
         "text": [
          [
           "Hwy 44 and Edgewood - Eagle",
           24964
          ],
          [
           "Bandra East - FIFC",
           24780
          ],
          [
           "Thane West - Korum Mall",
           24599
          ],
          [
           "Hy-Vee - Bettendorf #1",
           24465
          ],
          [
           "Church Street",
           24344
          ],
          [
           "Target Wasilla T-2339",
           24250
          ],
          [
           "Kroger Shreveport # 539",
           24205
          ],
          [
           "Indira Gandhi Itnl Arpt-T3Gate27",
           24162
          ],
          [
           "Maumelle & Audubon",
           24139
          ],
          [
           "Kroger Southwest Store #572",
           24101
          ],
          [
           "The Portals",
           24019
          ],
          [
           "U of AL - Ferguson Cntr",
           23919
          ],
          [
           "Safeway - Fountain Hills #1291",
           23892
          ],
          [
           "Target Kansas City T-2222",
           23842
          ],
          [
           "Greater Kailash 2",
           23828
          ],
          [
           "Safeway - Alameda 3281",
           23819
          ],
          [
           "Washington & Clinton",
           23748
          ],
          [
           "Target Austin T-1061",
           23596
          ],
          [
           "Hyatt Regency-Indianapolis-Lobby",
           23456
          ],
          [
           "Cumberland Valley Travel Plaza",
           23422
          ],
          [
           "I-10 & Hwy 181",
           23414
          ],
          [
           "Sheraton Lobby",
           23389
          ],
          [
           "Kessler & Michigan",
           23237
          ],
          [
           "Bandra West - Link corner",
           23167
          ],
          [
           "Agency and Roosevelt - Burlington",
           23011
          ],
          [
           "Magazine & Washington",
           23005
          ],
          [
           "Auraria Tivoli - Student Union",
           22897
          ],
          [
           "Target Chicago T-1879",
           22694
          ],
          [
           "DCA - Wash Nat'l-Reagan-Level 1",
           22657
          ],
          [
           "2001 L St",
           22628
          ],
          [
           "Timberhill",
           22583
          ],
          [
           "Super Target Tuscaloosa ST-1787",
           22564
          ],
          [
           "Target Midwest City T-2061",
           22431
          ],
          [
           "Lower Parel - High Street Phoenix",
           22407
          ],
          [
           "Powai",
           22389
          ],
          [
           "Koregaon Park",
           22378
          ],
          [
           "7th Ave and 9th St",
           22344
          ],
          [
           "Vons - San Diego #2040",
           22303
          ],
          [
           "Randalls - Austin #2483",
           22298
          ],
          [
           "Target Brandywine T-1146",
           22243
          ],
          [
           "Beverly, 242 Elliott St",
           22152
          ],
          [
           "CWRU - Residential Village",
           22101
          ],
          [
           "Malad West - Infiniti Mall",
           21950
          ],
          [
           "Paul Huff & I-75",
           21829
          ],
          [
           "JFK and North Hills",
           21737
          ],
          [
           "Park & Central Alameda",
           21628
          ],
          [
           "Bountiful 500S",
           21608
          ],
          [
           "State Rd 135 & Stonegate",
           21599
          ],
          [
           "1401 New York Ave II",
           21574
          ],
          [
           "120 4th Street",
           21446
          ],
          [
           "407 & McMakin",
           21423
          ],
          [
           "Fort Hays State University",
           21301
          ],
          [
           "Hyatt New Orleans",
           21299
          ],
          [
           "Giant-Plymouth Meeting #11",
           21276
          ],
          [
           "Chhatrapati Shivaji International A",
           21126
          ],
          [
           "Champaign - 5th & Green",
           21052
          ],
          [
           "Fred Meyer - Palmer #649",
           21008
          ],
          [
           "Kroger - Decatur #459",
           20991
          ],
          [
           "Parks Hwy & Palmer Wasilla Hwy",
           20980
          ],
          [
           "San Diego Conv Ctr - Lobby C",
           20940
          ],
          [
           "Albertsons - Emmett #126",
           20935
          ],
          [
           "Webster & Atlantic - Alameda",
           20924
          ],
          [
           "Velachery",
           20896
          ],
          [
           "E. Palisades & Ave of the Fountain",
           20800
          ],
          [
           "Vashi",
           20704
          ],
          [
           "Benniganahalli",
           20677
          ],
          [
           "Target Rogers T-2498",
           20644
          ],
          [
           "Target Cleveland South T-2228",
           20506
          ],
          [
           "244 Ellendale Ave- Dallas, OR",
           20467
          ],
          [
           "Fenway Triangle Trilogy",
           20343
          ],
          [
           "American Fork - 500 E and State",
           20261
          ],
          [
           "Thane West - Viviana Mall",
           20238
          ],
          [
           "235 Delaware Ave",
           20210
          ],
          [
           "Champaign - N Prospect Ave",
           20197
          ],
          [
           "Kroger Dallas #673",
           20057
          ],
          [
           "William Cannon & Westgate",
           19978
          ],
          [
           "Charleston-Lincoln & E St",
           19903
          ],
          [
           "NY Chittenango Travel Plaza",
           19604
          ],
          [
           "10th St. & West Ave.",
           19590
          ],
          [
           "Malleswaram - Mantri Mall",
           19541
          ],
          [
           "Barksdale AFB",
           19460
          ],
          [
           "Viman Nagar",
           19397
          ],
          [
           "Alwarpet",
           19387
          ],
          [
           "Albertsons-San Dimas #6594",
           19367
          ],
          [
           "Hy-Vee - Ankeny #1",
           19275
          ],
          [
           "I-540 & Pleasant Grove",
           19234
          ],
          [
           "Kroger Columbia #507",
           19183
          ],
          [
           "Vasant Kunj - Ambience Mall",
           19143
          ],
          [
           "T3 Domestic Arrivals",
           18950
          ],
          [
           "FC Road",
           18891
          ],
          [
           "ORD OHare Terminal 3, Baggage Claim",
           18887
          ],
          [
           "Jefferson Hwy & Upstream St",
           18854
          ],
          [
           "Target Chicago T-2781",
           18803
          ],
          [
           "Ghatkopar West",
           18629
          ],
          [
           "Smith's - Bountiful #444",
           18619
          ],
          [
           "47 W. Flagler St",
           18517
          ],
          [
           "104th & Tower, Commerce City",
           18384
          ],
          [
           "1304 Commonwealth Ave.",
           18354
          ],
          [
           "Safeway-Eugene #4513",
           18199
          ],
          [
           "Unv of Illinois Champaign-Bookstore",
           18022
          ],
          [
           "301 Rehoboth Ave.",
           17999
          ],
          [
           "2645 SW 22nd St",
           17895
          ],
          [
           "Hi-Tech City",
           17887
          ],
          [
           "Safeway-Ewa #2897",
           17855
          ],
          [
           "Chapel Hill Rd @ I-20",
           17803
          ],
          [
           "Target Hilo T-2682",
           17744
          ],
          [
           "Andheri West - Infiniti Mall",
           17687
          ],
          [
           "Kroger Baytown #150",
           17602
          ],
          [
           "Fred Meyer - Idaho Falls #156",
           17531
          ],
          [
           "Delaware House Travel Plaza Cafe",
           17530
          ],
          [
           "Juhu",
           17480
          ],
          [
           "Target Collierville T-1907",
           17220
          ],
          [
           "Vasant Kunj - DLF Promenade",
           17127
          ],
          [
           "Prabhadevi",
           17075
          ],
          [
           "Corner Stone Plaza- Hayden, ID",
           17010
          ],
          [
           "16th & Alton",
           16915
          ],
          [
           "W. 11th & Acorn Park - Eugene",
           16899
          ],
          [
           "Kurla West",
           16844
          ],
          [
           "Sohna Road -",
           16839
          ],
          [
           "9th & Garfield - Corvallis",
           16786
          ],
          [
           "Target Baytown T-887",
           16702
          ],
          [
           "Mahadevapura",
           16603
          ],
          [
           "Kroger - Cincinnati #428",
           16476
          ],
          [
           "Teavana - San Francisco Centre",
           16326
          ],
          [
           "Cahaba Heights & Dolly Ridge Rd",
           16239
          ],
          [
           "Kroger - Dalton #458",
           16165
          ],
          [
           "Marriott South Beach-Miami",
           16122
          ],
          [
           "DuPont South",
           16053
          ],
          [
           "Tilden & Blanding",
           16012
          ],
          [
           "Indianapolis & Interstate, Hammond",
           16006
          ],
          [
           "Safeway - Conifer #2792",
           15964
          ],
          [
           "Delaware & Kenmore",
           15941
          ],
          [
           "Bandra East - One BKC",
           15897
          ],
          [
           "Ambience Island",
           15848
          ],
          [
           "Andheri West - Four Bunglows",
           15838
          ],
          [
           "56th & Lafayette",
           15674
          ],
          [
           "Indira Gandhi International Airport",
           15608
          ],
          [
           "Hy Vee Foods-Ames #2",
           15602
          ],
          [
           "Canadaigua",
           15575
          ],
          [
           "Vile Parle West",
           15510
          ],
          [
           "King Soopers-Aspen Park #87",
           15474
          ],
          [
           "Whitefield",
           15435
          ],
          [
           "City Market - Cortez #408",
           15331
          ],
          [
           "Santacruz West",
           15310
          ],
          [
           "Target Alameda T-2829",
           15303
          ],
          [
           "Kandivali West",
           14870
          ],
          [
           "6th & C Street, SW",
           14848
          ],
          [
           "Hwy 75 & 121st",
           14781
          ],
          [
           "Cache & NW 40th",
           14770
          ],
          [
           "Target San Dimas T-767",
           14720
          ],
          [
           "Fred Meyer-Soldotna #17",
           14614
          ],
          [
           "Kharadi",
           14583
          ],
          [
           "1800 North & 2000 West-Clinton, UT",
           14452
          ],
          [
           "755 Boylston St",
           14423
          ],
          [
           "Harris Teeter-Selbyville #327",
           14386
          ],
          [
           "Albertsons - Idaho Falls #138",
           14319
          ],
          [
           "Macy's Ala Moana Center - L2",
           14256
          ],
          [
           "Plymouth Meeting",
           14219
          ],
          [
           "Downtown Hilo on Kilauea Ave",
           14100
          ],
          [
           "Renaissance Hotel",
           14064
          ],
          [
           "Northland & Balcones",
           14017
          ],
          [
           "Super Target Balcones Hts ST-1523",
           13919
          ],
          [
           "Indira Gandhi Itnl Arpt-T3Gate15",
           13795
          ],
          [
           "Chhatrapati Shivaji DomesticAirport",
           13655
          ],
          [
           "416 Lincoln Rd.",
           13560
          ],
          [
           "King Soopers-Commerce City #114",
           13542
          ],
          [
           "DLF Cyber Hub",
           13506
          ],
          [
           "Target Anaheim T-0677",
           13500
          ],
          [
           "164 7th Avenue",
           13403
          ],
          [
           "Subhash Nagar",
           13391
          ],
          [
           "San Dimas",
           13355
          ],
          [
           "Safeway-Colorado Springs #1286",
           13299
          ],
          [
           "I-20 & Cooktown",
           13288
          ],
          [
           "12300 South & 1300 East-Draper",
           13265
          ],
          [
           "Safeway - Boring #521",
           13091
          ],
          [
           "Clearfield - Falcon Hill",
           13015
          ],
          [
           "Sector 29",
           12990
          ],
          [
           "Albertsons-Hailey #130",
           12868
          ],
          [
           "M G Road",
           12812
          ],
          [
           "Price Chopper - Kansas City, KS #6",
           12787
          ],
          [
           "Target Prattville T-2274",
           12771
          ],
          [
           "Albertsons -- Eagle #182",
           12640
          ],
          [
           "Safeway - Wasilla #1811",
           12588
          ],
          [
           "Elphinstone Road (West)",
           12501
          ],
          [
           "Elmwood Avenue",
           12471
          ],
          [
           "Hy-Vee @ Ankeny #2",
           12460
          ],
          [
           "Bauer Farms, W. 6th Street",
           12457
          ],
          [
           "Oak & Rush",
           12401
          ],
          [
           "827 Arthur Godfrey Road",
           12281
          ],
          [
           "Weir & Parkway",
           12221
          ],
          [
           "Kroger Dawsonville #670",
           12196
          ],
          [
           "Punjabi Bagh",
           12187
          ],
          [
           "Robinson, Lafayette Plaza",
           12043
          ],
          [
           "JFK & McCain",
           12015
          ],
          [
           "Eugene",
           11976
          ],
          [
           "Safeway - Alameda #2708",
           11808
          ],
          [
           "Hwy 381 & Hwy 92",
           11216
          ],
          [
           "Harding University",
           11190
          ],
          [
           "Smiths Fort Mohave #473",
           11097
          ],
          [
           "MIA - Main E Food Ct",
           11091
          ],
          [
           "6421 University Ave - Cedar Falls",
           11047
          ],
          [
           "Colaba",
           10985
          ],
          [
           "Connaught Place - A Block",
           10976
          ],
          [
           "Dillons - Hays #61",
           10775
          ],
          [
           "R K Puram",
           10744
          ],
          [
           "Target Richlandtown (Quakertown) T-",
           10638
          ],
          [
           "Decatur Square",
           10637
          ],
          [
           "1734 L Street",
           10627
          ],
          [
           "Sunset & Reiff",
           10620
          ],
          [
           "Vikhroli East",
           10600
          ],
          [
           "Centerville Starbucks",
           10534
          ],
          [
           "Safeway - Dallas -#4404",
           10465
          ],
          [
           "Dillon Food Store-Lawrence #70",
           10458
          ],
          [
           "Bandra East - The Capital",
           10429
          ],
          [
           "King Soopers - Craig #415",
           10369
          ],
          [
           "Madhapur",
           10346
          ],
          [
           "210 W. Ironwood Drive",
           10233
          ],
          [
           "Vons-Agoura Hills #2001",
           10173
          ],
          [
           "Target Fountain Hills T-1432",
           10091
          ],
          [
           "Tennessee Tech University",
           10025
          ],
          [
           "The Bond At Brickell",
           10001
          ],
          [
           "Malad West - Inorbit Mall",
           9932
          ],
          [
           "Target Cedar Falls - T-2526",
           9932
          ],
          [
           "Fayetteville and Rena Rd",
           9925
          ],
          [
           "Safeway-Soldotna #548",
           9896
          ],
          [
           "Super Target Gilbert ST-1960",
           9696
          ],
          [
           "DCA B63",
           9559
          ],
          [
           "Greater Kailash 1",
           9551
          ],
          [
           "Junction City - I70 & Chestnut",
           9498
          ],
          [
           "Conifer Town Center - Conifer",
           9024
          ],
          [
           "One Horizon Center",
           9001
          ],
          [
           "Kroger-Cincinnati #948",
           8998
          ],
          [
           "Church & Market - S.F.",
           8888
          ],
          [
           "McFarland Blvd & 15th St",
           8884
          ],
          [
           "One Oliver Plaza",
           8615
          ],
          [
           "Target Colerain T-1545",
           8540
          ],
          [
           "Target Plymouth Meeting T-1269",
           8485
          ],
          [
           "Kanan & Thousand Oaks",
           8414
          ],
          [
           "Walnut & 46th",
           8361
          ],
          [
           "Houston Levee & Macon",
           8189
          ],
          [
           "N. State Line Ave & Arkansas Blvd.",
           8130
          ],
          [
           "Super Target Edmond ST-1398",
           8008
          ],
          [
           "Hyatt Buffalo",
           7703
          ],
          [
           "Nariman Point",
           7701
          ],
          [
           "Canal Place",
           7679
          ],
          [
           "Target Gateway T-1401",
           7545
          ],
          [
           "Glenwood & Chinden- Boise",
           7449
          ],
          [
           "Aundh",
           7446
          ],
          [
           "Jubilee Hills",
           7414
          ],
          [
           "Collierville",
           7358
          ],
          [
           "Kroger - Decatur #475",
           7184
          ],
          [
           "Fort Sill BX",
           7112
          ],
          [
           "Royapettah",
           7041
          ],
          [
           "Teavana - The Falls",
           7033
          ],
          [
           "Sector 16",
           6901
          ],
          [
           "CLE C371",
           6806
          ],
          [
           "I-15 & Broadway- Idaho Falls",
           6695
          ],
          [
           "Mindspace",
           6652
          ],
          [
           "Safeway-Seward #2728",
           6613
          ],
          [
           "Cleveland & Owen K. Garriott",
           6377
          ],
          [
           "Montgomery Hwy & Canyon Dr",
           6261
          ],
          [
           "Delaware & Shurfine - Ankeny",
           6203
          ],
          [
           "University Square",
           6107
          ],
          [
           "Sixth Street",
           6028
          ],
          [
           "Indiranagar",
           5981
          ],
          [
           "Little Rock AFB - Troop Store",
           5942
          ],
          [
           "Target Lawton T-2739",
           5919
          ],
          [
           "Connaught Place - N Block",
           5883
          ],
          [
           "E Race and Rand",
           5827
          ],
          [
           "Waimalu Shopping Center",
           5778
          ],
          [
           "Hadapsar",
           5596
          ],
          [
           "Waikiki Shopping Plaza",
           5492
          ],
          [
           "Magarpatta",
           5412
          ],
          [
           "17th & Lorraine",
           5231
          ],
          [
           "New Orleans Marriott Convention Ctr",
           4975
          ],
          [
           "Safeway - Cottage Grove #1458",
           4862
          ],
          [
           "Mariemont/The Strand",
           4833
          ],
          [
           "Anna Nagar",
           4800
          ],
          [
           "Safeway-Hilo #2893",
           4638
          ],
          [
           "Safeway - Fort Mohave #1474",
           4610
          ],
          [
           "Cobbs Ford Road",
           4603
          ],
          [
           "Harp's Marketplace #91",
           4585
          ],
          [
           "Keaunui & Ft Weaver",
           4512
          ],
          [
           "N Decatur & Church",
           4501
          ],
          [
           "Keith & 1st",
           4486
          ],
          [
           "Numgambakkam",
           4331
          ],
          [
           "Truman & Maclay",
           4331
          ],
          [
           "Sadashiv Nagar",
           4296
          ],
          [
           "Sangam Solitaire",
           4112
          ],
          [
           "Target Cleveland T-2367",
           4110
          ],
          [
           "19th & Telephone",
           4056
          ],
          [
           "Billerica",
           4054
          ],
          [
           "71 & Hasler",
           4049
          ],
          [
           "Banjara Hills",
           3979
          ],
          [
           "HUDA Metro Station",
           3970
          ],
          [
           "Goregaon East - Oberoi Mall",
           3937
          ],
          [
           "Saket",
           3917
          ],
          [
           "Koramangala",
           3760
          ],
          [
           "DCA B35",
           3698
          ],
          [
           "Philadelphia Premium Outlets",
           3684
          ],
          [
           "Quakertown",
           3683
          ],
          [
           "Hauz Khas",
           3390
          ],
          [
           "US Hwy 11 & I-459",
           3365
          ],
          [
           "29th & Air Depot",
           3350
          ],
          [
           "Greenwood Park Mall",
           3329
          ],
          [
           "Safeway-Palmer #1739",
           3327
          ],
          [
           "Bandra West - Chapel road",
           3323
          ],
          [
           "Bonita & San Dimas, San Dimas",
           3200
          ],
          [
           "Malleswaram - Orion Mall",
           3071
          ],
          [
           "U of Cincinnati Student Life Ctr",
           2989
          ],
          [
           "Smiths Brigham City #178",
           2970
          ],
          [
           "Jefferson & Interstate",
           2919
          ],
          [
           "Promenade & New Hope",
           2913
          ],
          [
           "Teavana - Walden Galleria",
           2730
          ],
          [
           "Houston Levee & Winchester",
           2605
          ],
          [
           "Fred Meyer - Wasilla #653",
           2602
          ],
          [
           "Safeway-Rehoboth Beach #2706",
           2574
          ],
          [
           "Kimberly & Middle Rd",
           2537
          ],
          [
           "Aramark @ U of Alabama Paul W Bryan",
           2427
          ],
          [
           "10620 Parallel Prkwy-KCK Speedway",
           2403
          ],
          [
           "Castleton Square Mall Kiosk",
           2347
          ],
          [
           "Providence Crossing- Cedar City",
           2338
          ],
          [
           "Ridley's Family Markets - Eagle Mou",
           2192
          ],
          [
           "Teavana - Greenwood Park",
           2078
          ],
          [
           "Ala Moana & Coral",
           1949
          ],
          [
           "SR 135 & Faith",
           1906
          ],
          [
           "Pitampura",
           1814
          ],
          [
           "South Neil & Carriage Center",
           1808
          ],
          [
           "Dillons - Hutchinson #97",
           1765
          ],
          [
           "Target Highland T-731",
           1763
          ],
          [
           "Cleveland Hwy & North By-Pass",
           1627
          ],
          [
           "Prince Kuhio Plaza Mall",
           1528
          ],
          [
           "Palmdale & Hwy 395",
           1442
          ],
          [
           "Super Target Ankeny ST-1767",
           1347
          ],
          [
           "Chhatrapati Shivaji Intnl-T2Arrival",
           1258
          ],
          [
           "Copper Mtn Village Mountain Plaza",
           1223
          ],
          [
           "Kukatpally",
           1156
          ],
          [
           "Universiy of Central Oklahoma",
           1128
          ],
          [
           "Kroger - Shreveport #533",
           1119
          ],
          [
           "JP Nagar",
           1002
          ]
         ],
         "type": "scattergeo"
        }
       ],
       "layout": {
        "geo": {
         "coastlinecolor": "White",
         "resolution": 110,
         "scope": "world",
         "showcoastlines": true
        },
        "height": 500,
        "template": {
         "data": {
          "bar": [
           {
            "error_x": {
             "color": "#2a3f5f"
            },
            "error_y": {
             "color": "#2a3f5f"
            },
            "marker": {
             "line": {
              "color": "#E5ECF6",
              "width": 0.5
             },
             "pattern": {
              "fillmode": "overlay",
              "size": 10,
              "solidity": 0.2
             }
            },
            "type": "bar"
           }
          ],
          "barpolar": [
           {
            "marker": {
             "line": {
              "color": "#E5ECF6",
              "width": 0.5
             },
             "pattern": {
              "fillmode": "overlay",
              "size": 10,
              "solidity": 0.2
             }
            },
            "type": "barpolar"
           }
          ],
          "carpet": [
           {
            "aaxis": {
             "endlinecolor": "#2a3f5f",
             "gridcolor": "white",
             "linecolor": "white",
             "minorgridcolor": "white",
             "startlinecolor": "#2a3f5f"
            },
            "baxis": {
             "endlinecolor": "#2a3f5f",
             "gridcolor": "white",
             "linecolor": "white",
             "minorgridcolor": "white",
             "startlinecolor": "#2a3f5f"
            },
            "type": "carpet"
           }
          ],
          "choropleth": [
           {
            "colorbar": {
             "outlinewidth": 0,
             "ticks": ""
            },
            "type": "choropleth"
           }
          ],
          "contour": [
           {
            "colorbar": {
             "outlinewidth": 0,
             "ticks": ""
            },
            "colorscale": [
             [
              0,
              "#0d0887"
             ],
             [
              0.1111111111111111,
              "#46039f"
             ],
             [
              0.2222222222222222,
              "#7201a8"
             ],
             [
              0.3333333333333333,
              "#9c179e"
             ],
             [
              0.4444444444444444,
              "#bd3786"
             ],
             [
              0.5555555555555556,
              "#d8576b"
             ],
             [
              0.6666666666666666,
              "#ed7953"
             ],
             [
              0.7777777777777778,
              "#fb9f3a"
             ],
             [
              0.8888888888888888,
              "#fdca26"
             ],
             [
              1,
              "#f0f921"
             ]
            ],
            "type": "contour"
           }
          ],
          "contourcarpet": [
           {
            "colorbar": {
             "outlinewidth": 0,
             "ticks": ""
            },
            "type": "contourcarpet"
           }
          ],
          "heatmap": [
           {
            "colorbar": {
             "outlinewidth": 0,
             "ticks": ""
            },
            "colorscale": [
             [
              0,
              "#0d0887"
             ],
             [
              0.1111111111111111,
              "#46039f"
             ],
             [
              0.2222222222222222,
              "#7201a8"
             ],
             [
              0.3333333333333333,
              "#9c179e"
             ],
             [
              0.4444444444444444,
              "#bd3786"
             ],
             [
              0.5555555555555556,
              "#d8576b"
             ],
             [
              0.6666666666666666,
              "#ed7953"
             ],
             [
              0.7777777777777778,
              "#fb9f3a"
             ],
             [
              0.8888888888888888,
              "#fdca26"
             ],
             [
              1,
              "#f0f921"
             ]
            ],
            "type": "heatmap"
           }
          ],
          "heatmapgl": [
           {
            "colorbar": {
             "outlinewidth": 0,
             "ticks": ""
            },
            "colorscale": [
             [
              0,
              "#0d0887"
             ],
             [
              0.1111111111111111,
              "#46039f"
             ],
             [
              0.2222222222222222,
              "#7201a8"
             ],
             [
              0.3333333333333333,
              "#9c179e"
             ],
             [
              0.4444444444444444,
              "#bd3786"
             ],
             [
              0.5555555555555556,
              "#d8576b"
             ],
             [
              0.6666666666666666,
              "#ed7953"
             ],
             [
              0.7777777777777778,
              "#fb9f3a"
             ],
             [
              0.8888888888888888,
              "#fdca26"
             ],
             [
              1,
              "#f0f921"
             ]
            ],
            "type": "heatmapgl"
           }
          ],
          "histogram": [
           {
            "marker": {
             "pattern": {
              "fillmode": "overlay",
              "size": 10,
              "solidity": 0.2
             }
            },
            "type": "histogram"
           }
          ],
          "histogram2d": [
           {
            "colorbar": {
             "outlinewidth": 0,
             "ticks": ""
            },
            "colorscale": [
             [
              0,
              "#0d0887"
             ],
             [
              0.1111111111111111,
              "#46039f"
             ],
             [
              0.2222222222222222,
              "#7201a8"
             ],
             [
              0.3333333333333333,
              "#9c179e"
             ],
             [
              0.4444444444444444,
              "#bd3786"
             ],
             [
              0.5555555555555556,
              "#d8576b"
             ],
             [
              0.6666666666666666,
              "#ed7953"
             ],
             [
              0.7777777777777778,
              "#fb9f3a"
             ],
             [
              0.8888888888888888,
              "#fdca26"
             ],
             [
              1,
              "#f0f921"
             ]
            ],
            "type": "histogram2d"
           }
          ],
          "histogram2dcontour": [
           {
            "colorbar": {
             "outlinewidth": 0,
             "ticks": ""
            },
            "colorscale": [
             [
              0,
              "#0d0887"
             ],
             [
              0.1111111111111111,
              "#46039f"
             ],
             [
              0.2222222222222222,
              "#7201a8"
             ],
             [
              0.3333333333333333,
              "#9c179e"
             ],
             [
              0.4444444444444444,
              "#bd3786"
             ],
             [
              0.5555555555555556,
              "#d8576b"
             ],
             [
              0.6666666666666666,
              "#ed7953"
             ],
             [
              0.7777777777777778,
              "#fb9f3a"
             ],
             [
              0.8888888888888888,
              "#fdca26"
             ],
             [
              1,
              "#f0f921"
             ]
            ],
            "type": "histogram2dcontour"
           }
          ],
          "mesh3d": [
           {
            "colorbar": {
             "outlinewidth": 0,
             "ticks": ""
            },
            "type": "mesh3d"
           }
          ],
          "parcoords": [
           {
            "line": {
             "colorbar": {
              "outlinewidth": 0,
              "ticks": ""
             }
            },
            "type": "parcoords"
           }
          ],
          "pie": [
           {
            "automargin": true,
            "type": "pie"
           }
          ],
          "scatter": [
           {
            "fillpattern": {
             "fillmode": "overlay",
             "size": 10,
             "solidity": 0.2
            },
            "type": "scatter"
           }
          ],
          "scatter3d": [
           {
            "line": {
             "colorbar": {
              "outlinewidth": 0,
              "ticks": ""
             }
            },
            "marker": {
             "colorbar": {
              "outlinewidth": 0,
              "ticks": ""
             }
            },
            "type": "scatter3d"
           }
          ],
          "scattercarpet": [
           {
            "marker": {
             "colorbar": {
              "outlinewidth": 0,
              "ticks": ""
             }
            },
            "type": "scattercarpet"
           }
          ],
          "scattergeo": [
           {
            "marker": {
             "colorbar": {
              "outlinewidth": 0,
              "ticks": ""
             }
            },
            "type": "scattergeo"
           }
          ],
          "scattergl": [
           {
            "marker": {
             "colorbar": {
              "outlinewidth": 0,
              "ticks": ""
             }
            },
            "type": "scattergl"
           }
          ],
          "scattermapbox": [
           {
            "marker": {
             "colorbar": {
              "outlinewidth": 0,
              "ticks": ""
             }
            },
            "type": "scattermapbox"
           }
          ],
          "scatterpolar": [
           {
            "marker": {
             "colorbar": {
              "outlinewidth": 0,
              "ticks": ""
             }
            },
            "type": "scatterpolar"
           }
          ],
          "scatterpolargl": [
           {
            "marker": {
             "colorbar": {
              "outlinewidth": 0,
              "ticks": ""
             }
            },
            "type": "scatterpolargl"
           }
          ],
          "scatterternary": [
           {
            "marker": {
             "colorbar": {
              "outlinewidth": 0,
              "ticks": ""
             }
            },
            "type": "scatterternary"
           }
          ],
          "surface": [
           {
            "colorbar": {
             "outlinewidth": 0,
             "ticks": ""
            },
            "colorscale": [
             [
              0,
              "#0d0887"
             ],
             [
              0.1111111111111111,
              "#46039f"
             ],
             [
              0.2222222222222222,
              "#7201a8"
             ],
             [
              0.3333333333333333,
              "#9c179e"
             ],
             [
              0.4444444444444444,
              "#bd3786"
             ],
             [
              0.5555555555555556,
              "#d8576b"
             ],
             [
              0.6666666666666666,
              "#ed7953"
             ],
             [
              0.7777777777777778,
              "#fb9f3a"
             ],
             [
              0.8888888888888888,
              "#fdca26"
             ],
             [
              1,
              "#f0f921"
             ]
            ],
            "type": "surface"
           }
          ],
          "table": [
           {
            "cells": {
             "fill": {
              "color": "#EBF0F8"
             },
             "line": {
              "color": "white"
             }
            },
            "header": {
             "fill": {
              "color": "#C8D4E3"
             },
             "line": {
              "color": "white"
             }
            },
            "type": "table"
           }
          ]
         },
         "layout": {
          "annotationdefaults": {
           "arrowcolor": "#2a3f5f",
           "arrowhead": 0,
           "arrowwidth": 1
          },
          "autotypenumbers": "strict",
          "coloraxis": {
           "colorbar": {
            "outlinewidth": 0,
            "ticks": ""
           }
          },
          "colorscale": {
           "diverging": [
            [
             0,
             "#8e0152"
            ],
            [
             0.1,
             "#c51b7d"
            ],
            [
             0.2,
             "#de77ae"
            ],
            [
             0.3,
             "#f1b6da"
            ],
            [
             0.4,
             "#fde0ef"
            ],
            [
             0.5,
             "#f7f7f7"
            ],
            [
             0.6,
             "#e6f5d0"
            ],
            [
             0.7,
             "#b8e186"
            ],
            [
             0.8,
             "#7fbc41"
            ],
            [
             0.9,
             "#4d9221"
            ],
            [
             1,
             "#276419"
            ]
           ],
           "sequential": [
            [
             0,
             "#0d0887"
            ],
            [
             0.1111111111111111,
             "#46039f"
            ],
            [
             0.2222222222222222,
             "#7201a8"
            ],
            [
             0.3333333333333333,
             "#9c179e"
            ],
            [
             0.4444444444444444,
             "#bd3786"
            ],
            [
             0.5555555555555556,
             "#d8576b"
            ],
            [
             0.6666666666666666,
             "#ed7953"
            ],
            [
             0.7777777777777778,
             "#fb9f3a"
            ],
            [
             0.8888888888888888,
             "#fdca26"
            ],
            [
             1,
             "#f0f921"
            ]
           ],
           "sequentialminus": [
            [
             0,
             "#0d0887"
            ],
            [
             0.1111111111111111,
             "#46039f"
            ],
            [
             0.2222222222222222,
             "#7201a8"
            ],
            [
             0.3333333333333333,
             "#9c179e"
            ],
            [
             0.4444444444444444,
             "#bd3786"
            ],
            [
             0.5555555555555556,
             "#d8576b"
            ],
            [
             0.6666666666666666,
             "#ed7953"
            ],
            [
             0.7777777777777778,
             "#fb9f3a"
            ],
            [
             0.8888888888888888,
             "#fdca26"
            ],
            [
             1,
             "#f0f921"
            ]
           ]
          },
          "colorway": [
           "#636efa",
           "#EF553B",
           "#00cc96",
           "#ab63fa",
           "#FFA15A",
           "#19d3f3",
           "#FF6692",
           "#B6E880",
           "#FF97FF",
           "#FECB52"
          ],
          "font": {
           "color": "#2a3f5f"
          },
          "geo": {
           "bgcolor": "white",
           "lakecolor": "white",
           "landcolor": "#E5ECF6",
           "showlakes": true,
           "showland": true,
           "subunitcolor": "white"
          },
          "hoverlabel": {
           "align": "left"
          },
          "hovermode": "closest",
          "mapbox": {
           "style": "light"
          },
          "paper_bgcolor": "white",
          "plot_bgcolor": "#E5ECF6",
          "polar": {
           "angularaxis": {
            "gridcolor": "white",
            "linecolor": "white",
            "ticks": ""
           },
           "bgcolor": "#E5ECF6",
           "radialaxis": {
            "gridcolor": "white",
            "linecolor": "white",
            "ticks": ""
           }
          },
          "scene": {
           "xaxis": {
            "backgroundcolor": "#E5ECF6",
            "gridcolor": "white",
            "gridwidth": 2,
            "linecolor": "white",
            "showbackground": true,
            "ticks": "",
            "zerolinecolor": "white"
           },
           "yaxis": {
            "backgroundcolor": "#E5ECF6",
            "gridcolor": "white",
            "gridwidth": 2,
            "linecolor": "white",
            "showbackground": true,
            "ticks": "",
            "zerolinecolor": "white"
           },
           "zaxis": {
            "backgroundcolor": "#E5ECF6",
            "gridcolor": "white",
            "gridwidth": 2,
            "linecolor": "white",
            "showbackground": true,
            "ticks": "",
            "zerolinecolor": "white"
           }
          },
          "shapedefaults": {
           "line": {
            "color": "#2a3f5f"
           }
          },
          "ternary": {
           "aaxis": {
            "gridcolor": "white",
            "linecolor": "white",
            "ticks": ""
           },
           "baxis": {
            "gridcolor": "white",
            "linecolor": "white",
            "ticks": ""
           },
           "bgcolor": "#E5ECF6",
           "caxis": {
            "gridcolor": "white",
            "linecolor": "white",
            "ticks": ""
           }
          },
          "title": {
           "x": 0.05
          },
          "xaxis": {
           "automargin": true,
           "gridcolor": "white",
           "linecolor": "white",
           "ticks": "",
           "title": {
            "standoff": 15
           },
           "zerolinecolor": "white",
           "zerolinewidth": 2
          },
          "yaxis": {
           "automargin": true,
           "gridcolor": "white",
           "linecolor": "white",
           "ticks": "",
           "title": {
            "standoff": 15
           },
           "zerolinecolor": "white",
           "zerolinewidth": 2
          }
         }
        },
        "title": {
         "text": "Top 10 Outlets Having Highest Number of Customers",
         "x": 0.5
        },
        "width": 1000
       }
      }
     },
     "metadata": {},
     "output_type": "display_data"
    }
   ],
   "source": [
    "# Initiate an empty figure\n",
    "fig = go.Figure()\n",
    "\n",
    "# Add a trace of scattergeo to the figure\n",
    "fig.add_trace(trace=go.Scattergeo(lon=top10outletscust['Longitude'], \n",
    "                                  lat=top10outletscust['Latitude'], \n",
    "                                  text=top10outletscust[['Store_Name', 'Customers']],\n",
    "                                  marker=dict(size=top10outletscust['Customers'] / 2000, \n",
    "                                              color='Purple')))\n",
    "\n",
    "# Update the layout with some cosmetics\n",
    "fig.update_layout(height=500, \n",
    "                  width=1000, \n",
    "                  title_text='Top 10 Outlets Having Highest Number of Customers', \n",
    "                  title_x=0.5,\n",
    "                  geo=dict(scope='world', \n",
    "                           resolution=110, \n",
    "                           showcoastlines=True,\n",
    "                           coastlinecolor='White'))\n",
    "\n",
    "# Display the figure\n",
    "fig.show()"
   ]
  },
  {
   "cell_type": "code",
   "execution_count": 20,
   "metadata": {},
   "outputs": [
    {
     "data": {
      "application/vnd.plotly.v1+json": {
       "config": {
        "plotlyServerURL": "https://plot.ly"
       },
       "data": [
        {
         "orientation": "h",
         "type": "bar",
         "x": [
          "Hot Beverages",
          "Breakfast",
          "Cold Beverages",
          "Smoothies & Shakes",
          "Chicken & Fish",
          "Desserts",
          "Snacks & Sides",
          "Beef & Pork",
          "Sandwiches and Wraps",
          "Salads",
          "Condiments",
          "New Products",
          "Nuggets",
          "Chicken Wings"
         ],
         "y": [
          "Hot Beverages",
          "Breakfast",
          "Cold Beverages",
          "Smoothies & Shakes",
          "Chicken & Fish",
          "Desserts",
          "Snacks & Sides",
          "Beef & Pork",
          "Sandwiches and Wraps",
          "Salads",
          "Condiments",
          "New Products",
          "Nuggets",
          "Chicken Wings"
         ]
        }
       ],
       "layout": {
        "height": 500,
        "template": {
         "data": {
          "bar": [
           {
            "error_x": {
             "color": "#2a3f5f"
            },
            "error_y": {
             "color": "#2a3f5f"
            },
            "marker": {
             "line": {
              "color": "#E5ECF6",
              "width": 0.5
             },
             "pattern": {
              "fillmode": "overlay",
              "size": 10,
              "solidity": 0.2
             }
            },
            "type": "bar"
           }
          ],
          "barpolar": [
           {
            "marker": {
             "line": {
              "color": "#E5ECF6",
              "width": 0.5
             },
             "pattern": {
              "fillmode": "overlay",
              "size": 10,
              "solidity": 0.2
             }
            },
            "type": "barpolar"
           }
          ],
          "carpet": [
           {
            "aaxis": {
             "endlinecolor": "#2a3f5f",
             "gridcolor": "white",
             "linecolor": "white",
             "minorgridcolor": "white",
             "startlinecolor": "#2a3f5f"
            },
            "baxis": {
             "endlinecolor": "#2a3f5f",
             "gridcolor": "white",
             "linecolor": "white",
             "minorgridcolor": "white",
             "startlinecolor": "#2a3f5f"
            },
            "type": "carpet"
           }
          ],
          "choropleth": [
           {
            "colorbar": {
             "outlinewidth": 0,
             "ticks": ""
            },
            "type": "choropleth"
           }
          ],
          "contour": [
           {
            "colorbar": {
             "outlinewidth": 0,
             "ticks": ""
            },
            "colorscale": [
             [
              0,
              "#0d0887"
             ],
             [
              0.1111111111111111,
              "#46039f"
             ],
             [
              0.2222222222222222,
              "#7201a8"
             ],
             [
              0.3333333333333333,
              "#9c179e"
             ],
             [
              0.4444444444444444,
              "#bd3786"
             ],
             [
              0.5555555555555556,
              "#d8576b"
             ],
             [
              0.6666666666666666,
              "#ed7953"
             ],
             [
              0.7777777777777778,
              "#fb9f3a"
             ],
             [
              0.8888888888888888,
              "#fdca26"
             ],
             [
              1,
              "#f0f921"
             ]
            ],
            "type": "contour"
           }
          ],
          "contourcarpet": [
           {
            "colorbar": {
             "outlinewidth": 0,
             "ticks": ""
            },
            "type": "contourcarpet"
           }
          ],
          "heatmap": [
           {
            "colorbar": {
             "outlinewidth": 0,
             "ticks": ""
            },
            "colorscale": [
             [
              0,
              "#0d0887"
             ],
             [
              0.1111111111111111,
              "#46039f"
             ],
             [
              0.2222222222222222,
              "#7201a8"
             ],
             [
              0.3333333333333333,
              "#9c179e"
             ],
             [
              0.4444444444444444,
              "#bd3786"
             ],
             [
              0.5555555555555556,
              "#d8576b"
             ],
             [
              0.6666666666666666,
              "#ed7953"
             ],
             [
              0.7777777777777778,
              "#fb9f3a"
             ],
             [
              0.8888888888888888,
              "#fdca26"
             ],
             [
              1,
              "#f0f921"
             ]
            ],
            "type": "heatmap"
           }
          ],
          "heatmapgl": [
           {
            "colorbar": {
             "outlinewidth": 0,
             "ticks": ""
            },
            "colorscale": [
             [
              0,
              "#0d0887"
             ],
             [
              0.1111111111111111,
              "#46039f"
             ],
             [
              0.2222222222222222,
              "#7201a8"
             ],
             [
              0.3333333333333333,
              "#9c179e"
             ],
             [
              0.4444444444444444,
              "#bd3786"
             ],
             [
              0.5555555555555556,
              "#d8576b"
             ],
             [
              0.6666666666666666,
              "#ed7953"
             ],
             [
              0.7777777777777778,
              "#fb9f3a"
             ],
             [
              0.8888888888888888,
              "#fdca26"
             ],
             [
              1,
              "#f0f921"
             ]
            ],
            "type": "heatmapgl"
           }
          ],
          "histogram": [
           {
            "marker": {
             "pattern": {
              "fillmode": "overlay",
              "size": 10,
              "solidity": 0.2
             }
            },
            "type": "histogram"
           }
          ],
          "histogram2d": [
           {
            "colorbar": {
             "outlinewidth": 0,
             "ticks": ""
            },
            "colorscale": [
             [
              0,
              "#0d0887"
             ],
             [
              0.1111111111111111,
              "#46039f"
             ],
             [
              0.2222222222222222,
              "#7201a8"
             ],
             [
              0.3333333333333333,
              "#9c179e"
             ],
             [
              0.4444444444444444,
              "#bd3786"
             ],
             [
              0.5555555555555556,
              "#d8576b"
             ],
             [
              0.6666666666666666,
              "#ed7953"
             ],
             [
              0.7777777777777778,
              "#fb9f3a"
             ],
             [
              0.8888888888888888,
              "#fdca26"
             ],
             [
              1,
              "#f0f921"
             ]
            ],
            "type": "histogram2d"
           }
          ],
          "histogram2dcontour": [
           {
            "colorbar": {
             "outlinewidth": 0,
             "ticks": ""
            },
            "colorscale": [
             [
              0,
              "#0d0887"
             ],
             [
              0.1111111111111111,
              "#46039f"
             ],
             [
              0.2222222222222222,
              "#7201a8"
             ],
             [
              0.3333333333333333,
              "#9c179e"
             ],
             [
              0.4444444444444444,
              "#bd3786"
             ],
             [
              0.5555555555555556,
              "#d8576b"
             ],
             [
              0.6666666666666666,
              "#ed7953"
             ],
             [
              0.7777777777777778,
              "#fb9f3a"
             ],
             [
              0.8888888888888888,
              "#fdca26"
             ],
             [
              1,
              "#f0f921"
             ]
            ],
            "type": "histogram2dcontour"
           }
          ],
          "mesh3d": [
           {
            "colorbar": {
             "outlinewidth": 0,
             "ticks": ""
            },
            "type": "mesh3d"
           }
          ],
          "parcoords": [
           {
            "line": {
             "colorbar": {
              "outlinewidth": 0,
              "ticks": ""
             }
            },
            "type": "parcoords"
           }
          ],
          "pie": [
           {
            "automargin": true,
            "type": "pie"
           }
          ],
          "scatter": [
           {
            "fillpattern": {
             "fillmode": "overlay",
             "size": 10,
             "solidity": 0.2
            },
            "type": "scatter"
           }
          ],
          "scatter3d": [
           {
            "line": {
             "colorbar": {
              "outlinewidth": 0,
              "ticks": ""
             }
            },
            "marker": {
             "colorbar": {
              "outlinewidth": 0,
              "ticks": ""
             }
            },
            "type": "scatter3d"
           }
          ],
          "scattercarpet": [
           {
            "marker": {
             "colorbar": {
              "outlinewidth": 0,
              "ticks": ""
             }
            },
            "type": "scattercarpet"
           }
          ],
          "scattergeo": [
           {
            "marker": {
             "colorbar": {
              "outlinewidth": 0,
              "ticks": ""
             }
            },
            "type": "scattergeo"
           }
          ],
          "scattergl": [
           {
            "marker": {
             "colorbar": {
              "outlinewidth": 0,
              "ticks": ""
             }
            },
            "type": "scattergl"
           }
          ],
          "scattermapbox": [
           {
            "marker": {
             "colorbar": {
              "outlinewidth": 0,
              "ticks": ""
             }
            },
            "type": "scattermapbox"
           }
          ],
          "scatterpolar": [
           {
            "marker": {
             "colorbar": {
              "outlinewidth": 0,
              "ticks": ""
             }
            },
            "type": "scatterpolar"
           }
          ],
          "scatterpolargl": [
           {
            "marker": {
             "colorbar": {
              "outlinewidth": 0,
              "ticks": ""
             }
            },
            "type": "scatterpolargl"
           }
          ],
          "scatterternary": [
           {
            "marker": {
             "colorbar": {
              "outlinewidth": 0,
              "ticks": ""
             }
            },
            "type": "scatterternary"
           }
          ],
          "surface": [
           {
            "colorbar": {
             "outlinewidth": 0,
             "ticks": ""
            },
            "colorscale": [
             [
              0,
              "#0d0887"
             ],
             [
              0.1111111111111111,
              "#46039f"
             ],
             [
              0.2222222222222222,
              "#7201a8"
             ],
             [
              0.3333333333333333,
              "#9c179e"
             ],
             [
              0.4444444444444444,
              "#bd3786"
             ],
             [
              0.5555555555555556,
              "#d8576b"
             ],
             [
              0.6666666666666666,
              "#ed7953"
             ],
             [
              0.7777777777777778,
              "#fb9f3a"
             ],
             [
              0.8888888888888888,
              "#fdca26"
             ],
             [
              1,
              "#f0f921"
             ]
            ],
            "type": "surface"
           }
          ],
          "table": [
           {
            "cells": {
             "fill": {
              "color": "#EBF0F8"
             },
             "line": {
              "color": "white"
             }
            },
            "header": {
             "fill": {
              "color": "#C8D4E3"
             },
             "line": {
              "color": "white"
             }
            },
            "type": "table"
           }
          ]
         },
         "layout": {
          "annotationdefaults": {
           "arrowcolor": "#2a3f5f",
           "arrowhead": 0,
           "arrowwidth": 1
          },
          "autotypenumbers": "strict",
          "coloraxis": {
           "colorbar": {
            "outlinewidth": 0,
            "ticks": ""
           }
          },
          "colorscale": {
           "diverging": [
            [
             0,
             "#8e0152"
            ],
            [
             0.1,
             "#c51b7d"
            ],
            [
             0.2,
             "#de77ae"
            ],
            [
             0.3,
             "#f1b6da"
            ],
            [
             0.4,
             "#fde0ef"
            ],
            [
             0.5,
             "#f7f7f7"
            ],
            [
             0.6,
             "#e6f5d0"
            ],
            [
             0.7,
             "#b8e186"
            ],
            [
             0.8,
             "#7fbc41"
            ],
            [
             0.9,
             "#4d9221"
            ],
            [
             1,
             "#276419"
            ]
           ],
           "sequential": [
            [
             0,
             "#0d0887"
            ],
            [
             0.1111111111111111,
             "#46039f"
            ],
            [
             0.2222222222222222,
             "#7201a8"
            ],
            [
             0.3333333333333333,
             "#9c179e"
            ],
            [
             0.4444444444444444,
             "#bd3786"
            ],
            [
             0.5555555555555556,
             "#d8576b"
            ],
            [
             0.6666666666666666,
             "#ed7953"
            ],
            [
             0.7777777777777778,
             "#fb9f3a"
            ],
            [
             0.8888888888888888,
             "#fdca26"
            ],
            [
             1,
             "#f0f921"
            ]
           ],
           "sequentialminus": [
            [
             0,
             "#0d0887"
            ],
            [
             0.1111111111111111,
             "#46039f"
            ],
            [
             0.2222222222222222,
             "#7201a8"
            ],
            [
             0.3333333333333333,
             "#9c179e"
            ],
            [
             0.4444444444444444,
             "#bd3786"
            ],
            [
             0.5555555555555556,
             "#d8576b"
            ],
            [
             0.6666666666666666,
             "#ed7953"
            ],
            [
             0.7777777777777778,
             "#fb9f3a"
            ],
            [
             0.8888888888888888,
             "#fdca26"
            ],
            [
             1,
             "#f0f921"
            ]
           ]
          },
          "colorway": [
           "#636efa",
           "#EF553B",
           "#00cc96",
           "#ab63fa",
           "#FFA15A",
           "#19d3f3",
           "#FF6692",
           "#B6E880",
           "#FF97FF",
           "#FECB52"
          ],
          "font": {
           "color": "#2a3f5f"
          },
          "geo": {
           "bgcolor": "white",
           "lakecolor": "white",
           "landcolor": "#E5ECF6",
           "showlakes": true,
           "showland": true,
           "subunitcolor": "white"
          },
          "hoverlabel": {
           "align": "left"
          },
          "hovermode": "closest",
          "mapbox": {
           "style": "light"
          },
          "paper_bgcolor": "white",
          "plot_bgcolor": "#E5ECF6",
          "polar": {
           "angularaxis": {
            "gridcolor": "white",
            "linecolor": "white",
            "ticks": ""
           },
           "bgcolor": "#E5ECF6",
           "radialaxis": {
            "gridcolor": "white",
            "linecolor": "white",
            "ticks": ""
           }
          },
          "scene": {
           "xaxis": {
            "backgroundcolor": "#E5ECF6",
            "gridcolor": "white",
            "gridwidth": 2,
            "linecolor": "white",
            "showbackground": true,
            "ticks": "",
            "zerolinecolor": "white"
           },
           "yaxis": {
            "backgroundcolor": "#E5ECF6",
            "gridcolor": "white",
            "gridwidth": 2,
            "linecolor": "white",
            "showbackground": true,
            "ticks": "",
            "zerolinecolor": "white"
           },
           "zaxis": {
            "backgroundcolor": "#E5ECF6",
            "gridcolor": "white",
            "gridwidth": 2,
            "linecolor": "white",
            "showbackground": true,
            "ticks": "",
            "zerolinecolor": "white"
           }
          },
          "shapedefaults": {
           "line": {
            "color": "#2a3f5f"
           }
          },
          "ternary": {
           "aaxis": {
            "gridcolor": "white",
            "linecolor": "white",
            "ticks": ""
           },
           "baxis": {
            "gridcolor": "white",
            "linecolor": "white",
            "ticks": ""
           },
           "bgcolor": "#E5ECF6",
           "caxis": {
            "gridcolor": "white",
            "linecolor": "white",
            "ticks": ""
           }
          },
          "title": {
           "x": 0.05
          },
          "xaxis": {
           "automargin": true,
           "gridcolor": "white",
           "linecolor": "white",
           "ticks": "",
           "title": {
            "standoff": 15
           },
           "zerolinecolor": "white",
           "zerolinewidth": 2
          },
          "yaxis": {
           "automargin": true,
           "gridcolor": "white",
           "linecolor": "white",
           "ticks": "",
           "title": {
            "standoff": 15
           },
           "zerolinecolor": "white",
           "zerolinewidth": 2
          }
         }
        },
        "title": {
         "text": "Frequency Distribution of Menu Category",
         "x": 0.5
        },
        "width": 1000,
        "xaxis": {
         "title": {
          "text": "Frequency"
         }
        },
        "yaxis": {
         "title": {
          "text": "Category"
         }
        }
       }
      }
     },
     "metadata": {},
     "output_type": "display_data"
    }
   ],
   "source": [
    "#Nutrition based analysis\n",
    "labels = data['Category'].value_counts().index\n",
    "values = data['Category'].value_counts().index\n",
    "# Initiate an empty figure\n",
    "fig = go.Figure()\n",
    "\n",
    "# Add a trace of bar to the figure\n",
    "fig.add_trace(trace=go.Bar(x=values, \n",
    "                           y=labels, \n",
    "                           orientation='h'))\n",
    "\n",
    "# Update the layout with some cosmetics\n",
    "fig.update_layout(height=500, \n",
    "                  width=1000, \n",
    "                  title_text='Frequency Distribution of Menu Category', \n",
    "                  title_x=0.5, \n",
    "                  xaxis_title='Frequency', \n",
    "                  yaxis_title='Category')\n",
    "\n",
    "# Display the figure\n",
    "fig.show()"
   ]
  },
  {
   "cell_type": "code",
   "execution_count": 21,
   "metadata": {},
   "outputs": [
    {
     "data": {
      "application/vnd.plotly.v1+json": {
       "config": {
        "plotlyServerURL": "https://plot.ly"
       },
       "data": [
        {
         "marker": {
          "color": "rgba(246, 78, 139, 0.6)",
          "line": {
           "color": "rgba(246, 78, 139, 1.0)",
           "width": 3
          }
         },
         "orientation": "h",
         "type": "bar",
         "x": [
          "Condiments",
          "Cold Beverages",
          "Desserts",
          "Salads",
          "Hot Beverages",
          "Nuggets",
          "Snacks & Sides",
          "New Products",
          "Chicken Wings",
          "Smoothies & Shakes",
          "Beef & Pork",
          "Breakfast",
          "Sandwiches and Wraps",
          "Chicken & Fish"
         ],
         "y": [
          "Condiments",
          "Cold Beverages",
          "Desserts",
          "Salads",
          "Hot Beverages",
          "Nuggets",
          "Snacks & Sides",
          "New Products",
          "Chicken Wings",
          "Smoothies & Shakes",
          "Beef & Pork",
          "Breakfast",
          "Sandwiches and Wraps",
          "Chicken & Fish"
         ]
        }
       ],
       "layout": {
        "height": 500,
        "template": {
         "data": {
          "bar": [
           {
            "error_x": {
             "color": "#2a3f5f"
            },
            "error_y": {
             "color": "#2a3f5f"
            },
            "marker": {
             "line": {
              "color": "#E5ECF6",
              "width": 0.5
             },
             "pattern": {
              "fillmode": "overlay",
              "size": 10,
              "solidity": 0.2
             }
            },
            "type": "bar"
           }
          ],
          "barpolar": [
           {
            "marker": {
             "line": {
              "color": "#E5ECF6",
              "width": 0.5
             },
             "pattern": {
              "fillmode": "overlay",
              "size": 10,
              "solidity": 0.2
             }
            },
            "type": "barpolar"
           }
          ],
          "carpet": [
           {
            "aaxis": {
             "endlinecolor": "#2a3f5f",
             "gridcolor": "white",
             "linecolor": "white",
             "minorgridcolor": "white",
             "startlinecolor": "#2a3f5f"
            },
            "baxis": {
             "endlinecolor": "#2a3f5f",
             "gridcolor": "white",
             "linecolor": "white",
             "minorgridcolor": "white",
             "startlinecolor": "#2a3f5f"
            },
            "type": "carpet"
           }
          ],
          "choropleth": [
           {
            "colorbar": {
             "outlinewidth": 0,
             "ticks": ""
            },
            "type": "choropleth"
           }
          ],
          "contour": [
           {
            "colorbar": {
             "outlinewidth": 0,
             "ticks": ""
            },
            "colorscale": [
             [
              0,
              "#0d0887"
             ],
             [
              0.1111111111111111,
              "#46039f"
             ],
             [
              0.2222222222222222,
              "#7201a8"
             ],
             [
              0.3333333333333333,
              "#9c179e"
             ],
             [
              0.4444444444444444,
              "#bd3786"
             ],
             [
              0.5555555555555556,
              "#d8576b"
             ],
             [
              0.6666666666666666,
              "#ed7953"
             ],
             [
              0.7777777777777778,
              "#fb9f3a"
             ],
             [
              0.8888888888888888,
              "#fdca26"
             ],
             [
              1,
              "#f0f921"
             ]
            ],
            "type": "contour"
           }
          ],
          "contourcarpet": [
           {
            "colorbar": {
             "outlinewidth": 0,
             "ticks": ""
            },
            "type": "contourcarpet"
           }
          ],
          "heatmap": [
           {
            "colorbar": {
             "outlinewidth": 0,
             "ticks": ""
            },
            "colorscale": [
             [
              0,
              "#0d0887"
             ],
             [
              0.1111111111111111,
              "#46039f"
             ],
             [
              0.2222222222222222,
              "#7201a8"
             ],
             [
              0.3333333333333333,
              "#9c179e"
             ],
             [
              0.4444444444444444,
              "#bd3786"
             ],
             [
              0.5555555555555556,
              "#d8576b"
             ],
             [
              0.6666666666666666,
              "#ed7953"
             ],
             [
              0.7777777777777778,
              "#fb9f3a"
             ],
             [
              0.8888888888888888,
              "#fdca26"
             ],
             [
              1,
              "#f0f921"
             ]
            ],
            "type": "heatmap"
           }
          ],
          "heatmapgl": [
           {
            "colorbar": {
             "outlinewidth": 0,
             "ticks": ""
            },
            "colorscale": [
             [
              0,
              "#0d0887"
             ],
             [
              0.1111111111111111,
              "#46039f"
             ],
             [
              0.2222222222222222,
              "#7201a8"
             ],
             [
              0.3333333333333333,
              "#9c179e"
             ],
             [
              0.4444444444444444,
              "#bd3786"
             ],
             [
              0.5555555555555556,
              "#d8576b"
             ],
             [
              0.6666666666666666,
              "#ed7953"
             ],
             [
              0.7777777777777778,
              "#fb9f3a"
             ],
             [
              0.8888888888888888,
              "#fdca26"
             ],
             [
              1,
              "#f0f921"
             ]
            ],
            "type": "heatmapgl"
           }
          ],
          "histogram": [
           {
            "marker": {
             "pattern": {
              "fillmode": "overlay",
              "size": 10,
              "solidity": 0.2
             }
            },
            "type": "histogram"
           }
          ],
          "histogram2d": [
           {
            "colorbar": {
             "outlinewidth": 0,
             "ticks": ""
            },
            "colorscale": [
             [
              0,
              "#0d0887"
             ],
             [
              0.1111111111111111,
              "#46039f"
             ],
             [
              0.2222222222222222,
              "#7201a8"
             ],
             [
              0.3333333333333333,
              "#9c179e"
             ],
             [
              0.4444444444444444,
              "#bd3786"
             ],
             [
              0.5555555555555556,
              "#d8576b"
             ],
             [
              0.6666666666666666,
              "#ed7953"
             ],
             [
              0.7777777777777778,
              "#fb9f3a"
             ],
             [
              0.8888888888888888,
              "#fdca26"
             ],
             [
              1,
              "#f0f921"
             ]
            ],
            "type": "histogram2d"
           }
          ],
          "histogram2dcontour": [
           {
            "colorbar": {
             "outlinewidth": 0,
             "ticks": ""
            },
            "colorscale": [
             [
              0,
              "#0d0887"
             ],
             [
              0.1111111111111111,
              "#46039f"
             ],
             [
              0.2222222222222222,
              "#7201a8"
             ],
             [
              0.3333333333333333,
              "#9c179e"
             ],
             [
              0.4444444444444444,
              "#bd3786"
             ],
             [
              0.5555555555555556,
              "#d8576b"
             ],
             [
              0.6666666666666666,
              "#ed7953"
             ],
             [
              0.7777777777777778,
              "#fb9f3a"
             ],
             [
              0.8888888888888888,
              "#fdca26"
             ],
             [
              1,
              "#f0f921"
             ]
            ],
            "type": "histogram2dcontour"
           }
          ],
          "mesh3d": [
           {
            "colorbar": {
             "outlinewidth": 0,
             "ticks": ""
            },
            "type": "mesh3d"
           }
          ],
          "parcoords": [
           {
            "line": {
             "colorbar": {
              "outlinewidth": 0,
              "ticks": ""
             }
            },
            "type": "parcoords"
           }
          ],
          "pie": [
           {
            "automargin": true,
            "type": "pie"
           }
          ],
          "scatter": [
           {
            "fillpattern": {
             "fillmode": "overlay",
             "size": 10,
             "solidity": 0.2
            },
            "type": "scatter"
           }
          ],
          "scatter3d": [
           {
            "line": {
             "colorbar": {
              "outlinewidth": 0,
              "ticks": ""
             }
            },
            "marker": {
             "colorbar": {
              "outlinewidth": 0,
              "ticks": ""
             }
            },
            "type": "scatter3d"
           }
          ],
          "scattercarpet": [
           {
            "marker": {
             "colorbar": {
              "outlinewidth": 0,
              "ticks": ""
             }
            },
            "type": "scattercarpet"
           }
          ],
          "scattergeo": [
           {
            "marker": {
             "colorbar": {
              "outlinewidth": 0,
              "ticks": ""
             }
            },
            "type": "scattergeo"
           }
          ],
          "scattergl": [
           {
            "marker": {
             "colorbar": {
              "outlinewidth": 0,
              "ticks": ""
             }
            },
            "type": "scattergl"
           }
          ],
          "scattermapbox": [
           {
            "marker": {
             "colorbar": {
              "outlinewidth": 0,
              "ticks": ""
             }
            },
            "type": "scattermapbox"
           }
          ],
          "scatterpolar": [
           {
            "marker": {
             "colorbar": {
              "outlinewidth": 0,
              "ticks": ""
             }
            },
            "type": "scatterpolar"
           }
          ],
          "scatterpolargl": [
           {
            "marker": {
             "colorbar": {
              "outlinewidth": 0,
              "ticks": ""
             }
            },
            "type": "scatterpolargl"
           }
          ],
          "scatterternary": [
           {
            "marker": {
             "colorbar": {
              "outlinewidth": 0,
              "ticks": ""
             }
            },
            "type": "scatterternary"
           }
          ],
          "surface": [
           {
            "colorbar": {
             "outlinewidth": 0,
             "ticks": ""
            },
            "colorscale": [
             [
              0,
              "#0d0887"
             ],
             [
              0.1111111111111111,
              "#46039f"
             ],
             [
              0.2222222222222222,
              "#7201a8"
             ],
             [
              0.3333333333333333,
              "#9c179e"
             ],
             [
              0.4444444444444444,
              "#bd3786"
             ],
             [
              0.5555555555555556,
              "#d8576b"
             ],
             [
              0.6666666666666666,
              "#ed7953"
             ],
             [
              0.7777777777777778,
              "#fb9f3a"
             ],
             [
              0.8888888888888888,
              "#fdca26"
             ],
             [
              1,
              "#f0f921"
             ]
            ],
            "type": "surface"
           }
          ],
          "table": [
           {
            "cells": {
             "fill": {
              "color": "#EBF0F8"
             },
             "line": {
              "color": "white"
             }
            },
            "header": {
             "fill": {
              "color": "#C8D4E3"
             },
             "line": {
              "color": "white"
             }
            },
            "type": "table"
           }
          ]
         },
         "layout": {
          "annotationdefaults": {
           "arrowcolor": "#2a3f5f",
           "arrowhead": 0,
           "arrowwidth": 1
          },
          "autotypenumbers": "strict",
          "coloraxis": {
           "colorbar": {
            "outlinewidth": 0,
            "ticks": ""
           }
          },
          "colorscale": {
           "diverging": [
            [
             0,
             "#8e0152"
            ],
            [
             0.1,
             "#c51b7d"
            ],
            [
             0.2,
             "#de77ae"
            ],
            [
             0.3,
             "#f1b6da"
            ],
            [
             0.4,
             "#fde0ef"
            ],
            [
             0.5,
             "#f7f7f7"
            ],
            [
             0.6,
             "#e6f5d0"
            ],
            [
             0.7,
             "#b8e186"
            ],
            [
             0.8,
             "#7fbc41"
            ],
            [
             0.9,
             "#4d9221"
            ],
            [
             1,
             "#276419"
            ]
           ],
           "sequential": [
            [
             0,
             "#0d0887"
            ],
            [
             0.1111111111111111,
             "#46039f"
            ],
            [
             0.2222222222222222,
             "#7201a8"
            ],
            [
             0.3333333333333333,
             "#9c179e"
            ],
            [
             0.4444444444444444,
             "#bd3786"
            ],
            [
             0.5555555555555556,
             "#d8576b"
            ],
            [
             0.6666666666666666,
             "#ed7953"
            ],
            [
             0.7777777777777778,
             "#fb9f3a"
            ],
            [
             0.8888888888888888,
             "#fdca26"
            ],
            [
             1,
             "#f0f921"
            ]
           ],
           "sequentialminus": [
            [
             0,
             "#0d0887"
            ],
            [
             0.1111111111111111,
             "#46039f"
            ],
            [
             0.2222222222222222,
             "#7201a8"
            ],
            [
             0.3333333333333333,
             "#9c179e"
            ],
            [
             0.4444444444444444,
             "#bd3786"
            ],
            [
             0.5555555555555556,
             "#d8576b"
            ],
            [
             0.6666666666666666,
             "#ed7953"
            ],
            [
             0.7777777777777778,
             "#fb9f3a"
            ],
            [
             0.8888888888888888,
             "#fdca26"
            ],
            [
             1,
             "#f0f921"
            ]
           ]
          },
          "colorway": [
           "#636efa",
           "#EF553B",
           "#00cc96",
           "#ab63fa",
           "#FFA15A",
           "#19d3f3",
           "#FF6692",
           "#B6E880",
           "#FF97FF",
           "#FECB52"
          ],
          "font": {
           "color": "#2a3f5f"
          },
          "geo": {
           "bgcolor": "white",
           "lakecolor": "white",
           "landcolor": "#E5ECF6",
           "showlakes": true,
           "showland": true,
           "subunitcolor": "white"
          },
          "hoverlabel": {
           "align": "left"
          },
          "hovermode": "closest",
          "mapbox": {
           "style": "light"
          },
          "paper_bgcolor": "white",
          "plot_bgcolor": "#E5ECF6",
          "polar": {
           "angularaxis": {
            "gridcolor": "white",
            "linecolor": "white",
            "ticks": ""
           },
           "bgcolor": "#E5ECF6",
           "radialaxis": {
            "gridcolor": "white",
            "linecolor": "white",
            "ticks": ""
           }
          },
          "scene": {
           "xaxis": {
            "backgroundcolor": "#E5ECF6",
            "gridcolor": "white",
            "gridwidth": 2,
            "linecolor": "white",
            "showbackground": true,
            "ticks": "",
            "zerolinecolor": "white"
           },
           "yaxis": {
            "backgroundcolor": "#E5ECF6",
            "gridcolor": "white",
            "gridwidth": 2,
            "linecolor": "white",
            "showbackground": true,
            "ticks": "",
            "zerolinecolor": "white"
           },
           "zaxis": {
            "backgroundcolor": "#E5ECF6",
            "gridcolor": "white",
            "gridwidth": 2,
            "linecolor": "white",
            "showbackground": true,
            "ticks": "",
            "zerolinecolor": "white"
           }
          },
          "shapedefaults": {
           "line": {
            "color": "#2a3f5f"
           }
          },
          "ternary": {
           "aaxis": {
            "gridcolor": "white",
            "linecolor": "white",
            "ticks": ""
           },
           "baxis": {
            "gridcolor": "white",
            "linecolor": "white",
            "ticks": ""
           },
           "bgcolor": "#E5ECF6",
           "caxis": {
            "gridcolor": "white",
            "linecolor": "white",
            "ticks": ""
           }
          },
          "title": {
           "x": 0.05
          },
          "xaxis": {
           "automargin": true,
           "gridcolor": "white",
           "linecolor": "white",
           "ticks": "",
           "title": {
            "standoff": 15
           },
           "zerolinecolor": "white",
           "zerolinewidth": 2
          },
          "yaxis": {
           "automargin": true,
           "gridcolor": "white",
           "linecolor": "white",
           "ticks": "",
           "title": {
            "standoff": 15
           },
           "zerolinecolor": "white",
           "zerolinewidth": 2
          }
         }
        },
        "title": {
         "text": "Calories per Category",
         "x": 0.5
        },
        "width": 1000,
        "xaxis": {
         "title": {
          "text": "Frequency"
         }
        },
        "yaxis": {
         "title": {
          "text": "Category"
         }
        }
       }
      }
     },
     "metadata": {},
     "output_type": "display_data"
    }
   ],
   "source": [
    "labels = data.groupby(['Category'])['Energy'].mean().sort_values().index\n",
    "values = data.groupby(['Category'])['Energy'].mean().sort_values().index\n",
    "# Initiate an empty figure\n",
    "fig = go.Figure()\n",
    "\n",
    "# Add a trace of bar to the figure\n",
    "fig.add_trace(trace=go.Bar(x=values, \n",
    "                           y=labels, \n",
    "                           orientation='h', \n",
    "                           marker=dict(color='rgba(246, 78, 139, 0.6)',\n",
    "                                       line=dict(color='rgba(246, 78, 139, 1.0)', \n",
    "                                                 width=3))))\n",
    "\n",
    "# Update the layout with some cosmetics\n",
    "fig.update_layout(height=500, \n",
    "                  width=1000, \n",
    "                  title_text='Calories per Category', \n",
    "                  title_x=0.5,\n",
    "                  xaxis_title='Frequency', \n",
    "                  yaxis_title='Category')\n",
    "\n",
    "# Display the figure\n",
    "fig.show()"
   ]
  },
  {
   "cell_type": "code",
   "execution_count": 22,
   "metadata": {},
   "outputs": [
    {
     "name": "stdout",
     "output_type": "stream",
     "text": [
      "shape of the grilledcrisp datafram (13, 4)\n"
     ]
    },
    {
     "data": {
      "text/html": [
       "<div>\n",
       "<style scoped>\n",
       "    .dataframe tbody tr th:only-of-type {\n",
       "        vertical-align: middle;\n",
       "    }\n",
       "\n",
       "    .dataframe tbody tr th {\n",
       "        vertical-align: top;\n",
       "    }\n",
       "\n",
       "    .dataframe thead th {\n",
       "        text-align: right;\n",
       "    }\n",
       "</style>\n",
       "<table border=\"1\" class=\"dataframe\">\n",
       "  <thead>\n",
       "    <tr style=\"text-align: right;\">\n",
       "      <th></th>\n",
       "      <th>Best_Selling_Item_x</th>\n",
       "      <th>Total_Fat_x</th>\n",
       "      <th>Best_Selling_Item_y</th>\n",
       "      <th>Total_Fat_y</th>\n",
       "    </tr>\n",
       "  </thead>\n",
       "  <tbody>\n",
       "    <tr>\n",
       "      <th>0</th>\n",
       "      <td>Premium Grilled Chicken Classic Sandwich</td>\n",
       "      <td>9.0</td>\n",
       "      <td>Premium Crispy Chicken Classic Sandwich</td>\n",
       "      <td>22.0</td>\n",
       "    </tr>\n",
       "    <tr>\n",
       "      <th>1</th>\n",
       "      <td>Premium Grilled Chicken Club Sandwich</td>\n",
       "      <td>20.0</td>\n",
       "      <td>Premium Crispy Chicken Club Sandwich</td>\n",
       "      <td>33.0</td>\n",
       "    </tr>\n",
       "    <tr>\n",
       "      <th>2</th>\n",
       "      <td>Premium Grilled Chicken Ranch BLT Sandwich</td>\n",
       "      <td>15.0</td>\n",
       "      <td>Premium Crispy Chicken Ranch BLT Sandwich</td>\n",
       "      <td>28.0</td>\n",
       "    </tr>\n",
       "    <tr>\n",
       "      <th>3</th>\n",
       "      <td>Bacon Clubhouse Grilled Chicken Sandwich</td>\n",
       "      <td>25.0</td>\n",
       "      <td>Bacon Clubhouse Crispy Chicken Sandwich</td>\n",
       "      <td>38.0</td>\n",
       "    </tr>\n",
       "    <tr>\n",
       "      <th>4</th>\n",
       "      <td>Premium McWrap Chicken &amp; Bacon (Grilled Chicken)</td>\n",
       "      <td>19.0</td>\n",
       "      <td>Southern Style Crispy Chicken Sandwich</td>\n",
       "      <td>19.0</td>\n",
       "    </tr>\n",
       "    <tr>\n",
       "      <th>5</th>\n",
       "      <td>Premium McWrap Chicken &amp; Ranch (Grilled Chicken)</td>\n",
       "      <td>18.0</td>\n",
       "      <td>Premium McWrap Chicken &amp; Bacon (Crispy Chicken)</td>\n",
       "      <td>32.0</td>\n",
       "    </tr>\n",
       "    <tr>\n",
       "      <th>6</th>\n",
       "      <td>Premium McWrap Southwest Chicken (Grilled Chicken)</td>\n",
       "      <td>20.0</td>\n",
       "      <td>Premium McWrap Chicken &amp; Ranch (Crispy Chicken)</td>\n",
       "      <td>31.0</td>\n",
       "    </tr>\n",
       "    <tr>\n",
       "      <th>7</th>\n",
       "      <td>Premium McWrap Chicken Sweet Chili (Grilled Chicken)</td>\n",
       "      <td>10.0</td>\n",
       "      <td>Premium McWrap Southwest Chicken (Crispy Chicken)</td>\n",
       "      <td>33.0</td>\n",
       "    </tr>\n",
       "    <tr>\n",
       "      <th>8</th>\n",
       "      <td>Premium Bacon Ranch Salad with Grilled Chicken</td>\n",
       "      <td>8.0</td>\n",
       "      <td>Premium McWrap Chicken Sweet Chili (Crispy Chicken)</td>\n",
       "      <td>23.0</td>\n",
       "    </tr>\n",
       "    <tr>\n",
       "      <th>9</th>\n",
       "      <td>Premium Southwest Salad with Grilled Chicken</td>\n",
       "      <td>8.0</td>\n",
       "      <td>Premium Bacon Ranch Salad with Crispy Chicken</td>\n",
       "      <td>21.0</td>\n",
       "    </tr>\n",
       "    <tr>\n",
       "      <th>10</th>\n",
       "      <td>Chipotle BBQ Snack Wrap (Grilled Chicken)</td>\n",
       "      <td>8.0</td>\n",
       "      <td>Premium Southwest Salad with Crispy Chicken</td>\n",
       "      <td>22.0</td>\n",
       "    </tr>\n",
       "    <tr>\n",
       "      <th>11</th>\n",
       "      <td>Honey Mustard Snack Wrap (Grilled Chicken)</td>\n",
       "      <td>8.0</td>\n",
       "      <td>Chipotle BBQ Snack Wrap (Crispy Chicken)</td>\n",
       "      <td>15.0</td>\n",
       "    </tr>\n",
       "    <tr>\n",
       "      <th>12</th>\n",
       "      <td>Ranch Snack Wrap (Grilled Chicken)</td>\n",
       "      <td>13.0</td>\n",
       "      <td>Honey Mustard Snack Wrap (Crispy Chicken)</td>\n",
       "      <td>15.0</td>\n",
       "    </tr>\n",
       "  </tbody>\n",
       "</table>\n",
       "</div>"
      ],
      "text/plain": [
       "                                     Best_Selling_Item_x  Total_Fat_x  \\\n",
       "0               Premium Grilled Chicken Classic Sandwich          9.0   \n",
       "1                  Premium Grilled Chicken Club Sandwich         20.0   \n",
       "2             Premium Grilled Chicken Ranch BLT Sandwich         15.0   \n",
       "3               Bacon Clubhouse Grilled Chicken Sandwich         25.0   \n",
       "4       Premium McWrap Chicken & Bacon (Grilled Chicken)         19.0   \n",
       "5       Premium McWrap Chicken & Ranch (Grilled Chicken)         18.0   \n",
       "6     Premium McWrap Southwest Chicken (Grilled Chicken)         20.0   \n",
       "7   Premium McWrap Chicken Sweet Chili (Grilled Chicken)         10.0   \n",
       "8         Premium Bacon Ranch Salad with Grilled Chicken          8.0   \n",
       "9           Premium Southwest Salad with Grilled Chicken          8.0   \n",
       "10             Chipotle BBQ Snack Wrap (Grilled Chicken)          8.0   \n",
       "11            Honey Mustard Snack Wrap (Grilled Chicken)          8.0   \n",
       "12                    Ranch Snack Wrap (Grilled Chicken)         13.0   \n",
       "\n",
       "                                    Best_Selling_Item_y  Total_Fat_y  \n",
       "0               Premium Crispy Chicken Classic Sandwich         22.0  \n",
       "1                  Premium Crispy Chicken Club Sandwich         33.0  \n",
       "2             Premium Crispy Chicken Ranch BLT Sandwich         28.0  \n",
       "3               Bacon Clubhouse Crispy Chicken Sandwich         38.0  \n",
       "4                Southern Style Crispy Chicken Sandwich         19.0  \n",
       "5       Premium McWrap Chicken & Bacon (Crispy Chicken)         32.0  \n",
       "6       Premium McWrap Chicken & Ranch (Crispy Chicken)         31.0  \n",
       "7     Premium McWrap Southwest Chicken (Crispy Chicken)         33.0  \n",
       "8   Premium McWrap Chicken Sweet Chili (Crispy Chicken)         23.0  \n",
       "9         Premium Bacon Ranch Salad with Crispy Chicken         21.0  \n",
       "10          Premium Southwest Salad with Crispy Chicken         22.0  \n",
       "11             Chipotle BBQ Snack Wrap (Crispy Chicken)         15.0  \n",
       "12            Honey Mustard Snack Wrap (Crispy Chicken)         15.0  "
      ]
     },
     "execution_count": 22,
     "metadata": {},
     "output_type": "execute_result"
    }
   ],
   "source": [
    "#nutritional comparision between grilled and crispy chicken\n",
    "data['Grilled'] = data['Best_Selling_Item'].str.contains('Grilled')\n",
    "data['Crispy'] = data['Best_Selling_Item'].str.contains('Crispy')\n",
    "crispy_df = data.loc[data['Crispy']==True, ['Best_Selling_Item', 'Total_Fat']]\n",
    "grilled_df = data.loc[data['Grilled'] == True, ['Best_Selling_Item', 'Total_Fat']]\n",
    "\n",
    "crispy_df.reset_index(drop=True, inplace=True)\n",
    "grilled_df.reset_index(drop=True, inplace=True)\n",
    "\n",
    "grillcrisp = pd.merge(left=grilled_df, right=crispy_df, how = 'left', left_index=True, right_index=True)\n",
    "print(\"shape of the grilledcrisp datafram\", grillcrisp.shape)\n",
    "grillcrisp\n"
   ]
  },
  {
   "cell_type": "code",
   "execution_count": 23,
   "metadata": {},
   "outputs": [
    {
     "name": "stdout",
     "output_type": "stream",
     "text": [
      "Dataframe shape (12, 4)\n"
     ]
    },
    {
     "data": {
      "text/html": [
       "<div>\n",
       "<style scoped>\n",
       "    .dataframe tbody tr th:only-of-type {\n",
       "        vertical-align: middle;\n",
       "    }\n",
       "\n",
       "    .dataframe tbody tr th {\n",
       "        vertical-align: top;\n",
       "    }\n",
       "\n",
       "    .dataframe thead th {\n",
       "        text-align: right;\n",
       "    }\n",
       "</style>\n",
       "<table border=\"1\" class=\"dataframe\">\n",
       "  <thead>\n",
       "    <tr style=\"text-align: right;\">\n",
       "      <th></th>\n",
       "      <th>Items-Grilled</th>\n",
       "      <th>Total_Fat-Grilled</th>\n",
       "      <th>Items-Crispy</th>\n",
       "      <th>Total_Fat-Crispy</th>\n",
       "    </tr>\n",
       "  </thead>\n",
       "  <tbody>\n",
       "    <tr>\n",
       "      <th>0</th>\n",
       "      <td>Premium Grilled Chicken Classic Sandwich</td>\n",
       "      <td>9.0</td>\n",
       "      <td>Premium Crispy Chicken Classic Sandwich</td>\n",
       "      <td>22.0</td>\n",
       "    </tr>\n",
       "    <tr>\n",
       "      <th>1</th>\n",
       "      <td>Premium Grilled Chicken Club Sandwich</td>\n",
       "      <td>20.0</td>\n",
       "      <td>Premium Crispy Chicken Club Sandwich</td>\n",
       "      <td>33.0</td>\n",
       "    </tr>\n",
       "    <tr>\n",
       "      <th>2</th>\n",
       "      <td>Premium Grilled Chicken Ranch BLT Sandwich</td>\n",
       "      <td>15.0</td>\n",
       "      <td>Premium Crispy Chicken Ranch BLT Sandwich</td>\n",
       "      <td>28.0</td>\n",
       "    </tr>\n",
       "    <tr>\n",
       "      <th>3</th>\n",
       "      <td>Bacon Clubhouse Grilled Chicken Sandwich</td>\n",
       "      <td>25.0</td>\n",
       "      <td>Bacon Clubhouse Crispy Chicken Sandwich</td>\n",
       "      <td>38.0</td>\n",
       "    </tr>\n",
       "    <tr>\n",
       "      <th>4</th>\n",
       "      <td>Premium McWrap Chicken &amp; Bacon (Grilled Chicken)</td>\n",
       "      <td>19.0</td>\n",
       "      <td>Premium McWrap Chicken &amp; Bacon (Crispy Chicken)</td>\n",
       "      <td>32.0</td>\n",
       "    </tr>\n",
       "    <tr>\n",
       "      <th>5</th>\n",
       "      <td>Premium McWrap Chicken &amp; Ranch (Grilled Chicken)</td>\n",
       "      <td>18.0</td>\n",
       "      <td>Premium McWrap Chicken &amp; Ranch (Crispy Chicken)</td>\n",
       "      <td>31.0</td>\n",
       "    </tr>\n",
       "    <tr>\n",
       "      <th>6</th>\n",
       "      <td>Premium McWrap Southwest Chicken (Grilled Chicken)</td>\n",
       "      <td>20.0</td>\n",
       "      <td>Premium McWrap Southwest Chicken (Crispy Chicken)</td>\n",
       "      <td>33.0</td>\n",
       "    </tr>\n",
       "    <tr>\n",
       "      <th>7</th>\n",
       "      <td>Premium McWrap Chicken Sweet Chili (Grilled Chicken)</td>\n",
       "      <td>10.0</td>\n",
       "      <td>Premium McWrap Chicken Sweet Chili (Crispy Chicken)</td>\n",
       "      <td>23.0</td>\n",
       "    </tr>\n",
       "    <tr>\n",
       "      <th>8</th>\n",
       "      <td>Premium Bacon Ranch Salad with Grilled Chicken</td>\n",
       "      <td>8.0</td>\n",
       "      <td>Premium Bacon Ranch Salad with Crispy Chicken</td>\n",
       "      <td>21.0</td>\n",
       "    </tr>\n",
       "    <tr>\n",
       "      <th>9</th>\n",
       "      <td>Premium Southwest Salad with Grilled Chicken</td>\n",
       "      <td>8.0</td>\n",
       "      <td>Premium Southwest Salad with Crispy Chicken</td>\n",
       "      <td>22.0</td>\n",
       "    </tr>\n",
       "    <tr>\n",
       "      <th>10</th>\n",
       "      <td>Chipotle BBQ Snack Wrap (Grilled Chicken)</td>\n",
       "      <td>8.0</td>\n",
       "      <td>Chipotle BBQ Snack Wrap (Crispy Chicken)</td>\n",
       "      <td>15.0</td>\n",
       "    </tr>\n",
       "    <tr>\n",
       "      <th>11</th>\n",
       "      <td>Honey Mustard Snack Wrap (Grilled Chicken)</td>\n",
       "      <td>8.0</td>\n",
       "      <td>Honey Mustard Snack Wrap (Crispy Chicken)</td>\n",
       "      <td>15.0</td>\n",
       "    </tr>\n",
       "  </tbody>\n",
       "</table>\n",
       "</div>"
      ],
      "text/plain": [
       "                                           Items-Grilled  Total_Fat-Grilled  \\\n",
       "0               Premium Grilled Chicken Classic Sandwich                9.0   \n",
       "1                  Premium Grilled Chicken Club Sandwich               20.0   \n",
       "2             Premium Grilled Chicken Ranch BLT Sandwich               15.0   \n",
       "3               Bacon Clubhouse Grilled Chicken Sandwich               25.0   \n",
       "4       Premium McWrap Chicken & Bacon (Grilled Chicken)               19.0   \n",
       "5       Premium McWrap Chicken & Ranch (Grilled Chicken)               18.0   \n",
       "6     Premium McWrap Southwest Chicken (Grilled Chicken)               20.0   \n",
       "7   Premium McWrap Chicken Sweet Chili (Grilled Chicken)               10.0   \n",
       "8         Premium Bacon Ranch Salad with Grilled Chicken                8.0   \n",
       "9           Premium Southwest Salad with Grilled Chicken                8.0   \n",
       "10             Chipotle BBQ Snack Wrap (Grilled Chicken)                8.0   \n",
       "11            Honey Mustard Snack Wrap (Grilled Chicken)                8.0   \n",
       "\n",
       "                                           Items-Crispy  Total_Fat-Crispy  \n",
       "0               Premium Crispy Chicken Classic Sandwich              22.0  \n",
       "1                  Premium Crispy Chicken Club Sandwich              33.0  \n",
       "2             Premium Crispy Chicken Ranch BLT Sandwich              28.0  \n",
       "3               Bacon Clubhouse Crispy Chicken Sandwich              38.0  \n",
       "4       Premium McWrap Chicken & Bacon (Crispy Chicken)              32.0  \n",
       "5       Premium McWrap Chicken & Ranch (Crispy Chicken)              31.0  \n",
       "6     Premium McWrap Southwest Chicken (Crispy Chicken)              33.0  \n",
       "7   Premium McWrap Chicken Sweet Chili (Crispy Chicken)              23.0  \n",
       "8         Premium Bacon Ranch Salad with Crispy Chicken              21.0  \n",
       "9           Premium Southwest Salad with Crispy Chicken              22.0  \n",
       "10             Chipotle BBQ Snack Wrap (Crispy Chicken)              15.0  \n",
       "11            Honey Mustard Snack Wrap (Crispy Chicken)              15.0  "
      ]
     },
     "execution_count": 23,
     "metadata": {},
     "output_type": "execute_result"
    }
   ],
   "source": [
    "#since the ranch snack != honey mustard wrap we will remove this dataframe\n",
    "\n",
    "grilled_index = grilled_df[grilled_df['Best_Selling_Item'] == 'Ranch Snack Wrap (Grilled Chicken)'].index\n",
    "crispy_index = crispy_df[crispy_df['Best_Selling_Item'] == 'Southern Style Crispy Chicken Sandwich'].index\n",
    "\n",
    "grilled_df.drop(labels=grilled_index, inplace=True)\n",
    "crispy_df.drop(labels=crispy_index, inplace=True)\n",
    "\n",
    "\n",
    "crispy_df.reset_index(drop=True, inplace=True)\n",
    "grilled_df.reset_index(drop=True, inplace=True)\n",
    "\n",
    "\n",
    "grillcrisp = pd.merge(left=grilled_df, right=crispy_df, how='left', left_index=True, right_index=True)\n",
    "\n",
    "print('Dataframe shape', grillcrisp.shape)\n",
    "grillcrisp.columns = ['Items-Grilled', 'Total_Fat-Grilled', 'Items-Crispy', 'Total_Fat-Crispy']\n",
    "grillcrisp"
   ]
  },
  {
   "cell_type": "code",
   "execution_count": 24,
   "metadata": {},
   "outputs": [
    {
     "data": {
      "text/html": [
       "<div>\n",
       "<style scoped>\n",
       "    .dataframe tbody tr th:only-of-type {\n",
       "        vertical-align: middle;\n",
       "    }\n",
       "\n",
       "    .dataframe tbody tr th {\n",
       "        vertical-align: top;\n",
       "    }\n",
       "\n",
       "    .dataframe thead th {\n",
       "        text-align: right;\n",
       "    }\n",
       "</style>\n",
       "<table border=\"1\" class=\"dataframe\">\n",
       "  <thead>\n",
       "    <tr style=\"text-align: right;\">\n",
       "      <th></th>\n",
       "      <th>Total_Fat-Grilled</th>\n",
       "      <th>Items-Crispy</th>\n",
       "      <th>Total_Fat-Crispy</th>\n",
       "      <th>Item</th>\n",
       "    </tr>\n",
       "  </thead>\n",
       "  <tbody>\n",
       "    <tr>\n",
       "      <th>0</th>\n",
       "      <td>9.0</td>\n",
       "      <td>Premium Crispy Chicken Classic Sandwich</td>\n",
       "      <td>22.0</td>\n",
       "      <td>Premium Chicken Classic Sandwich</td>\n",
       "    </tr>\n",
       "    <tr>\n",
       "      <th>1</th>\n",
       "      <td>20.0</td>\n",
       "      <td>Premium Crispy Chicken Club Sandwich</td>\n",
       "      <td>33.0</td>\n",
       "      <td>Premium Chicken Club Sandwich</td>\n",
       "    </tr>\n",
       "    <tr>\n",
       "      <th>2</th>\n",
       "      <td>15.0</td>\n",
       "      <td>Premium Crispy Chicken Ranch BLT Sandwich</td>\n",
       "      <td>28.0</td>\n",
       "      <td>Premium Chicken Ranch BLT Sandwich</td>\n",
       "    </tr>\n",
       "    <tr>\n",
       "      <th>3</th>\n",
       "      <td>25.0</td>\n",
       "      <td>Bacon Clubhouse Crispy Chicken Sandwich</td>\n",
       "      <td>38.0</td>\n",
       "      <td>Bacon Clubhouse Chicken Sandwich</td>\n",
       "    </tr>\n",
       "    <tr>\n",
       "      <th>4</th>\n",
       "      <td>19.0</td>\n",
       "      <td>Premium McWrap Chicken &amp; Bacon (Crispy Chicken)</td>\n",
       "      <td>32.0</td>\n",
       "      <td>Premium McWrap Chicken &amp; Bacon (Chicken)</td>\n",
       "    </tr>\n",
       "    <tr>\n",
       "      <th>5</th>\n",
       "      <td>18.0</td>\n",
       "      <td>Premium McWrap Chicken &amp; Ranch (Crispy Chicken)</td>\n",
       "      <td>31.0</td>\n",
       "      <td>Premium McWrap Chicken &amp; Ranch (Chicken)</td>\n",
       "    </tr>\n",
       "    <tr>\n",
       "      <th>6</th>\n",
       "      <td>20.0</td>\n",
       "      <td>Premium McWrap Southwest Chicken (Crispy Chicken)</td>\n",
       "      <td>33.0</td>\n",
       "      <td>Premium McWrap Southwest Chicken (Chicken)</td>\n",
       "    </tr>\n",
       "    <tr>\n",
       "      <th>7</th>\n",
       "      <td>10.0</td>\n",
       "      <td>Premium McWrap Chicken Sweet Chili (Crispy Chicken)</td>\n",
       "      <td>23.0</td>\n",
       "      <td>Premium McWrap Chicken Sweet Chili (Chicken)</td>\n",
       "    </tr>\n",
       "    <tr>\n",
       "      <th>8</th>\n",
       "      <td>8.0</td>\n",
       "      <td>Premium Bacon Ranch Salad with Crispy Chicken</td>\n",
       "      <td>21.0</td>\n",
       "      <td>Premium Bacon Ranch Salad with Chicken</td>\n",
       "    </tr>\n",
       "    <tr>\n",
       "      <th>9</th>\n",
       "      <td>8.0</td>\n",
       "      <td>Premium Southwest Salad with Crispy Chicken</td>\n",
       "      <td>22.0</td>\n",
       "      <td>Premium Southwest Salad with Chicken</td>\n",
       "    </tr>\n",
       "    <tr>\n",
       "      <th>10</th>\n",
       "      <td>8.0</td>\n",
       "      <td>Chipotle BBQ Snack Wrap (Crispy Chicken)</td>\n",
       "      <td>15.0</td>\n",
       "      <td>Chipotle BBQ Snack Wrap (Chicken)</td>\n",
       "    </tr>\n",
       "    <tr>\n",
       "      <th>11</th>\n",
       "      <td>8.0</td>\n",
       "      <td>Honey Mustard Snack Wrap (Crispy Chicken)</td>\n",
       "      <td>15.0</td>\n",
       "      <td>Honey Mustard Snack Wrap (Chicken)</td>\n",
       "    </tr>\n",
       "  </tbody>\n",
       "</table>\n",
       "</div>"
      ],
      "text/plain": [
       "    Total_Fat-Grilled                                         Items-Crispy  \\\n",
       "0                 9.0              Premium Crispy Chicken Classic Sandwich   \n",
       "1                20.0                 Premium Crispy Chicken Club Sandwich   \n",
       "2                15.0            Premium Crispy Chicken Ranch BLT Sandwich   \n",
       "3                25.0              Bacon Clubhouse Crispy Chicken Sandwich   \n",
       "4                19.0      Premium McWrap Chicken & Bacon (Crispy Chicken)   \n",
       "5                18.0      Premium McWrap Chicken & Ranch (Crispy Chicken)   \n",
       "6                20.0    Premium McWrap Southwest Chicken (Crispy Chicken)   \n",
       "7                10.0  Premium McWrap Chicken Sweet Chili (Crispy Chicken)   \n",
       "8                 8.0        Premium Bacon Ranch Salad with Crispy Chicken   \n",
       "9                 8.0          Premium Southwest Salad with Crispy Chicken   \n",
       "10                8.0             Chipotle BBQ Snack Wrap (Crispy Chicken)   \n",
       "11                8.0            Honey Mustard Snack Wrap (Crispy Chicken)   \n",
       "\n",
       "    Total_Fat-Crispy                                          Item  \n",
       "0               22.0              Premium Chicken Classic Sandwich  \n",
       "1               33.0                 Premium Chicken Club Sandwich  \n",
       "2               28.0            Premium Chicken Ranch BLT Sandwich  \n",
       "3               38.0              Bacon Clubhouse Chicken Sandwich  \n",
       "4               32.0      Premium McWrap Chicken & Bacon (Chicken)  \n",
       "5               31.0      Premium McWrap Chicken & Ranch (Chicken)  \n",
       "6               33.0    Premium McWrap Southwest Chicken (Chicken)  \n",
       "7               23.0  Premium McWrap Chicken Sweet Chili (Chicken)  \n",
       "8               21.0        Premium Bacon Ranch Salad with Chicken  \n",
       "9               22.0          Premium Southwest Salad with Chicken  \n",
       "10              15.0             Chipotle BBQ Snack Wrap (Chicken)  \n",
       "11              15.0            Honey Mustard Snack Wrap (Chicken)  "
      ]
     },
     "execution_count": 24,
     "metadata": {},
     "output_type": "execute_result"
    }
   ],
   "source": [
    "# Dropping Items-Crispy\n",
    "# grillcrisp.drop(labels='Items-Crispy', axis=1, inplace=True)\n",
    "\n",
    "# Replacing Grilled with nothing\n",
    "grillcrisp['Item'] = grillcrisp['Items-Grilled'].str.replace(\"Grilled \", \"\")\n",
    "\n",
    "grillcrisp.drop('Items-Grilled', axis=1, inplace=True)\n",
    "grillcrisp"
   ]
  },
  {
   "cell_type": "code",
   "execution_count": 25,
   "metadata": {},
   "outputs": [
    {
     "data": {
      "application/vnd.plotly.v1+json": {
       "config": {
        "plotlyServerURL": "https://plot.ly"
       },
       "data": [
        {
         "name": "Total_Fat-Crispy",
         "orientation": "h",
         "type": "bar",
         "x": [
          22,
          33,
          28,
          38,
          32,
          31,
          33,
          23,
          21,
          22,
          15,
          15
         ],
         "y": [
          "Premium Chicken Classic Sandwich",
          "Premium Chicken Club Sandwich",
          "Premium Chicken Ranch BLT Sandwich",
          "Bacon Clubhouse Chicken Sandwich",
          "Premium McWrap Chicken & Bacon (Chicken)",
          "Premium McWrap Chicken & Ranch (Chicken)",
          "Premium McWrap Southwest Chicken (Chicken)",
          "Premium McWrap Chicken Sweet Chili (Chicken)",
          "Premium Bacon Ranch Salad with Chicken",
          "Premium Southwest Salad with Chicken",
          "Chipotle BBQ Snack Wrap (Chicken)",
          "Honey Mustard Snack Wrap (Chicken)"
         ]
        },
        {
         "name": "Total_Fat-Grilled",
         "orientation": "h",
         "type": "bar",
         "x": [
          9,
          20,
          15,
          25,
          19,
          18,
          20,
          10,
          8,
          8,
          8,
          8
         ],
         "y": [
          "Premium Chicken Classic Sandwich",
          "Premium Chicken Club Sandwich",
          "Premium Chicken Ranch BLT Sandwich",
          "Bacon Clubhouse Chicken Sandwich",
          "Premium McWrap Chicken & Bacon (Chicken)",
          "Premium McWrap Chicken & Ranch (Chicken)",
          "Premium McWrap Southwest Chicken (Chicken)",
          "Premium McWrap Chicken Sweet Chili (Chicken)",
          "Premium Bacon Ranch Salad with Chicken",
          "Premium Southwest Salad with Chicken",
          "Chipotle BBQ Snack Wrap (Chicken)",
          "Honey Mustard Snack Wrap (Chicken)"
         ]
        }
       ],
       "layout": {
        "height": 500,
        "template": {
         "data": {
          "bar": [
           {
            "error_x": {
             "color": "#2a3f5f"
            },
            "error_y": {
             "color": "#2a3f5f"
            },
            "marker": {
             "line": {
              "color": "#E5ECF6",
              "width": 0.5
             },
             "pattern": {
              "fillmode": "overlay",
              "size": 10,
              "solidity": 0.2
             }
            },
            "type": "bar"
           }
          ],
          "barpolar": [
           {
            "marker": {
             "line": {
              "color": "#E5ECF6",
              "width": 0.5
             },
             "pattern": {
              "fillmode": "overlay",
              "size": 10,
              "solidity": 0.2
             }
            },
            "type": "barpolar"
           }
          ],
          "carpet": [
           {
            "aaxis": {
             "endlinecolor": "#2a3f5f",
             "gridcolor": "white",
             "linecolor": "white",
             "minorgridcolor": "white",
             "startlinecolor": "#2a3f5f"
            },
            "baxis": {
             "endlinecolor": "#2a3f5f",
             "gridcolor": "white",
             "linecolor": "white",
             "minorgridcolor": "white",
             "startlinecolor": "#2a3f5f"
            },
            "type": "carpet"
           }
          ],
          "choropleth": [
           {
            "colorbar": {
             "outlinewidth": 0,
             "ticks": ""
            },
            "type": "choropleth"
           }
          ],
          "contour": [
           {
            "colorbar": {
             "outlinewidth": 0,
             "ticks": ""
            },
            "colorscale": [
             [
              0,
              "#0d0887"
             ],
             [
              0.1111111111111111,
              "#46039f"
             ],
             [
              0.2222222222222222,
              "#7201a8"
             ],
             [
              0.3333333333333333,
              "#9c179e"
             ],
             [
              0.4444444444444444,
              "#bd3786"
             ],
             [
              0.5555555555555556,
              "#d8576b"
             ],
             [
              0.6666666666666666,
              "#ed7953"
             ],
             [
              0.7777777777777778,
              "#fb9f3a"
             ],
             [
              0.8888888888888888,
              "#fdca26"
             ],
             [
              1,
              "#f0f921"
             ]
            ],
            "type": "contour"
           }
          ],
          "contourcarpet": [
           {
            "colorbar": {
             "outlinewidth": 0,
             "ticks": ""
            },
            "type": "contourcarpet"
           }
          ],
          "heatmap": [
           {
            "colorbar": {
             "outlinewidth": 0,
             "ticks": ""
            },
            "colorscale": [
             [
              0,
              "#0d0887"
             ],
             [
              0.1111111111111111,
              "#46039f"
             ],
             [
              0.2222222222222222,
              "#7201a8"
             ],
             [
              0.3333333333333333,
              "#9c179e"
             ],
             [
              0.4444444444444444,
              "#bd3786"
             ],
             [
              0.5555555555555556,
              "#d8576b"
             ],
             [
              0.6666666666666666,
              "#ed7953"
             ],
             [
              0.7777777777777778,
              "#fb9f3a"
             ],
             [
              0.8888888888888888,
              "#fdca26"
             ],
             [
              1,
              "#f0f921"
             ]
            ],
            "type": "heatmap"
           }
          ],
          "heatmapgl": [
           {
            "colorbar": {
             "outlinewidth": 0,
             "ticks": ""
            },
            "colorscale": [
             [
              0,
              "#0d0887"
             ],
             [
              0.1111111111111111,
              "#46039f"
             ],
             [
              0.2222222222222222,
              "#7201a8"
             ],
             [
              0.3333333333333333,
              "#9c179e"
             ],
             [
              0.4444444444444444,
              "#bd3786"
             ],
             [
              0.5555555555555556,
              "#d8576b"
             ],
             [
              0.6666666666666666,
              "#ed7953"
             ],
             [
              0.7777777777777778,
              "#fb9f3a"
             ],
             [
              0.8888888888888888,
              "#fdca26"
             ],
             [
              1,
              "#f0f921"
             ]
            ],
            "type": "heatmapgl"
           }
          ],
          "histogram": [
           {
            "marker": {
             "pattern": {
              "fillmode": "overlay",
              "size": 10,
              "solidity": 0.2
             }
            },
            "type": "histogram"
           }
          ],
          "histogram2d": [
           {
            "colorbar": {
             "outlinewidth": 0,
             "ticks": ""
            },
            "colorscale": [
             [
              0,
              "#0d0887"
             ],
             [
              0.1111111111111111,
              "#46039f"
             ],
             [
              0.2222222222222222,
              "#7201a8"
             ],
             [
              0.3333333333333333,
              "#9c179e"
             ],
             [
              0.4444444444444444,
              "#bd3786"
             ],
             [
              0.5555555555555556,
              "#d8576b"
             ],
             [
              0.6666666666666666,
              "#ed7953"
             ],
             [
              0.7777777777777778,
              "#fb9f3a"
             ],
             [
              0.8888888888888888,
              "#fdca26"
             ],
             [
              1,
              "#f0f921"
             ]
            ],
            "type": "histogram2d"
           }
          ],
          "histogram2dcontour": [
           {
            "colorbar": {
             "outlinewidth": 0,
             "ticks": ""
            },
            "colorscale": [
             [
              0,
              "#0d0887"
             ],
             [
              0.1111111111111111,
              "#46039f"
             ],
             [
              0.2222222222222222,
              "#7201a8"
             ],
             [
              0.3333333333333333,
              "#9c179e"
             ],
             [
              0.4444444444444444,
              "#bd3786"
             ],
             [
              0.5555555555555556,
              "#d8576b"
             ],
             [
              0.6666666666666666,
              "#ed7953"
             ],
             [
              0.7777777777777778,
              "#fb9f3a"
             ],
             [
              0.8888888888888888,
              "#fdca26"
             ],
             [
              1,
              "#f0f921"
             ]
            ],
            "type": "histogram2dcontour"
           }
          ],
          "mesh3d": [
           {
            "colorbar": {
             "outlinewidth": 0,
             "ticks": ""
            },
            "type": "mesh3d"
           }
          ],
          "parcoords": [
           {
            "line": {
             "colorbar": {
              "outlinewidth": 0,
              "ticks": ""
             }
            },
            "type": "parcoords"
           }
          ],
          "pie": [
           {
            "automargin": true,
            "type": "pie"
           }
          ],
          "scatter": [
           {
            "fillpattern": {
             "fillmode": "overlay",
             "size": 10,
             "solidity": 0.2
            },
            "type": "scatter"
           }
          ],
          "scatter3d": [
           {
            "line": {
             "colorbar": {
              "outlinewidth": 0,
              "ticks": ""
             }
            },
            "marker": {
             "colorbar": {
              "outlinewidth": 0,
              "ticks": ""
             }
            },
            "type": "scatter3d"
           }
          ],
          "scattercarpet": [
           {
            "marker": {
             "colorbar": {
              "outlinewidth": 0,
              "ticks": ""
             }
            },
            "type": "scattercarpet"
           }
          ],
          "scattergeo": [
           {
            "marker": {
             "colorbar": {
              "outlinewidth": 0,
              "ticks": ""
             }
            },
            "type": "scattergeo"
           }
          ],
          "scattergl": [
           {
            "marker": {
             "colorbar": {
              "outlinewidth": 0,
              "ticks": ""
             }
            },
            "type": "scattergl"
           }
          ],
          "scattermapbox": [
           {
            "marker": {
             "colorbar": {
              "outlinewidth": 0,
              "ticks": ""
             }
            },
            "type": "scattermapbox"
           }
          ],
          "scatterpolar": [
           {
            "marker": {
             "colorbar": {
              "outlinewidth": 0,
              "ticks": ""
             }
            },
            "type": "scatterpolar"
           }
          ],
          "scatterpolargl": [
           {
            "marker": {
             "colorbar": {
              "outlinewidth": 0,
              "ticks": ""
             }
            },
            "type": "scatterpolargl"
           }
          ],
          "scatterternary": [
           {
            "marker": {
             "colorbar": {
              "outlinewidth": 0,
              "ticks": ""
             }
            },
            "type": "scatterternary"
           }
          ],
          "surface": [
           {
            "colorbar": {
             "outlinewidth": 0,
             "ticks": ""
            },
            "colorscale": [
             [
              0,
              "#0d0887"
             ],
             [
              0.1111111111111111,
              "#46039f"
             ],
             [
              0.2222222222222222,
              "#7201a8"
             ],
             [
              0.3333333333333333,
              "#9c179e"
             ],
             [
              0.4444444444444444,
              "#bd3786"
             ],
             [
              0.5555555555555556,
              "#d8576b"
             ],
             [
              0.6666666666666666,
              "#ed7953"
             ],
             [
              0.7777777777777778,
              "#fb9f3a"
             ],
             [
              0.8888888888888888,
              "#fdca26"
             ],
             [
              1,
              "#f0f921"
             ]
            ],
            "type": "surface"
           }
          ],
          "table": [
           {
            "cells": {
             "fill": {
              "color": "#EBF0F8"
             },
             "line": {
              "color": "white"
             }
            },
            "header": {
             "fill": {
              "color": "#C8D4E3"
             },
             "line": {
              "color": "white"
             }
            },
            "type": "table"
           }
          ]
         },
         "layout": {
          "annotationdefaults": {
           "arrowcolor": "#2a3f5f",
           "arrowhead": 0,
           "arrowwidth": 1
          },
          "autotypenumbers": "strict",
          "coloraxis": {
           "colorbar": {
            "outlinewidth": 0,
            "ticks": ""
           }
          },
          "colorscale": {
           "diverging": [
            [
             0,
             "#8e0152"
            ],
            [
             0.1,
             "#c51b7d"
            ],
            [
             0.2,
             "#de77ae"
            ],
            [
             0.3,
             "#f1b6da"
            ],
            [
             0.4,
             "#fde0ef"
            ],
            [
             0.5,
             "#f7f7f7"
            ],
            [
             0.6,
             "#e6f5d0"
            ],
            [
             0.7,
             "#b8e186"
            ],
            [
             0.8,
             "#7fbc41"
            ],
            [
             0.9,
             "#4d9221"
            ],
            [
             1,
             "#276419"
            ]
           ],
           "sequential": [
            [
             0,
             "#0d0887"
            ],
            [
             0.1111111111111111,
             "#46039f"
            ],
            [
             0.2222222222222222,
             "#7201a8"
            ],
            [
             0.3333333333333333,
             "#9c179e"
            ],
            [
             0.4444444444444444,
             "#bd3786"
            ],
            [
             0.5555555555555556,
             "#d8576b"
            ],
            [
             0.6666666666666666,
             "#ed7953"
            ],
            [
             0.7777777777777778,
             "#fb9f3a"
            ],
            [
             0.8888888888888888,
             "#fdca26"
            ],
            [
             1,
             "#f0f921"
            ]
           ],
           "sequentialminus": [
            [
             0,
             "#0d0887"
            ],
            [
             0.1111111111111111,
             "#46039f"
            ],
            [
             0.2222222222222222,
             "#7201a8"
            ],
            [
             0.3333333333333333,
             "#9c179e"
            ],
            [
             0.4444444444444444,
             "#bd3786"
            ],
            [
             0.5555555555555556,
             "#d8576b"
            ],
            [
             0.6666666666666666,
             "#ed7953"
            ],
            [
             0.7777777777777778,
             "#fb9f3a"
            ],
            [
             0.8888888888888888,
             "#fdca26"
            ],
            [
             1,
             "#f0f921"
            ]
           ]
          },
          "colorway": [
           "#636efa",
           "#EF553B",
           "#00cc96",
           "#ab63fa",
           "#FFA15A",
           "#19d3f3",
           "#FF6692",
           "#B6E880",
           "#FF97FF",
           "#FECB52"
          ],
          "font": {
           "color": "#2a3f5f"
          },
          "geo": {
           "bgcolor": "white",
           "lakecolor": "white",
           "landcolor": "#E5ECF6",
           "showlakes": true,
           "showland": true,
           "subunitcolor": "white"
          },
          "hoverlabel": {
           "align": "left"
          },
          "hovermode": "closest",
          "mapbox": {
           "style": "light"
          },
          "paper_bgcolor": "white",
          "plot_bgcolor": "#E5ECF6",
          "polar": {
           "angularaxis": {
            "gridcolor": "white",
            "linecolor": "white",
            "ticks": ""
           },
           "bgcolor": "#E5ECF6",
           "radialaxis": {
            "gridcolor": "white",
            "linecolor": "white",
            "ticks": ""
           }
          },
          "scene": {
           "xaxis": {
            "backgroundcolor": "#E5ECF6",
            "gridcolor": "white",
            "gridwidth": 2,
            "linecolor": "white",
            "showbackground": true,
            "ticks": "",
            "zerolinecolor": "white"
           },
           "yaxis": {
            "backgroundcolor": "#E5ECF6",
            "gridcolor": "white",
            "gridwidth": 2,
            "linecolor": "white",
            "showbackground": true,
            "ticks": "",
            "zerolinecolor": "white"
           },
           "zaxis": {
            "backgroundcolor": "#E5ECF6",
            "gridcolor": "white",
            "gridwidth": 2,
            "linecolor": "white",
            "showbackground": true,
            "ticks": "",
            "zerolinecolor": "white"
           }
          },
          "shapedefaults": {
           "line": {
            "color": "#2a3f5f"
           }
          },
          "ternary": {
           "aaxis": {
            "gridcolor": "white",
            "linecolor": "white",
            "ticks": ""
           },
           "baxis": {
            "gridcolor": "white",
            "linecolor": "white",
            "ticks": ""
           },
           "bgcolor": "#E5ECF6",
           "caxis": {
            "gridcolor": "white",
            "linecolor": "white",
            "ticks": ""
           }
          },
          "title": {
           "x": 0.05
          },
          "xaxis": {
           "automargin": true,
           "gridcolor": "white",
           "linecolor": "white",
           "ticks": "",
           "title": {
            "standoff": 15
           },
           "zerolinecolor": "white",
           "zerolinewidth": 2
          },
          "yaxis": {
           "automargin": true,
           "gridcolor": "white",
           "linecolor": "white",
           "ticks": "",
           "title": {
            "standoff": 15
           },
           "zerolinecolor": "white",
           "zerolinewidth": 2
          }
         }
        },
        "title": {
         "text": "Fat-Grilled vs Fat-Crispy",
         "x": 0.5
        },
        "width": 1000,
        "xaxis": {
         "title": {
          "text": "Frequency"
         }
        },
        "yaxis": {
         "title": {
          "text": "Item"
         }
        }
       }
      }
     },
     "metadata": {},
     "output_type": "display_data"
    }
   ],
   "source": [
    "# Initiate an empty figure\n",
    "fig = go.Figure()\n",
    "\n",
    "# Adding two traces of bar to the figure\n",
    "fig.add_trace(trace=go.Bar(x=grillcrisp['Total_Fat-Crispy'], \n",
    "                           y=grillcrisp['Item'], \n",
    "                           orientation='h', \n",
    "                           name='Total_Fat-Crispy'))\n",
    "\n",
    "fig.add_trace(trace=go.Bar(x=grillcrisp['Total_Fat-Grilled'], \n",
    "                           y=grillcrisp['Item'], \n",
    "                           orientation='h', \n",
    "                           name='Total_Fat-Grilled'))\n",
    "\n",
    "# Update the layout with some cosmetics\n",
    "fig.update_layout(height=500, \n",
    "                  width=1000, \n",
    "                  title_text='Fat-Grilled vs Fat-Crispy', \n",
    "                  title_x=0.5, \n",
    "                  xaxis_title='Frequency', \n",
    "                  yaxis_title='Item')\n",
    "\n",
    "# Display the figure\n",
    "fig.show()"
   ]
  },
  {
   "cell_type": "code",
   "execution_count": 26,
   "metadata": {},
   "outputs": [
    {
     "data": {
      "application/vnd.plotly.v1+json": {
       "config": {
        "plotlyServerURL": "https://plot.ly"
       },
       "data": [
        {
         "marker": {
          "color": "rgba(247, 231, 113, 1.0)",
          "line": {
           "color": "rgba(247, 209, 0, 1.0)",
           "width": 3
          }
         },
         "orientation": "h",
         "type": "bar",
         "x": [
          "Chicken Wings",
          "Nuggets",
          "Snacks & Sides",
          "Condiments",
          "New Products",
          "Sandwiches and Wraps",
          "Salads",
          "Chicken & Fish",
          "Breakfast",
          "Beef & Pork",
          "Desserts",
          "Cold Beverages",
          "Hot Beverages",
          "Smoothies & Shakes"
         ],
         "y": [
          "Chicken Wings",
          "Nuggets",
          "Snacks & Sides",
          "Condiments",
          "New Products",
          "Sandwiches and Wraps",
          "Salads",
          "Chicken & Fish",
          "Breakfast",
          "Beef & Pork",
          "Desserts",
          "Cold Beverages",
          "Hot Beverages",
          "Smoothies & Shakes"
         ]
        }
       ],
       "layout": {
        "height": 500,
        "template": {
         "data": {
          "bar": [
           {
            "error_x": {
             "color": "#2a3f5f"
            },
            "error_y": {
             "color": "#2a3f5f"
            },
            "marker": {
             "line": {
              "color": "#E5ECF6",
              "width": 0.5
             },
             "pattern": {
              "fillmode": "overlay",
              "size": 10,
              "solidity": 0.2
             }
            },
            "type": "bar"
           }
          ],
          "barpolar": [
           {
            "marker": {
             "line": {
              "color": "#E5ECF6",
              "width": 0.5
             },
             "pattern": {
              "fillmode": "overlay",
              "size": 10,
              "solidity": 0.2
             }
            },
            "type": "barpolar"
           }
          ],
          "carpet": [
           {
            "aaxis": {
             "endlinecolor": "#2a3f5f",
             "gridcolor": "white",
             "linecolor": "white",
             "minorgridcolor": "white",
             "startlinecolor": "#2a3f5f"
            },
            "baxis": {
             "endlinecolor": "#2a3f5f",
             "gridcolor": "white",
             "linecolor": "white",
             "minorgridcolor": "white",
             "startlinecolor": "#2a3f5f"
            },
            "type": "carpet"
           }
          ],
          "choropleth": [
           {
            "colorbar": {
             "outlinewidth": 0,
             "ticks": ""
            },
            "type": "choropleth"
           }
          ],
          "contour": [
           {
            "colorbar": {
             "outlinewidth": 0,
             "ticks": ""
            },
            "colorscale": [
             [
              0,
              "#0d0887"
             ],
             [
              0.1111111111111111,
              "#46039f"
             ],
             [
              0.2222222222222222,
              "#7201a8"
             ],
             [
              0.3333333333333333,
              "#9c179e"
             ],
             [
              0.4444444444444444,
              "#bd3786"
             ],
             [
              0.5555555555555556,
              "#d8576b"
             ],
             [
              0.6666666666666666,
              "#ed7953"
             ],
             [
              0.7777777777777778,
              "#fb9f3a"
             ],
             [
              0.8888888888888888,
              "#fdca26"
             ],
             [
              1,
              "#f0f921"
             ]
            ],
            "type": "contour"
           }
          ],
          "contourcarpet": [
           {
            "colorbar": {
             "outlinewidth": 0,
             "ticks": ""
            },
            "type": "contourcarpet"
           }
          ],
          "heatmap": [
           {
            "colorbar": {
             "outlinewidth": 0,
             "ticks": ""
            },
            "colorscale": [
             [
              0,
              "#0d0887"
             ],
             [
              0.1111111111111111,
              "#46039f"
             ],
             [
              0.2222222222222222,
              "#7201a8"
             ],
             [
              0.3333333333333333,
              "#9c179e"
             ],
             [
              0.4444444444444444,
              "#bd3786"
             ],
             [
              0.5555555555555556,
              "#d8576b"
             ],
             [
              0.6666666666666666,
              "#ed7953"
             ],
             [
              0.7777777777777778,
              "#fb9f3a"
             ],
             [
              0.8888888888888888,
              "#fdca26"
             ],
             [
              1,
              "#f0f921"
             ]
            ],
            "type": "heatmap"
           }
          ],
          "heatmapgl": [
           {
            "colorbar": {
             "outlinewidth": 0,
             "ticks": ""
            },
            "colorscale": [
             [
              0,
              "#0d0887"
             ],
             [
              0.1111111111111111,
              "#46039f"
             ],
             [
              0.2222222222222222,
              "#7201a8"
             ],
             [
              0.3333333333333333,
              "#9c179e"
             ],
             [
              0.4444444444444444,
              "#bd3786"
             ],
             [
              0.5555555555555556,
              "#d8576b"
             ],
             [
              0.6666666666666666,
              "#ed7953"
             ],
             [
              0.7777777777777778,
              "#fb9f3a"
             ],
             [
              0.8888888888888888,
              "#fdca26"
             ],
             [
              1,
              "#f0f921"
             ]
            ],
            "type": "heatmapgl"
           }
          ],
          "histogram": [
           {
            "marker": {
             "pattern": {
              "fillmode": "overlay",
              "size": 10,
              "solidity": 0.2
             }
            },
            "type": "histogram"
           }
          ],
          "histogram2d": [
           {
            "colorbar": {
             "outlinewidth": 0,
             "ticks": ""
            },
            "colorscale": [
             [
              0,
              "#0d0887"
             ],
             [
              0.1111111111111111,
              "#46039f"
             ],
             [
              0.2222222222222222,
              "#7201a8"
             ],
             [
              0.3333333333333333,
              "#9c179e"
             ],
             [
              0.4444444444444444,
              "#bd3786"
             ],
             [
              0.5555555555555556,
              "#d8576b"
             ],
             [
              0.6666666666666666,
              "#ed7953"
             ],
             [
              0.7777777777777778,
              "#fb9f3a"
             ],
             [
              0.8888888888888888,
              "#fdca26"
             ],
             [
              1,
              "#f0f921"
             ]
            ],
            "type": "histogram2d"
           }
          ],
          "histogram2dcontour": [
           {
            "colorbar": {
             "outlinewidth": 0,
             "ticks": ""
            },
            "colorscale": [
             [
              0,
              "#0d0887"
             ],
             [
              0.1111111111111111,
              "#46039f"
             ],
             [
              0.2222222222222222,
              "#7201a8"
             ],
             [
              0.3333333333333333,
              "#9c179e"
             ],
             [
              0.4444444444444444,
              "#bd3786"
             ],
             [
              0.5555555555555556,
              "#d8576b"
             ],
             [
              0.6666666666666666,
              "#ed7953"
             ],
             [
              0.7777777777777778,
              "#fb9f3a"
             ],
             [
              0.8888888888888888,
              "#fdca26"
             ],
             [
              1,
              "#f0f921"
             ]
            ],
            "type": "histogram2dcontour"
           }
          ],
          "mesh3d": [
           {
            "colorbar": {
             "outlinewidth": 0,
             "ticks": ""
            },
            "type": "mesh3d"
           }
          ],
          "parcoords": [
           {
            "line": {
             "colorbar": {
              "outlinewidth": 0,
              "ticks": ""
             }
            },
            "type": "parcoords"
           }
          ],
          "pie": [
           {
            "automargin": true,
            "type": "pie"
           }
          ],
          "scatter": [
           {
            "fillpattern": {
             "fillmode": "overlay",
             "size": 10,
             "solidity": 0.2
            },
            "type": "scatter"
           }
          ],
          "scatter3d": [
           {
            "line": {
             "colorbar": {
              "outlinewidth": 0,
              "ticks": ""
             }
            },
            "marker": {
             "colorbar": {
              "outlinewidth": 0,
              "ticks": ""
             }
            },
            "type": "scatter3d"
           }
          ],
          "scattercarpet": [
           {
            "marker": {
             "colorbar": {
              "outlinewidth": 0,
              "ticks": ""
             }
            },
            "type": "scattercarpet"
           }
          ],
          "scattergeo": [
           {
            "marker": {
             "colorbar": {
              "outlinewidth": 0,
              "ticks": ""
             }
            },
            "type": "scattergeo"
           }
          ],
          "scattergl": [
           {
            "marker": {
             "colorbar": {
              "outlinewidth": 0,
              "ticks": ""
             }
            },
            "type": "scattergl"
           }
          ],
          "scattermapbox": [
           {
            "marker": {
             "colorbar": {
              "outlinewidth": 0,
              "ticks": ""
             }
            },
            "type": "scattermapbox"
           }
          ],
          "scatterpolar": [
           {
            "marker": {
             "colorbar": {
              "outlinewidth": 0,
              "ticks": ""
             }
            },
            "type": "scatterpolar"
           }
          ],
          "scatterpolargl": [
           {
            "marker": {
             "colorbar": {
              "outlinewidth": 0,
              "ticks": ""
             }
            },
            "type": "scatterpolargl"
           }
          ],
          "scatterternary": [
           {
            "marker": {
             "colorbar": {
              "outlinewidth": 0,
              "ticks": ""
             }
            },
            "type": "scatterternary"
           }
          ],
          "surface": [
           {
            "colorbar": {
             "outlinewidth": 0,
             "ticks": ""
            },
            "colorscale": [
             [
              0,
              "#0d0887"
             ],
             [
              0.1111111111111111,
              "#46039f"
             ],
             [
              0.2222222222222222,
              "#7201a8"
             ],
             [
              0.3333333333333333,
              "#9c179e"
             ],
             [
              0.4444444444444444,
              "#bd3786"
             ],
             [
              0.5555555555555556,
              "#d8576b"
             ],
             [
              0.6666666666666666,
              "#ed7953"
             ],
             [
              0.7777777777777778,
              "#fb9f3a"
             ],
             [
              0.8888888888888888,
              "#fdca26"
             ],
             [
              1,
              "#f0f921"
             ]
            ],
            "type": "surface"
           }
          ],
          "table": [
           {
            "cells": {
             "fill": {
              "color": "#EBF0F8"
             },
             "line": {
              "color": "white"
             }
            },
            "header": {
             "fill": {
              "color": "#C8D4E3"
             },
             "line": {
              "color": "white"
             }
            },
            "type": "table"
           }
          ]
         },
         "layout": {
          "annotationdefaults": {
           "arrowcolor": "#2a3f5f",
           "arrowhead": 0,
           "arrowwidth": 1
          },
          "autotypenumbers": "strict",
          "coloraxis": {
           "colorbar": {
            "outlinewidth": 0,
            "ticks": ""
           }
          },
          "colorscale": {
           "diverging": [
            [
             0,
             "#8e0152"
            ],
            [
             0.1,
             "#c51b7d"
            ],
            [
             0.2,
             "#de77ae"
            ],
            [
             0.3,
             "#f1b6da"
            ],
            [
             0.4,
             "#fde0ef"
            ],
            [
             0.5,
             "#f7f7f7"
            ],
            [
             0.6,
             "#e6f5d0"
            ],
            [
             0.7,
             "#b8e186"
            ],
            [
             0.8,
             "#7fbc41"
            ],
            [
             0.9,
             "#4d9221"
            ],
            [
             1,
             "#276419"
            ]
           ],
           "sequential": [
            [
             0,
             "#0d0887"
            ],
            [
             0.1111111111111111,
             "#46039f"
            ],
            [
             0.2222222222222222,
             "#7201a8"
            ],
            [
             0.3333333333333333,
             "#9c179e"
            ],
            [
             0.4444444444444444,
             "#bd3786"
            ],
            [
             0.5555555555555556,
             "#d8576b"
            ],
            [
             0.6666666666666666,
             "#ed7953"
            ],
            [
             0.7777777777777778,
             "#fb9f3a"
            ],
            [
             0.8888888888888888,
             "#fdca26"
            ],
            [
             1,
             "#f0f921"
            ]
           ],
           "sequentialminus": [
            [
             0,
             "#0d0887"
            ],
            [
             0.1111111111111111,
             "#46039f"
            ],
            [
             0.2222222222222222,
             "#7201a8"
            ],
            [
             0.3333333333333333,
             "#9c179e"
            ],
            [
             0.4444444444444444,
             "#bd3786"
            ],
            [
             0.5555555555555556,
             "#d8576b"
            ],
            [
             0.6666666666666666,
             "#ed7953"
            ],
            [
             0.7777777777777778,
             "#fb9f3a"
            ],
            [
             0.8888888888888888,
             "#fdca26"
            ],
            [
             1,
             "#f0f921"
            ]
           ]
          },
          "colorway": [
           "#636efa",
           "#EF553B",
           "#00cc96",
           "#ab63fa",
           "#FFA15A",
           "#19d3f3",
           "#FF6692",
           "#B6E880",
           "#FF97FF",
           "#FECB52"
          ],
          "font": {
           "color": "#2a3f5f"
          },
          "geo": {
           "bgcolor": "white",
           "lakecolor": "white",
           "landcolor": "#E5ECF6",
           "showlakes": true,
           "showland": true,
           "subunitcolor": "white"
          },
          "hoverlabel": {
           "align": "left"
          },
          "hovermode": "closest",
          "mapbox": {
           "style": "light"
          },
          "paper_bgcolor": "white",
          "plot_bgcolor": "#E5ECF6",
          "polar": {
           "angularaxis": {
            "gridcolor": "white",
            "linecolor": "white",
            "ticks": ""
           },
           "bgcolor": "#E5ECF6",
           "radialaxis": {
            "gridcolor": "white",
            "linecolor": "white",
            "ticks": ""
           }
          },
          "scene": {
           "xaxis": {
            "backgroundcolor": "#E5ECF6",
            "gridcolor": "white",
            "gridwidth": 2,
            "linecolor": "white",
            "showbackground": true,
            "ticks": "",
            "zerolinecolor": "white"
           },
           "yaxis": {
            "backgroundcolor": "#E5ECF6",
            "gridcolor": "white",
            "gridwidth": 2,
            "linecolor": "white",
            "showbackground": true,
            "ticks": "",
            "zerolinecolor": "white"
           },
           "zaxis": {
            "backgroundcolor": "#E5ECF6",
            "gridcolor": "white",
            "gridwidth": 2,
            "linecolor": "white",
            "showbackground": true,
            "ticks": "",
            "zerolinecolor": "white"
           }
          },
          "shapedefaults": {
           "line": {
            "color": "#2a3f5f"
           }
          },
          "ternary": {
           "aaxis": {
            "gridcolor": "white",
            "linecolor": "white",
            "ticks": ""
           },
           "baxis": {
            "gridcolor": "white",
            "linecolor": "white",
            "ticks": ""
           },
           "bgcolor": "#E5ECF6",
           "caxis": {
            "gridcolor": "white",
            "linecolor": "white",
            "ticks": ""
           }
          },
          "title": {
           "x": 0.05
          },
          "xaxis": {
           "automargin": true,
           "gridcolor": "white",
           "linecolor": "white",
           "ticks": "",
           "title": {
            "standoff": 15
           },
           "zerolinecolor": "white",
           "zerolinewidth": 2
          },
          "yaxis": {
           "automargin": true,
           "gridcolor": "white",
           "linecolor": "white",
           "ticks": "",
           "title": {
            "standoff": 15
           },
           "zerolinecolor": "white",
           "zerolinewidth": 2
          }
         }
        },
        "title": {
         "text": "Sugar per Category",
         "x": 0.5
        },
        "width": 1000,
        "xaxis": {
         "title": {
          "text": "Frequency"
         }
        },
        "yaxis": {
         "title": {
          "text": "Category"
         }
        }
       }
      }
     },
     "metadata": {},
     "output_type": "display_data"
    }
   ],
   "source": [
    "labels = data.groupby(['Category'])['Sugars'].mean().sort_values().index\n",
    "values = data.groupby(['Category'])['Sugars'].mean().sort_values().index\n",
    "\n",
    "\n",
    "# Initiate an empty figure\n",
    "fig = go.Figure()\n",
    "\n",
    "# Add a trace of bar to the figure\n",
    "fig.add_trace(trace=go.Bar(x=values, \n",
    "                           y=labels, \n",
    "                           orientation='h', \n",
    "                           marker=dict(color='rgba(247, 231, 113, 1.0)',\n",
    "                                       line=dict(color='rgba(247, 209, 0, 1.0)', \n",
    "                                                 width=3))))\n",
    "\n",
    "# Update the layout with some cosmetics\n",
    "fig.update_layout(height=500, \n",
    "                  width=1000, \n",
    "                  title_text='Sugar per Category', \n",
    "                  title_x=0.5,\n",
    "                  xaxis_title='Frequency', \n",
    "                  yaxis_title='Category')\n",
    "\n",
    "# Display the figure\n",
    "fig.show()"
   ]
  },
  {
   "cell_type": "code",
   "execution_count": 27,
   "metadata": {},
   "outputs": [
    {
     "data": {
      "application/vnd.plotly.v1+json": {
       "config": {
        "plotlyServerURL": "https://plot.ly"
       },
       "data": [
        {
         "marker": {
          "color": "rgba(148, 166, 212, 1.0)",
          "line": {
           "color": "rgba(81, 64, 191, 1.0)",
           "width": 3
          }
         },
         "orientation": "h",
         "type": "box",
         "x": [
          2,
          2,
          2,
          3,
          4,
          2,
          2,
          2,
          5,
          3,
          3,
          3,
          5,
          4,
          3,
          5,
          3,
          5,
          5,
          7,
          9,
          2,
          1,
          1,
          2,
          1,
          3,
          0,
          0,
          0,
          0,
          0,
          0,
          0,
          0,
          0,
          0,
          1,
          0,
          0,
          0,
          0,
          0,
          0,
          0,
          0,
          0,
          0,
          0,
          0,
          0,
          0,
          0,
          0,
          0,
          0,
          0,
          0,
          0,
          0,
          0,
          0,
          0,
          0,
          0,
          0,
          0,
          0,
          0,
          0,
          0,
          0,
          1,
          0,
          0,
          0,
          0,
          4,
          3,
          3,
          2,
          2,
          4,
          4,
          4,
          4,
          4,
          4,
          2,
          3,
          2,
          3,
          2,
          3,
          2,
          3,
          2,
          3,
          2,
          3,
          2,
          2,
          2,
          2,
          2,
          2,
          3,
          3,
          3,
          3,
          4,
          3,
          4,
          6,
          7,
          6,
          7,
          3,
          3,
          1,
          3,
          5,
          5,
          3,
          3,
          3,
          3,
          3,
          3,
          1,
          2,
          2,
          4,
          2,
          2,
          2,
          2,
          3,
          3,
          3,
          3,
          3,
          3,
          3,
          4,
          4,
          2,
          2,
          2,
          2,
          3,
          3,
          3,
          3,
          5,
          5,
          3,
          3,
          1,
          1,
          2,
          3,
          6,
          2,
          3,
          2,
          2,
          6,
          7,
          7,
          1,
          1,
          1,
          1,
          1,
          1,
          2,
          4,
          5,
          1,
          1,
          0,
          1,
          4,
          1,
          1,
          0,
          1,
          0,
          0,
          0,
          0,
          0,
          0,
          0,
          0,
          0,
          0,
          0,
          0,
          0,
          0,
          0,
          0,
          0,
          0,
          0,
          0,
          0,
          0,
          0,
          1,
          0,
          0,
          0,
          0,
          0,
          0,
          0,
          0,
          0,
          0,
          0,
          0,
          0,
          0,
          0,
          0,
          1,
          1,
          1,
          1,
          1,
          1,
          1,
          1,
          1,
          1,
          1,
          1,
          1,
          1,
          2,
          1,
          1,
          1,
          1,
          1,
          1,
          1,
          1,
          1,
          1,
          1,
          1,
          1,
          1,
          2,
          2,
          2,
          2,
          2,
          2,
          2,
          1,
          1,
          1,
          1,
          1,
          1,
          1,
          1,
          1,
          1,
          1,
          1,
          0,
          0,
          0,
          0,
          0,
          0,
          0,
          0,
          0,
          0,
          0,
          0,
          0,
          0,
          0,
          1,
          1,
          2,
          1,
          1,
          2,
          0,
          1,
          1,
          0,
          1,
          1,
          1,
          1,
          1,
          0,
          0,
          0,
          1,
          1,
          1,
          3,
          4,
          5,
          3,
          3,
          4,
          1,
          1,
          2,
          0,
          0,
          0,
          0,
          0,
          0,
          1,
          2,
          2,
          0,
          0,
          1,
          2,
          1,
          1,
          1,
          1,
          2,
          1
         ],
         "y": [
          "Breakfast",
          "Breakfast",
          "Breakfast",
          "Breakfast",
          "Breakfast",
          "Breakfast",
          "Breakfast",
          "Breakfast",
          "Sandwiches and Wraps",
          "Sandwiches and Wraps",
          "Sandwiches and Wraps",
          "Sandwiches and Wraps",
          "Sandwiches and Wraps",
          "Sandwiches and Wraps",
          "Sandwiches and Wraps",
          "Sandwiches and Wraps",
          "Sandwiches and Wraps",
          "Sandwiches and Wraps",
          "Snacks & Sides",
          "Snacks & Sides",
          "Snacks & Sides",
          "Snacks & Sides",
          "Nuggets",
          "Nuggets",
          "Nuggets",
          "Chicken Wings",
          "Chicken Wings",
          "Condiments",
          "Condiments",
          "Condiments",
          "Condiments",
          "Condiments",
          "Smoothies & Shakes",
          "Smoothies & Shakes",
          "Smoothies & Shakes",
          "Smoothies & Shakes",
          "Smoothies & Shakes",
          "Smoothies & Shakes",
          "Cold Beverages",
          "Cold Beverages",
          "Cold Beverages",
          "Cold Beverages",
          "Cold Beverages",
          "Cold Beverages",
          "Cold Beverages",
          "Cold Beverages",
          "Cold Beverages",
          "Cold Beverages",
          "Cold Beverages",
          "Cold Beverages",
          "Cold Beverages",
          "Cold Beverages",
          "Cold Beverages",
          "Cold Beverages",
          "Cold Beverages",
          "Cold Beverages",
          "Desserts",
          "Desserts",
          "Desserts",
          "Desserts",
          "Desserts",
          "Desserts",
          "Desserts",
          "Desserts",
          "Desserts",
          "Desserts",
          "Desserts",
          "Desserts",
          "Desserts",
          "Desserts",
          "Desserts",
          "Desserts",
          "Desserts",
          "Hot Beverages",
          "Hot Beverages",
          "Hot Beverages",
          "Hot Beverages",
          "New Products",
          "New Products",
          "New Products",
          "New Products",
          "New Products",
          "Breakfast",
          "Breakfast",
          "Breakfast",
          "Breakfast",
          "Breakfast",
          "Breakfast",
          "Breakfast",
          "Breakfast",
          "Breakfast",
          "Breakfast",
          "Breakfast",
          "Breakfast",
          "Breakfast",
          "Breakfast",
          "Breakfast",
          "Breakfast",
          "Breakfast",
          "Breakfast",
          "Breakfast",
          "Breakfast",
          "Breakfast",
          "Breakfast",
          "Breakfast",
          "Breakfast",
          "Breakfast",
          "Breakfast",
          "Breakfast",
          "Breakfast",
          "Breakfast",
          "Breakfast",
          "Breakfast",
          "Breakfast",
          "Breakfast",
          "Breakfast",
          "Breakfast",
          "Breakfast",
          "Breakfast",
          "Breakfast",
          "Breakfast",
          "Breakfast",
          "Breakfast",
          "Beef & Pork",
          "Beef & Pork",
          "Beef & Pork",
          "Beef & Pork",
          "Beef & Pork",
          "Beef & Pork",
          "Beef & Pork",
          "Beef & Pork",
          "Beef & Pork",
          "Beef & Pork",
          "Beef & Pork",
          "Beef & Pork",
          "Beef & Pork",
          "Beef & Pork",
          "Beef & Pork",
          "Chicken & Fish",
          "Chicken & Fish",
          "Chicken & Fish",
          "Chicken & Fish",
          "Chicken & Fish",
          "Chicken & Fish",
          "Chicken & Fish",
          "Chicken & Fish",
          "Chicken & Fish",
          "Chicken & Fish",
          "Chicken & Fish",
          "Chicken & Fish",
          "Chicken & Fish",
          "Chicken & Fish",
          "Chicken & Fish",
          "Chicken & Fish",
          "Chicken & Fish",
          "Chicken & Fish",
          "Chicken & Fish",
          "Chicken & Fish",
          "Chicken & Fish",
          "Chicken & Fish",
          "Chicken & Fish",
          "Chicken & Fish",
          "Chicken & Fish",
          "Chicken & Fish",
          "Salads",
          "Salads",
          "Salads",
          "Salads",
          "Salads",
          "Salads",
          "Snacks & Sides",
          "Snacks & Sides",
          "Snacks & Sides",
          "Snacks & Sides",
          "Snacks & Sides",
          "Snacks & Sides",
          "Snacks & Sides",
          "Snacks & Sides",
          "Snacks & Sides",
          "Snacks & Sides",
          "Snacks & Sides",
          "Snacks & Sides",
          "Snacks & Sides",
          "Desserts",
          "Desserts",
          "Desserts",
          "Desserts",
          "Desserts",
          "Desserts",
          "Desserts",
          "Cold Beverages",
          "Cold Beverages",
          "Cold Beverages",
          "Cold Beverages",
          "Cold Beverages",
          "Cold Beverages",
          "Cold Beverages",
          "Cold Beverages",
          "Cold Beverages",
          "Cold Beverages",
          "Cold Beverages",
          "Cold Beverages",
          "Cold Beverages",
          "Cold Beverages",
          "Cold Beverages",
          "Cold Beverages",
          "Cold Beverages",
          "Cold Beverages",
          "Cold Beverages",
          "Cold Beverages",
          "Cold Beverages",
          "Cold Beverages",
          "Cold Beverages",
          "Cold Beverages",
          "Cold Beverages",
          "Cold Beverages",
          "Cold Beverages",
          "Hot Beverages",
          "Hot Beverages",
          "Hot Beverages",
          "Hot Beverages",
          "Hot Beverages",
          "Hot Beverages",
          "Hot Beverages",
          "Hot Beverages",
          "Hot Beverages",
          "Hot Beverages",
          "Hot Beverages",
          "Hot Beverages",
          "Hot Beverages",
          "Hot Beverages",
          "Hot Beverages",
          "Hot Beverages",
          "Hot Beverages",
          "Hot Beverages",
          "Hot Beverages",
          "Hot Beverages",
          "Hot Beverages",
          "Hot Beverages",
          "Hot Beverages",
          "Hot Beverages",
          "Hot Beverages",
          "Hot Beverages",
          "Hot Beverages",
          "Hot Beverages",
          "Hot Beverages",
          "Hot Beverages",
          "Hot Beverages",
          "Hot Beverages",
          "Hot Beverages",
          "Hot Beverages",
          "Hot Beverages",
          "Hot Beverages",
          "Hot Beverages",
          "Hot Beverages",
          "Hot Beverages",
          "Hot Beverages",
          "Hot Beverages",
          "Hot Beverages",
          "Hot Beverages",
          "Hot Beverages",
          "Hot Beverages",
          "Hot Beverages",
          "Hot Beverages",
          "Hot Beverages",
          "Hot Beverages",
          "Hot Beverages",
          "Hot Beverages",
          "Hot Beverages",
          "Hot Beverages",
          "Hot Beverages",
          "Hot Beverages",
          "Hot Beverages",
          "Hot Beverages",
          "Hot Beverages",
          "Hot Beverages",
          "Hot Beverages",
          "Hot Beverages",
          "Hot Beverages",
          "Hot Beverages",
          "Hot Beverages",
          "Hot Beverages",
          "Hot Beverages",
          "Hot Beverages",
          "Hot Beverages",
          "Hot Beverages",
          "Hot Beverages",
          "Hot Beverages",
          "Hot Beverages",
          "Hot Beverages",
          "Hot Beverages",
          "Hot Beverages",
          "Hot Beverages",
          "Hot Beverages",
          "Hot Beverages",
          "Hot Beverages",
          "Hot Beverages",
          "Hot Beverages",
          "Hot Beverages",
          "Hot Beverages",
          "Hot Beverages",
          "Hot Beverages",
          "Hot Beverages",
          "Hot Beverages",
          "Hot Beverages",
          "Hot Beverages",
          "Hot Beverages",
          "Hot Beverages",
          "Hot Beverages",
          "Hot Beverages",
          "Hot Beverages",
          "Hot Beverages",
          "Smoothies & Shakes",
          "Smoothies & Shakes",
          "Smoothies & Shakes",
          "Smoothies & Shakes",
          "Smoothies & Shakes",
          "Smoothies & Shakes",
          "Smoothies & Shakes",
          "Smoothies & Shakes",
          "Smoothies & Shakes",
          "Smoothies & Shakes",
          "Smoothies & Shakes",
          "Smoothies & Shakes",
          "Smoothies & Shakes",
          "Smoothies & Shakes",
          "Smoothies & Shakes",
          "Smoothies & Shakes",
          "Smoothies & Shakes",
          "Smoothies & Shakes",
          "Smoothies & Shakes",
          "Smoothies & Shakes",
          "Smoothies & Shakes",
          "Smoothies & Shakes",
          "Smoothies & Shakes",
          "Smoothies & Shakes",
          "Smoothies & Shakes",
          "Smoothies & Shakes",
          "Smoothies & Shakes",
          "Smoothies & Shakes"
         ]
        }
       ],
       "layout": {
        "height": 500,
        "template": {
         "data": {
          "bar": [
           {
            "error_x": {
             "color": "#2a3f5f"
            },
            "error_y": {
             "color": "#2a3f5f"
            },
            "marker": {
             "line": {
              "color": "#E5ECF6",
              "width": 0.5
             },
             "pattern": {
              "fillmode": "overlay",
              "size": 10,
              "solidity": 0.2
             }
            },
            "type": "bar"
           }
          ],
          "barpolar": [
           {
            "marker": {
             "line": {
              "color": "#E5ECF6",
              "width": 0.5
             },
             "pattern": {
              "fillmode": "overlay",
              "size": 10,
              "solidity": 0.2
             }
            },
            "type": "barpolar"
           }
          ],
          "carpet": [
           {
            "aaxis": {
             "endlinecolor": "#2a3f5f",
             "gridcolor": "white",
             "linecolor": "white",
             "minorgridcolor": "white",
             "startlinecolor": "#2a3f5f"
            },
            "baxis": {
             "endlinecolor": "#2a3f5f",
             "gridcolor": "white",
             "linecolor": "white",
             "minorgridcolor": "white",
             "startlinecolor": "#2a3f5f"
            },
            "type": "carpet"
           }
          ],
          "choropleth": [
           {
            "colorbar": {
             "outlinewidth": 0,
             "ticks": ""
            },
            "type": "choropleth"
           }
          ],
          "contour": [
           {
            "colorbar": {
             "outlinewidth": 0,
             "ticks": ""
            },
            "colorscale": [
             [
              0,
              "#0d0887"
             ],
             [
              0.1111111111111111,
              "#46039f"
             ],
             [
              0.2222222222222222,
              "#7201a8"
             ],
             [
              0.3333333333333333,
              "#9c179e"
             ],
             [
              0.4444444444444444,
              "#bd3786"
             ],
             [
              0.5555555555555556,
              "#d8576b"
             ],
             [
              0.6666666666666666,
              "#ed7953"
             ],
             [
              0.7777777777777778,
              "#fb9f3a"
             ],
             [
              0.8888888888888888,
              "#fdca26"
             ],
             [
              1,
              "#f0f921"
             ]
            ],
            "type": "contour"
           }
          ],
          "contourcarpet": [
           {
            "colorbar": {
             "outlinewidth": 0,
             "ticks": ""
            },
            "type": "contourcarpet"
           }
          ],
          "heatmap": [
           {
            "colorbar": {
             "outlinewidth": 0,
             "ticks": ""
            },
            "colorscale": [
             [
              0,
              "#0d0887"
             ],
             [
              0.1111111111111111,
              "#46039f"
             ],
             [
              0.2222222222222222,
              "#7201a8"
             ],
             [
              0.3333333333333333,
              "#9c179e"
             ],
             [
              0.4444444444444444,
              "#bd3786"
             ],
             [
              0.5555555555555556,
              "#d8576b"
             ],
             [
              0.6666666666666666,
              "#ed7953"
             ],
             [
              0.7777777777777778,
              "#fb9f3a"
             ],
             [
              0.8888888888888888,
              "#fdca26"
             ],
             [
              1,
              "#f0f921"
             ]
            ],
            "type": "heatmap"
           }
          ],
          "heatmapgl": [
           {
            "colorbar": {
             "outlinewidth": 0,
             "ticks": ""
            },
            "colorscale": [
             [
              0,
              "#0d0887"
             ],
             [
              0.1111111111111111,
              "#46039f"
             ],
             [
              0.2222222222222222,
              "#7201a8"
             ],
             [
              0.3333333333333333,
              "#9c179e"
             ],
             [
              0.4444444444444444,
              "#bd3786"
             ],
             [
              0.5555555555555556,
              "#d8576b"
             ],
             [
              0.6666666666666666,
              "#ed7953"
             ],
             [
              0.7777777777777778,
              "#fb9f3a"
             ],
             [
              0.8888888888888888,
              "#fdca26"
             ],
             [
              1,
              "#f0f921"
             ]
            ],
            "type": "heatmapgl"
           }
          ],
          "histogram": [
           {
            "marker": {
             "pattern": {
              "fillmode": "overlay",
              "size": 10,
              "solidity": 0.2
             }
            },
            "type": "histogram"
           }
          ],
          "histogram2d": [
           {
            "colorbar": {
             "outlinewidth": 0,
             "ticks": ""
            },
            "colorscale": [
             [
              0,
              "#0d0887"
             ],
             [
              0.1111111111111111,
              "#46039f"
             ],
             [
              0.2222222222222222,
              "#7201a8"
             ],
             [
              0.3333333333333333,
              "#9c179e"
             ],
             [
              0.4444444444444444,
              "#bd3786"
             ],
             [
              0.5555555555555556,
              "#d8576b"
             ],
             [
              0.6666666666666666,
              "#ed7953"
             ],
             [
              0.7777777777777778,
              "#fb9f3a"
             ],
             [
              0.8888888888888888,
              "#fdca26"
             ],
             [
              1,
              "#f0f921"
             ]
            ],
            "type": "histogram2d"
           }
          ],
          "histogram2dcontour": [
           {
            "colorbar": {
             "outlinewidth": 0,
             "ticks": ""
            },
            "colorscale": [
             [
              0,
              "#0d0887"
             ],
             [
              0.1111111111111111,
              "#46039f"
             ],
             [
              0.2222222222222222,
              "#7201a8"
             ],
             [
              0.3333333333333333,
              "#9c179e"
             ],
             [
              0.4444444444444444,
              "#bd3786"
             ],
             [
              0.5555555555555556,
              "#d8576b"
             ],
             [
              0.6666666666666666,
              "#ed7953"
             ],
             [
              0.7777777777777778,
              "#fb9f3a"
             ],
             [
              0.8888888888888888,
              "#fdca26"
             ],
             [
              1,
              "#f0f921"
             ]
            ],
            "type": "histogram2dcontour"
           }
          ],
          "mesh3d": [
           {
            "colorbar": {
             "outlinewidth": 0,
             "ticks": ""
            },
            "type": "mesh3d"
           }
          ],
          "parcoords": [
           {
            "line": {
             "colorbar": {
              "outlinewidth": 0,
              "ticks": ""
             }
            },
            "type": "parcoords"
           }
          ],
          "pie": [
           {
            "automargin": true,
            "type": "pie"
           }
          ],
          "scatter": [
           {
            "fillpattern": {
             "fillmode": "overlay",
             "size": 10,
             "solidity": 0.2
            },
            "type": "scatter"
           }
          ],
          "scatter3d": [
           {
            "line": {
             "colorbar": {
              "outlinewidth": 0,
              "ticks": ""
             }
            },
            "marker": {
             "colorbar": {
              "outlinewidth": 0,
              "ticks": ""
             }
            },
            "type": "scatter3d"
           }
          ],
          "scattercarpet": [
           {
            "marker": {
             "colorbar": {
              "outlinewidth": 0,
              "ticks": ""
             }
            },
            "type": "scattercarpet"
           }
          ],
          "scattergeo": [
           {
            "marker": {
             "colorbar": {
              "outlinewidth": 0,
              "ticks": ""
             }
            },
            "type": "scattergeo"
           }
          ],
          "scattergl": [
           {
            "marker": {
             "colorbar": {
              "outlinewidth": 0,
              "ticks": ""
             }
            },
            "type": "scattergl"
           }
          ],
          "scattermapbox": [
           {
            "marker": {
             "colorbar": {
              "outlinewidth": 0,
              "ticks": ""
             }
            },
            "type": "scattermapbox"
           }
          ],
          "scatterpolar": [
           {
            "marker": {
             "colorbar": {
              "outlinewidth": 0,
              "ticks": ""
             }
            },
            "type": "scatterpolar"
           }
          ],
          "scatterpolargl": [
           {
            "marker": {
             "colorbar": {
              "outlinewidth": 0,
              "ticks": ""
             }
            },
            "type": "scatterpolargl"
           }
          ],
          "scatterternary": [
           {
            "marker": {
             "colorbar": {
              "outlinewidth": 0,
              "ticks": ""
             }
            },
            "type": "scatterternary"
           }
          ],
          "surface": [
           {
            "colorbar": {
             "outlinewidth": 0,
             "ticks": ""
            },
            "colorscale": [
             [
              0,
              "#0d0887"
             ],
             [
              0.1111111111111111,
              "#46039f"
             ],
             [
              0.2222222222222222,
              "#7201a8"
             ],
             [
              0.3333333333333333,
              "#9c179e"
             ],
             [
              0.4444444444444444,
              "#bd3786"
             ],
             [
              0.5555555555555556,
              "#d8576b"
             ],
             [
              0.6666666666666666,
              "#ed7953"
             ],
             [
              0.7777777777777778,
              "#fb9f3a"
             ],
             [
              0.8888888888888888,
              "#fdca26"
             ],
             [
              1,
              "#f0f921"
             ]
            ],
            "type": "surface"
           }
          ],
          "table": [
           {
            "cells": {
             "fill": {
              "color": "#EBF0F8"
             },
             "line": {
              "color": "white"
             }
            },
            "header": {
             "fill": {
              "color": "#C8D4E3"
             },
             "line": {
              "color": "white"
             }
            },
            "type": "table"
           }
          ]
         },
         "layout": {
          "annotationdefaults": {
           "arrowcolor": "#2a3f5f",
           "arrowhead": 0,
           "arrowwidth": 1
          },
          "autotypenumbers": "strict",
          "coloraxis": {
           "colorbar": {
            "outlinewidth": 0,
            "ticks": ""
           }
          },
          "colorscale": {
           "diverging": [
            [
             0,
             "#8e0152"
            ],
            [
             0.1,
             "#c51b7d"
            ],
            [
             0.2,
             "#de77ae"
            ],
            [
             0.3,
             "#f1b6da"
            ],
            [
             0.4,
             "#fde0ef"
            ],
            [
             0.5,
             "#f7f7f7"
            ],
            [
             0.6,
             "#e6f5d0"
            ],
            [
             0.7,
             "#b8e186"
            ],
            [
             0.8,
             "#7fbc41"
            ],
            [
             0.9,
             "#4d9221"
            ],
            [
             1,
             "#276419"
            ]
           ],
           "sequential": [
            [
             0,
             "#0d0887"
            ],
            [
             0.1111111111111111,
             "#46039f"
            ],
            [
             0.2222222222222222,
             "#7201a8"
            ],
            [
             0.3333333333333333,
             "#9c179e"
            ],
            [
             0.4444444444444444,
             "#bd3786"
            ],
            [
             0.5555555555555556,
             "#d8576b"
            ],
            [
             0.6666666666666666,
             "#ed7953"
            ],
            [
             0.7777777777777778,
             "#fb9f3a"
            ],
            [
             0.8888888888888888,
             "#fdca26"
            ],
            [
             1,
             "#f0f921"
            ]
           ],
           "sequentialminus": [
            [
             0,
             "#0d0887"
            ],
            [
             0.1111111111111111,
             "#46039f"
            ],
            [
             0.2222222222222222,
             "#7201a8"
            ],
            [
             0.3333333333333333,
             "#9c179e"
            ],
            [
             0.4444444444444444,
             "#bd3786"
            ],
            [
             0.5555555555555556,
             "#d8576b"
            ],
            [
             0.6666666666666666,
             "#ed7953"
            ],
            [
             0.7777777777777778,
             "#fb9f3a"
            ],
            [
             0.8888888888888888,
             "#fdca26"
            ],
            [
             1,
             "#f0f921"
            ]
           ]
          },
          "colorway": [
           "#636efa",
           "#EF553B",
           "#00cc96",
           "#ab63fa",
           "#FFA15A",
           "#19d3f3",
           "#FF6692",
           "#B6E880",
           "#FF97FF",
           "#FECB52"
          ],
          "font": {
           "color": "#2a3f5f"
          },
          "geo": {
           "bgcolor": "white",
           "lakecolor": "white",
           "landcolor": "#E5ECF6",
           "showlakes": true,
           "showland": true,
           "subunitcolor": "white"
          },
          "hoverlabel": {
           "align": "left"
          },
          "hovermode": "closest",
          "mapbox": {
           "style": "light"
          },
          "paper_bgcolor": "white",
          "plot_bgcolor": "#E5ECF6",
          "polar": {
           "angularaxis": {
            "gridcolor": "white",
            "linecolor": "white",
            "ticks": ""
           },
           "bgcolor": "#E5ECF6",
           "radialaxis": {
            "gridcolor": "white",
            "linecolor": "white",
            "ticks": ""
           }
          },
          "scene": {
           "xaxis": {
            "backgroundcolor": "#E5ECF6",
            "gridcolor": "white",
            "gridwidth": 2,
            "linecolor": "white",
            "showbackground": true,
            "ticks": "",
            "zerolinecolor": "white"
           },
           "yaxis": {
            "backgroundcolor": "#E5ECF6",
            "gridcolor": "white",
            "gridwidth": 2,
            "linecolor": "white",
            "showbackground": true,
            "ticks": "",
            "zerolinecolor": "white"
           },
           "zaxis": {
            "backgroundcolor": "#E5ECF6",
            "gridcolor": "white",
            "gridwidth": 2,
            "linecolor": "white",
            "showbackground": true,
            "ticks": "",
            "zerolinecolor": "white"
           }
          },
          "shapedefaults": {
           "line": {
            "color": "#2a3f5f"
           }
          },
          "ternary": {
           "aaxis": {
            "gridcolor": "white",
            "linecolor": "white",
            "ticks": ""
           },
           "baxis": {
            "gridcolor": "white",
            "linecolor": "white",
            "ticks": ""
           },
           "bgcolor": "#E5ECF6",
           "caxis": {
            "gridcolor": "white",
            "linecolor": "white",
            "ticks": ""
           }
          },
          "title": {
           "x": 0.05
          },
          "xaxis": {
           "automargin": true,
           "gridcolor": "white",
           "linecolor": "white",
           "ticks": "",
           "title": {
            "standoff": 15
           },
           "zerolinecolor": "white",
           "zerolinewidth": 2
          },
          "yaxis": {
           "automargin": true,
           "gridcolor": "white",
           "linecolor": "white",
           "ticks": "",
           "title": {
            "standoff": 15
           },
           "zerolinecolor": "white",
           "zerolinewidth": 2
          }
         }
        },
        "title": {
         "text": "Dietary_Fibre per Category",
         "x": 0.5
        },
        "width": 1000,
        "xaxis": {
         "title": {
          "text": "Dietary_Fibre"
         }
        },
        "yaxis": {
         "title": {
          "text": "Category"
         }
        }
       }
      }
     },
     "metadata": {},
     "output_type": "display_data"
    }
   ],
   "source": [
    "# Initiate an empty figure\n",
    "fig = go.Figure()\n",
    "\n",
    "# Add a trace of bar to the figure\n",
    "fig.add_trace(trace=go.Box(x=data['Dietary_Fibre'], \n",
    "                           y=data['Category'], \n",
    "                           orientation='h', \n",
    "                           marker=dict(color='rgba(148, 166, 212, 1.0)',\n",
    "                                       line=dict(color='rgba(81, 64, 191, 1.0)', \n",
    "                                                 width=3))))\n",
    "\n",
    "# Update the layout with some cosmetics\n",
    "fig.update_layout(height=500, \n",
    "                  width=1000, \n",
    "                  title_text='Dietary_Fibre per Category', \n",
    "                  title_x=0.5,\n",
    "                  xaxis_title='Dietary_Fibre', \n",
    "                  yaxis_title='Category')\n",
    "\n",
    "# Display the figure\n",
    "fig.show()"
   ]
  },
  {
   "cell_type": "code",
   "execution_count": 28,
   "metadata": {},
   "outputs": [
    {
     "data": {
      "text/html": [
       "<div>\n",
       "<style scoped>\n",
       "    .dataframe tbody tr th:only-of-type {\n",
       "        vertical-align: middle;\n",
       "    }\n",
       "\n",
       "    .dataframe tbody tr th {\n",
       "        vertical-align: top;\n",
       "    }\n",
       "\n",
       "    .dataframe thead th {\n",
       "        text-align: right;\n",
       "    }\n",
       "</style>\n",
       "<table border=\"1\" class=\"dataframe\">\n",
       "  <thead>\n",
       "    <tr style=\"text-align: right;\">\n",
       "      <th>Category</th>\n",
       "      <th>Hot Beverages</th>\n",
       "      <th>Breakfast</th>\n",
       "      <th>Cold Beverages</th>\n",
       "      <th>Smoothies &amp; Shakes</th>\n",
       "      <th>Chicken &amp; Fish</th>\n",
       "      <th>Desserts</th>\n",
       "      <th>Snacks &amp; Sides</th>\n",
       "      <th>Beef &amp; Pork</th>\n",
       "      <th>Sandwiches and Wraps</th>\n",
       "      <th>Salads</th>\n",
       "      <th>Condiments</th>\n",
       "      <th>New Products</th>\n",
       "      <th>Nuggets</th>\n",
       "      <th>Chicken Wings</th>\n",
       "    </tr>\n",
       "  </thead>\n",
       "  <tbody>\n",
       "    <tr>\n",
       "      <th>Best_Selling_Item</th>\n",
       "      <td>99</td>\n",
       "      <td>49</td>\n",
       "      <td>45</td>\n",
       "      <td>34</td>\n",
       "      <td>26</td>\n",
       "      <td>24</td>\n",
       "      <td>17</td>\n",
       "      <td>15</td>\n",
       "      <td>10</td>\n",
       "      <td>6</td>\n",
       "      <td>5</td>\n",
       "      <td>5</td>\n",
       "      <td>3</td>\n",
       "      <td>2</td>\n",
       "    </tr>\n",
       "  </tbody>\n",
       "</table>\n",
       "</div>"
      ],
      "text/plain": [
       "Category           Hot Beverages  Breakfast  Cold Beverages  \\\n",
       "Best_Selling_Item             99         49              45   \n",
       "\n",
       "Category           Smoothies & Shakes  Chicken & Fish  Desserts  \\\n",
       "Best_Selling_Item                  34              26        24   \n",
       "\n",
       "Category           Snacks & Sides  Beef & Pork  Sandwiches and Wraps  Salads  \\\n",
       "Best_Selling_Item              17           15                    10       6   \n",
       "\n",
       "Category           Condiments  New Products  Nuggets  Chicken Wings  \n",
       "Best_Selling_Item           5             5        3              2  "
      ]
     },
     "execution_count": 28,
     "metadata": {},
     "output_type": "execute_result"
    }
   ],
   "source": [
    "category_count = data.groupby(by='Category').count()\n",
    "item_count = category_count[['Best_Selling_Item']].sort_values(by='Best_Selling_Item', ascending=False)\n",
    "item_count.transpose()"
   ]
  },
  {
   "cell_type": "code",
   "execution_count": 46,
   "metadata": {},
   "outputs": [
    {
     "data": {
      "application/vnd.plotly.v1+json": {
       "config": {
        "plotlyServerURL": "https://plot.ly"
       },
       "data": [
        {
         "type": "heatmap",
         "x": [
          "Total_Fat",
          "Saturated_Fat",
          "Trans_Fat",
          "Cholestrol"
         ],
         "y": [
          "Big Breakfast with Hotcakes (Large Biscuit)",
          "Big Breakfast with Hotcakes (Regular Biscuit)",
          "Big Breakfast (Large Biscuit)",
          "Big Breakfast (Regular Biscuit)",
          "Steak, Egg & Cheese Bagel",
          "Steak & Egg McMuffin",
          "Steak & Egg Biscuit (Regular Biscuit)",
          "Sausage McMuffin with Egg",
          "Bacon, Egg & Cheese Bagel",
          "Sausage, Egg & Cheese McGriddles"
         ],
         "z": [
          [
           60,
           20,
           0,
           575
          ],
          [
           56,
           19,
           0,
           575
          ],
          [
           52,
           18,
           0,
           555
          ],
          [
           48,
           17,
           0,
           555
          ],
          [
           35,
           13,
           1.5,
           295
          ],
          [
           23,
           9,
           1,
           300
          ],
          [
           32,
           16,
           1,
           280
          ],
          [
           28,
           10,
           0,
           285
          ],
          [
           31,
           11,
           0.5,
           275
          ],
          [
           31,
           12,
           0,
           265
          ]
         ]
        }
       ],
       "layout": {
        "height": 500,
        "template": {
         "data": {
          "bar": [
           {
            "error_x": {
             "color": "#2a3f5f"
            },
            "error_y": {
             "color": "#2a3f5f"
            },
            "marker": {
             "line": {
              "color": "#E5ECF6",
              "width": 0.5
             },
             "pattern": {
              "fillmode": "overlay",
              "size": 10,
              "solidity": 0.2
             }
            },
            "type": "bar"
           }
          ],
          "barpolar": [
           {
            "marker": {
             "line": {
              "color": "#E5ECF6",
              "width": 0.5
             },
             "pattern": {
              "fillmode": "overlay",
              "size": 10,
              "solidity": 0.2
             }
            },
            "type": "barpolar"
           }
          ],
          "carpet": [
           {
            "aaxis": {
             "endlinecolor": "#2a3f5f",
             "gridcolor": "white",
             "linecolor": "white",
             "minorgridcolor": "white",
             "startlinecolor": "#2a3f5f"
            },
            "baxis": {
             "endlinecolor": "#2a3f5f",
             "gridcolor": "white",
             "linecolor": "white",
             "minorgridcolor": "white",
             "startlinecolor": "#2a3f5f"
            },
            "type": "carpet"
           }
          ],
          "choropleth": [
           {
            "colorbar": {
             "outlinewidth": 0,
             "ticks": ""
            },
            "type": "choropleth"
           }
          ],
          "contour": [
           {
            "colorbar": {
             "outlinewidth": 0,
             "ticks": ""
            },
            "colorscale": [
             [
              0,
              "#0d0887"
             ],
             [
              0.1111111111111111,
              "#46039f"
             ],
             [
              0.2222222222222222,
              "#7201a8"
             ],
             [
              0.3333333333333333,
              "#9c179e"
             ],
             [
              0.4444444444444444,
              "#bd3786"
             ],
             [
              0.5555555555555556,
              "#d8576b"
             ],
             [
              0.6666666666666666,
              "#ed7953"
             ],
             [
              0.7777777777777778,
              "#fb9f3a"
             ],
             [
              0.8888888888888888,
              "#fdca26"
             ],
             [
              1,
              "#f0f921"
             ]
            ],
            "type": "contour"
           }
          ],
          "contourcarpet": [
           {
            "colorbar": {
             "outlinewidth": 0,
             "ticks": ""
            },
            "type": "contourcarpet"
           }
          ],
          "heatmap": [
           {
            "colorbar": {
             "outlinewidth": 0,
             "ticks": ""
            },
            "colorscale": [
             [
              0,
              "#0d0887"
             ],
             [
              0.1111111111111111,
              "#46039f"
             ],
             [
              0.2222222222222222,
              "#7201a8"
             ],
             [
              0.3333333333333333,
              "#9c179e"
             ],
             [
              0.4444444444444444,
              "#bd3786"
             ],
             [
              0.5555555555555556,
              "#d8576b"
             ],
             [
              0.6666666666666666,
              "#ed7953"
             ],
             [
              0.7777777777777778,
              "#fb9f3a"
             ],
             [
              0.8888888888888888,
              "#fdca26"
             ],
             [
              1,
              "#f0f921"
             ]
            ],
            "type": "heatmap"
           }
          ],
          "heatmapgl": [
           {
            "colorbar": {
             "outlinewidth": 0,
             "ticks": ""
            },
            "colorscale": [
             [
              0,
              "#0d0887"
             ],
             [
              0.1111111111111111,
              "#46039f"
             ],
             [
              0.2222222222222222,
              "#7201a8"
             ],
             [
              0.3333333333333333,
              "#9c179e"
             ],
             [
              0.4444444444444444,
              "#bd3786"
             ],
             [
              0.5555555555555556,
              "#d8576b"
             ],
             [
              0.6666666666666666,
              "#ed7953"
             ],
             [
              0.7777777777777778,
              "#fb9f3a"
             ],
             [
              0.8888888888888888,
              "#fdca26"
             ],
             [
              1,
              "#f0f921"
             ]
            ],
            "type": "heatmapgl"
           }
          ],
          "histogram": [
           {
            "marker": {
             "pattern": {
              "fillmode": "overlay",
              "size": 10,
              "solidity": 0.2
             }
            },
            "type": "histogram"
           }
          ],
          "histogram2d": [
           {
            "colorbar": {
             "outlinewidth": 0,
             "ticks": ""
            },
            "colorscale": [
             [
              0,
              "#0d0887"
             ],
             [
              0.1111111111111111,
              "#46039f"
             ],
             [
              0.2222222222222222,
              "#7201a8"
             ],
             [
              0.3333333333333333,
              "#9c179e"
             ],
             [
              0.4444444444444444,
              "#bd3786"
             ],
             [
              0.5555555555555556,
              "#d8576b"
             ],
             [
              0.6666666666666666,
              "#ed7953"
             ],
             [
              0.7777777777777778,
              "#fb9f3a"
             ],
             [
              0.8888888888888888,
              "#fdca26"
             ],
             [
              1,
              "#f0f921"
             ]
            ],
            "type": "histogram2d"
           }
          ],
          "histogram2dcontour": [
           {
            "colorbar": {
             "outlinewidth": 0,
             "ticks": ""
            },
            "colorscale": [
             [
              0,
              "#0d0887"
             ],
             [
              0.1111111111111111,
              "#46039f"
             ],
             [
              0.2222222222222222,
              "#7201a8"
             ],
             [
              0.3333333333333333,
              "#9c179e"
             ],
             [
              0.4444444444444444,
              "#bd3786"
             ],
             [
              0.5555555555555556,
              "#d8576b"
             ],
             [
              0.6666666666666666,
              "#ed7953"
             ],
             [
              0.7777777777777778,
              "#fb9f3a"
             ],
             [
              0.8888888888888888,
              "#fdca26"
             ],
             [
              1,
              "#f0f921"
             ]
            ],
            "type": "histogram2dcontour"
           }
          ],
          "mesh3d": [
           {
            "colorbar": {
             "outlinewidth": 0,
             "ticks": ""
            },
            "type": "mesh3d"
           }
          ],
          "parcoords": [
           {
            "line": {
             "colorbar": {
              "outlinewidth": 0,
              "ticks": ""
             }
            },
            "type": "parcoords"
           }
          ],
          "pie": [
           {
            "automargin": true,
            "type": "pie"
           }
          ],
          "scatter": [
           {
            "fillpattern": {
             "fillmode": "overlay",
             "size": 10,
             "solidity": 0.2
            },
            "type": "scatter"
           }
          ],
          "scatter3d": [
           {
            "line": {
             "colorbar": {
              "outlinewidth": 0,
              "ticks": ""
             }
            },
            "marker": {
             "colorbar": {
              "outlinewidth": 0,
              "ticks": ""
             }
            },
            "type": "scatter3d"
           }
          ],
          "scattercarpet": [
           {
            "marker": {
             "colorbar": {
              "outlinewidth": 0,
              "ticks": ""
             }
            },
            "type": "scattercarpet"
           }
          ],
          "scattergeo": [
           {
            "marker": {
             "colorbar": {
              "outlinewidth": 0,
              "ticks": ""
             }
            },
            "type": "scattergeo"
           }
          ],
          "scattergl": [
           {
            "marker": {
             "colorbar": {
              "outlinewidth": 0,
              "ticks": ""
             }
            },
            "type": "scattergl"
           }
          ],
          "scattermapbox": [
           {
            "marker": {
             "colorbar": {
              "outlinewidth": 0,
              "ticks": ""
             }
            },
            "type": "scattermapbox"
           }
          ],
          "scatterpolar": [
           {
            "marker": {
             "colorbar": {
              "outlinewidth": 0,
              "ticks": ""
             }
            },
            "type": "scatterpolar"
           }
          ],
          "scatterpolargl": [
           {
            "marker": {
             "colorbar": {
              "outlinewidth": 0,
              "ticks": ""
             }
            },
            "type": "scatterpolargl"
           }
          ],
          "scatterternary": [
           {
            "marker": {
             "colorbar": {
              "outlinewidth": 0,
              "ticks": ""
             }
            },
            "type": "scatterternary"
           }
          ],
          "surface": [
           {
            "colorbar": {
             "outlinewidth": 0,
             "ticks": ""
            },
            "colorscale": [
             [
              0,
              "#0d0887"
             ],
             [
              0.1111111111111111,
              "#46039f"
             ],
             [
              0.2222222222222222,
              "#7201a8"
             ],
             [
              0.3333333333333333,
              "#9c179e"
             ],
             [
              0.4444444444444444,
              "#bd3786"
             ],
             [
              0.5555555555555556,
              "#d8576b"
             ],
             [
              0.6666666666666666,
              "#ed7953"
             ],
             [
              0.7777777777777778,
              "#fb9f3a"
             ],
             [
              0.8888888888888888,
              "#fdca26"
             ],
             [
              1,
              "#f0f921"
             ]
            ],
            "type": "surface"
           }
          ],
          "table": [
           {
            "cells": {
             "fill": {
              "color": "#EBF0F8"
             },
             "line": {
              "color": "white"
             }
            },
            "header": {
             "fill": {
              "color": "#C8D4E3"
             },
             "line": {
              "color": "white"
             }
            },
            "type": "table"
           }
          ]
         },
         "layout": {
          "annotationdefaults": {
           "arrowcolor": "#2a3f5f",
           "arrowhead": 0,
           "arrowwidth": 1
          },
          "autotypenumbers": "strict",
          "coloraxis": {
           "colorbar": {
            "outlinewidth": 0,
            "ticks": ""
           }
          },
          "colorscale": {
           "diverging": [
            [
             0,
             "#8e0152"
            ],
            [
             0.1,
             "#c51b7d"
            ],
            [
             0.2,
             "#de77ae"
            ],
            [
             0.3,
             "#f1b6da"
            ],
            [
             0.4,
             "#fde0ef"
            ],
            [
             0.5,
             "#f7f7f7"
            ],
            [
             0.6,
             "#e6f5d0"
            ],
            [
             0.7,
             "#b8e186"
            ],
            [
             0.8,
             "#7fbc41"
            ],
            [
             0.9,
             "#4d9221"
            ],
            [
             1,
             "#276419"
            ]
           ],
           "sequential": [
            [
             0,
             "#0d0887"
            ],
            [
             0.1111111111111111,
             "#46039f"
            ],
            [
             0.2222222222222222,
             "#7201a8"
            ],
            [
             0.3333333333333333,
             "#9c179e"
            ],
            [
             0.4444444444444444,
             "#bd3786"
            ],
            [
             0.5555555555555556,
             "#d8576b"
            ],
            [
             0.6666666666666666,
             "#ed7953"
            ],
            [
             0.7777777777777778,
             "#fb9f3a"
            ],
            [
             0.8888888888888888,
             "#fdca26"
            ],
            [
             1,
             "#f0f921"
            ]
           ],
           "sequentialminus": [
            [
             0,
             "#0d0887"
            ],
            [
             0.1111111111111111,
             "#46039f"
            ],
            [
             0.2222222222222222,
             "#7201a8"
            ],
            [
             0.3333333333333333,
             "#9c179e"
            ],
            [
             0.4444444444444444,
             "#bd3786"
            ],
            [
             0.5555555555555556,
             "#d8576b"
            ],
            [
             0.6666666666666666,
             "#ed7953"
            ],
            [
             0.7777777777777778,
             "#fb9f3a"
            ],
            [
             0.8888888888888888,
             "#fdca26"
            ],
            [
             1,
             "#f0f921"
            ]
           ]
          },
          "colorway": [
           "#636efa",
           "#EF553B",
           "#00cc96",
           "#ab63fa",
           "#FFA15A",
           "#19d3f3",
           "#FF6692",
           "#B6E880",
           "#FF97FF",
           "#FECB52"
          ],
          "font": {
           "color": "#2a3f5f"
          },
          "geo": {
           "bgcolor": "white",
           "lakecolor": "white",
           "landcolor": "#E5ECF6",
           "showlakes": true,
           "showland": true,
           "subunitcolor": "white"
          },
          "hoverlabel": {
           "align": "left"
          },
          "hovermode": "closest",
          "mapbox": {
           "style": "light"
          },
          "paper_bgcolor": "white",
          "plot_bgcolor": "#E5ECF6",
          "polar": {
           "angularaxis": {
            "gridcolor": "white",
            "linecolor": "white",
            "ticks": ""
           },
           "bgcolor": "#E5ECF6",
           "radialaxis": {
            "gridcolor": "white",
            "linecolor": "white",
            "ticks": ""
           }
          },
          "scene": {
           "xaxis": {
            "backgroundcolor": "#E5ECF6",
            "gridcolor": "white",
            "gridwidth": 2,
            "linecolor": "white",
            "showbackground": true,
            "ticks": "",
            "zerolinecolor": "white"
           },
           "yaxis": {
            "backgroundcolor": "#E5ECF6",
            "gridcolor": "white",
            "gridwidth": 2,
            "linecolor": "white",
            "showbackground": true,
            "ticks": "",
            "zerolinecolor": "white"
           },
           "zaxis": {
            "backgroundcolor": "#E5ECF6",
            "gridcolor": "white",
            "gridwidth": 2,
            "linecolor": "white",
            "showbackground": true,
            "ticks": "",
            "zerolinecolor": "white"
           }
          },
          "shapedefaults": {
           "line": {
            "color": "#2a3f5f"
           }
          },
          "ternary": {
           "aaxis": {
            "gridcolor": "white",
            "linecolor": "white",
            "ticks": ""
           },
           "baxis": {
            "gridcolor": "white",
            "linecolor": "white",
            "ticks": ""
           },
           "bgcolor": "#E5ECF6",
           "caxis": {
            "gridcolor": "white",
            "linecolor": "white",
            "ticks": ""
           }
          },
          "title": {
           "x": 0.05
          },
          "xaxis": {
           "automargin": true,
           "gridcolor": "white",
           "linecolor": "white",
           "ticks": "",
           "title": {
            "standoff": 15
           },
           "zerolinecolor": "white",
           "zerolinewidth": 2
          },
          "yaxis": {
           "automargin": true,
           "gridcolor": "white",
           "linecolor": "white",
           "ticks": "",
           "title": {
            "standoff": 15
           },
           "zerolinecolor": "white",
           "zerolinewidth": 2
          }
         }
        },
        "title": {
         "text": "Food Items Containing Fat and Cholestrol",
         "x": 0.5
        },
        "width": 1000,
        "xaxis": {
         "title": {
          "text": "Non_Nutritious"
         }
        },
        "yaxis": {
         "title": {
          "text": "Food Items"
         }
        }
       }
      }
     },
     "metadata": {},
     "output_type": "display_data"
    }
   ],
   "source": [
    "Nutritious = ['Protein', 'Fibre']\n",
    "Non_Nutritious = ['Total_Fat', 'Saturated_Fat', 'Trans_Fat', 'Cholestrol']\n",
    "data['Nutritious'] = data['Protein'] + data['Dietary_Fibre']\n",
    "data['Non_Nutritious'] =  data['Total_Fat'] \\\n",
    "                       + data['Saturated_Fat'] \\\n",
    "                       + data['Trans_Fat'] \\\n",
    "                       + data['Cholestrol']\n",
    "breakfast = data[data['Category'] == 'Breakfast']\n",
    "nutriframe = breakfast.groupby(by= ['Best_Selling_Item']).sum().sort_values(by='Nutritious', ascending=False)['Nutritious'].head(10)\n",
    "\n",
    "# Extracting top 10 food items based on non-nutrition\n",
    "nonnutritframe = breakfast.groupby(by=['Best_Selling_Item']) \\\n",
    "                          .sum() \\\n",
    "                          .sort_values(by='Non_Nutritious', ascending=False)[Non_Nutritious] \\\n",
    "                          .head(10)\n",
    "\n",
    "# Initiate an empty figure\n",
    "fig = go.Figure()\n",
    "\n",
    "# Add a trace of bar to the figure\n",
    "fig.add_trace(trace=go.Heatmap(x=Non_Nutritious, \n",
    "                               y=nonnutritframe.index, \n",
    "                               z=nonnutritframe))\n",
    "\n",
    "# Update the layout with some cosmetics\n",
    "fig.update_layout(height=500, \n",
    "                  width=1000, \n",
    "                  title_text='Food Items Containing Fat and Cholestrol', \n",
    "                  title_x=0.5,\n",
    "                  xaxis_title='Non_Nutritious', \n",
    "                  yaxis_title='Food Items')\n",
    "\n",
    "# Display the figure\n",
    "fig.show()"
   ]
  },
  {
   "cell_type": "code",
   "execution_count": 47,
   "metadata": {},
   "outputs": [
    {
     "data": {
      "application/vnd.plotly.v1+json": {
       "config": {
        "plotlyServerURL": "https://plot.ly"
       },
       "data": [
        {
         "marker": {
          "color": "rgba(238, 227, 231, 1.0)",
          "line": {
           "color": "rgba(148, 42, 43, 1.0)",
           "width": 3
          }
         },
         "orientation": "h",
         "type": "bar",
         "x": [
          28,
          14,
          10,
          8,
          7,
          7,
          6,
          6,
          6,
          6
         ],
         "y": [
          "Mumbai",
          "New Delhi",
          "Bangalore",
          "Pune",
          "Washington",
          "Gurgaon",
          "Cincinnati",
          "Alameda",
          "Hyderabad",
          "Cleveland"
         ]
        }
       ],
       "layout": {
        "height": 500,
        "template": {
         "data": {
          "bar": [
           {
            "error_x": {
             "color": "#2a3f5f"
            },
            "error_y": {
             "color": "#2a3f5f"
            },
            "marker": {
             "line": {
              "color": "#E5ECF6",
              "width": 0.5
             },
             "pattern": {
              "fillmode": "overlay",
              "size": 10,
              "solidity": 0.2
             }
            },
            "type": "bar"
           }
          ],
          "barpolar": [
           {
            "marker": {
             "line": {
              "color": "#E5ECF6",
              "width": 0.5
             },
             "pattern": {
              "fillmode": "overlay",
              "size": 10,
              "solidity": 0.2
             }
            },
            "type": "barpolar"
           }
          ],
          "carpet": [
           {
            "aaxis": {
             "endlinecolor": "#2a3f5f",
             "gridcolor": "white",
             "linecolor": "white",
             "minorgridcolor": "white",
             "startlinecolor": "#2a3f5f"
            },
            "baxis": {
             "endlinecolor": "#2a3f5f",
             "gridcolor": "white",
             "linecolor": "white",
             "minorgridcolor": "white",
             "startlinecolor": "#2a3f5f"
            },
            "type": "carpet"
           }
          ],
          "choropleth": [
           {
            "colorbar": {
             "outlinewidth": 0,
             "ticks": ""
            },
            "type": "choropleth"
           }
          ],
          "contour": [
           {
            "colorbar": {
             "outlinewidth": 0,
             "ticks": ""
            },
            "colorscale": [
             [
              0,
              "#0d0887"
             ],
             [
              0.1111111111111111,
              "#46039f"
             ],
             [
              0.2222222222222222,
              "#7201a8"
             ],
             [
              0.3333333333333333,
              "#9c179e"
             ],
             [
              0.4444444444444444,
              "#bd3786"
             ],
             [
              0.5555555555555556,
              "#d8576b"
             ],
             [
              0.6666666666666666,
              "#ed7953"
             ],
             [
              0.7777777777777778,
              "#fb9f3a"
             ],
             [
              0.8888888888888888,
              "#fdca26"
             ],
             [
              1,
              "#f0f921"
             ]
            ],
            "type": "contour"
           }
          ],
          "contourcarpet": [
           {
            "colorbar": {
             "outlinewidth": 0,
             "ticks": ""
            },
            "type": "contourcarpet"
           }
          ],
          "heatmap": [
           {
            "colorbar": {
             "outlinewidth": 0,
             "ticks": ""
            },
            "colorscale": [
             [
              0,
              "#0d0887"
             ],
             [
              0.1111111111111111,
              "#46039f"
             ],
             [
              0.2222222222222222,
              "#7201a8"
             ],
             [
              0.3333333333333333,
              "#9c179e"
             ],
             [
              0.4444444444444444,
              "#bd3786"
             ],
             [
              0.5555555555555556,
              "#d8576b"
             ],
             [
              0.6666666666666666,
              "#ed7953"
             ],
             [
              0.7777777777777778,
              "#fb9f3a"
             ],
             [
              0.8888888888888888,
              "#fdca26"
             ],
             [
              1,
              "#f0f921"
             ]
            ],
            "type": "heatmap"
           }
          ],
          "heatmapgl": [
           {
            "colorbar": {
             "outlinewidth": 0,
             "ticks": ""
            },
            "colorscale": [
             [
              0,
              "#0d0887"
             ],
             [
              0.1111111111111111,
              "#46039f"
             ],
             [
              0.2222222222222222,
              "#7201a8"
             ],
             [
              0.3333333333333333,
              "#9c179e"
             ],
             [
              0.4444444444444444,
              "#bd3786"
             ],
             [
              0.5555555555555556,
              "#d8576b"
             ],
             [
              0.6666666666666666,
              "#ed7953"
             ],
             [
              0.7777777777777778,
              "#fb9f3a"
             ],
             [
              0.8888888888888888,
              "#fdca26"
             ],
             [
              1,
              "#f0f921"
             ]
            ],
            "type": "heatmapgl"
           }
          ],
          "histogram": [
           {
            "marker": {
             "pattern": {
              "fillmode": "overlay",
              "size": 10,
              "solidity": 0.2
             }
            },
            "type": "histogram"
           }
          ],
          "histogram2d": [
           {
            "colorbar": {
             "outlinewidth": 0,
             "ticks": ""
            },
            "colorscale": [
             [
              0,
              "#0d0887"
             ],
             [
              0.1111111111111111,
              "#46039f"
             ],
             [
              0.2222222222222222,
              "#7201a8"
             ],
             [
              0.3333333333333333,
              "#9c179e"
             ],
             [
              0.4444444444444444,
              "#bd3786"
             ],
             [
              0.5555555555555556,
              "#d8576b"
             ],
             [
              0.6666666666666666,
              "#ed7953"
             ],
             [
              0.7777777777777778,
              "#fb9f3a"
             ],
             [
              0.8888888888888888,
              "#fdca26"
             ],
             [
              1,
              "#f0f921"
             ]
            ],
            "type": "histogram2d"
           }
          ],
          "histogram2dcontour": [
           {
            "colorbar": {
             "outlinewidth": 0,
             "ticks": ""
            },
            "colorscale": [
             [
              0,
              "#0d0887"
             ],
             [
              0.1111111111111111,
              "#46039f"
             ],
             [
              0.2222222222222222,
              "#7201a8"
             ],
             [
              0.3333333333333333,
              "#9c179e"
             ],
             [
              0.4444444444444444,
              "#bd3786"
             ],
             [
              0.5555555555555556,
              "#d8576b"
             ],
             [
              0.6666666666666666,
              "#ed7953"
             ],
             [
              0.7777777777777778,
              "#fb9f3a"
             ],
             [
              0.8888888888888888,
              "#fdca26"
             ],
             [
              1,
              "#f0f921"
             ]
            ],
            "type": "histogram2dcontour"
           }
          ],
          "mesh3d": [
           {
            "colorbar": {
             "outlinewidth": 0,
             "ticks": ""
            },
            "type": "mesh3d"
           }
          ],
          "parcoords": [
           {
            "line": {
             "colorbar": {
              "outlinewidth": 0,
              "ticks": ""
             }
            },
            "type": "parcoords"
           }
          ],
          "pie": [
           {
            "automargin": true,
            "type": "pie"
           }
          ],
          "scatter": [
           {
            "fillpattern": {
             "fillmode": "overlay",
             "size": 10,
             "solidity": 0.2
            },
            "type": "scatter"
           }
          ],
          "scatter3d": [
           {
            "line": {
             "colorbar": {
              "outlinewidth": 0,
              "ticks": ""
             }
            },
            "marker": {
             "colorbar": {
              "outlinewidth": 0,
              "ticks": ""
             }
            },
            "type": "scatter3d"
           }
          ],
          "scattercarpet": [
           {
            "marker": {
             "colorbar": {
              "outlinewidth": 0,
              "ticks": ""
             }
            },
            "type": "scattercarpet"
           }
          ],
          "scattergeo": [
           {
            "marker": {
             "colorbar": {
              "outlinewidth": 0,
              "ticks": ""
             }
            },
            "type": "scattergeo"
           }
          ],
          "scattergl": [
           {
            "marker": {
             "colorbar": {
              "outlinewidth": 0,
              "ticks": ""
             }
            },
            "type": "scattergl"
           }
          ],
          "scattermapbox": [
           {
            "marker": {
             "colorbar": {
              "outlinewidth": 0,
              "ticks": ""
             }
            },
            "type": "scattermapbox"
           }
          ],
          "scatterpolar": [
           {
            "marker": {
             "colorbar": {
              "outlinewidth": 0,
              "ticks": ""
             }
            },
            "type": "scatterpolar"
           }
          ],
          "scatterpolargl": [
           {
            "marker": {
             "colorbar": {
              "outlinewidth": 0,
              "ticks": ""
             }
            },
            "type": "scatterpolargl"
           }
          ],
          "scatterternary": [
           {
            "marker": {
             "colorbar": {
              "outlinewidth": 0,
              "ticks": ""
             }
            },
            "type": "scatterternary"
           }
          ],
          "surface": [
           {
            "colorbar": {
             "outlinewidth": 0,
             "ticks": ""
            },
            "colorscale": [
             [
              0,
              "#0d0887"
             ],
             [
              0.1111111111111111,
              "#46039f"
             ],
             [
              0.2222222222222222,
              "#7201a8"
             ],
             [
              0.3333333333333333,
              "#9c179e"
             ],
             [
              0.4444444444444444,
              "#bd3786"
             ],
             [
              0.5555555555555556,
              "#d8576b"
             ],
             [
              0.6666666666666666,
              "#ed7953"
             ],
             [
              0.7777777777777778,
              "#fb9f3a"
             ],
             [
              0.8888888888888888,
              "#fdca26"
             ],
             [
              1,
              "#f0f921"
             ]
            ],
            "type": "surface"
           }
          ],
          "table": [
           {
            "cells": {
             "fill": {
              "color": "#EBF0F8"
             },
             "line": {
              "color": "white"
             }
            },
            "header": {
             "fill": {
              "color": "#C8D4E3"
             },
             "line": {
              "color": "white"
             }
            },
            "type": "table"
           }
          ]
         },
         "layout": {
          "annotationdefaults": {
           "arrowcolor": "#2a3f5f",
           "arrowhead": 0,
           "arrowwidth": 1
          },
          "autotypenumbers": "strict",
          "coloraxis": {
           "colorbar": {
            "outlinewidth": 0,
            "ticks": ""
           }
          },
          "colorscale": {
           "diverging": [
            [
             0,
             "#8e0152"
            ],
            [
             0.1,
             "#c51b7d"
            ],
            [
             0.2,
             "#de77ae"
            ],
            [
             0.3,
             "#f1b6da"
            ],
            [
             0.4,
             "#fde0ef"
            ],
            [
             0.5,
             "#f7f7f7"
            ],
            [
             0.6,
             "#e6f5d0"
            ],
            [
             0.7,
             "#b8e186"
            ],
            [
             0.8,
             "#7fbc41"
            ],
            [
             0.9,
             "#4d9221"
            ],
            [
             1,
             "#276419"
            ]
           ],
           "sequential": [
            [
             0,
             "#0d0887"
            ],
            [
             0.1111111111111111,
             "#46039f"
            ],
            [
             0.2222222222222222,
             "#7201a8"
            ],
            [
             0.3333333333333333,
             "#9c179e"
            ],
            [
             0.4444444444444444,
             "#bd3786"
            ],
            [
             0.5555555555555556,
             "#d8576b"
            ],
            [
             0.6666666666666666,
             "#ed7953"
            ],
            [
             0.7777777777777778,
             "#fb9f3a"
            ],
            [
             0.8888888888888888,
             "#fdca26"
            ],
            [
             1,
             "#f0f921"
            ]
           ],
           "sequentialminus": [
            [
             0,
             "#0d0887"
            ],
            [
             0.1111111111111111,
             "#46039f"
            ],
            [
             0.2222222222222222,
             "#7201a8"
            ],
            [
             0.3333333333333333,
             "#9c179e"
            ],
            [
             0.4444444444444444,
             "#bd3786"
            ],
            [
             0.5555555555555556,
             "#d8576b"
            ],
            [
             0.6666666666666666,
             "#ed7953"
            ],
            [
             0.7777777777777778,
             "#fb9f3a"
            ],
            [
             0.8888888888888888,
             "#fdca26"
            ],
            [
             1,
             "#f0f921"
            ]
           ]
          },
          "colorway": [
           "#636efa",
           "#EF553B",
           "#00cc96",
           "#ab63fa",
           "#FFA15A",
           "#19d3f3",
           "#FF6692",
           "#B6E880",
           "#FF97FF",
           "#FECB52"
          ],
          "font": {
           "color": "#2a3f5f"
          },
          "geo": {
           "bgcolor": "white",
           "lakecolor": "white",
           "landcolor": "#E5ECF6",
           "showlakes": true,
           "showland": true,
           "subunitcolor": "white"
          },
          "hoverlabel": {
           "align": "left"
          },
          "hovermode": "closest",
          "mapbox": {
           "style": "light"
          },
          "paper_bgcolor": "white",
          "plot_bgcolor": "#E5ECF6",
          "polar": {
           "angularaxis": {
            "gridcolor": "white",
            "linecolor": "white",
            "ticks": ""
           },
           "bgcolor": "#E5ECF6",
           "radialaxis": {
            "gridcolor": "white",
            "linecolor": "white",
            "ticks": ""
           }
          },
          "scene": {
           "xaxis": {
            "backgroundcolor": "#E5ECF6",
            "gridcolor": "white",
            "gridwidth": 2,
            "linecolor": "white",
            "showbackground": true,
            "ticks": "",
            "zerolinecolor": "white"
           },
           "yaxis": {
            "backgroundcolor": "#E5ECF6",
            "gridcolor": "white",
            "gridwidth": 2,
            "linecolor": "white",
            "showbackground": true,
            "ticks": "",
            "zerolinecolor": "white"
           },
           "zaxis": {
            "backgroundcolor": "#E5ECF6",
            "gridcolor": "white",
            "gridwidth": 2,
            "linecolor": "white",
            "showbackground": true,
            "ticks": "",
            "zerolinecolor": "white"
           }
          },
          "shapedefaults": {
           "line": {
            "color": "#2a3f5f"
           }
          },
          "ternary": {
           "aaxis": {
            "gridcolor": "white",
            "linecolor": "white",
            "ticks": ""
           },
           "baxis": {
            "gridcolor": "white",
            "linecolor": "white",
            "ticks": ""
           },
           "bgcolor": "#E5ECF6",
           "caxis": {
            "gridcolor": "white",
            "linecolor": "white",
            "ticks": ""
           }
          },
          "title": {
           "x": 0.05
          },
          "xaxis": {
           "automargin": true,
           "gridcolor": "white",
           "linecolor": "white",
           "ticks": "",
           "title": {
            "standoff": 15
           },
           "zerolinecolor": "white",
           "zerolinewidth": 2
          },
          "yaxis": {
           "automargin": true,
           "gridcolor": "white",
           "linecolor": "white",
           "ticks": "",
           "title": {
            "standoff": 15
           },
           "zerolinecolor": "white",
           "zerolinewidth": 2
          }
         }
        },
        "title": {
         "text": "Top 10 Cities having Highest Outlets",
         "x": 0.5
        },
        "width": 1000,
        "xaxis": {
         "title": {
          "text": "Frequency"
         }
        },
        "yaxis": {
         "title": {
          "text": "City"
         }
        }
       }
      }
     },
     "metadata": {},
     "output_type": "display_data"
    }
   ],
   "source": [
    "labels = data['City'].value_counts().index[0:10]\n",
    "values = data['City'].value_counts().values[0:10]\n",
    "fig = go.Figure()\n",
    "\n",
    "# Add a trace of bar to the figure\n",
    "fig.add_trace(trace=go.Bar(x=values, \n",
    "                           y=labels, \n",
    "                           orientation='h',\n",
    "                           marker=dict(color='rgba(238, 227, 231, 1.0)',\n",
    "                                       line=dict(color='rgba(148, 42, 43, 1.0)', \n",
    "                                                 width=3))))\n",
    "\n",
    "# Update the layout with some cosmetics\n",
    "fig.update_layout(height=500, \n",
    "                  width=1000, \n",
    "                  title_text='Top 10 Cities having Highest Outlets', \n",
    "                  title_x=0.5, \n",
    "                  xaxis_title='Frequency', \n",
    "                  yaxis_title='City')\n",
    "\n",
    "# Display the figure\n",
    "fig.show()"
   ]
  },
  {
   "cell_type": "code",
   "execution_count": 49,
   "metadata": {},
   "outputs": [
    {
     "data": {
      "application/vnd.plotly.v1+json": {
       "config": {
        "plotlyServerURL": "https://plot.ly"
       },
       "data": [
        {
         "marker": {
          "color": "rgba(245, 227, 33, 1.0)",
          "line": {
           "color": "rgba(66, 5, 84, 1.0)",
           "width": 3
          }
         },
         "orientation": "h",
         "type": "bar",
         "x": [
          38,
          20,
          17,
          15,
          15,
          10,
          10,
          10,
          10,
          10
         ],
         "y": [
          "MH",
          "CA",
          "DL",
          "AR",
          "TN",
          "FL",
          "UT",
          "IA",
          "HI",
          "GA"
         ]
        }
       ],
       "layout": {
        "height": 500,
        "template": {
         "data": {
          "bar": [
           {
            "error_x": {
             "color": "#2a3f5f"
            },
            "error_y": {
             "color": "#2a3f5f"
            },
            "marker": {
             "line": {
              "color": "#E5ECF6",
              "width": 0.5
             },
             "pattern": {
              "fillmode": "overlay",
              "size": 10,
              "solidity": 0.2
             }
            },
            "type": "bar"
           }
          ],
          "barpolar": [
           {
            "marker": {
             "line": {
              "color": "#E5ECF6",
              "width": 0.5
             },
             "pattern": {
              "fillmode": "overlay",
              "size": 10,
              "solidity": 0.2
             }
            },
            "type": "barpolar"
           }
          ],
          "carpet": [
           {
            "aaxis": {
             "endlinecolor": "#2a3f5f",
             "gridcolor": "white",
             "linecolor": "white",
             "minorgridcolor": "white",
             "startlinecolor": "#2a3f5f"
            },
            "baxis": {
             "endlinecolor": "#2a3f5f",
             "gridcolor": "white",
             "linecolor": "white",
             "minorgridcolor": "white",
             "startlinecolor": "#2a3f5f"
            },
            "type": "carpet"
           }
          ],
          "choropleth": [
           {
            "colorbar": {
             "outlinewidth": 0,
             "ticks": ""
            },
            "type": "choropleth"
           }
          ],
          "contour": [
           {
            "colorbar": {
             "outlinewidth": 0,
             "ticks": ""
            },
            "colorscale": [
             [
              0,
              "#0d0887"
             ],
             [
              0.1111111111111111,
              "#46039f"
             ],
             [
              0.2222222222222222,
              "#7201a8"
             ],
             [
              0.3333333333333333,
              "#9c179e"
             ],
             [
              0.4444444444444444,
              "#bd3786"
             ],
             [
              0.5555555555555556,
              "#d8576b"
             ],
             [
              0.6666666666666666,
              "#ed7953"
             ],
             [
              0.7777777777777778,
              "#fb9f3a"
             ],
             [
              0.8888888888888888,
              "#fdca26"
             ],
             [
              1,
              "#f0f921"
             ]
            ],
            "type": "contour"
           }
          ],
          "contourcarpet": [
           {
            "colorbar": {
             "outlinewidth": 0,
             "ticks": ""
            },
            "type": "contourcarpet"
           }
          ],
          "heatmap": [
           {
            "colorbar": {
             "outlinewidth": 0,
             "ticks": ""
            },
            "colorscale": [
             [
              0,
              "#0d0887"
             ],
             [
              0.1111111111111111,
              "#46039f"
             ],
             [
              0.2222222222222222,
              "#7201a8"
             ],
             [
              0.3333333333333333,
              "#9c179e"
             ],
             [
              0.4444444444444444,
              "#bd3786"
             ],
             [
              0.5555555555555556,
              "#d8576b"
             ],
             [
              0.6666666666666666,
              "#ed7953"
             ],
             [
              0.7777777777777778,
              "#fb9f3a"
             ],
             [
              0.8888888888888888,
              "#fdca26"
             ],
             [
              1,
              "#f0f921"
             ]
            ],
            "type": "heatmap"
           }
          ],
          "heatmapgl": [
           {
            "colorbar": {
             "outlinewidth": 0,
             "ticks": ""
            },
            "colorscale": [
             [
              0,
              "#0d0887"
             ],
             [
              0.1111111111111111,
              "#46039f"
             ],
             [
              0.2222222222222222,
              "#7201a8"
             ],
             [
              0.3333333333333333,
              "#9c179e"
             ],
             [
              0.4444444444444444,
              "#bd3786"
             ],
             [
              0.5555555555555556,
              "#d8576b"
             ],
             [
              0.6666666666666666,
              "#ed7953"
             ],
             [
              0.7777777777777778,
              "#fb9f3a"
             ],
             [
              0.8888888888888888,
              "#fdca26"
             ],
             [
              1,
              "#f0f921"
             ]
            ],
            "type": "heatmapgl"
           }
          ],
          "histogram": [
           {
            "marker": {
             "pattern": {
              "fillmode": "overlay",
              "size": 10,
              "solidity": 0.2
             }
            },
            "type": "histogram"
           }
          ],
          "histogram2d": [
           {
            "colorbar": {
             "outlinewidth": 0,
             "ticks": ""
            },
            "colorscale": [
             [
              0,
              "#0d0887"
             ],
             [
              0.1111111111111111,
              "#46039f"
             ],
             [
              0.2222222222222222,
              "#7201a8"
             ],
             [
              0.3333333333333333,
              "#9c179e"
             ],
             [
              0.4444444444444444,
              "#bd3786"
             ],
             [
              0.5555555555555556,
              "#d8576b"
             ],
             [
              0.6666666666666666,
              "#ed7953"
             ],
             [
              0.7777777777777778,
              "#fb9f3a"
             ],
             [
              0.8888888888888888,
              "#fdca26"
             ],
             [
              1,
              "#f0f921"
             ]
            ],
            "type": "histogram2d"
           }
          ],
          "histogram2dcontour": [
           {
            "colorbar": {
             "outlinewidth": 0,
             "ticks": ""
            },
            "colorscale": [
             [
              0,
              "#0d0887"
             ],
             [
              0.1111111111111111,
              "#46039f"
             ],
             [
              0.2222222222222222,
              "#7201a8"
             ],
             [
              0.3333333333333333,
              "#9c179e"
             ],
             [
              0.4444444444444444,
              "#bd3786"
             ],
             [
              0.5555555555555556,
              "#d8576b"
             ],
             [
              0.6666666666666666,
              "#ed7953"
             ],
             [
              0.7777777777777778,
              "#fb9f3a"
             ],
             [
              0.8888888888888888,
              "#fdca26"
             ],
             [
              1,
              "#f0f921"
             ]
            ],
            "type": "histogram2dcontour"
           }
          ],
          "mesh3d": [
           {
            "colorbar": {
             "outlinewidth": 0,
             "ticks": ""
            },
            "type": "mesh3d"
           }
          ],
          "parcoords": [
           {
            "line": {
             "colorbar": {
              "outlinewidth": 0,
              "ticks": ""
             }
            },
            "type": "parcoords"
           }
          ],
          "pie": [
           {
            "automargin": true,
            "type": "pie"
           }
          ],
          "scatter": [
           {
            "fillpattern": {
             "fillmode": "overlay",
             "size": 10,
             "solidity": 0.2
            },
            "type": "scatter"
           }
          ],
          "scatter3d": [
           {
            "line": {
             "colorbar": {
              "outlinewidth": 0,
              "ticks": ""
             }
            },
            "marker": {
             "colorbar": {
              "outlinewidth": 0,
              "ticks": ""
             }
            },
            "type": "scatter3d"
           }
          ],
          "scattercarpet": [
           {
            "marker": {
             "colorbar": {
              "outlinewidth": 0,
              "ticks": ""
             }
            },
            "type": "scattercarpet"
           }
          ],
          "scattergeo": [
           {
            "marker": {
             "colorbar": {
              "outlinewidth": 0,
              "ticks": ""
             }
            },
            "type": "scattergeo"
           }
          ],
          "scattergl": [
           {
            "marker": {
             "colorbar": {
              "outlinewidth": 0,
              "ticks": ""
             }
            },
            "type": "scattergl"
           }
          ],
          "scattermapbox": [
           {
            "marker": {
             "colorbar": {
              "outlinewidth": 0,
              "ticks": ""
             }
            },
            "type": "scattermapbox"
           }
          ],
          "scatterpolar": [
           {
            "marker": {
             "colorbar": {
              "outlinewidth": 0,
              "ticks": ""
             }
            },
            "type": "scatterpolar"
           }
          ],
          "scatterpolargl": [
           {
            "marker": {
             "colorbar": {
              "outlinewidth": 0,
              "ticks": ""
             }
            },
            "type": "scatterpolargl"
           }
          ],
          "scatterternary": [
           {
            "marker": {
             "colorbar": {
              "outlinewidth": 0,
              "ticks": ""
             }
            },
            "type": "scatterternary"
           }
          ],
          "surface": [
           {
            "colorbar": {
             "outlinewidth": 0,
             "ticks": ""
            },
            "colorscale": [
             [
              0,
              "#0d0887"
             ],
             [
              0.1111111111111111,
              "#46039f"
             ],
             [
              0.2222222222222222,
              "#7201a8"
             ],
             [
              0.3333333333333333,
              "#9c179e"
             ],
             [
              0.4444444444444444,
              "#bd3786"
             ],
             [
              0.5555555555555556,
              "#d8576b"
             ],
             [
              0.6666666666666666,
              "#ed7953"
             ],
             [
              0.7777777777777778,
              "#fb9f3a"
             ],
             [
              0.8888888888888888,
              "#fdca26"
             ],
             [
              1,
              "#f0f921"
             ]
            ],
            "type": "surface"
           }
          ],
          "table": [
           {
            "cells": {
             "fill": {
              "color": "#EBF0F8"
             },
             "line": {
              "color": "white"
             }
            },
            "header": {
             "fill": {
              "color": "#C8D4E3"
             },
             "line": {
              "color": "white"
             }
            },
            "type": "table"
           }
          ]
         },
         "layout": {
          "annotationdefaults": {
           "arrowcolor": "#2a3f5f",
           "arrowhead": 0,
           "arrowwidth": 1
          },
          "autotypenumbers": "strict",
          "coloraxis": {
           "colorbar": {
            "outlinewidth": 0,
            "ticks": ""
           }
          },
          "colorscale": {
           "diverging": [
            [
             0,
             "#8e0152"
            ],
            [
             0.1,
             "#c51b7d"
            ],
            [
             0.2,
             "#de77ae"
            ],
            [
             0.3,
             "#f1b6da"
            ],
            [
             0.4,
             "#fde0ef"
            ],
            [
             0.5,
             "#f7f7f7"
            ],
            [
             0.6,
             "#e6f5d0"
            ],
            [
             0.7,
             "#b8e186"
            ],
            [
             0.8,
             "#7fbc41"
            ],
            [
             0.9,
             "#4d9221"
            ],
            [
             1,
             "#276419"
            ]
           ],
           "sequential": [
            [
             0,
             "#0d0887"
            ],
            [
             0.1111111111111111,
             "#46039f"
            ],
            [
             0.2222222222222222,
             "#7201a8"
            ],
            [
             0.3333333333333333,
             "#9c179e"
            ],
            [
             0.4444444444444444,
             "#bd3786"
            ],
            [
             0.5555555555555556,
             "#d8576b"
            ],
            [
             0.6666666666666666,
             "#ed7953"
            ],
            [
             0.7777777777777778,
             "#fb9f3a"
            ],
            [
             0.8888888888888888,
             "#fdca26"
            ],
            [
             1,
             "#f0f921"
            ]
           ],
           "sequentialminus": [
            [
             0,
             "#0d0887"
            ],
            [
             0.1111111111111111,
             "#46039f"
            ],
            [
             0.2222222222222222,
             "#7201a8"
            ],
            [
             0.3333333333333333,
             "#9c179e"
            ],
            [
             0.4444444444444444,
             "#bd3786"
            ],
            [
             0.5555555555555556,
             "#d8576b"
            ],
            [
             0.6666666666666666,
             "#ed7953"
            ],
            [
             0.7777777777777778,
             "#fb9f3a"
            ],
            [
             0.8888888888888888,
             "#fdca26"
            ],
            [
             1,
             "#f0f921"
            ]
           ]
          },
          "colorway": [
           "#636efa",
           "#EF553B",
           "#00cc96",
           "#ab63fa",
           "#FFA15A",
           "#19d3f3",
           "#FF6692",
           "#B6E880",
           "#FF97FF",
           "#FECB52"
          ],
          "font": {
           "color": "#2a3f5f"
          },
          "geo": {
           "bgcolor": "white",
           "lakecolor": "white",
           "landcolor": "#E5ECF6",
           "showlakes": true,
           "showland": true,
           "subunitcolor": "white"
          },
          "hoverlabel": {
           "align": "left"
          },
          "hovermode": "closest",
          "mapbox": {
           "style": "light"
          },
          "paper_bgcolor": "white",
          "plot_bgcolor": "#E5ECF6",
          "polar": {
           "angularaxis": {
            "gridcolor": "white",
            "linecolor": "white",
            "ticks": ""
           },
           "bgcolor": "#E5ECF6",
           "radialaxis": {
            "gridcolor": "white",
            "linecolor": "white",
            "ticks": ""
           }
          },
          "scene": {
           "xaxis": {
            "backgroundcolor": "#E5ECF6",
            "gridcolor": "white",
            "gridwidth": 2,
            "linecolor": "white",
            "showbackground": true,
            "ticks": "",
            "zerolinecolor": "white"
           },
           "yaxis": {
            "backgroundcolor": "#E5ECF6",
            "gridcolor": "white",
            "gridwidth": 2,
            "linecolor": "white",
            "showbackground": true,
            "ticks": "",
            "zerolinecolor": "white"
           },
           "zaxis": {
            "backgroundcolor": "#E5ECF6",
            "gridcolor": "white",
            "gridwidth": 2,
            "linecolor": "white",
            "showbackground": true,
            "ticks": "",
            "zerolinecolor": "white"
           }
          },
          "shapedefaults": {
           "line": {
            "color": "#2a3f5f"
           }
          },
          "ternary": {
           "aaxis": {
            "gridcolor": "white",
            "linecolor": "white",
            "ticks": ""
           },
           "baxis": {
            "gridcolor": "white",
            "linecolor": "white",
            "ticks": ""
           },
           "bgcolor": "#E5ECF6",
           "caxis": {
            "gridcolor": "white",
            "linecolor": "white",
            "ticks": ""
           }
          },
          "title": {
           "x": 0.05
          },
          "xaxis": {
           "automargin": true,
           "gridcolor": "white",
           "linecolor": "white",
           "ticks": "",
           "title": {
            "standoff": 15
           },
           "zerolinecolor": "white",
           "zerolinewidth": 2
          },
          "yaxis": {
           "automargin": true,
           "gridcolor": "white",
           "linecolor": "white",
           "ticks": "",
           "title": {
            "standoff": 15
           },
           "zerolinecolor": "white",
           "zerolinewidth": 2
          }
         }
        },
        "title": {
         "text": "Top 10 States having Highest Outlets",
         "x": 0.5
        },
        "width": 1000,
        "xaxis": {
         "title": {
          "text": "Frequency"
         }
        },
        "yaxis": {
         "title": {
          "text": "State"
         }
        }
       }
      }
     },
     "metadata": {},
     "output_type": "display_data"
    }
   ],
   "source": [
    "# Extract labels and values of menu category\n",
    "labels = data['State'].value_counts().index[0:10]\n",
    "values = data['State'].value_counts().values[0:10]\n",
    "\n",
    "# Initiate an empty figure\n",
    "fig = go.Figure()\n",
    "\n",
    "# Add a trace of bar to the figure\n",
    "fig.add_trace(trace=go.Bar(x=values, \n",
    "                           y=labels, \n",
    "                           orientation='h',\n",
    "                           marker=dict(color='rgba(245, 227, 33, 1.0)',\n",
    "                                       line=dict(color='rgba(66, 5, 84, 1.0)', \n",
    "                                                 width=3))))\n",
    "\n",
    "# Update the layout with some cosmetics\n",
    "fig.update_layout(height=500, \n",
    "                  width=1000, \n",
    "                  title_text='Top 10 States having Highest Outlets', \n",
    "                  title_x=0.5, \n",
    "                  xaxis_title='Frequency', \n",
    "                  yaxis_title='State')\n",
    "\n",
    "# Display the figure\n",
    "fig.show()"
   ]
  },
  {
   "cell_type": "code",
   "execution_count": 50,
   "metadata": {},
   "outputs": [
    {
     "data": {
      "application/vnd.plotly.v1+json": {
       "config": {
        "plotlyServerURL": "https://plot.ly"
       },
       "data": [
        {
         "lat": [
          17.42,
          17.48,
          17.43,
          17.42,
          17.45,
          17.45,
          28.67,
          28.57,
          28.46,
          28.57,
          28.56,
          28.64,
          28.54,
          28.53,
          28.63,
          28.63,
          28.54,
          28.69,
          28.55,
          28.56,
          28.56,
          28.55,
          28.53,
          28.48,
          28.47,
          28.48,
          28.5,
          28.5,
          28.41,
          13.01,
          12.91,
          13,
          12.94,
          12.97,
          12.99,
          13.01,
          12.99,
          12.99,
          12.97,
          19.01,
          19.18,
          19.08,
          18.93,
          19.13,
          19.05,
          19.14,
          19.1,
          19.21,
          19.01,
          19.1,
          19.06,
          19.2,
          19.09,
          19,
          19.07,
          19.11,
          19.1,
          19.07,
          18.92,
          19.09,
          19.17,
          19.06,
          19.12,
          19.17,
          19.09,
          19.1,
          19.21,
          19.07,
          18.56,
          18.5,
          18.56,
          18.52,
          18.54,
          18.55,
          18.52,
          18.52,
          13.06,
          13.06,
          13.09,
          12.99,
          13.03,
          28.57
         ],
         "lon": [
          78.45,
          78.39,
          78.39,
          78.42,
          78.38,
          78.38,
          77.13,
          77.12,
          77.07,
          77.17,
          77.12,
          77.11,
          77.16,
          77.22,
          77.22,
          77.22,
          77.16,
          77.15,
          77.24,
          77.1,
          77.1,
          77.19,
          77.24,
          77.08,
          77.06,
          77.09,
          77.09,
          77.1,
          77.05,
          77.56,
          77.59,
          77.7,
          77.61,
          77.64,
          77.57,
          77.58,
          77.73,
          77.66,
          77.61,
          72.82,
          72.83,
          72.83,
          72.82,
          72.82,
          72.83,
          72.83,
          72.92,
          72.97,
          72.84,
          72.87,
          72.85,
          72.97,
          72.92,
          72.82,
          72.83,
          72.83,
          72.88,
          72.87,
          72.83,
          72.89,
          72.84,
          72.86,
          72.91,
          72.86,
          72.86,
          72.83,
          72.84,
          73,
          73.92,
          73.82,
          73.81,
          73.93,
          73.89,
          73.95,
          73.94,
          73.84,
          80.25,
          80.26,
          80.21,
          80.22,
          80.25,
          77.33
         ],
         "marker": {
          "color": "Purple",
          "size": [
           2.1173436689352094,
           1.0585039826654867,
           4.505020294808801,
           3.40552995391705,
           7.332712790307322,
           3.119602038636433,
           5.195257423627431,
           7.731528672139652,
           2.114047669911802,
           4.654164250618,
           6.478225043488876,
           5.646809289834284,
           7.803765984069338,
           2.0939970091860713,
           4.74123355815302,
           2.831476790673544,
           7.04788354136784,
           1.3054292428357799,
           4.206732383190404,
           5.798150578325754,
           9.686056093020417,
           1.8965117343668936,
           9.560533463545639,
           5.429548020874661,
           5.4962920010986664,
           4.000732444227424,
           5.6899319437238685,
           6.568315683462019,
           6.9396649067659535,
           1.7767571031830804,
           1.0010986663411359,
           6.8512222663045135,
           2.035218359935301,
           2.8680074465163123,
           7.952909939878537,
           2.2362743003631707,
           6.413403729361859,
           8.378917813653981,
           9.754173406170842,
           7.0283822138126775,
           8.856563005462812,
           6.3664357432782985,
           3.513199255348369,
           6.564470351268044,
           1.871242408520768,
           7.257728812524796,
           7.611224707785272,
           8.21439252906888,
           5.313089388714255,
           1.096957304605243,
           6.586443678090762,
           9.849757377849667,
           4.600054933317057,
           9.027680288094729,
           9.312784203619495,
           6.441419721060823,
           8.547563097018342,
           9.917874691000092,
           4.744529557176428,
           6.941587572862942,
           4.349559007538072,
           4.536057618945891,
           9.021088290047913,
           2.1014130069887385,
           5.7456892605365155,
           7.180272835474716,
           6.201361125522629,
           8.389355143894774,
           7.899075289162877,
           2.1670583208716088,
           3.417340617084262,
           2.654866176335948,
           9.016968291268654,
           6.093691824091311,
           2.7238074892422253,
           7.709280678731651,
           2.2494582964568006,
           3.2654499954222236,
           2.425244911038545,
           8.46104312265389,
           7.895229956968902,
           3.212988677632984
          ]
         },
         "name": "India",
         "text": [
          [
           "Banjara Hills"
          ],
          [
           "Kukatpally"
          ],
          [
           "Madhapur"
          ],
          [
           "Jubilee Hills"
          ],
          [
           "Hi-Tech City"
          ],
          [
           "Mindspace"
          ],
          [
           "Punjabi Bagh"
          ],
          [
           "T3 Domestic Arrivals"
          ],
          [
           "HUDA Metro Station"
          ],
          [
           "R K Puram"
          ],
          [
           "Indira Gandhi International Airport"
          ],
          [
           "Subhash Nagar"
          ],
          [
           "Vasant Kunj - Ambience Mall"
          ],
          [
           "Saket"
          ],
          [
           "Connaught Place - A Block"
          ],
          [
           "Connaught Place - N Block"
          ],
          [
           "Vasant Kunj - DLF Promenade"
          ],
          [
           "Pitampura"
          ],
          [
           "Greater Kailash 1"
          ],
          [
           "Indira Gandhi Itnl Arpt-T3Gate15"
          ],
          [
           "Indira Gandhi Itnl Arpt-T3Gate27"
          ],
          [
           "Hauz Khas"
          ],
          [
           "Greater Kailash 2"
          ],
          [
           "M G Road"
          ],
          [
           "Sector 29"
          ],
          [
           "One Horizon Center"
          ],
          [
           "DLF Cyber Hub"
          ],
          [
           "Ambience Island"
          ],
          [
           "Sohna Road -"
          ],
          [
           "Malleswaram - Orion Mall"
          ],
          [
           "JP Nagar"
          ],
          [
           "Mahadevapura"
          ],
          [
           "Koramangala"
          ],
          [
           "Indiranagar"
          ],
          [
           "Malleswaram - Mantri Mall"
          ],
          [
           "Sadashiv Nagar"
          ],
          [
           "Whitefield"
          ],
          [
           "Benniganahalli"
          ],
          [
           "Church Street"
          ],
          [
           "Prabhadevi"
          ],
          [
           "Malad West - Infiniti Mall"
          ],
          [
           "Santacruz West"
          ],
          [
           "Nariman Point"
          ],
          [
           "Andheri West - Four Bunglows"
          ],
          [
           "Bandra West - Chapel road"
          ],
          [
           "Andheri West - Infiniti Mall"
          ],
          [
           "Ghatkopar West"
          ],
          [
           "Thane West - Viviana Mall"
          ],
          [
           "Elphinstone Road (West)"
          ],
          [
           "Chhatrapati Shivaji Intnl-T2Arrival"
          ],
          [
           "Bandra East - One BKC"
          ],
          [
           "Thane West - Korum Mall"
          ],
          [
           "Vikhroli East"
          ],
          [
           "Lower Parel - High Street Phoenix"
          ],
          [
           "Bandra West - Link corner"
          ],
          [
           "Vile Parle West"
          ],
          [
           "Chhatrapati Shivaji International A"
          ],
          [
           "Bandra East - FIFC"
          ],
          [
           "Colaba"
          ],
          [
           "Kurla West"
          ],
          [
           "Malad West - Inorbit Mall"
          ],
          [
           "Bandra East - The Capital"
          ],
          [
           "Powai"
          ],
          [
           "Goregaon East - Oberoi Mall"
          ],
          [
           "Chhatrapati Shivaji DomesticAirport"
          ],
          [
           "Juhu"
          ],
          [
           "Kandivali West"
          ],
          [
           "Vashi"
          ],
          [
           "Viman Nagar"
          ],
          [
           "Sangam Solitaire"
          ],
          [
           "Aundh"
          ],
          [
           "Magarpatta"
          ],
          [
           "Koregaon Park"
          ],
          [
           "Kharadi"
          ],
          [
           "Hadapsar"
          ],
          [
           "FC Road"
          ],
          [
           "Numgambakkam"
          ],
          [
           "Royapettah"
          ],
          [
           "Anna Nagar"
          ],
          [
           "Velachery"
          ],
          [
           "Alwarpet"
          ],
          [
           "Sector 16"
          ]
         ],
         "type": "scattergeo"
        },
        {
         "lat": [
          34.51,
          34.16,
          34.15,
          33.87,
          37.79,
          37.76,
          37.78,
          37.76,
          37.77,
          37.78,
          32.82,
          32.71,
          34.11,
          34.11,
          34.1,
          34.11,
          34.28,
          37.78,
          37.77,
          37.78,
          40.67,
          40.65,
          40.67,
          42.92,
          42.96,
          42.89,
          42.92,
          42.89,
          42.88,
          43.1,
          39.24,
          39.16,
          39.13,
          39.15,
          39.13,
          39.14,
          41.41,
          41.51,
          41.46,
          61.6,
          61.6,
          60.13,
          60.49,
          60.48,
          61.58,
          61.58,
          61.58,
          61.58,
          35.65,
          35.65,
          36.39,
          34.67,
          35.99,
          34.63,
          34.62,
          35.44,
          35.44,
          35.32,
          44.59,
          44.58,
          43.8,
          44.93,
          44.93,
          45.42,
          44.01,
          44.04,
          44.05,
          40.44,
          40.44,
          40.45,
          40.21,
          40.1,
          40.1,
          40.11,
          40.24,
          40.45,
          40.46,
          35.16,
          35.26,
          35.21,
          35.05,
          35.05,
          35.05,
          35.6,
          36.14,
          36.17,
          35.16,
          30.21,
          30.23,
          30.28,
          30.34,
          29.49,
          33.08,
          33.08,
          30.11,
          29.79,
          29.77,
          40.37,
          40.88,
          40.88,
          41.51,
          37.66,
          40.92,
          41.12,
          41.14,
          40.53,
          40.36,
          25.77,
          25.76,
          25.77,
          25.65,
          25.75,
          25.81,
          25.78,
          25.77,
          25.79,
          25.79,
          39.66,
          38.72,
          38.72,
          38.47,
          39.83,
          32.46,
          32.47,
          30.67,
          33.6,
          33.21,
          33.2,
          33.2,
          33.21,
          33.46,
          33.45,
          38.89,
          38.9,
          38.86,
          38.9,
          38.91,
          38.88,
          38.9,
          38.9,
          38.85,
          38.85,
          38.86,
          39.89,
          39.88,
          39.53,
          39.53,
          39.54,
          39.5,
          37.35,
          40.51,
          39.75,
          34.01,
          33.91,
          34.8,
          34.76,
          34.35,
          33.79,
          33.79,
          33.78,
          33.68,
          33.73,
          21.39,
          21.33,
          21.33,
          19.7,
          19.7,
          19.72,
          19.7,
          21.28,
          21.3,
          21.29,
          34.9,
          34.85,
          36.35,
          34.82,
          34.8,
          36.33,
          36.3,
          36.28,
          36.31,
          35.28,
          35.25,
          35.25,
          36.18,
          33.46,
          35.47,
          42.02,
          41.73,
          41.71,
          41.71,
          41.71,
          41.54,
          41.55,
          40.82,
          42.51,
          42.47,
          47.69,
          43.69,
          43.69,
          43.86,
          43.65,
          43.53,
          47.74,
          43.51,
          43.5,
          43.48,
          40.15,
          40.11,
          40.11,
          40.09,
          39.48,
          41.88,
          41.88,
          41.9,
          41.81,
          41.98,
          39.63,
          39.63,
          39.63,
          39.61,
          41.57,
          41.52,
          39.85,
          39.91,
          39.86,
          39.77,
          38.87,
          38.88,
          38.11,
          38.07,
          39.02,
          39.12,
          39.13,
          39.13,
          38.94,
          38.97,
          29.94,
          29.95,
          29.95,
          29.93,
          29.95,
          29.95,
          32.54,
          32.51,
          32.45,
          32.39,
          42.56,
          42.58,
          42.35,
          42.35,
          42.34,
          35.02,
          35.02,
          33.61,
          33.61,
          33.57,
          33.28
         ],
         "lon": [
          -117.4,
          -118.76,
          -118.76,
          -117.75,
          -122.28,
          -122.24,
          -122.28,
          -122.25,
          -122.23,
          -122.28,
          -117.18,
          -117.16,
          -117.8,
          -117.83,
          -117.82,
          -117.81,
          -118.44,
          -122.41,
          -122.43,
          -122.4,
          -73.98,
          -73.87,
          -73.98,
          -78.88,
          -78.87,
          -78.87,
          -78.76,
          -78.88,
          -77.26,
          -75.84,
          -84.59,
          -84.51,
          -84.51,
          -84.38,
          -84.52,
          -84.62,
          -81.84,
          -81.6,
          -81.69,
          -149.13,
          -149.12,
          -149.43,
          -151.05,
          -151.07,
          -149.41,
          -149.44,
          -149.41,
          -149.41,
          -97.47,
          -97.46,
          -97.91,
          -98.4,
          -96.01,
          -98.49,
          -98.44,
          -97.4,
          -97.4,
          -97.5,
          -123.28,
          -123.26,
          -123.05,
          -123.31,
          -123.31,
          -122.46,
          -123.09,
          -123.09,
          -123.14,
          -80,
          -80,
          -80.18,
          -77.28,
          -75.29,
          -75.29,
          -75.29,
          -75.57,
          -75.36,
          -75.37,
          -84.88,
          -84.84,
          -84.86,
          -89.73,
          -89.69,
          -89.69,
          -87.06,
          -85.51,
          -85.5,
          -89.73,
          -97.82,
          -97.83,
          -97.78,
          -97.76,
          -98.55,
          -97.13,
          -97.13,
          -97.33,
          -94.98,
          -94.98,
          -111.79,
          -111.89,
          -111.89,
          -112.02,
          -113.08,
          -111.89,
          -112.02,
          -112.06,
          -111.86,
          -111.97,
          -80.26,
          -80.19,
          -80.19,
          -80.34,
          -80.24,
          -80.13,
          -80.14,
          -80.13,
          -80.13,
          -80.14,
          -75.69,
          -75.13,
          -75.09,
          -75.11,
          -75.54,
          -86.39,
          -86.43,
          -87.85,
          -86.65,
          -87.55,
          -87.53,
          -87.51,
          -87.55,
          -86.74,
          -86.79,
          -77.02,
          -77.02,
          -77.04,
          -77.04,
          -77.04,
          -77.03,
          -77.05,
          -77.03,
          -77.05,
          -77.05,
          -104.88,
          -104.81,
          -104.77,
          -105.31,
          -105.3,
          -105.29,
          -106.15,
          -108.58,
          -107.55,
          -105.01,
          -84.75,
          -84.82,
          -84.96,
          -84.99,
          -84.05,
          -84.27,
          -84.29,
          -84.3,
          -84.23,
          -84.74,
          -157.95,
          -158.02,
          -158.02,
          -155.07,
          -155.06,
          -155.08,
          -155.07,
          -157.83,
          -157.86,
          -157.84,
          -92.15,
          -92.4,
          -92.37,
          -92.23,
          -92.25,
          -94.18,
          -94.17,
          -94.15,
          -94.18,
          -93.11,
          -91.73,
          -91.69,
          -94.18,
          -94.04,
          -94.36,
          -93.62,
          -93.6,
          -93.62,
          -93.58,
          -93.58,
          -90.52,
          -90.48,
          -91.14,
          -92.44,
          -92.46,
          -116.79,
          -116.35,
          -116.33,
          -116.49,
          -116.28,
          -114.32,
          -116.79,
          -112.02,
          -112.05,
          -112.02,
          -88.26,
          -88.23,
          -88.23,
          -88.25,
          -88.19,
          -87.65,
          -87.64,
          -87.63,
          -87.72,
          -87.9,
          -86.16,
          -86.13,
          -86.12,
          -86.16,
          -87.48,
          -87.47,
          -86.26,
          -86.07,
          -86.2,
          -86.16,
          -99.34,
          -99.32,
          -97.92,
          -97.9,
          -96.82,
          -94.76,
          -94.83,
          -94.83,
          -95.25,
          -95.3,
          -90.06,
          -90.07,
          -90.07,
          -90.08,
          -90.08,
          -90.21,
          -92.65,
          -93.66,
          -93.72,
          -93.73,
          -70.89,
          -71.29,
          -71.13,
          -71.08,
          -71.1,
          -114.6,
          -114.6,
          -111.73,
          -111.73,
          -111.72,
          -111.79
         ],
         "marker": {
          "color": "Red",
          "size": [
           3.8690450758384953,
           3.045503097628712,
           5.7261268959624,
           4.870967741935484,
           7.925443281350138,
           4.6485793633838925,
           6.262977996154667,
           8.235633411664173,
           3.8664815210425125,
           5.842127750480667,
           7.260841700491348,
           6.614185003204443,
           8.291817987609486,
           3.8508865627002775,
           5.481948301644948,
           5.909848323007904,
           4.424481948301645,
           7.7039094210638766,
           3.2375560777611616,
           5.49412518692587,
           6.731894894253363,
           9.755821405682546,
           3.697286904507584,
           9.65819269386883,
           6.445204016235847,
           6.497116000854518,
           5.333903012176886,
           6.647724845118565,
           7.330912198248237,
           7.619739371929074,
           3.60414441358684,
           3.000854518265328,
           7.550950651570178,
           3.8051698355052337,
           4.452894680623798,
           8.40781884212775,
           3.9615466780602437,
           7.210425122837002,
           9.808801538132878,
           7.688741721854305,
           9.110660115359966,
           7.1738944669942315,
           4.95471053193762,
           7.327921384319589,
           3.6776329844050415,
           7.867122409741509,
           8.142063661610766,
           8.611194189275796,
           6.354625080111087,
           3.075411236915189,
           7.345011749626148,
           9.883144627216407,
           5.800042725913267,
           9.243751335184788,
           9.465498825037384,
           7.232215338602861,
           8.870326853236488,
           9.936124759666738,
           5.912411877803889,
           7.6212347788934,
           5.605212561418501,
           5.750267036957915,
           9.238624225592822,
           3.856654560991241,
           6.691091647083956,
           7.045503097628713,
           8.747276223029267,
           8.365947447126683,
           3.9077120273445844,
           4.880153813287759,
           4.287118137150182,
           9.235419782097843,
           6.961760307626575,
           4.340739158299509,
           8.218329416791283,
           3.9718008972441785,
           4.762016663106174,
           4.1085238196966465,
           8.803033539841914,
           8.362956633198035,
           4.721213415936766,
           3.1290322580645165,
           5.162572099978637,
           5.675710318308054,
           6.646015808587909,
           9.655629139072847,
           9.016663106173894,
           8.811365092928863,
           6.152531510361034,
           7.378551591540268,
           7.171971800897244,
           9.213415936765648,
           8.815851313821833,
           8.357188634907072,
           6.603717154454176,
           7.001922666096988,
           3.6417432172612694,
           3.9718008972441785,
           7.470198675496688,
           5.300790429395429,
           8.96346934415723,
           6.6178167058320865,
           4.908993804742576,
           9.225592822046572,
           6.345866267891476,
           7.3578295236060685,
           4.955137791070284,
           3.5048066652424694,
           8.60307626575518,
           7.251228370006409,
           8.426404614398631,
           5.199316385387738,
           7.513992736594746,
           3.5802179021576586,
           4.118137150181585,
           4.489638966032899,
           5.332834864345226,
           4.693441572313608,
           9.154667806024355,
           9.001709036530656,
           8.6893826105533,
           3.6789147618030342,
           8.835718863490706,
           4.637256996368297,
           6.9709463789788515,
           5.594744712668233,
           8.827600939970091,
           6.380046998504593,
           9.781456953642385,
           3.467421491134373,
           3.0375988036744284,
           5.0440076906643885,
           4.5684682760093995,
           4.782952360606708,
           7.019653920102543,
           4.43473616748558,
           7.016449476607562,
           3.6855372783593254,
           9.250801110873745,
           3.8914761803033535,
           9.295236060670796,
           7.604358043153172,
           4.126682332834864,
           8.678060243537706,
           5.760734885708182,
           6.526596881008331,
           8.01644947660756,
           7.192907498397778,
           6.201452681051057,
           7.637256996368298,
           5.221320230719932,
           4.466566972869045,
           6.220892971587268,
           9.539841914120915,
           5.183294167912839,
           8.91390728476821,
           6.855586413159583,
           3.782952360606708,
           3.782738731040376,
           5.811151463362529,
           4.016876735740227,
           3.9072847682119205,
           9.075411236915189,
           3.468276009399701,
           4.854518265327921,
           7.7310403759880355,
           8.303567613757744,
           3.559923093356121,
           5.6323435163426625,
           5.096987823114718,
           8.535355693227942,
           9.590685750907925,
           9.211920529801324,
           6.796838282418287,
           6.768211920529801,
           8.956846827600941,
           9.73787652211066,
           3.8895535142063666,
           7.842341380047,
           7.580004272591326,
           8.617816705832087,
           8.139072847682119,
           9.010681478316599,
           3.5746635334330272,
           3.3905148472548605,
           5.78102969450972,
           6.5045930356761374,
           6.9235206152531505,
           6.577440717795343,
           3.347788933988464,
           5.943388164922025,
           5.625507370220038,
           8.109164708395642,
           4.759880367442854,
           7.92779320657979,
           6.290322580645162,
           8.422345652638324,
           7.410596026490066,
           6.663533433027131,
           7.641956846827601,
           7.821405682546464,
           3.4590899380474256,
           7.958128604998931,
           6.904507583849606,
           9.195898312326424,
           4.051057466353344,
           6.433240760521256,
           9.537705618457595,
           3.689809869685964,
           9.684896389660327,
           5.299508651997437,
           9.289681691946166,
           3.41636402478103,
           7.444776757103183,
           4.534501174962615,
           7.039094210638753,
           6.8105105746635335,
           9.316812646870327,
           5.80794701986755,
           7.390728476821193,
           9.71395001068148,
           9.30826746421705,
           9.000854518265328,
           5.496475112155522,
           3.7870113223670154,
           6.587267677846613,
           6.658192693868831,
           8.070497756889553,
           5.340525528733177,
           7.36466566972869,
           7.221747489852595,
           3.0651570177312544,
           7.179876094851527,
           5.732749412518693,
           9.386883144627216,
           5.979705191198462,
           8.558427686391797,
           3.183080538346507,
           7.4234138004699854,
           6.265541550950652,
           8.830805383465071,
           4.0211493270668655,
           5.810937833796197,
           4.80367442854091,
           7.901089510788293,
           4.39371929074984,
           4.024567400128178,
           7.916043580431532,
           4.061311685537278,
           3.15424054689169,
           6.820978423413801,
           7.883785515915403,
           4.3101901303140355,
           3.2770775475325786,
           6.866481521042511,
           4.441572313608203,
           9.748985259559923,
           4.045716727195044
          ]
         },
         "name": "USA",
         "text": [
          [
           "Palmdale & Hwy 395"
          ],
          [
           "Kanan & Thousand Oaks"
          ],
          [
           "Vons-Agoura Hills #2001"
          ],
          [
           "Target Anaheim T-0677"
          ],
          [
           "Safeway - Alameda 3281"
          ],
          [
           "Park & Central Alameda"
          ],
          [
           "Webster & Atlantic - Alameda"
          ],
          [
           "Safeway - Alameda #2708"
          ],
          [
           "Tilden & Blanding"
          ],
          [
           "Target Alameda T-2829"
          ],
          [
           "Vons - San Diego #2040"
          ],
          [
           "San Diego Conv Ctr - Lobby C"
          ],
          [
           "Albertsons-San Dimas #6594"
          ],
          [
           "San Dimas"
          ],
          [
           "Target San Dimas T-767"
          ],
          [
           "Bonita & San Dimas, San Dimas"
          ],
          [
           "Truman & Maclay"
          ],
          [
           "Teavana - San Francisco Centre"
          ],
          [
           "Church & Market - S.F."
          ],
          [
           "120 4th Street"
          ],
          [
           "164 7th Avenue"
          ],
          [
           "Target Gateway T-1401"
          ],
          [
           "7th Ave and 9th St"
          ],
          [
           "Elmwood Avenue"
          ],
          [
           "Delaware & Kenmore"
          ],
          [
           "Hyatt Buffalo"
          ],
          [
           "Teavana - Walden Galleria"
          ],
          [
           "235 Delaware Ave"
          ],
          [
           "Canadaigua"
          ],
          [
           "NY Chittenango Travel Plaza"
          ],
          [
           "Target Colerain T-1545"
          ],
          [
           "Kroger - Cincinnati #428"
          ],
          [
           "U of Cincinnati Student Life Ctr"
          ],
          [
           "Mariemont/The Strand"
          ],
          [
           "University Square"
          ],
          [
           "Kroger-Cincinnati #948"
          ],
          [
           "CLE C371"
          ],
          [
           "CWRU - Residential Village"
          ],
          [
           "Target Cleveland South T-2228"
          ],
          [
           "Safeway-Palmer #1739"
          ],
          [
           "Fred Meyer - Palmer #649"
          ],
          [
           "Safeway-Seward #2728"
          ],
          [
           "Fred Meyer-Soldotna #17"
          ],
          [
           "Safeway-Soldotna #548"
          ],
          [
           "Parks Hwy & Palmer Wasilla Hwy"
          ],
          [
           "Safeway - Wasilla #1811"
          ],
          [
           "Target Wasilla T-2339"
          ],
          [
           "Fred Meyer - Wasilla #653"
          ],
          [
           "Universiy of Central Oklahoma"
          ],
          [
           "Super Target Edmond ST-1398"
          ],
          [
           "Cleveland & Owen K. Garriott"
          ],
          [
           "Fort Sill BX"
          ],
          [
           "Hwy 75 & 121st"
          ],
          [
           "Target Lawton T-2739"
          ],
          [
           "Cache & NW 40th"
          ],
          [
           "29th & Air Depot"
          ],
          [
           "Target Midwest City T-2061"
          ],
          [
           "19th & Telephone"
          ],
          [
           "Timberhill"
          ],
          [
           "9th & Garfield - Corvallis"
          ],
          [
           "Safeway - Cottage Grove #1458"
          ],
          [
           "244 Ellendale Ave- Dallas, OR"
          ],
          [
           "Safeway - Dallas -#4404"
          ],
          [
           "Safeway - Boring #521"
          ],
          [
           "Safeway-Eugene #4513"
          ],
          [
           "Eugene"
          ],
          [
           "W. 11th & Acorn Park - Eugene"
          ],
          [
           "One Oliver Plaza"
          ],
          [
           "Sixth Street"
          ],
          [
           "Robinson, Lafayette Plaza"
          ],
          [
           "Cumberland Valley Travel Plaza"
          ],
          [
           "Target Plymouth Meeting T-1269"
          ],
          [
           "Giant-Plymouth Meeting #11"
          ],
          [
           "Plymouth Meeting"
          ],
          [
           "Philadelphia Premium Outlets"
          ],
          [
           "Quakertown"
          ],
          [
           "Target Richlandtown (Quakertown) T-"
          ],
          [
           "Keith & 1st"
          ],
          [
           "Target Cleveland T-2367"
          ],
          [
           "Paul Huff & I-75"
          ],
          [
           "Houston Levee & Winchester"
          ],
          [
           "Collierville"
          ],
          [
           "Target Collierville T-1907"
          ],
          [
           "Kroger Columbia #507"
          ],
          [
           "Jefferson & Interstate"
          ],
          [
           "Tennessee Tech University"
          ],
          [
           "Houston Levee & Macon"
          ],
          [
           "William Cannon & Westgate"
          ],
          [
           "Target Austin T-1061"
          ],
          [
           "Randalls - Austin #2483"
          ],
          [
           "Northland & Balcones"
          ],
          [
           "Super Target Balcones Hts ST-1523"
          ],
          [
           "407 & McMakin"
          ],
          [
           "Kroger Southwest Store #572"
          ],
          [
           "71 & Hasler"
          ],
          [
           "Kroger Baytown #150"
          ],
          [
           "Target Baytown T-887"
          ],
          [
           "American Fork - 500 E and State"
          ],
          [
           "Smith's - Bountiful #444"
          ],
          [
           "Bountiful 500S"
          ],
          [
           "Smiths Brigham City #178"
          ],
          [
           "Providence Crossing- Cedar City"
          ],
          [
           "Centerville Starbucks"
          ],
          [
           "Clearfield - Falcon Hill"
          ],
          [
           "1800 North & 2000 West-Clinton, UT"
          ],
          [
           "12300 South & 1300 East-Draper"
          ],
          [
           "Ridley's Family Markets - Eagle Mou"
          ],
          [
           "MIA - Main E Food Ct"
          ],
          [
           "The Bond At Brickell"
          ],
          [
           "47 W. Flagler St"
          ],
          [
           "Teavana - The Falls"
          ],
          [
           "2645 SW 22nd St"
          ],
          [
           "827 Arthur Godfrey Road"
          ],
          [
           "10th St. & West Ave."
          ],
          [
           "Marriott South Beach-Miami"
          ],
          [
           "416 Lincoln Rd."
          ],
          [
           "16th & Alton"
          ],
          [
           "Delaware House Travel Plaza Cafe"
          ],
          [
           "Safeway-Rehoboth Beach #2706"
          ],
          [
           "301 Rehoboth Ave."
          ],
          [
           "Harris Teeter-Selbyville #327"
          ],
          [
           "Target Brandywine T-1146"
          ],
          [
           "Cobbs Ford Road"
          ],
          [
           "Target Prattville T-2274"
          ],
          [
           "I-10 & Hwy 181"
          ],
          [
           "US Hwy 11 & I-459"
          ],
          [
           "U of AL - Ferguson Cntr"
          ],
          [
           "McFarland Blvd & 15th St"
          ],
          [
           "Super Target Tuscaloosa ST-1787"
          ],
          [
           "Aramark @ U of Alabama Paul W Bryan"
          ],
          [
           "Cahaba Heights & Dolly Ridge Rd"
          ],
          [
           "Montgomery Hwy & Canyon Dr"
          ],
          [
           "6th & C Street, SW"
          ],
          [
           "Renaissance Hotel"
          ],
          [
           "DCA - Wash Nat'l-Reagan-Level 1"
          ],
          [
           "1734 L Street"
          ],
          [
           "DuPont South"
          ],
          [
           "The Portals"
          ],
          [
           "2001 L St"
          ],
          [
           "1401 New York Ave II"
          ],
          [
           "DCA B63"
          ],
          [
           "DCA B35"
          ],
          [
           "Safeway-Colorado Springs #1286"
          ],
          [
           "King Soopers-Commerce City #114"
          ],
          [
           "104th & Tower, Commerce City"
          ],
          [
           "Conifer Town Center - Conifer"
          ],
          [
           "Safeway - Conifer #2792"
          ],
          [
           "King Soopers-Aspen Park #87"
          ],
          [
           "Copper Mtn Village Mountain Plaza"
          ],
          [
           "City Market - Cortez #408"
          ],
          [
           "King Soopers - Craig #415"
          ],
          [
           "Auraria Tivoli - Student Union"
          ],
          [
           "Hwy 381 & Hwy 92"
          ],
          [
           "Kroger Dallas #673"
          ],
          [
           "Cleveland Hwy & North By-Pass"
          ],
          [
           "Kroger - Dalton #458"
          ],
          [
           "Kroger Dawsonville #670"
          ],
          [
           "Kroger - Decatur #459"
          ],
          [
           "N Decatur & Church"
          ],
          [
           "Decatur Square"
          ],
          [
           "Kroger - Decatur #475"
          ],
          [
           "Chapel Hill Rd @ I-20"
          ],
          [
           "Waimalu Shopping Center"
          ],
          [
           "Keaunui & Ft Weaver"
          ],
          [
           "Safeway-Ewa #2897"
          ],
          [
           "Safeway-Hilo #2893"
          ],
          [
           "Prince Kuhio Plaza Mall"
          ],
          [
           "Downtown Hilo on Kilauea Ave"
          ],
          [
           "Target Hilo T-2682"
          ],
          [
           "Waikiki Shopping Plaza"
          ],
          [
           "Ala Moana & Coral"
          ],
          [
           "Macy's Ala Moana Center - L2"
          ],
          [
           "Little Rock AFB - Troop Store"
          ],
          [
           "Maumelle & Audubon"
          ],
          [
           "Harp's Marketplace #91"
          ],
          [
           "JFK and North Hills"
          ],
          [
           "JFK & McCain"
          ],
          [
           "Walnut & 46th"
          ],
          [
           "Target Rogers T-2498"
          ],
          [
           "I-540 & Pleasant Grove"
          ],
          [
           "Promenade & New Hope"
          ],
          [
           "Weir & Parkway"
          ],
          [
           "Harding University"
          ],
          [
           "E Race and Rand"
          ],
          [
           "Sunset & Reiff"
          ],
          [
           "N. State Line Ave & Arkansas Blvd."
          ],
          [
           "Fayetteville and Rena Rd"
          ],
          [
           "Hy Vee Foods-Ames #2"
          ],
          [
           "Hy-Vee - Ankeny #1"
          ],
          [
           "Hy-Vee @ Ankeny #2"
          ],
          [
           "Super Target Ankeny ST-1767"
          ],
          [
           "Delaware & Shurfine - Ankeny"
          ],
          [
           "Kimberly & Middle Rd"
          ],
          [
           "Hy-Vee - Bettendorf #1"
          ],
          [
           "Agency and Roosevelt - Burlington"
          ],
          [
           "6421 University Ave - Cedar Falls"
          ],
          [
           "Target Cedar Falls - T-2526"
          ],
          [
           "210 W. Ironwood Drive"
          ],
          [
           "Albertsons -- Eagle #182"
          ],
          [
           "Hwy 44 and Edgewood - Eagle"
          ],
          [
           "Albertsons - Emmett #126"
          ],
          [
           "Glenwood & Chinden- Boise"
          ],
          [
           "Albertsons-Hailey #130"
          ],
          [
           "Corner Stone Plaza- Hayden, ID"
          ],
          [
           "Fred Meyer - Idaho Falls #156"
          ],
          [
           "I-15 & Broadway- Idaho Falls"
          ],
          [
           "Albertsons - Idaho Falls #138"
          ],
          [
           "Champaign - N Prospect Ave"
          ],
          [
           "Unv of Illinois Champaign-Bookstore"
          ],
          [
           "Champaign - 5th & Green"
          ],
          [
           "South Neil & Carriage Center"
          ],
          [
           "Charleston-Lincoln & E St"
          ],
          [
           "Target Chicago T-2781"
          ],
          [
           "Washington & Clinton"
          ],
          [
           "Oak & Rush"
          ],
          [
           "Target Chicago T-1879"
          ],
          [
           "ORD OHare Terminal 3, Baggage Claim"
          ],
          [
           "State Rd 135 & Stonegate"
          ],
          [
           "Teavana - Greenwood Park"
          ],
          [
           "Greenwood Park Mall"
          ],
          [
           "SR 135 & Faith"
          ],
          [
           "Indianapolis & Interstate, Hammond"
          ],
          [
           "Target Highland T-731"
          ],
          [
           "56th & Lafayette"
          ],
          [
           "Castleton Square Mall Kiosk"
          ],
          [
           "Kessler & Michigan"
          ],
          [
           "Hyatt Regency-Indianapolis-Lobby"
          ],
          [
           "Fort Hays State University"
          ],
          [
           "Dillons - Hays #61"
          ],
          [
           "Dillons - Hutchinson #97"
          ],
          [
           "17th & Lorraine"
          ],
          [
           "Junction City - I70 & Chestnut"
          ],
          [
           "Price Chopper - Kansas City, KS #6"
          ],
          [
           "10620 Parallel Prkwy-KCK Speedway"
          ],
          [
           "Target Kansas City T-2222"
          ],
          [
           "Dillon Food Store-Lawrence #70"
          ],
          [
           "Bauer Farms, W. 6th Street"
          ],
          [
           "New Orleans Marriott Convention Ctr"
          ],
          [
           "Canal Place"
          ],
          [
           "Sheraton Lobby"
          ],
          [
           "Magazine & Washington"
          ],
          [
           "Hyatt New Orleans"
          ],
          [
           "Jefferson Hwy & Upstream St"
          ],
          [
           "I-20 & Cooktown"
          ],
          [
           "Barksdale AFB"
          ],
          [
           "Kroger Shreveport # 539"
          ],
          [
           "Kroger - Shreveport #533"
          ],
          [
           "Beverly, 242 Elliott St"
          ],
          [
           "Billerica"
          ],
          [
           "1304 Commonwealth Ave."
          ],
          [
           "755 Boylston St"
          ],
          [
           "Fenway Triangle Trilogy"
          ],
          [
           "Smiths Fort Mohave #473"
          ],
          [
           "Safeway - Fort Mohave #1474"
          ],
          [
           "E. Palisades & Ave of the Fountain"
          ],
          [
           "Safeway - Fountain Hills #1291"
          ],
          [
           "Target Fountain Hills T-1432"
          ],
          [
           "Super Target Gilbert ST-1960"
          ]
         ],
         "type": "scattergeo"
        }
       ],
       "layout": {
        "geo": {
         "coastlinecolor": "White",
         "countrycolor": "white",
         "resolution": 110,
         "scope": "world",
         "showcoastlines": true
        },
        "height": 500,
        "template": {
         "data": {
          "bar": [
           {
            "error_x": {
             "color": "#2a3f5f"
            },
            "error_y": {
             "color": "#2a3f5f"
            },
            "marker": {
             "line": {
              "color": "#E5ECF6",
              "width": 0.5
             },
             "pattern": {
              "fillmode": "overlay",
              "size": 10,
              "solidity": 0.2
             }
            },
            "type": "bar"
           }
          ],
          "barpolar": [
           {
            "marker": {
             "line": {
              "color": "#E5ECF6",
              "width": 0.5
             },
             "pattern": {
              "fillmode": "overlay",
              "size": 10,
              "solidity": 0.2
             }
            },
            "type": "barpolar"
           }
          ],
          "carpet": [
           {
            "aaxis": {
             "endlinecolor": "#2a3f5f",
             "gridcolor": "white",
             "linecolor": "white",
             "minorgridcolor": "white",
             "startlinecolor": "#2a3f5f"
            },
            "baxis": {
             "endlinecolor": "#2a3f5f",
             "gridcolor": "white",
             "linecolor": "white",
             "minorgridcolor": "white",
             "startlinecolor": "#2a3f5f"
            },
            "type": "carpet"
           }
          ],
          "choropleth": [
           {
            "colorbar": {
             "outlinewidth": 0,
             "ticks": ""
            },
            "type": "choropleth"
           }
          ],
          "contour": [
           {
            "colorbar": {
             "outlinewidth": 0,
             "ticks": ""
            },
            "colorscale": [
             [
              0,
              "#0d0887"
             ],
             [
              0.1111111111111111,
              "#46039f"
             ],
             [
              0.2222222222222222,
              "#7201a8"
             ],
             [
              0.3333333333333333,
              "#9c179e"
             ],
             [
              0.4444444444444444,
              "#bd3786"
             ],
             [
              0.5555555555555556,
              "#d8576b"
             ],
             [
              0.6666666666666666,
              "#ed7953"
             ],
             [
              0.7777777777777778,
              "#fb9f3a"
             ],
             [
              0.8888888888888888,
              "#fdca26"
             ],
             [
              1,
              "#f0f921"
             ]
            ],
            "type": "contour"
           }
          ],
          "contourcarpet": [
           {
            "colorbar": {
             "outlinewidth": 0,
             "ticks": ""
            },
            "type": "contourcarpet"
           }
          ],
          "heatmap": [
           {
            "colorbar": {
             "outlinewidth": 0,
             "ticks": ""
            },
            "colorscale": [
             [
              0,
              "#0d0887"
             ],
             [
              0.1111111111111111,
              "#46039f"
             ],
             [
              0.2222222222222222,
              "#7201a8"
             ],
             [
              0.3333333333333333,
              "#9c179e"
             ],
             [
              0.4444444444444444,
              "#bd3786"
             ],
             [
              0.5555555555555556,
              "#d8576b"
             ],
             [
              0.6666666666666666,
              "#ed7953"
             ],
             [
              0.7777777777777778,
              "#fb9f3a"
             ],
             [
              0.8888888888888888,
              "#fdca26"
             ],
             [
              1,
              "#f0f921"
             ]
            ],
            "type": "heatmap"
           }
          ],
          "heatmapgl": [
           {
            "colorbar": {
             "outlinewidth": 0,
             "ticks": ""
            },
            "colorscale": [
             [
              0,
              "#0d0887"
             ],
             [
              0.1111111111111111,
              "#46039f"
             ],
             [
              0.2222222222222222,
              "#7201a8"
             ],
             [
              0.3333333333333333,
              "#9c179e"
             ],
             [
              0.4444444444444444,
              "#bd3786"
             ],
             [
              0.5555555555555556,
              "#d8576b"
             ],
             [
              0.6666666666666666,
              "#ed7953"
             ],
             [
              0.7777777777777778,
              "#fb9f3a"
             ],
             [
              0.8888888888888888,
              "#fdca26"
             ],
             [
              1,
              "#f0f921"
             ]
            ],
            "type": "heatmapgl"
           }
          ],
          "histogram": [
           {
            "marker": {
             "pattern": {
              "fillmode": "overlay",
              "size": 10,
              "solidity": 0.2
             }
            },
            "type": "histogram"
           }
          ],
          "histogram2d": [
           {
            "colorbar": {
             "outlinewidth": 0,
             "ticks": ""
            },
            "colorscale": [
             [
              0,
              "#0d0887"
             ],
             [
              0.1111111111111111,
              "#46039f"
             ],
             [
              0.2222222222222222,
              "#7201a8"
             ],
             [
              0.3333333333333333,
              "#9c179e"
             ],
             [
              0.4444444444444444,
              "#bd3786"
             ],
             [
              0.5555555555555556,
              "#d8576b"
             ],
             [
              0.6666666666666666,
              "#ed7953"
             ],
             [
              0.7777777777777778,
              "#fb9f3a"
             ],
             [
              0.8888888888888888,
              "#fdca26"
             ],
             [
              1,
              "#f0f921"
             ]
            ],
            "type": "histogram2d"
           }
          ],
          "histogram2dcontour": [
           {
            "colorbar": {
             "outlinewidth": 0,
             "ticks": ""
            },
            "colorscale": [
             [
              0,
              "#0d0887"
             ],
             [
              0.1111111111111111,
              "#46039f"
             ],
             [
              0.2222222222222222,
              "#7201a8"
             ],
             [
              0.3333333333333333,
              "#9c179e"
             ],
             [
              0.4444444444444444,
              "#bd3786"
             ],
             [
              0.5555555555555556,
              "#d8576b"
             ],
             [
              0.6666666666666666,
              "#ed7953"
             ],
             [
              0.7777777777777778,
              "#fb9f3a"
             ],
             [
              0.8888888888888888,
              "#fdca26"
             ],
             [
              1,
              "#f0f921"
             ]
            ],
            "type": "histogram2dcontour"
           }
          ],
          "mesh3d": [
           {
            "colorbar": {
             "outlinewidth": 0,
             "ticks": ""
            },
            "type": "mesh3d"
           }
          ],
          "parcoords": [
           {
            "line": {
             "colorbar": {
              "outlinewidth": 0,
              "ticks": ""
             }
            },
            "type": "parcoords"
           }
          ],
          "pie": [
           {
            "automargin": true,
            "type": "pie"
           }
          ],
          "scatter": [
           {
            "fillpattern": {
             "fillmode": "overlay",
             "size": 10,
             "solidity": 0.2
            },
            "type": "scatter"
           }
          ],
          "scatter3d": [
           {
            "line": {
             "colorbar": {
              "outlinewidth": 0,
              "ticks": ""
             }
            },
            "marker": {
             "colorbar": {
              "outlinewidth": 0,
              "ticks": ""
             }
            },
            "type": "scatter3d"
           }
          ],
          "scattercarpet": [
           {
            "marker": {
             "colorbar": {
              "outlinewidth": 0,
              "ticks": ""
             }
            },
            "type": "scattercarpet"
           }
          ],
          "scattergeo": [
           {
            "marker": {
             "colorbar": {
              "outlinewidth": 0,
              "ticks": ""
             }
            },
            "type": "scattergeo"
           }
          ],
          "scattergl": [
           {
            "marker": {
             "colorbar": {
              "outlinewidth": 0,
              "ticks": ""
             }
            },
            "type": "scattergl"
           }
          ],
          "scattermapbox": [
           {
            "marker": {
             "colorbar": {
              "outlinewidth": 0,
              "ticks": ""
             }
            },
            "type": "scattermapbox"
           }
          ],
          "scatterpolar": [
           {
            "marker": {
             "colorbar": {
              "outlinewidth": 0,
              "ticks": ""
             }
            },
            "type": "scatterpolar"
           }
          ],
          "scatterpolargl": [
           {
            "marker": {
             "colorbar": {
              "outlinewidth": 0,
              "ticks": ""
             }
            },
            "type": "scatterpolargl"
           }
          ],
          "scatterternary": [
           {
            "marker": {
             "colorbar": {
              "outlinewidth": 0,
              "ticks": ""
             }
            },
            "type": "scatterternary"
           }
          ],
          "surface": [
           {
            "colorbar": {
             "outlinewidth": 0,
             "ticks": ""
            },
            "colorscale": [
             [
              0,
              "#0d0887"
             ],
             [
              0.1111111111111111,
              "#46039f"
             ],
             [
              0.2222222222222222,
              "#7201a8"
             ],
             [
              0.3333333333333333,
              "#9c179e"
             ],
             [
              0.4444444444444444,
              "#bd3786"
             ],
             [
              0.5555555555555556,
              "#d8576b"
             ],
             [
              0.6666666666666666,
              "#ed7953"
             ],
             [
              0.7777777777777778,
              "#fb9f3a"
             ],
             [
              0.8888888888888888,
              "#fdca26"
             ],
             [
              1,
              "#f0f921"
             ]
            ],
            "type": "surface"
           }
          ],
          "table": [
           {
            "cells": {
             "fill": {
              "color": "#EBF0F8"
             },
             "line": {
              "color": "white"
             }
            },
            "header": {
             "fill": {
              "color": "#C8D4E3"
             },
             "line": {
              "color": "white"
             }
            },
            "type": "table"
           }
          ]
         },
         "layout": {
          "annotationdefaults": {
           "arrowcolor": "#2a3f5f",
           "arrowhead": 0,
           "arrowwidth": 1
          },
          "autotypenumbers": "strict",
          "coloraxis": {
           "colorbar": {
            "outlinewidth": 0,
            "ticks": ""
           }
          },
          "colorscale": {
           "diverging": [
            [
             0,
             "#8e0152"
            ],
            [
             0.1,
             "#c51b7d"
            ],
            [
             0.2,
             "#de77ae"
            ],
            [
             0.3,
             "#f1b6da"
            ],
            [
             0.4,
             "#fde0ef"
            ],
            [
             0.5,
             "#f7f7f7"
            ],
            [
             0.6,
             "#e6f5d0"
            ],
            [
             0.7,
             "#b8e186"
            ],
            [
             0.8,
             "#7fbc41"
            ],
            [
             0.9,
             "#4d9221"
            ],
            [
             1,
             "#276419"
            ]
           ],
           "sequential": [
            [
             0,
             "#0d0887"
            ],
            [
             0.1111111111111111,
             "#46039f"
            ],
            [
             0.2222222222222222,
             "#7201a8"
            ],
            [
             0.3333333333333333,
             "#9c179e"
            ],
            [
             0.4444444444444444,
             "#bd3786"
            ],
            [
             0.5555555555555556,
             "#d8576b"
            ],
            [
             0.6666666666666666,
             "#ed7953"
            ],
            [
             0.7777777777777778,
             "#fb9f3a"
            ],
            [
             0.8888888888888888,
             "#fdca26"
            ],
            [
             1,
             "#f0f921"
            ]
           ],
           "sequentialminus": [
            [
             0,
             "#0d0887"
            ],
            [
             0.1111111111111111,
             "#46039f"
            ],
            [
             0.2222222222222222,
             "#7201a8"
            ],
            [
             0.3333333333333333,
             "#9c179e"
            ],
            [
             0.4444444444444444,
             "#bd3786"
            ],
            [
             0.5555555555555556,
             "#d8576b"
            ],
            [
             0.6666666666666666,
             "#ed7953"
            ],
            [
             0.7777777777777778,
             "#fb9f3a"
            ],
            [
             0.8888888888888888,
             "#fdca26"
            ],
            [
             1,
             "#f0f921"
            ]
           ]
          },
          "colorway": [
           "#636efa",
           "#EF553B",
           "#00cc96",
           "#ab63fa",
           "#FFA15A",
           "#19d3f3",
           "#FF6692",
           "#B6E880",
           "#FF97FF",
           "#FECB52"
          ],
          "font": {
           "color": "#2a3f5f"
          },
          "geo": {
           "bgcolor": "white",
           "lakecolor": "white",
           "landcolor": "#E5ECF6",
           "showlakes": true,
           "showland": true,
           "subunitcolor": "white"
          },
          "hoverlabel": {
           "align": "left"
          },
          "hovermode": "closest",
          "mapbox": {
           "style": "light"
          },
          "paper_bgcolor": "white",
          "plot_bgcolor": "#E5ECF6",
          "polar": {
           "angularaxis": {
            "gridcolor": "white",
            "linecolor": "white",
            "ticks": ""
           },
           "bgcolor": "#E5ECF6",
           "radialaxis": {
            "gridcolor": "white",
            "linecolor": "white",
            "ticks": ""
           }
          },
          "scene": {
           "xaxis": {
            "backgroundcolor": "#E5ECF6",
            "gridcolor": "white",
            "gridwidth": 2,
            "linecolor": "white",
            "showbackground": true,
            "ticks": "",
            "zerolinecolor": "white"
           },
           "yaxis": {
            "backgroundcolor": "#E5ECF6",
            "gridcolor": "white",
            "gridwidth": 2,
            "linecolor": "white",
            "showbackground": true,
            "ticks": "",
            "zerolinecolor": "white"
           },
           "zaxis": {
            "backgroundcolor": "#E5ECF6",
            "gridcolor": "white",
            "gridwidth": 2,
            "linecolor": "white",
            "showbackground": true,
            "ticks": "",
            "zerolinecolor": "white"
           }
          },
          "shapedefaults": {
           "line": {
            "color": "#2a3f5f"
           }
          },
          "ternary": {
           "aaxis": {
            "gridcolor": "white",
            "linecolor": "white",
            "ticks": ""
           },
           "baxis": {
            "gridcolor": "white",
            "linecolor": "white",
            "ticks": ""
           },
           "bgcolor": "#E5ECF6",
           "caxis": {
            "gridcolor": "white",
            "linecolor": "white",
            "ticks": ""
           }
          },
          "title": {
           "x": 0.05
          },
          "xaxis": {
           "automargin": true,
           "gridcolor": "white",
           "linecolor": "white",
           "ticks": "",
           "title": {
            "standoff": 15
           },
           "zerolinecolor": "white",
           "zerolinewidth": 2
          },
          "yaxis": {
           "automargin": true,
           "gridcolor": "white",
           "linecolor": "white",
           "ticks": "",
           "title": {
            "standoff": 15
           },
           "zerolinecolor": "white",
           "zerolinewidth": 2
          }
         }
        },
        "title": {
         "text": "Outlet Location in India & USA",
         "x": 0.5
        },
        "width": 1000
       }
      }
     },
     "metadata": {},
     "output_type": "display_data"
    }
   ],
   "source": [
    "countryIN = data[data['Country']=='IN']\n",
    "countryUS = data[data['Country']=='US']\n",
    "\n",
    "# Initiate an empty figure\n",
    "fig = go.Figure()\n",
    "\n",
    "# Add a trace of scattergeo to the figure for India\n",
    "fig.add_trace(trace=go.Scattergeo(lon=countryIN['Longitude'], \n",
    "                                  lat=countryIN['Latitude'], \n",
    "                                  text=countryIN[['Store_Name']],\n",
    "                                  name='India', \n",
    "                                  marker=dict(size=countryIN['Revenue'], \n",
    "                                              color='Purple')))\n",
    "\n",
    "# Add a trace of scattergeo to the figure for USA\n",
    "fig.add_trace(trace=go.Scattergeo(lon=countryUS['Longitude'], \n",
    "                                  lat=countryUS['Latitude'], \n",
    "                                  text=countryUS[['Store_Name']],\n",
    "                                  name='USA', \n",
    "                                  marker=dict(size=countryUS['Revenue'] / 5, \n",
    "                                              color='Red')))\n",
    "\n",
    "# Update the layout with some cosmetics\n",
    "fig.update_layout(height=500, \n",
    "                  width=1000, \n",
    "                  title_text='Outlet Location in India & USA', \n",
    "                  title_x=0.5,\n",
    "                  geo=dict(scope='world', \n",
    "                           resolution=110, \n",
    "                           showcoastlines=True,\n",
    "                           countrycolor='white',\n",
    "                           coastlinecolor='White'))\n",
    "\n",
    "# Display the figure\n",
    "fig.show()"
   ]
  },
  {
   "cell_type": "code",
   "execution_count": 54,
   "metadata": {},
   "outputs": [
    {
     "data": {
      "application/vnd.plotly.v1+json": {
       "config": {
        "plotlyServerURL": "https://plot.ly"
       },
       "data": [
        {
         "lat": [
          35.05,
          61.58,
          35.21,
          45.42,
          44.58,
          36.39,
          39.13,
          39.13,
          39.16,
          39.15
         ],
         "lon": [
          -89.73,
          -149.41,
          -84.86,
          -122.46,
          -123.26,
          -97.91,
          -84.51,
          -84.52,
          -84.51,
          -84.38
         ],
         "marker": {
          "color": "Red",
          "size": [
           23.25,
           12.75,
           11.75,
           11,
           10.75,
           10.75,
           10.75,
           10.5,
           10.5,
           10.25
          ]
         },
         "text": [
          [
           "Houston Levee & Winchester",
           93
          ],
          [
           "Target Wasilla T-2339",
           51
          ],
          [
           "Paul Huff & I-75",
           47
          ],
          [
           "Safeway - Boring #521",
           44
          ],
          [
           "9th & Garfield - Corvallis",
           43
          ],
          [
           "Cleveland & Owen K. Garriott",
           43
          ],
          [
           "U of Cincinnati Student Life Ctr",
           43
          ],
          [
           "University Square",
           42
          ],
          [
           "Kroger - Cincinnati #428",
           42
          ],
          [
           "Mariemont/The Strand",
           41
          ]
         ],
         "type": "scattergeo"
        }
       ],
       "layout": {
        "geo": {
         "scope": "usa",
         "showcoastlines": true
        },
        "height": 500,
        "template": {
         "data": {
          "bar": [
           {
            "error_x": {
             "color": "#2a3f5f"
            },
            "error_y": {
             "color": "#2a3f5f"
            },
            "marker": {
             "line": {
              "color": "#E5ECF6",
              "width": 0.5
             },
             "pattern": {
              "fillmode": "overlay",
              "size": 10,
              "solidity": 0.2
             }
            },
            "type": "bar"
           }
          ],
          "barpolar": [
           {
            "marker": {
             "line": {
              "color": "#E5ECF6",
              "width": 0.5
             },
             "pattern": {
              "fillmode": "overlay",
              "size": 10,
              "solidity": 0.2
             }
            },
            "type": "barpolar"
           }
          ],
          "carpet": [
           {
            "aaxis": {
             "endlinecolor": "#2a3f5f",
             "gridcolor": "white",
             "linecolor": "white",
             "minorgridcolor": "white",
             "startlinecolor": "#2a3f5f"
            },
            "baxis": {
             "endlinecolor": "#2a3f5f",
             "gridcolor": "white",
             "linecolor": "white",
             "minorgridcolor": "white",
             "startlinecolor": "#2a3f5f"
            },
            "type": "carpet"
           }
          ],
          "choropleth": [
           {
            "colorbar": {
             "outlinewidth": 0,
             "ticks": ""
            },
            "type": "choropleth"
           }
          ],
          "contour": [
           {
            "colorbar": {
             "outlinewidth": 0,
             "ticks": ""
            },
            "colorscale": [
             [
              0,
              "#0d0887"
             ],
             [
              0.1111111111111111,
              "#46039f"
             ],
             [
              0.2222222222222222,
              "#7201a8"
             ],
             [
              0.3333333333333333,
              "#9c179e"
             ],
             [
              0.4444444444444444,
              "#bd3786"
             ],
             [
              0.5555555555555556,
              "#d8576b"
             ],
             [
              0.6666666666666666,
              "#ed7953"
             ],
             [
              0.7777777777777778,
              "#fb9f3a"
             ],
             [
              0.8888888888888888,
              "#fdca26"
             ],
             [
              1,
              "#f0f921"
             ]
            ],
            "type": "contour"
           }
          ],
          "contourcarpet": [
           {
            "colorbar": {
             "outlinewidth": 0,
             "ticks": ""
            },
            "type": "contourcarpet"
           }
          ],
          "heatmap": [
           {
            "colorbar": {
             "outlinewidth": 0,
             "ticks": ""
            },
            "colorscale": [
             [
              0,
              "#0d0887"
             ],
             [
              0.1111111111111111,
              "#46039f"
             ],
             [
              0.2222222222222222,
              "#7201a8"
             ],
             [
              0.3333333333333333,
              "#9c179e"
             ],
             [
              0.4444444444444444,
              "#bd3786"
             ],
             [
              0.5555555555555556,
              "#d8576b"
             ],
             [
              0.6666666666666666,
              "#ed7953"
             ],
             [
              0.7777777777777778,
              "#fb9f3a"
             ],
             [
              0.8888888888888888,
              "#fdca26"
             ],
             [
              1,
              "#f0f921"
             ]
            ],
            "type": "heatmap"
           }
          ],
          "heatmapgl": [
           {
            "colorbar": {
             "outlinewidth": 0,
             "ticks": ""
            },
            "colorscale": [
             [
              0,
              "#0d0887"
             ],
             [
              0.1111111111111111,
              "#46039f"
             ],
             [
              0.2222222222222222,
              "#7201a8"
             ],
             [
              0.3333333333333333,
              "#9c179e"
             ],
             [
              0.4444444444444444,
              "#bd3786"
             ],
             [
              0.5555555555555556,
              "#d8576b"
             ],
             [
              0.6666666666666666,
              "#ed7953"
             ],
             [
              0.7777777777777778,
              "#fb9f3a"
             ],
             [
              0.8888888888888888,
              "#fdca26"
             ],
             [
              1,
              "#f0f921"
             ]
            ],
            "type": "heatmapgl"
           }
          ],
          "histogram": [
           {
            "marker": {
             "pattern": {
              "fillmode": "overlay",
              "size": 10,
              "solidity": 0.2
             }
            },
            "type": "histogram"
           }
          ],
          "histogram2d": [
           {
            "colorbar": {
             "outlinewidth": 0,
             "ticks": ""
            },
            "colorscale": [
             [
              0,
              "#0d0887"
             ],
             [
              0.1111111111111111,
              "#46039f"
             ],
             [
              0.2222222222222222,
              "#7201a8"
             ],
             [
              0.3333333333333333,
              "#9c179e"
             ],
             [
              0.4444444444444444,
              "#bd3786"
             ],
             [
              0.5555555555555556,
              "#d8576b"
             ],
             [
              0.6666666666666666,
              "#ed7953"
             ],
             [
              0.7777777777777778,
              "#fb9f3a"
             ],
             [
              0.8888888888888888,
              "#fdca26"
             ],
             [
              1,
              "#f0f921"
             ]
            ],
            "type": "histogram2d"
           }
          ],
          "histogram2dcontour": [
           {
            "colorbar": {
             "outlinewidth": 0,
             "ticks": ""
            },
            "colorscale": [
             [
              0,
              "#0d0887"
             ],
             [
              0.1111111111111111,
              "#46039f"
             ],
             [
              0.2222222222222222,
              "#7201a8"
             ],
             [
              0.3333333333333333,
              "#9c179e"
             ],
             [
              0.4444444444444444,
              "#bd3786"
             ],
             [
              0.5555555555555556,
              "#d8576b"
             ],
             [
              0.6666666666666666,
              "#ed7953"
             ],
             [
              0.7777777777777778,
              "#fb9f3a"
             ],
             [
              0.8888888888888888,
              "#fdca26"
             ],
             [
              1,
              "#f0f921"
             ]
            ],
            "type": "histogram2dcontour"
           }
          ],
          "mesh3d": [
           {
            "colorbar": {
             "outlinewidth": 0,
             "ticks": ""
            },
            "type": "mesh3d"
           }
          ],
          "parcoords": [
           {
            "line": {
             "colorbar": {
              "outlinewidth": 0,
              "ticks": ""
             }
            },
            "type": "parcoords"
           }
          ],
          "pie": [
           {
            "automargin": true,
            "type": "pie"
           }
          ],
          "scatter": [
           {
            "fillpattern": {
             "fillmode": "overlay",
             "size": 10,
             "solidity": 0.2
            },
            "type": "scatter"
           }
          ],
          "scatter3d": [
           {
            "line": {
             "colorbar": {
              "outlinewidth": 0,
              "ticks": ""
             }
            },
            "marker": {
             "colorbar": {
              "outlinewidth": 0,
              "ticks": ""
             }
            },
            "type": "scatter3d"
           }
          ],
          "scattercarpet": [
           {
            "marker": {
             "colorbar": {
              "outlinewidth": 0,
              "ticks": ""
             }
            },
            "type": "scattercarpet"
           }
          ],
          "scattergeo": [
           {
            "marker": {
             "colorbar": {
              "outlinewidth": 0,
              "ticks": ""
             }
            },
            "type": "scattergeo"
           }
          ],
          "scattergl": [
           {
            "marker": {
             "colorbar": {
              "outlinewidth": 0,
              "ticks": ""
             }
            },
            "type": "scattergl"
           }
          ],
          "scattermapbox": [
           {
            "marker": {
             "colorbar": {
              "outlinewidth": 0,
              "ticks": ""
             }
            },
            "type": "scattermapbox"
           }
          ],
          "scatterpolar": [
           {
            "marker": {
             "colorbar": {
              "outlinewidth": 0,
              "ticks": ""
             }
            },
            "type": "scatterpolar"
           }
          ],
          "scatterpolargl": [
           {
            "marker": {
             "colorbar": {
              "outlinewidth": 0,
              "ticks": ""
             }
            },
            "type": "scatterpolargl"
           }
          ],
          "scatterternary": [
           {
            "marker": {
             "colorbar": {
              "outlinewidth": 0,
              "ticks": ""
             }
            },
            "type": "scatterternary"
           }
          ],
          "surface": [
           {
            "colorbar": {
             "outlinewidth": 0,
             "ticks": ""
            },
            "colorscale": [
             [
              0,
              "#0d0887"
             ],
             [
              0.1111111111111111,
              "#46039f"
             ],
             [
              0.2222222222222222,
              "#7201a8"
             ],
             [
              0.3333333333333333,
              "#9c179e"
             ],
             [
              0.4444444444444444,
              "#bd3786"
             ],
             [
              0.5555555555555556,
              "#d8576b"
             ],
             [
              0.6666666666666666,
              "#ed7953"
             ],
             [
              0.7777777777777778,
              "#fb9f3a"
             ],
             [
              0.8888888888888888,
              "#fdca26"
             ],
             [
              1,
              "#f0f921"
             ]
            ],
            "type": "surface"
           }
          ],
          "table": [
           {
            "cells": {
             "fill": {
              "color": "#EBF0F8"
             },
             "line": {
              "color": "white"
             }
            },
            "header": {
             "fill": {
              "color": "#C8D4E3"
             },
             "line": {
              "color": "white"
             }
            },
            "type": "table"
           }
          ]
         },
         "layout": {
          "annotationdefaults": {
           "arrowcolor": "#2a3f5f",
           "arrowhead": 0,
           "arrowwidth": 1
          },
          "autotypenumbers": "strict",
          "coloraxis": {
           "colorbar": {
            "outlinewidth": 0,
            "ticks": ""
           }
          },
          "colorscale": {
           "diverging": [
            [
             0,
             "#8e0152"
            ],
            [
             0.1,
             "#c51b7d"
            ],
            [
             0.2,
             "#de77ae"
            ],
            [
             0.3,
             "#f1b6da"
            ],
            [
             0.4,
             "#fde0ef"
            ],
            [
             0.5,
             "#f7f7f7"
            ],
            [
             0.6,
             "#e6f5d0"
            ],
            [
             0.7,
             "#b8e186"
            ],
            [
             0.8,
             "#7fbc41"
            ],
            [
             0.9,
             "#4d9221"
            ],
            [
             1,
             "#276419"
            ]
           ],
           "sequential": [
            [
             0,
             "#0d0887"
            ],
            [
             0.1111111111111111,
             "#46039f"
            ],
            [
             0.2222222222222222,
             "#7201a8"
            ],
            [
             0.3333333333333333,
             "#9c179e"
            ],
            [
             0.4444444444444444,
             "#bd3786"
            ],
            [
             0.5555555555555556,
             "#d8576b"
            ],
            [
             0.6666666666666666,
             "#ed7953"
            ],
            [
             0.7777777777777778,
             "#fb9f3a"
            ],
            [
             0.8888888888888888,
             "#fdca26"
            ],
            [
             1,
             "#f0f921"
            ]
           ],
           "sequentialminus": [
            [
             0,
             "#0d0887"
            ],
            [
             0.1111111111111111,
             "#46039f"
            ],
            [
             0.2222222222222222,
             "#7201a8"
            ],
            [
             0.3333333333333333,
             "#9c179e"
            ],
            [
             0.4444444444444444,
             "#bd3786"
            ],
            [
             0.5555555555555556,
             "#d8576b"
            ],
            [
             0.6666666666666666,
             "#ed7953"
            ],
            [
             0.7777777777777778,
             "#fb9f3a"
            ],
            [
             0.8888888888888888,
             "#fdca26"
            ],
            [
             1,
             "#f0f921"
            ]
           ]
          },
          "colorway": [
           "#636efa",
           "#EF553B",
           "#00cc96",
           "#ab63fa",
           "#FFA15A",
           "#19d3f3",
           "#FF6692",
           "#B6E880",
           "#FF97FF",
           "#FECB52"
          ],
          "font": {
           "color": "#2a3f5f"
          },
          "geo": {
           "bgcolor": "white",
           "lakecolor": "white",
           "landcolor": "#E5ECF6",
           "showlakes": true,
           "showland": true,
           "subunitcolor": "white"
          },
          "hoverlabel": {
           "align": "left"
          },
          "hovermode": "closest",
          "mapbox": {
           "style": "light"
          },
          "paper_bgcolor": "white",
          "plot_bgcolor": "#E5ECF6",
          "polar": {
           "angularaxis": {
            "gridcolor": "white",
            "linecolor": "white",
            "ticks": ""
           },
           "bgcolor": "#E5ECF6",
           "radialaxis": {
            "gridcolor": "white",
            "linecolor": "white",
            "ticks": ""
           }
          },
          "scene": {
           "xaxis": {
            "backgroundcolor": "#E5ECF6",
            "gridcolor": "white",
            "gridwidth": 2,
            "linecolor": "white",
            "showbackground": true,
            "ticks": "",
            "zerolinecolor": "white"
           },
           "yaxis": {
            "backgroundcolor": "#E5ECF6",
            "gridcolor": "white",
            "gridwidth": 2,
            "linecolor": "white",
            "showbackground": true,
            "ticks": "",
            "zerolinecolor": "white"
           },
           "zaxis": {
            "backgroundcolor": "#E5ECF6",
            "gridcolor": "white",
            "gridwidth": 2,
            "linecolor": "white",
            "showbackground": true,
            "ticks": "",
            "zerolinecolor": "white"
           }
          },
          "shapedefaults": {
           "line": {
            "color": "#2a3f5f"
           }
          },
          "ternary": {
           "aaxis": {
            "gridcolor": "white",
            "linecolor": "white",
            "ticks": ""
           },
           "baxis": {
            "gridcolor": "white",
            "linecolor": "white",
            "ticks": ""
           },
           "bgcolor": "#E5ECF6",
           "caxis": {
            "gridcolor": "white",
            "linecolor": "white",
            "ticks": ""
           }
          },
          "title": {
           "x": 0.05
          },
          "xaxis": {
           "automargin": true,
           "gridcolor": "white",
           "linecolor": "white",
           "ticks": "",
           "title": {
            "standoff": 15
           },
           "zerolinecolor": "white",
           "zerolinewidth": 2
          },
          "yaxis": {
           "automargin": true,
           "gridcolor": "white",
           "linecolor": "white",
           "ticks": "",
           "title": {
            "standoff": 15
           },
           "zerolinecolor": "white",
           "zerolinewidth": 2
          }
         }
        },
        "title": {
         "text": "Top 10 Outlets Concerning Nutritional Items",
         "x": 0.5
        },
        "width": 1000
       }
      }
     },
     "metadata": {},
     "output_type": "display_data"
    }
   ],
   "source": [
    "top10nut = data.iloc[data['Nutritious'].sort_values(ascending=False)[:10].index, :]\n",
    "\n",
    "# Initiate an empty figure\n",
    "fig = go.Figure()\n",
    "\n",
    "# Add a trace of scattergeo to the figure for nutritious items\n",
    "fig.add_trace(trace=go.Scattergeo(lon=top10nut['Longitude'], \n",
    "                                  lat=top10nut['Latitude'], \n",
    "                                  text=top10nut[['Store_Name', 'Nutritious']], \n",
    "                                  marker=dict(size=top10nut['Nutritious'] / 4, \n",
    "                                              color='Red')))\n",
    "\n",
    "# Update the layout with some cosmetics\n",
    "fig.update_layout(height=500, \n",
    "                  width=1000, \n",
    "                  title_text='Top 10 Outlets Concerning Nutritional Items', \n",
    "                  title_x=0.5,\n",
    "                  geo=dict(scope='usa', \n",
    "                           showcoastlines=True))\n",
    "\n",
    "# Display the figure\n",
    "fig.show()"
   ]
  },
  {
   "cell_type": "code",
   "execution_count": 57,
   "metadata": {},
   "outputs": [
    {
     "data": {
      "application/vnd.plotly.v1+json": {
       "config": {
        "plotlyServerURL": "https://plot.ly"
       },
       "data": [
        {
         "marker": {
          "color": "rgba(69, 214, 179, 1.0)",
          "line": {
           "color": "rgba(66, 5, 84, 1.0)",
           "width": 3
          }
         },
         "orientation": "h",
         "type": "bar",
         "x": [
          4.4717032380138555,
          4.62741172521134,
          4.845332193975646,
          5.051991332743309,
          6.828791161839656,
          13.225494908495335,
          21.392670810402063,
          25.33615509865557,
          26.303611211628425,
          27.75313039122934,
          32.044600181323105,
          32.17893941136838,
          35.3847468489639,
          37.4732963042085
         ],
         "y": [
          "Sandwiches and Wraps",
          "Condiments",
          "Chicken Wings",
          "New Products",
          "Nuggets",
          "Desserts",
          "Cold Beverages",
          "Smoothies & Shakes",
          "Breakfast",
          "Snacks & Sides",
          "Hot Beverages",
          "Chicken & Fish",
          "Beef & Pork",
          "Salads"
         ]
        }
       ],
       "layout": {
        "height": 500,
        "template": {
         "data": {
          "bar": [
           {
            "error_x": {
             "color": "#2a3f5f"
            },
            "error_y": {
             "color": "#2a3f5f"
            },
            "marker": {
             "line": {
              "color": "#E5ECF6",
              "width": 0.5
             },
             "pattern": {
              "fillmode": "overlay",
              "size": 10,
              "solidity": 0.2
             }
            },
            "type": "bar"
           }
          ],
          "barpolar": [
           {
            "marker": {
             "line": {
              "color": "#E5ECF6",
              "width": 0.5
             },
             "pattern": {
              "fillmode": "overlay",
              "size": 10,
              "solidity": 0.2
             }
            },
            "type": "barpolar"
           }
          ],
          "carpet": [
           {
            "aaxis": {
             "endlinecolor": "#2a3f5f",
             "gridcolor": "white",
             "linecolor": "white",
             "minorgridcolor": "white",
             "startlinecolor": "#2a3f5f"
            },
            "baxis": {
             "endlinecolor": "#2a3f5f",
             "gridcolor": "white",
             "linecolor": "white",
             "minorgridcolor": "white",
             "startlinecolor": "#2a3f5f"
            },
            "type": "carpet"
           }
          ],
          "choropleth": [
           {
            "colorbar": {
             "outlinewidth": 0,
             "ticks": ""
            },
            "type": "choropleth"
           }
          ],
          "contour": [
           {
            "colorbar": {
             "outlinewidth": 0,
             "ticks": ""
            },
            "colorscale": [
             [
              0,
              "#0d0887"
             ],
             [
              0.1111111111111111,
              "#46039f"
             ],
             [
              0.2222222222222222,
              "#7201a8"
             ],
             [
              0.3333333333333333,
              "#9c179e"
             ],
             [
              0.4444444444444444,
              "#bd3786"
             ],
             [
              0.5555555555555556,
              "#d8576b"
             ],
             [
              0.6666666666666666,
              "#ed7953"
             ],
             [
              0.7777777777777778,
              "#fb9f3a"
             ],
             [
              0.8888888888888888,
              "#fdca26"
             ],
             [
              1,
              "#f0f921"
             ]
            ],
            "type": "contour"
           }
          ],
          "contourcarpet": [
           {
            "colorbar": {
             "outlinewidth": 0,
             "ticks": ""
            },
            "type": "contourcarpet"
           }
          ],
          "heatmap": [
           {
            "colorbar": {
             "outlinewidth": 0,
             "ticks": ""
            },
            "colorscale": [
             [
              0,
              "#0d0887"
             ],
             [
              0.1111111111111111,
              "#46039f"
             ],
             [
              0.2222222222222222,
              "#7201a8"
             ],
             [
              0.3333333333333333,
              "#9c179e"
             ],
             [
              0.4444444444444444,
              "#bd3786"
             ],
             [
              0.5555555555555556,
              "#d8576b"
             ],
             [
              0.6666666666666666,
              "#ed7953"
             ],
             [
              0.7777777777777778,
              "#fb9f3a"
             ],
             [
              0.8888888888888888,
              "#fdca26"
             ],
             [
              1,
              "#f0f921"
             ]
            ],
            "type": "heatmap"
           }
          ],
          "heatmapgl": [
           {
            "colorbar": {
             "outlinewidth": 0,
             "ticks": ""
            },
            "colorscale": [
             [
              0,
              "#0d0887"
             ],
             [
              0.1111111111111111,
              "#46039f"
             ],
             [
              0.2222222222222222,
              "#7201a8"
             ],
             [
              0.3333333333333333,
              "#9c179e"
             ],
             [
              0.4444444444444444,
              "#bd3786"
             ],
             [
              0.5555555555555556,
              "#d8576b"
             ],
             [
              0.6666666666666666,
              "#ed7953"
             ],
             [
              0.7777777777777778,
              "#fb9f3a"
             ],
             [
              0.8888888888888888,
              "#fdca26"
             ],
             [
              1,
              "#f0f921"
             ]
            ],
            "type": "heatmapgl"
           }
          ],
          "histogram": [
           {
            "marker": {
             "pattern": {
              "fillmode": "overlay",
              "size": 10,
              "solidity": 0.2
             }
            },
            "type": "histogram"
           }
          ],
          "histogram2d": [
           {
            "colorbar": {
             "outlinewidth": 0,
             "ticks": ""
            },
            "colorscale": [
             [
              0,
              "#0d0887"
             ],
             [
              0.1111111111111111,
              "#46039f"
             ],
             [
              0.2222222222222222,
              "#7201a8"
             ],
             [
              0.3333333333333333,
              "#9c179e"
             ],
             [
              0.4444444444444444,
              "#bd3786"
             ],
             [
              0.5555555555555556,
              "#d8576b"
             ],
             [
              0.6666666666666666,
              "#ed7953"
             ],
             [
              0.7777777777777778,
              "#fb9f3a"
             ],
             [
              0.8888888888888888,
              "#fdca26"
             ],
             [
              1,
              "#f0f921"
             ]
            ],
            "type": "histogram2d"
           }
          ],
          "histogram2dcontour": [
           {
            "colorbar": {
             "outlinewidth": 0,
             "ticks": ""
            },
            "colorscale": [
             [
              0,
              "#0d0887"
             ],
             [
              0.1111111111111111,
              "#46039f"
             ],
             [
              0.2222222222222222,
              "#7201a8"
             ],
             [
              0.3333333333333333,
              "#9c179e"
             ],
             [
              0.4444444444444444,
              "#bd3786"
             ],
             [
              0.5555555555555556,
              "#d8576b"
             ],
             [
              0.6666666666666666,
              "#ed7953"
             ],
             [
              0.7777777777777778,
              "#fb9f3a"
             ],
             [
              0.8888888888888888,
              "#fdca26"
             ],
             [
              1,
              "#f0f921"
             ]
            ],
            "type": "histogram2dcontour"
           }
          ],
          "mesh3d": [
           {
            "colorbar": {
             "outlinewidth": 0,
             "ticks": ""
            },
            "type": "mesh3d"
           }
          ],
          "parcoords": [
           {
            "line": {
             "colorbar": {
              "outlinewidth": 0,
              "ticks": ""
             }
            },
            "type": "parcoords"
           }
          ],
          "pie": [
           {
            "automargin": true,
            "type": "pie"
           }
          ],
          "scatter": [
           {
            "fillpattern": {
             "fillmode": "overlay",
             "size": 10,
             "solidity": 0.2
            },
            "type": "scatter"
           }
          ],
          "scatter3d": [
           {
            "line": {
             "colorbar": {
              "outlinewidth": 0,
              "ticks": ""
             }
            },
            "marker": {
             "colorbar": {
              "outlinewidth": 0,
              "ticks": ""
             }
            },
            "type": "scatter3d"
           }
          ],
          "scattercarpet": [
           {
            "marker": {
             "colorbar": {
              "outlinewidth": 0,
              "ticks": ""
             }
            },
            "type": "scattercarpet"
           }
          ],
          "scattergeo": [
           {
            "marker": {
             "colorbar": {
              "outlinewidth": 0,
              "ticks": ""
             }
            },
            "type": "scattergeo"
           }
          ],
          "scattergl": [
           {
            "marker": {
             "colorbar": {
              "outlinewidth": 0,
              "ticks": ""
             }
            },
            "type": "scattergl"
           }
          ],
          "scattermapbox": [
           {
            "marker": {
             "colorbar": {
              "outlinewidth": 0,
              "ticks": ""
             }
            },
            "type": "scattermapbox"
           }
          ],
          "scatterpolar": [
           {
            "marker": {
             "colorbar": {
              "outlinewidth": 0,
              "ticks": ""
             }
            },
            "type": "scatterpolar"
           }
          ],
          "scatterpolargl": [
           {
            "marker": {
             "colorbar": {
              "outlinewidth": 0,
              "ticks": ""
             }
            },
            "type": "scatterpolargl"
           }
          ],
          "scatterternary": [
           {
            "marker": {
             "colorbar": {
              "outlinewidth": 0,
              "ticks": ""
             }
            },
            "type": "scatterternary"
           }
          ],
          "surface": [
           {
            "colorbar": {
             "outlinewidth": 0,
             "ticks": ""
            },
            "colorscale": [
             [
              0,
              "#0d0887"
             ],
             [
              0.1111111111111111,
              "#46039f"
             ],
             [
              0.2222222222222222,
              "#7201a8"
             ],
             [
              0.3333333333333333,
              "#9c179e"
             ],
             [
              0.4444444444444444,
              "#bd3786"
             ],
             [
              0.5555555555555556,
              "#d8576b"
             ],
             [
              0.6666666666666666,
              "#ed7953"
             ],
             [
              0.7777777777777778,
              "#fb9f3a"
             ],
             [
              0.8888888888888888,
              "#fdca26"
             ],
             [
              1,
              "#f0f921"
             ]
            ],
            "type": "surface"
           }
          ],
          "table": [
           {
            "cells": {
             "fill": {
              "color": "#EBF0F8"
             },
             "line": {
              "color": "white"
             }
            },
            "header": {
             "fill": {
              "color": "#C8D4E3"
             },
             "line": {
              "color": "white"
             }
            },
            "type": "table"
           }
          ]
         },
         "layout": {
          "annotationdefaults": {
           "arrowcolor": "#2a3f5f",
           "arrowhead": 0,
           "arrowwidth": 1
          },
          "autotypenumbers": "strict",
          "coloraxis": {
           "colorbar": {
            "outlinewidth": 0,
            "ticks": ""
           }
          },
          "colorscale": {
           "diverging": [
            [
             0,
             "#8e0152"
            ],
            [
             0.1,
             "#c51b7d"
            ],
            [
             0.2,
             "#de77ae"
            ],
            [
             0.3,
             "#f1b6da"
            ],
            [
             0.4,
             "#fde0ef"
            ],
            [
             0.5,
             "#f7f7f7"
            ],
            [
             0.6,
             "#e6f5d0"
            ],
            [
             0.7,
             "#b8e186"
            ],
            [
             0.8,
             "#7fbc41"
            ],
            [
             0.9,
             "#4d9221"
            ],
            [
             1,
             "#276419"
            ]
           ],
           "sequential": [
            [
             0,
             "#0d0887"
            ],
            [
             0.1111111111111111,
             "#46039f"
            ],
            [
             0.2222222222222222,
             "#7201a8"
            ],
            [
             0.3333333333333333,
             "#9c179e"
            ],
            [
             0.4444444444444444,
             "#bd3786"
            ],
            [
             0.5555555555555556,
             "#d8576b"
            ],
            [
             0.6666666666666666,
             "#ed7953"
            ],
            [
             0.7777777777777778,
             "#fb9f3a"
            ],
            [
             0.8888888888888888,
             "#fdca26"
            ],
            [
             1,
             "#f0f921"
            ]
           ],
           "sequentialminus": [
            [
             0,
             "#0d0887"
            ],
            [
             0.1111111111111111,
             "#46039f"
            ],
            [
             0.2222222222222222,
             "#7201a8"
            ],
            [
             0.3333333333333333,
             "#9c179e"
            ],
            [
             0.4444444444444444,
             "#bd3786"
            ],
            [
             0.5555555555555556,
             "#d8576b"
            ],
            [
             0.6666666666666666,
             "#ed7953"
            ],
            [
             0.7777777777777778,
             "#fb9f3a"
            ],
            [
             0.8888888888888888,
             "#fdca26"
            ],
            [
             1,
             "#f0f921"
            ]
           ]
          },
          "colorway": [
           "#636efa",
           "#EF553B",
           "#00cc96",
           "#ab63fa",
           "#FFA15A",
           "#19d3f3",
           "#FF6692",
           "#B6E880",
           "#FF97FF",
           "#FECB52"
          ],
          "font": {
           "color": "#2a3f5f"
          },
          "geo": {
           "bgcolor": "white",
           "lakecolor": "white",
           "landcolor": "#E5ECF6",
           "showlakes": true,
           "showland": true,
           "subunitcolor": "white"
          },
          "hoverlabel": {
           "align": "left"
          },
          "hovermode": "closest",
          "mapbox": {
           "style": "light"
          },
          "paper_bgcolor": "white",
          "plot_bgcolor": "#E5ECF6",
          "polar": {
           "angularaxis": {
            "gridcolor": "white",
            "linecolor": "white",
            "ticks": ""
           },
           "bgcolor": "#E5ECF6",
           "radialaxis": {
            "gridcolor": "white",
            "linecolor": "white",
            "ticks": ""
           }
          },
          "scene": {
           "xaxis": {
            "backgroundcolor": "#E5ECF6",
            "gridcolor": "white",
            "gridwidth": 2,
            "linecolor": "white",
            "showbackground": true,
            "ticks": "",
            "zerolinecolor": "white"
           },
           "yaxis": {
            "backgroundcolor": "#E5ECF6",
            "gridcolor": "white",
            "gridwidth": 2,
            "linecolor": "white",
            "showbackground": true,
            "ticks": "",
            "zerolinecolor": "white"
           },
           "zaxis": {
            "backgroundcolor": "#E5ECF6",
            "gridcolor": "white",
            "gridwidth": 2,
            "linecolor": "white",
            "showbackground": true,
            "ticks": "",
            "zerolinecolor": "white"
           }
          },
          "shapedefaults": {
           "line": {
            "color": "#2a3f5f"
           }
          },
          "ternary": {
           "aaxis": {
            "gridcolor": "white",
            "linecolor": "white",
            "ticks": ""
           },
           "baxis": {
            "gridcolor": "white",
            "linecolor": "white",
            "ticks": ""
           },
           "bgcolor": "#E5ECF6",
           "caxis": {
            "gridcolor": "white",
            "linecolor": "white",
            "ticks": ""
           }
          },
          "title": {
           "x": 0.05
          },
          "xaxis": {
           "automargin": true,
           "gridcolor": "white",
           "linecolor": "white",
           "ticks": "",
           "title": {
            "standoff": 15
           },
           "zerolinecolor": "white",
           "zerolinewidth": 2
          },
          "yaxis": {
           "automargin": true,
           "gridcolor": "white",
           "linecolor": "white",
           "ticks": "",
           "title": {
            "standoff": 15
           },
           "zerolinecolor": "white",
           "zerolinewidth": 2
          }
         }
        },
        "title": {
         "text": "Revenue of Outlet per Category",
         "x": 0.5
        },
        "width": 1000,
        "xaxis": {
         "title": {
          "text": "Revenue (in million INR)"
         }
        },
        "yaxis": {
         "title": {
          "text": "Category"
         }
        }
       }
      }
     },
     "metadata": {},
     "output_type": "display_data"
    }
   ],
   "source": [
    "labels = data.groupby(by=['Category'])['Revenue'].mean().sort_values().index\n",
    "values = data.groupby(by=['Category'])['Revenue'].mean().sort_values().values\n",
    "\n",
    "# Initiate an empty figure\n",
    "fig = go.Figure()\n",
    "\n",
    "# Add a trace of bar to the figure\n",
    "fig.add_trace(trace=go.Bar(x=values, \n",
    "                           y=labels, \n",
    "                           orientation='h',\n",
    "                           marker=dict(color='rgba(69, 214, 179, 1.0)',\n",
    "                                       line=dict(color='rgba(66, 5, 84, 1.0)', \n",
    "                                                 width=3))))\n",
    "\n",
    "# Update the layout with some cosmetics\n",
    "fig.update_layout(height=500, \n",
    "                  width=1000, \n",
    "                  title_text='Revenue of Outlet per Category', \n",
    "                  title_x=0.5, \n",
    "                  xaxis_title='Revenue (in million INR)', \n",
    "                  yaxis_title='Category')\n",
    "\n",
    "# Display the figure\n",
    "fig.show()"
   ]
  },
  {
   "cell_type": "code",
   "execution_count": 64,
   "metadata": {},
   "outputs": [
    {
     "data": {
      "application/vnd.plotly.v1+json": {
       "config": {
        "plotlyServerURL": "https://plot.ly"
       },
       "data": [
        {
         "name": "India",
         "orientation": "h",
         "type": "bar",
         "x": [
          82
         ],
         "y": [
          "Joint Venture"
         ]
        },
        {
         "name": "USA",
         "orientation": "h",
         "type": "bar",
         "x": [
          137,
          121
         ],
         "y": [
          "Company Owned",
          "Licensed"
         ]
        }
       ],
       "layout": {
        "barmode": "group",
        "height": 500,
        "template": {
         "data": {
          "bar": [
           {
            "error_x": {
             "color": "#2a3f5f"
            },
            "error_y": {
             "color": "#2a3f5f"
            },
            "marker": {
             "line": {
              "color": "#E5ECF6",
              "width": 0.5
             },
             "pattern": {
              "fillmode": "overlay",
              "size": 10,
              "solidity": 0.2
             }
            },
            "type": "bar"
           }
          ],
          "barpolar": [
           {
            "marker": {
             "line": {
              "color": "#E5ECF6",
              "width": 0.5
             },
             "pattern": {
              "fillmode": "overlay",
              "size": 10,
              "solidity": 0.2
             }
            },
            "type": "barpolar"
           }
          ],
          "carpet": [
           {
            "aaxis": {
             "endlinecolor": "#2a3f5f",
             "gridcolor": "white",
             "linecolor": "white",
             "minorgridcolor": "white",
             "startlinecolor": "#2a3f5f"
            },
            "baxis": {
             "endlinecolor": "#2a3f5f",
             "gridcolor": "white",
             "linecolor": "white",
             "minorgridcolor": "white",
             "startlinecolor": "#2a3f5f"
            },
            "type": "carpet"
           }
          ],
          "choropleth": [
           {
            "colorbar": {
             "outlinewidth": 0,
             "ticks": ""
            },
            "type": "choropleth"
           }
          ],
          "contour": [
           {
            "colorbar": {
             "outlinewidth": 0,
             "ticks": ""
            },
            "colorscale": [
             [
              0,
              "#0d0887"
             ],
             [
              0.1111111111111111,
              "#46039f"
             ],
             [
              0.2222222222222222,
              "#7201a8"
             ],
             [
              0.3333333333333333,
              "#9c179e"
             ],
             [
              0.4444444444444444,
              "#bd3786"
             ],
             [
              0.5555555555555556,
              "#d8576b"
             ],
             [
              0.6666666666666666,
              "#ed7953"
             ],
             [
              0.7777777777777778,
              "#fb9f3a"
             ],
             [
              0.8888888888888888,
              "#fdca26"
             ],
             [
              1,
              "#f0f921"
             ]
            ],
            "type": "contour"
           }
          ],
          "contourcarpet": [
           {
            "colorbar": {
             "outlinewidth": 0,
             "ticks": ""
            },
            "type": "contourcarpet"
           }
          ],
          "heatmap": [
           {
            "colorbar": {
             "outlinewidth": 0,
             "ticks": ""
            },
            "colorscale": [
             [
              0,
              "#0d0887"
             ],
             [
              0.1111111111111111,
              "#46039f"
             ],
             [
              0.2222222222222222,
              "#7201a8"
             ],
             [
              0.3333333333333333,
              "#9c179e"
             ],
             [
              0.4444444444444444,
              "#bd3786"
             ],
             [
              0.5555555555555556,
              "#d8576b"
             ],
             [
              0.6666666666666666,
              "#ed7953"
             ],
             [
              0.7777777777777778,
              "#fb9f3a"
             ],
             [
              0.8888888888888888,
              "#fdca26"
             ],
             [
              1,
              "#f0f921"
             ]
            ],
            "type": "heatmap"
           }
          ],
          "heatmapgl": [
           {
            "colorbar": {
             "outlinewidth": 0,
             "ticks": ""
            },
            "colorscale": [
             [
              0,
              "#0d0887"
             ],
             [
              0.1111111111111111,
              "#46039f"
             ],
             [
              0.2222222222222222,
              "#7201a8"
             ],
             [
              0.3333333333333333,
              "#9c179e"
             ],
             [
              0.4444444444444444,
              "#bd3786"
             ],
             [
              0.5555555555555556,
              "#d8576b"
             ],
             [
              0.6666666666666666,
              "#ed7953"
             ],
             [
              0.7777777777777778,
              "#fb9f3a"
             ],
             [
              0.8888888888888888,
              "#fdca26"
             ],
             [
              1,
              "#f0f921"
             ]
            ],
            "type": "heatmapgl"
           }
          ],
          "histogram": [
           {
            "marker": {
             "pattern": {
              "fillmode": "overlay",
              "size": 10,
              "solidity": 0.2
             }
            },
            "type": "histogram"
           }
          ],
          "histogram2d": [
           {
            "colorbar": {
             "outlinewidth": 0,
             "ticks": ""
            },
            "colorscale": [
             [
              0,
              "#0d0887"
             ],
             [
              0.1111111111111111,
              "#46039f"
             ],
             [
              0.2222222222222222,
              "#7201a8"
             ],
             [
              0.3333333333333333,
              "#9c179e"
             ],
             [
              0.4444444444444444,
              "#bd3786"
             ],
             [
              0.5555555555555556,
              "#d8576b"
             ],
             [
              0.6666666666666666,
              "#ed7953"
             ],
             [
              0.7777777777777778,
              "#fb9f3a"
             ],
             [
              0.8888888888888888,
              "#fdca26"
             ],
             [
              1,
              "#f0f921"
             ]
            ],
            "type": "histogram2d"
           }
          ],
          "histogram2dcontour": [
           {
            "colorbar": {
             "outlinewidth": 0,
             "ticks": ""
            },
            "colorscale": [
             [
              0,
              "#0d0887"
             ],
             [
              0.1111111111111111,
              "#46039f"
             ],
             [
              0.2222222222222222,
              "#7201a8"
             ],
             [
              0.3333333333333333,
              "#9c179e"
             ],
             [
              0.4444444444444444,
              "#bd3786"
             ],
             [
              0.5555555555555556,
              "#d8576b"
             ],
             [
              0.6666666666666666,
              "#ed7953"
             ],
             [
              0.7777777777777778,
              "#fb9f3a"
             ],
             [
              0.8888888888888888,
              "#fdca26"
             ],
             [
              1,
              "#f0f921"
             ]
            ],
            "type": "histogram2dcontour"
           }
          ],
          "mesh3d": [
           {
            "colorbar": {
             "outlinewidth": 0,
             "ticks": ""
            },
            "type": "mesh3d"
           }
          ],
          "parcoords": [
           {
            "line": {
             "colorbar": {
              "outlinewidth": 0,
              "ticks": ""
             }
            },
            "type": "parcoords"
           }
          ],
          "pie": [
           {
            "automargin": true,
            "type": "pie"
           }
          ],
          "scatter": [
           {
            "fillpattern": {
             "fillmode": "overlay",
             "size": 10,
             "solidity": 0.2
            },
            "type": "scatter"
           }
          ],
          "scatter3d": [
           {
            "line": {
             "colorbar": {
              "outlinewidth": 0,
              "ticks": ""
             }
            },
            "marker": {
             "colorbar": {
              "outlinewidth": 0,
              "ticks": ""
             }
            },
            "type": "scatter3d"
           }
          ],
          "scattercarpet": [
           {
            "marker": {
             "colorbar": {
              "outlinewidth": 0,
              "ticks": ""
             }
            },
            "type": "scattercarpet"
           }
          ],
          "scattergeo": [
           {
            "marker": {
             "colorbar": {
              "outlinewidth": 0,
              "ticks": ""
             }
            },
            "type": "scattergeo"
           }
          ],
          "scattergl": [
           {
            "marker": {
             "colorbar": {
              "outlinewidth": 0,
              "ticks": ""
             }
            },
            "type": "scattergl"
           }
          ],
          "scattermapbox": [
           {
            "marker": {
             "colorbar": {
              "outlinewidth": 0,
              "ticks": ""
             }
            },
            "type": "scattermapbox"
           }
          ],
          "scatterpolar": [
           {
            "marker": {
             "colorbar": {
              "outlinewidth": 0,
              "ticks": ""
             }
            },
            "type": "scatterpolar"
           }
          ],
          "scatterpolargl": [
           {
            "marker": {
             "colorbar": {
              "outlinewidth": 0,
              "ticks": ""
             }
            },
            "type": "scatterpolargl"
           }
          ],
          "scatterternary": [
           {
            "marker": {
             "colorbar": {
              "outlinewidth": 0,
              "ticks": ""
             }
            },
            "type": "scatterternary"
           }
          ],
          "surface": [
           {
            "colorbar": {
             "outlinewidth": 0,
             "ticks": ""
            },
            "colorscale": [
             [
              0,
              "#0d0887"
             ],
             [
              0.1111111111111111,
              "#46039f"
             ],
             [
              0.2222222222222222,
              "#7201a8"
             ],
             [
              0.3333333333333333,
              "#9c179e"
             ],
             [
              0.4444444444444444,
              "#bd3786"
             ],
             [
              0.5555555555555556,
              "#d8576b"
             ],
             [
              0.6666666666666666,
              "#ed7953"
             ],
             [
              0.7777777777777778,
              "#fb9f3a"
             ],
             [
              0.8888888888888888,
              "#fdca26"
             ],
             [
              1,
              "#f0f921"
             ]
            ],
            "type": "surface"
           }
          ],
          "table": [
           {
            "cells": {
             "fill": {
              "color": "#EBF0F8"
             },
             "line": {
              "color": "white"
             }
            },
            "header": {
             "fill": {
              "color": "#C8D4E3"
             },
             "line": {
              "color": "white"
             }
            },
            "type": "table"
           }
          ]
         },
         "layout": {
          "annotationdefaults": {
           "arrowcolor": "#2a3f5f",
           "arrowhead": 0,
           "arrowwidth": 1
          },
          "autotypenumbers": "strict",
          "coloraxis": {
           "colorbar": {
            "outlinewidth": 0,
            "ticks": ""
           }
          },
          "colorscale": {
           "diverging": [
            [
             0,
             "#8e0152"
            ],
            [
             0.1,
             "#c51b7d"
            ],
            [
             0.2,
             "#de77ae"
            ],
            [
             0.3,
             "#f1b6da"
            ],
            [
             0.4,
             "#fde0ef"
            ],
            [
             0.5,
             "#f7f7f7"
            ],
            [
             0.6,
             "#e6f5d0"
            ],
            [
             0.7,
             "#b8e186"
            ],
            [
             0.8,
             "#7fbc41"
            ],
            [
             0.9,
             "#4d9221"
            ],
            [
             1,
             "#276419"
            ]
           ],
           "sequential": [
            [
             0,
             "#0d0887"
            ],
            [
             0.1111111111111111,
             "#46039f"
            ],
            [
             0.2222222222222222,
             "#7201a8"
            ],
            [
             0.3333333333333333,
             "#9c179e"
            ],
            [
             0.4444444444444444,
             "#bd3786"
            ],
            [
             0.5555555555555556,
             "#d8576b"
            ],
            [
             0.6666666666666666,
             "#ed7953"
            ],
            [
             0.7777777777777778,
             "#fb9f3a"
            ],
            [
             0.8888888888888888,
             "#fdca26"
            ],
            [
             1,
             "#f0f921"
            ]
           ],
           "sequentialminus": [
            [
             0,
             "#0d0887"
            ],
            [
             0.1111111111111111,
             "#46039f"
            ],
            [
             0.2222222222222222,
             "#7201a8"
            ],
            [
             0.3333333333333333,
             "#9c179e"
            ],
            [
             0.4444444444444444,
             "#bd3786"
            ],
            [
             0.5555555555555556,
             "#d8576b"
            ],
            [
             0.6666666666666666,
             "#ed7953"
            ],
            [
             0.7777777777777778,
             "#fb9f3a"
            ],
            [
             0.8888888888888888,
             "#fdca26"
            ],
            [
             1,
             "#f0f921"
            ]
           ]
          },
          "colorway": [
           "#636efa",
           "#EF553B",
           "#00cc96",
           "#ab63fa",
           "#FFA15A",
           "#19d3f3",
           "#FF6692",
           "#B6E880",
           "#FF97FF",
           "#FECB52"
          ],
          "font": {
           "color": "#2a3f5f"
          },
          "geo": {
           "bgcolor": "white",
           "lakecolor": "white",
           "landcolor": "#E5ECF6",
           "showlakes": true,
           "showland": true,
           "subunitcolor": "white"
          },
          "hoverlabel": {
           "align": "left"
          },
          "hovermode": "closest",
          "mapbox": {
           "style": "light"
          },
          "paper_bgcolor": "white",
          "plot_bgcolor": "#E5ECF6",
          "polar": {
           "angularaxis": {
            "gridcolor": "white",
            "linecolor": "white",
            "ticks": ""
           },
           "bgcolor": "#E5ECF6",
           "radialaxis": {
            "gridcolor": "white",
            "linecolor": "white",
            "ticks": ""
           }
          },
          "scene": {
           "xaxis": {
            "backgroundcolor": "#E5ECF6",
            "gridcolor": "white",
            "gridwidth": 2,
            "linecolor": "white",
            "showbackground": true,
            "ticks": "",
            "zerolinecolor": "white"
           },
           "yaxis": {
            "backgroundcolor": "#E5ECF6",
            "gridcolor": "white",
            "gridwidth": 2,
            "linecolor": "white",
            "showbackground": true,
            "ticks": "",
            "zerolinecolor": "white"
           },
           "zaxis": {
            "backgroundcolor": "#E5ECF6",
            "gridcolor": "white",
            "gridwidth": 2,
            "linecolor": "white",
            "showbackground": true,
            "ticks": "",
            "zerolinecolor": "white"
           }
          },
          "shapedefaults": {
           "line": {
            "color": "#2a3f5f"
           }
          },
          "ternary": {
           "aaxis": {
            "gridcolor": "white",
            "linecolor": "white",
            "ticks": ""
           },
           "baxis": {
            "gridcolor": "white",
            "linecolor": "white",
            "ticks": ""
           },
           "bgcolor": "#E5ECF6",
           "caxis": {
            "gridcolor": "white",
            "linecolor": "white",
            "ticks": ""
           }
          },
          "title": {
           "x": 0.05
          },
          "xaxis": {
           "automargin": true,
           "gridcolor": "white",
           "linecolor": "white",
           "ticks": "",
           "title": {
            "standoff": 15
           },
           "zerolinecolor": "white",
           "zerolinewidth": 2
          },
          "yaxis": {
           "automargin": true,
           "gridcolor": "white",
           "linecolor": "white",
           "ticks": "",
           "title": {
            "standoff": 15
           },
           "zerolinecolor": "white",
           "zerolinewidth": 2
          }
         }
        },
        "title": {
         "text": "Onwership Type vs Number of Employees per Country",
         "x": 0.5
        },
        "width": 1000,
        "xaxis": {
         "title": {
          "text": "Frequency"
         }
        },
        "yaxis": {
         "title": {
          "text": "Ownership Type"
         }
        }
       }
      }
     },
     "metadata": {},
     "output_type": "display_data"
    }
   ],
   "source": [
    "IND_data_values = data[data['Country']=='IN']['Ownership_Type'].value_counts().values\n",
    "IND_data_labels = data[data['Country'] == 'IN']['Ownership_Type'].value_counts().index\n",
    "\n",
    "US_data_labels = data[data['Country'] == 'US']['Ownership_Type'].value_counts().index\n",
    "US_data_values = data[data['Country'] == 'US']['Ownership_Type'].value_counts().values\n",
    "\n",
    "fig = go.Figure()\n",
    "\n",
    "# Adding trace of bar to the figure for India\n",
    "fig.add_trace(trace=go.Bar(x=IND_data_values, \n",
    "                           y=IND_data_labels, \n",
    "                           orientation='h',\n",
    "                           name='India'))\n",
    "\n",
    "# Adding trace of bar to the figure for USA\n",
    "fig.add_trace(trace=go.Bar(x=US_data_values, \n",
    "                           y=US_data_labels, \n",
    "                           orientation='h',\n",
    "                           name='USA'))\n",
    "\n",
    "# Update the layout with some cosmetics\n",
    "fig.update_layout(height=500, \n",
    "                  width=1000, \n",
    "                  title_text='Onwership Type vs Number of Employees per Country', \n",
    "                  title_x=0.5, \n",
    "                  barmode='group',\n",
    "                  xaxis_title='Frequency', \n",
    "                  yaxis_title='Ownership Type')\n",
    "\n",
    "# Display the figure\n",
    "fig.show()\n",
    "\n"
   ]
  },
  {
   "cell_type": "code",
   "execution_count": 66,
   "metadata": {},
   "outputs": [
    {
     "data": {
      "application/vnd.plotly.v1+json": {
       "config": {
        "plotlyServerURL": "https://plot.ly"
       },
       "data": [
        {
         "lat": [
          35.32,
          34.67,
          41.46,
          33.2,
          40.65,
          33.57,
          34.8,
          39.61,
          40.11,
          42.92
         ],
         "lon": [
          -97.5,
          -98.4,
          -81.69,
          -87.51,
          -73.87,
          -111.72,
          -92.25,
          -86.16,
          -88.23,
          -78.88
         ],
         "marker": {
          "color": "Green",
          "size": [
           24.840311899166846,
           24.707861568041018,
           24.522003845332193,
           24.45364238410596,
           24.389553514206366,
           24.372463148899808,
           24.34469130527665,
           24.2848750267037,
           24.21224097415082,
           24.145481734672078
          ]
         },
         "text": [
          [
           "19th & Telephone",
           49.68062379833369
          ],
          [
           "Fort Sill BX",
           49.415723136082036
          ],
          [
           "Target Cleveland South T-2228",
           49.04400769066439
          ],
          [
           "Super Target Tuscaloosa ST-1787",
           48.90728476821192
          ],
          [
           "Target Gateway T-1401",
           48.77910702841273
          ],
          [
           "Target Fountain Hills T-1432",
           48.744926297799616
          ],
          [
           "JFK & McCain",
           48.6893826105533
          ],
          [
           "SR 135 & Faith",
           48.5697500534074
          ],
          [
           "Champaign - 5th & Green",
           48.42448194830164
          ],
          [
           "Elmwood Avenue",
           48.290963469344156
          ]
         ],
         "type": "scattergeo"
        }
       ],
       "layout": {
        "geo": {
         "coastlinecolor": "White",
         "resolution": 110,
         "scope": "world",
         "showcoastlines": true
        },
        "height": 500,
        "template": {
         "data": {
          "bar": [
           {
            "error_x": {
             "color": "#2a3f5f"
            },
            "error_y": {
             "color": "#2a3f5f"
            },
            "marker": {
             "line": {
              "color": "#E5ECF6",
              "width": 0.5
             },
             "pattern": {
              "fillmode": "overlay",
              "size": 10,
              "solidity": 0.2
             }
            },
            "type": "bar"
           }
          ],
          "barpolar": [
           {
            "marker": {
             "line": {
              "color": "#E5ECF6",
              "width": 0.5
             },
             "pattern": {
              "fillmode": "overlay",
              "size": 10,
              "solidity": 0.2
             }
            },
            "type": "barpolar"
           }
          ],
          "carpet": [
           {
            "aaxis": {
             "endlinecolor": "#2a3f5f",
             "gridcolor": "white",
             "linecolor": "white",
             "minorgridcolor": "white",
             "startlinecolor": "#2a3f5f"
            },
            "baxis": {
             "endlinecolor": "#2a3f5f",
             "gridcolor": "white",
             "linecolor": "white",
             "minorgridcolor": "white",
             "startlinecolor": "#2a3f5f"
            },
            "type": "carpet"
           }
          ],
          "choropleth": [
           {
            "colorbar": {
             "outlinewidth": 0,
             "ticks": ""
            },
            "type": "choropleth"
           }
          ],
          "contour": [
           {
            "colorbar": {
             "outlinewidth": 0,
             "ticks": ""
            },
            "colorscale": [
             [
              0,
              "#0d0887"
             ],
             [
              0.1111111111111111,
              "#46039f"
             ],
             [
              0.2222222222222222,
              "#7201a8"
             ],
             [
              0.3333333333333333,
              "#9c179e"
             ],
             [
              0.4444444444444444,
              "#bd3786"
             ],
             [
              0.5555555555555556,
              "#d8576b"
             ],
             [
              0.6666666666666666,
              "#ed7953"
             ],
             [
              0.7777777777777778,
              "#fb9f3a"
             ],
             [
              0.8888888888888888,
              "#fdca26"
             ],
             [
              1,
              "#f0f921"
             ]
            ],
            "type": "contour"
           }
          ],
          "contourcarpet": [
           {
            "colorbar": {
             "outlinewidth": 0,
             "ticks": ""
            },
            "type": "contourcarpet"
           }
          ],
          "heatmap": [
           {
            "colorbar": {
             "outlinewidth": 0,
             "ticks": ""
            },
            "colorscale": [
             [
              0,
              "#0d0887"
             ],
             [
              0.1111111111111111,
              "#46039f"
             ],
             [
              0.2222222222222222,
              "#7201a8"
             ],
             [
              0.3333333333333333,
              "#9c179e"
             ],
             [
              0.4444444444444444,
              "#bd3786"
             ],
             [
              0.5555555555555556,
              "#d8576b"
             ],
             [
              0.6666666666666666,
              "#ed7953"
             ],
             [
              0.7777777777777778,
              "#fb9f3a"
             ],
             [
              0.8888888888888888,
              "#fdca26"
             ],
             [
              1,
              "#f0f921"
             ]
            ],
            "type": "heatmap"
           }
          ],
          "heatmapgl": [
           {
            "colorbar": {
             "outlinewidth": 0,
             "ticks": ""
            },
            "colorscale": [
             [
              0,
              "#0d0887"
             ],
             [
              0.1111111111111111,
              "#46039f"
             ],
             [
              0.2222222222222222,
              "#7201a8"
             ],
             [
              0.3333333333333333,
              "#9c179e"
             ],
             [
              0.4444444444444444,
              "#bd3786"
             ],
             [
              0.5555555555555556,
              "#d8576b"
             ],
             [
              0.6666666666666666,
              "#ed7953"
             ],
             [
              0.7777777777777778,
              "#fb9f3a"
             ],
             [
              0.8888888888888888,
              "#fdca26"
             ],
             [
              1,
              "#f0f921"
             ]
            ],
            "type": "heatmapgl"
           }
          ],
          "histogram": [
           {
            "marker": {
             "pattern": {
              "fillmode": "overlay",
              "size": 10,
              "solidity": 0.2
             }
            },
            "type": "histogram"
           }
          ],
          "histogram2d": [
           {
            "colorbar": {
             "outlinewidth": 0,
             "ticks": ""
            },
            "colorscale": [
             [
              0,
              "#0d0887"
             ],
             [
              0.1111111111111111,
              "#46039f"
             ],
             [
              0.2222222222222222,
              "#7201a8"
             ],
             [
              0.3333333333333333,
              "#9c179e"
             ],
             [
              0.4444444444444444,
              "#bd3786"
             ],
             [
              0.5555555555555556,
              "#d8576b"
             ],
             [
              0.6666666666666666,
              "#ed7953"
             ],
             [
              0.7777777777777778,
              "#fb9f3a"
             ],
             [
              0.8888888888888888,
              "#fdca26"
             ],
             [
              1,
              "#f0f921"
             ]
            ],
            "type": "histogram2d"
           }
          ],
          "histogram2dcontour": [
           {
            "colorbar": {
             "outlinewidth": 0,
             "ticks": ""
            },
            "colorscale": [
             [
              0,
              "#0d0887"
             ],
             [
              0.1111111111111111,
              "#46039f"
             ],
             [
              0.2222222222222222,
              "#7201a8"
             ],
             [
              0.3333333333333333,
              "#9c179e"
             ],
             [
              0.4444444444444444,
              "#bd3786"
             ],
             [
              0.5555555555555556,
              "#d8576b"
             ],
             [
              0.6666666666666666,
              "#ed7953"
             ],
             [
              0.7777777777777778,
              "#fb9f3a"
             ],
             [
              0.8888888888888888,
              "#fdca26"
             ],
             [
              1,
              "#f0f921"
             ]
            ],
            "type": "histogram2dcontour"
           }
          ],
          "mesh3d": [
           {
            "colorbar": {
             "outlinewidth": 0,
             "ticks": ""
            },
            "type": "mesh3d"
           }
          ],
          "parcoords": [
           {
            "line": {
             "colorbar": {
              "outlinewidth": 0,
              "ticks": ""
             }
            },
            "type": "parcoords"
           }
          ],
          "pie": [
           {
            "automargin": true,
            "type": "pie"
           }
          ],
          "scatter": [
           {
            "fillpattern": {
             "fillmode": "overlay",
             "size": 10,
             "solidity": 0.2
            },
            "type": "scatter"
           }
          ],
          "scatter3d": [
           {
            "line": {
             "colorbar": {
              "outlinewidth": 0,
              "ticks": ""
             }
            },
            "marker": {
             "colorbar": {
              "outlinewidth": 0,
              "ticks": ""
             }
            },
            "type": "scatter3d"
           }
          ],
          "scattercarpet": [
           {
            "marker": {
             "colorbar": {
              "outlinewidth": 0,
              "ticks": ""
             }
            },
            "type": "scattercarpet"
           }
          ],
          "scattergeo": [
           {
            "marker": {
             "colorbar": {
              "outlinewidth": 0,
              "ticks": ""
             }
            },
            "type": "scattergeo"
           }
          ],
          "scattergl": [
           {
            "marker": {
             "colorbar": {
              "outlinewidth": 0,
              "ticks": ""
             }
            },
            "type": "scattergl"
           }
          ],
          "scattermapbox": [
           {
            "marker": {
             "colorbar": {
              "outlinewidth": 0,
              "ticks": ""
             }
            },
            "type": "scattermapbox"
           }
          ],
          "scatterpolar": [
           {
            "marker": {
             "colorbar": {
              "outlinewidth": 0,
              "ticks": ""
             }
            },
            "type": "scatterpolar"
           }
          ],
          "scatterpolargl": [
           {
            "marker": {
             "colorbar": {
              "outlinewidth": 0,
              "ticks": ""
             }
            },
            "type": "scatterpolargl"
           }
          ],
          "scatterternary": [
           {
            "marker": {
             "colorbar": {
              "outlinewidth": 0,
              "ticks": ""
             }
            },
            "type": "scatterternary"
           }
          ],
          "surface": [
           {
            "colorbar": {
             "outlinewidth": 0,
             "ticks": ""
            },
            "colorscale": [
             [
              0,
              "#0d0887"
             ],
             [
              0.1111111111111111,
              "#46039f"
             ],
             [
              0.2222222222222222,
              "#7201a8"
             ],
             [
              0.3333333333333333,
              "#9c179e"
             ],
             [
              0.4444444444444444,
              "#bd3786"
             ],
             [
              0.5555555555555556,
              "#d8576b"
             ],
             [
              0.6666666666666666,
              "#ed7953"
             ],
             [
              0.7777777777777778,
              "#fb9f3a"
             ],
             [
              0.8888888888888888,
              "#fdca26"
             ],
             [
              1,
              "#f0f921"
             ]
            ],
            "type": "surface"
           }
          ],
          "table": [
           {
            "cells": {
             "fill": {
              "color": "#EBF0F8"
             },
             "line": {
              "color": "white"
             }
            },
            "header": {
             "fill": {
              "color": "#C8D4E3"
             },
             "line": {
              "color": "white"
             }
            },
            "type": "table"
           }
          ]
         },
         "layout": {
          "annotationdefaults": {
           "arrowcolor": "#2a3f5f",
           "arrowhead": 0,
           "arrowwidth": 1
          },
          "autotypenumbers": "strict",
          "coloraxis": {
           "colorbar": {
            "outlinewidth": 0,
            "ticks": ""
           }
          },
          "colorscale": {
           "diverging": [
            [
             0,
             "#8e0152"
            ],
            [
             0.1,
             "#c51b7d"
            ],
            [
             0.2,
             "#de77ae"
            ],
            [
             0.3,
             "#f1b6da"
            ],
            [
             0.4,
             "#fde0ef"
            ],
            [
             0.5,
             "#f7f7f7"
            ],
            [
             0.6,
             "#e6f5d0"
            ],
            [
             0.7,
             "#b8e186"
            ],
            [
             0.8,
             "#7fbc41"
            ],
            [
             0.9,
             "#4d9221"
            ],
            [
             1,
             "#276419"
            ]
           ],
           "sequential": [
            [
             0,
             "#0d0887"
            ],
            [
             0.1111111111111111,
             "#46039f"
            ],
            [
             0.2222222222222222,
             "#7201a8"
            ],
            [
             0.3333333333333333,
             "#9c179e"
            ],
            [
             0.4444444444444444,
             "#bd3786"
            ],
            [
             0.5555555555555556,
             "#d8576b"
            ],
            [
             0.6666666666666666,
             "#ed7953"
            ],
            [
             0.7777777777777778,
             "#fb9f3a"
            ],
            [
             0.8888888888888888,
             "#fdca26"
            ],
            [
             1,
             "#f0f921"
            ]
           ],
           "sequentialminus": [
            [
             0,
             "#0d0887"
            ],
            [
             0.1111111111111111,
             "#46039f"
            ],
            [
             0.2222222222222222,
             "#7201a8"
            ],
            [
             0.3333333333333333,
             "#9c179e"
            ],
            [
             0.4444444444444444,
             "#bd3786"
            ],
            [
             0.5555555555555556,
             "#d8576b"
            ],
            [
             0.6666666666666666,
             "#ed7953"
            ],
            [
             0.7777777777777778,
             "#fb9f3a"
            ],
            [
             0.8888888888888888,
             "#fdca26"
            ],
            [
             1,
             "#f0f921"
            ]
           ]
          },
          "colorway": [
           "#636efa",
           "#EF553B",
           "#00cc96",
           "#ab63fa",
           "#FFA15A",
           "#19d3f3",
           "#FF6692",
           "#B6E880",
           "#FF97FF",
           "#FECB52"
          ],
          "font": {
           "color": "#2a3f5f"
          },
          "geo": {
           "bgcolor": "white",
           "lakecolor": "white",
           "landcolor": "#E5ECF6",
           "showlakes": true,
           "showland": true,
           "subunitcolor": "white"
          },
          "hoverlabel": {
           "align": "left"
          },
          "hovermode": "closest",
          "mapbox": {
           "style": "light"
          },
          "paper_bgcolor": "white",
          "plot_bgcolor": "#E5ECF6",
          "polar": {
           "angularaxis": {
            "gridcolor": "white",
            "linecolor": "white",
            "ticks": ""
           },
           "bgcolor": "#E5ECF6",
           "radialaxis": {
            "gridcolor": "white",
            "linecolor": "white",
            "ticks": ""
           }
          },
          "scene": {
           "xaxis": {
            "backgroundcolor": "#E5ECF6",
            "gridcolor": "white",
            "gridwidth": 2,
            "linecolor": "white",
            "showbackground": true,
            "ticks": "",
            "zerolinecolor": "white"
           },
           "yaxis": {
            "backgroundcolor": "#E5ECF6",
            "gridcolor": "white",
            "gridwidth": 2,
            "linecolor": "white",
            "showbackground": true,
            "ticks": "",
            "zerolinecolor": "white"
           },
           "zaxis": {
            "backgroundcolor": "#E5ECF6",
            "gridcolor": "white",
            "gridwidth": 2,
            "linecolor": "white",
            "showbackground": true,
            "ticks": "",
            "zerolinecolor": "white"
           }
          },
          "shapedefaults": {
           "line": {
            "color": "#2a3f5f"
           }
          },
          "ternary": {
           "aaxis": {
            "gridcolor": "white",
            "linecolor": "white",
            "ticks": ""
           },
           "baxis": {
            "gridcolor": "white",
            "linecolor": "white",
            "ticks": ""
           },
           "bgcolor": "#E5ECF6",
           "caxis": {
            "gridcolor": "white",
            "linecolor": "white",
            "ticks": ""
           }
          },
          "title": {
           "x": 0.05
          },
          "xaxis": {
           "automargin": true,
           "gridcolor": "white",
           "linecolor": "white",
           "ticks": "",
           "title": {
            "standoff": 15
           },
           "zerolinecolor": "white",
           "zerolinewidth": 2
          },
          "yaxis": {
           "automargin": true,
           "gridcolor": "white",
           "linecolor": "white",
           "ticks": "",
           "title": {
            "standoff": 15
           },
           "zerolinecolor": "white",
           "zerolinewidth": 2
          }
         }
        },
        "title": {
         "text": "Top 10 Outlets in IN and US based on Revenue (in million INR)",
         "x": 0.5
        },
        "width": 1000
       }
      }
     },
     "metadata": {},
     "output_type": "display_data"
    }
   ],
   "source": [
    "# Initiate an empty figure\n",
    "fig = go.Figure()\n",
    "\n",
    "# Add a trace of scattergeo to the figure\n",
    "fig.add_trace(trace=go.Scattergeo(lon=top10outletsrevenue['Longitude'], \n",
    "                                  lat=top10outletsrevenue['Latitude'], \n",
    "                                  text=top10outletsrevenue[['Store_Name', 'Revenue']],\n",
    "                                  marker=dict(size=top10outletsrevenue['Revenue'] / 2, \n",
    "                                              color='Green')))\n",
    "\n",
    "# Update the layout with some cosmetics\n",
    "fig.update_layout(height=500, \n",
    "                  width=1000, \n",
    "                  title_text='Top 10 Outlets in IN and US based on Revenue (in million INR)', \n",
    "                  title_x=0.5,\n",
    "                  geo=dict(scope='world', \n",
    "                           resolution=110, \n",
    "                           showcoastlines=True,\n",
    "                           coastlinecolor='White'))\n",
    "\n",
    "# Display the figure\n",
    "fig.show()"
   ]
  },
  {
   "cell_type": "code",
   "execution_count": 71,
   "metadata": {},
   "outputs": [
    {
     "data": {
      "application/vnd.plotly.v1+json": {
       "config": {
        "plotlyServerURL": "https://plot.ly"
       },
       "data": [
        {
         "autocolorscale": false,
         "colorbar": {
          "title": {
           "text": "Revenue (in million INR)"
          }
         },
         "colorscale": [
          [
           0,
           "#440154"
          ],
          [
           0.1111111111111111,
           "#482878"
          ],
          [
           0.2222222222222222,
           "#3e4989"
          ],
          [
           0.3333333333333333,
           "#31688e"
          ],
          [
           0.4444444444444444,
           "#26828e"
          ],
          [
           0.5555555555555556,
           "#1f9e89"
          ],
          [
           0.6666666666666666,
           "#35b779"
          ],
          [
           0.7777777777777778,
           "#6ece58"
          ],
          [
           0.8888888888888888,
           "#b5de2b"
          ],
          [
           1,
           "#fde725"
          ]
         ],
         "locationmode": "USA-states",
         "locations": [
          "AK",
          "AL",
          "AR",
          "AZ",
          "CA",
          "CO",
          "DC",
          "DE",
          "FL",
          "GA",
          "HI",
          "IA",
          "ID",
          "IL",
          "IN",
          "KS",
          "LA",
          "MA",
          "NY",
          "OH",
          "OK",
          "OR",
          "PA",
          "TN",
          "TX",
          "UT"
         ],
         "marker": {
          "line": {
           "color": "rgb(255, 255, 255)",
           "width": 2
          }
         },
         "text": "Revenue",
         "type": "choropleth",
         "z": [
          35.86330081416602,
          31.288399914548172,
          35.26732179733675,
          27.24168624937691,
          28.140621662038022,
          31.914014099551377,
          30.774834437086092,
          35.21811578722495,
          29.00982696005127,
          29.007263405255287,
          32.92405468916898,
          31.963576158940395,
          33.769707327494125,
          33.373424481948305,
          36.53375347148045,
          33.950117496261484,
          28.32898953215125,
          29.836359752189708,
          34.85889767143773,
          28.77922571150514,
          38.60307626575518,
          33.593486671888726,
          29.465498825037383,
          32.640675069429605,
          36.574129459517195,
          32.55874813074129
         ]
        }
       ],
       "layout": {
        "geo": {
         "lakecolor": "rgb(255, 255, 255)",
         "projection": {
          "type": "albers usa"
         },
         "resolution": 110,
         "scope": "usa",
         "showlakes": true
        },
        "height": 500,
        "template": {
         "data": {
          "bar": [
           {
            "error_x": {
             "color": "#2a3f5f"
            },
            "error_y": {
             "color": "#2a3f5f"
            },
            "marker": {
             "line": {
              "color": "#E5ECF6",
              "width": 0.5
             },
             "pattern": {
              "fillmode": "overlay",
              "size": 10,
              "solidity": 0.2
             }
            },
            "type": "bar"
           }
          ],
          "barpolar": [
           {
            "marker": {
             "line": {
              "color": "#E5ECF6",
              "width": 0.5
             },
             "pattern": {
              "fillmode": "overlay",
              "size": 10,
              "solidity": 0.2
             }
            },
            "type": "barpolar"
           }
          ],
          "carpet": [
           {
            "aaxis": {
             "endlinecolor": "#2a3f5f",
             "gridcolor": "white",
             "linecolor": "white",
             "minorgridcolor": "white",
             "startlinecolor": "#2a3f5f"
            },
            "baxis": {
             "endlinecolor": "#2a3f5f",
             "gridcolor": "white",
             "linecolor": "white",
             "minorgridcolor": "white",
             "startlinecolor": "#2a3f5f"
            },
            "type": "carpet"
           }
          ],
          "choropleth": [
           {
            "colorbar": {
             "outlinewidth": 0,
             "ticks": ""
            },
            "type": "choropleth"
           }
          ],
          "contour": [
           {
            "colorbar": {
             "outlinewidth": 0,
             "ticks": ""
            },
            "colorscale": [
             [
              0,
              "#0d0887"
             ],
             [
              0.1111111111111111,
              "#46039f"
             ],
             [
              0.2222222222222222,
              "#7201a8"
             ],
             [
              0.3333333333333333,
              "#9c179e"
             ],
             [
              0.4444444444444444,
              "#bd3786"
             ],
             [
              0.5555555555555556,
              "#d8576b"
             ],
             [
              0.6666666666666666,
              "#ed7953"
             ],
             [
              0.7777777777777778,
              "#fb9f3a"
             ],
             [
              0.8888888888888888,
              "#fdca26"
             ],
             [
              1,
              "#f0f921"
             ]
            ],
            "type": "contour"
           }
          ],
          "contourcarpet": [
           {
            "colorbar": {
             "outlinewidth": 0,
             "ticks": ""
            },
            "type": "contourcarpet"
           }
          ],
          "heatmap": [
           {
            "colorbar": {
             "outlinewidth": 0,
             "ticks": ""
            },
            "colorscale": [
             [
              0,
              "#0d0887"
             ],
             [
              0.1111111111111111,
              "#46039f"
             ],
             [
              0.2222222222222222,
              "#7201a8"
             ],
             [
              0.3333333333333333,
              "#9c179e"
             ],
             [
              0.4444444444444444,
              "#bd3786"
             ],
             [
              0.5555555555555556,
              "#d8576b"
             ],
             [
              0.6666666666666666,
              "#ed7953"
             ],
             [
              0.7777777777777778,
              "#fb9f3a"
             ],
             [
              0.8888888888888888,
              "#fdca26"
             ],
             [
              1,
              "#f0f921"
             ]
            ],
            "type": "heatmap"
           }
          ],
          "heatmapgl": [
           {
            "colorbar": {
             "outlinewidth": 0,
             "ticks": ""
            },
            "colorscale": [
             [
              0,
              "#0d0887"
             ],
             [
              0.1111111111111111,
              "#46039f"
             ],
             [
              0.2222222222222222,
              "#7201a8"
             ],
             [
              0.3333333333333333,
              "#9c179e"
             ],
             [
              0.4444444444444444,
              "#bd3786"
             ],
             [
              0.5555555555555556,
              "#d8576b"
             ],
             [
              0.6666666666666666,
              "#ed7953"
             ],
             [
              0.7777777777777778,
              "#fb9f3a"
             ],
             [
              0.8888888888888888,
              "#fdca26"
             ],
             [
              1,
              "#f0f921"
             ]
            ],
            "type": "heatmapgl"
           }
          ],
          "histogram": [
           {
            "marker": {
             "pattern": {
              "fillmode": "overlay",
              "size": 10,
              "solidity": 0.2
             }
            },
            "type": "histogram"
           }
          ],
          "histogram2d": [
           {
            "colorbar": {
             "outlinewidth": 0,
             "ticks": ""
            },
            "colorscale": [
             [
              0,
              "#0d0887"
             ],
             [
              0.1111111111111111,
              "#46039f"
             ],
             [
              0.2222222222222222,
              "#7201a8"
             ],
             [
              0.3333333333333333,
              "#9c179e"
             ],
             [
              0.4444444444444444,
              "#bd3786"
             ],
             [
              0.5555555555555556,
              "#d8576b"
             ],
             [
              0.6666666666666666,
              "#ed7953"
             ],
             [
              0.7777777777777778,
              "#fb9f3a"
             ],
             [
              0.8888888888888888,
              "#fdca26"
             ],
             [
              1,
              "#f0f921"
             ]
            ],
            "type": "histogram2d"
           }
          ],
          "histogram2dcontour": [
           {
            "colorbar": {
             "outlinewidth": 0,
             "ticks": ""
            },
            "colorscale": [
             [
              0,
              "#0d0887"
             ],
             [
              0.1111111111111111,
              "#46039f"
             ],
             [
              0.2222222222222222,
              "#7201a8"
             ],
             [
              0.3333333333333333,
              "#9c179e"
             ],
             [
              0.4444444444444444,
              "#bd3786"
             ],
             [
              0.5555555555555556,
              "#d8576b"
             ],
             [
              0.6666666666666666,
              "#ed7953"
             ],
             [
              0.7777777777777778,
              "#fb9f3a"
             ],
             [
              0.8888888888888888,
              "#fdca26"
             ],
             [
              1,
              "#f0f921"
             ]
            ],
            "type": "histogram2dcontour"
           }
          ],
          "mesh3d": [
           {
            "colorbar": {
             "outlinewidth": 0,
             "ticks": ""
            },
            "type": "mesh3d"
           }
          ],
          "parcoords": [
           {
            "line": {
             "colorbar": {
              "outlinewidth": 0,
              "ticks": ""
             }
            },
            "type": "parcoords"
           }
          ],
          "pie": [
           {
            "automargin": true,
            "type": "pie"
           }
          ],
          "scatter": [
           {
            "fillpattern": {
             "fillmode": "overlay",
             "size": 10,
             "solidity": 0.2
            },
            "type": "scatter"
           }
          ],
          "scatter3d": [
           {
            "line": {
             "colorbar": {
              "outlinewidth": 0,
              "ticks": ""
             }
            },
            "marker": {
             "colorbar": {
              "outlinewidth": 0,
              "ticks": ""
             }
            },
            "type": "scatter3d"
           }
          ],
          "scattercarpet": [
           {
            "marker": {
             "colorbar": {
              "outlinewidth": 0,
              "ticks": ""
             }
            },
            "type": "scattercarpet"
           }
          ],
          "scattergeo": [
           {
            "marker": {
             "colorbar": {
              "outlinewidth": 0,
              "ticks": ""
             }
            },
            "type": "scattergeo"
           }
          ],
          "scattergl": [
           {
            "marker": {
             "colorbar": {
              "outlinewidth": 0,
              "ticks": ""
             }
            },
            "type": "scattergl"
           }
          ],
          "scattermapbox": [
           {
            "marker": {
             "colorbar": {
              "outlinewidth": 0,
              "ticks": ""
             }
            },
            "type": "scattermapbox"
           }
          ],
          "scatterpolar": [
           {
            "marker": {
             "colorbar": {
              "outlinewidth": 0,
              "ticks": ""
             }
            },
            "type": "scatterpolar"
           }
          ],
          "scatterpolargl": [
           {
            "marker": {
             "colorbar": {
              "outlinewidth": 0,
              "ticks": ""
             }
            },
            "type": "scatterpolargl"
           }
          ],
          "scatterternary": [
           {
            "marker": {
             "colorbar": {
              "outlinewidth": 0,
              "ticks": ""
             }
            },
            "type": "scatterternary"
           }
          ],
          "surface": [
           {
            "colorbar": {
             "outlinewidth": 0,
             "ticks": ""
            },
            "colorscale": [
             [
              0,
              "#0d0887"
             ],
             [
              0.1111111111111111,
              "#46039f"
             ],
             [
              0.2222222222222222,
              "#7201a8"
             ],
             [
              0.3333333333333333,
              "#9c179e"
             ],
             [
              0.4444444444444444,
              "#bd3786"
             ],
             [
              0.5555555555555556,
              "#d8576b"
             ],
             [
              0.6666666666666666,
              "#ed7953"
             ],
             [
              0.7777777777777778,
              "#fb9f3a"
             ],
             [
              0.8888888888888888,
              "#fdca26"
             ],
             [
              1,
              "#f0f921"
             ]
            ],
            "type": "surface"
           }
          ],
          "table": [
           {
            "cells": {
             "fill": {
              "color": "#EBF0F8"
             },
             "line": {
              "color": "white"
             }
            },
            "header": {
             "fill": {
              "color": "#C8D4E3"
             },
             "line": {
              "color": "white"
             }
            },
            "type": "table"
           }
          ]
         },
         "layout": {
          "annotationdefaults": {
           "arrowcolor": "#2a3f5f",
           "arrowhead": 0,
           "arrowwidth": 1
          },
          "autotypenumbers": "strict",
          "coloraxis": {
           "colorbar": {
            "outlinewidth": 0,
            "ticks": ""
           }
          },
          "colorscale": {
           "diverging": [
            [
             0,
             "#8e0152"
            ],
            [
             0.1,
             "#c51b7d"
            ],
            [
             0.2,
             "#de77ae"
            ],
            [
             0.3,
             "#f1b6da"
            ],
            [
             0.4,
             "#fde0ef"
            ],
            [
             0.5,
             "#f7f7f7"
            ],
            [
             0.6,
             "#e6f5d0"
            ],
            [
             0.7,
             "#b8e186"
            ],
            [
             0.8,
             "#7fbc41"
            ],
            [
             0.9,
             "#4d9221"
            ],
            [
             1,
             "#276419"
            ]
           ],
           "sequential": [
            [
             0,
             "#0d0887"
            ],
            [
             0.1111111111111111,
             "#46039f"
            ],
            [
             0.2222222222222222,
             "#7201a8"
            ],
            [
             0.3333333333333333,
             "#9c179e"
            ],
            [
             0.4444444444444444,
             "#bd3786"
            ],
            [
             0.5555555555555556,
             "#d8576b"
            ],
            [
             0.6666666666666666,
             "#ed7953"
            ],
            [
             0.7777777777777778,
             "#fb9f3a"
            ],
            [
             0.8888888888888888,
             "#fdca26"
            ],
            [
             1,
             "#f0f921"
            ]
           ],
           "sequentialminus": [
            [
             0,
             "#0d0887"
            ],
            [
             0.1111111111111111,
             "#46039f"
            ],
            [
             0.2222222222222222,
             "#7201a8"
            ],
            [
             0.3333333333333333,
             "#9c179e"
            ],
            [
             0.4444444444444444,
             "#bd3786"
            ],
            [
             0.5555555555555556,
             "#d8576b"
            ],
            [
             0.6666666666666666,
             "#ed7953"
            ],
            [
             0.7777777777777778,
             "#fb9f3a"
            ],
            [
             0.8888888888888888,
             "#fdca26"
            ],
            [
             1,
             "#f0f921"
            ]
           ]
          },
          "colorway": [
           "#636efa",
           "#EF553B",
           "#00cc96",
           "#ab63fa",
           "#FFA15A",
           "#19d3f3",
           "#FF6692",
           "#B6E880",
           "#FF97FF",
           "#FECB52"
          ],
          "font": {
           "color": "#2a3f5f"
          },
          "geo": {
           "bgcolor": "white",
           "lakecolor": "white",
           "landcolor": "#E5ECF6",
           "showlakes": true,
           "showland": true,
           "subunitcolor": "white"
          },
          "hoverlabel": {
           "align": "left"
          },
          "hovermode": "closest",
          "mapbox": {
           "style": "light"
          },
          "paper_bgcolor": "white",
          "plot_bgcolor": "#E5ECF6",
          "polar": {
           "angularaxis": {
            "gridcolor": "white",
            "linecolor": "white",
            "ticks": ""
           },
           "bgcolor": "#E5ECF6",
           "radialaxis": {
            "gridcolor": "white",
            "linecolor": "white",
            "ticks": ""
           }
          },
          "scene": {
           "xaxis": {
            "backgroundcolor": "#E5ECF6",
            "gridcolor": "white",
            "gridwidth": 2,
            "linecolor": "white",
            "showbackground": true,
            "ticks": "",
            "zerolinecolor": "white"
           },
           "yaxis": {
            "backgroundcolor": "#E5ECF6",
            "gridcolor": "white",
            "gridwidth": 2,
            "linecolor": "white",
            "showbackground": true,
            "ticks": "",
            "zerolinecolor": "white"
           },
           "zaxis": {
            "backgroundcolor": "#E5ECF6",
            "gridcolor": "white",
            "gridwidth": 2,
            "linecolor": "white",
            "showbackground": true,
            "ticks": "",
            "zerolinecolor": "white"
           }
          },
          "shapedefaults": {
           "line": {
            "color": "#2a3f5f"
           }
          },
          "ternary": {
           "aaxis": {
            "gridcolor": "white",
            "linecolor": "white",
            "ticks": ""
           },
           "baxis": {
            "gridcolor": "white",
            "linecolor": "white",
            "ticks": ""
           },
           "bgcolor": "#E5ECF6",
           "caxis": {
            "gridcolor": "white",
            "linecolor": "white",
            "ticks": ""
           }
          },
          "title": {
           "x": 0.05
          },
          "xaxis": {
           "automargin": true,
           "gridcolor": "white",
           "linecolor": "white",
           "ticks": "",
           "title": {
            "standoff": 15
           },
           "zerolinecolor": "white",
           "zerolinewidth": 2
          },
          "yaxis": {
           "automargin": true,
           "gridcolor": "white",
           "linecolor": "white",
           "ticks": "",
           "title": {
            "standoff": 15
           },
           "zerolinecolor": "white",
           "zerolinewidth": 2
          }
         }
        },
        "title": {
         "text": "Average Revenue of Outlets per State in US",
         "x": 0.5
        },
        "width": 1000
       }
      }
     },
     "metadata": {},
     "output_type": "display_data"
    }
   ],
   "source": [
    "avgUSrevenue = data[data['Country'] == 'US'].groupby(by=['State'])['Revenue'].mean()\n",
    "stateUS = sorted(data[data['Country'] == 'US']['State'].unique())\n",
    "# Initiate an empty figure\n",
    "fig = go.Figure()\n",
    "\n",
    "# Add a choropleth directly to the figure\n",
    "fig.add_choropleth(colorscale='Viridis', \n",
    "                   autocolorscale=False, \n",
    "                   locations=stateUS, \n",
    "                   locationmode='USA-states',\n",
    "                   z=avgUSrevenue,\n",
    "                   text='Revenue',\n",
    "                   colorbar=go.choropleth.ColorBar(title='Revenue (in million INR)'),\n",
    "                   marker=go.choropleth.Marker(line=go.choropleth.marker.Line(color='rgb(255, 255, 255)', \n",
    "                                                                              width=2)))\n",
    "\n",
    "# Update the layout with some cosmetics\n",
    "fig.update_layout(height=500, \n",
    "                  width=1000, \n",
    "                  title_text='Average Revenue of Outlets per State in US', \n",
    "                  title_x=0.5,\n",
    "                  geo=dict(scope='usa', \n",
    "                           resolution=110,\n",
    "                           showlakes=True, \n",
    "                           lakecolor='rgb(255, 255, 255)',\n",
    "                           projection=go.layout.geo.Projection(type='albers usa')))\n",
    "\n",
    "# Display the figure\n",
    "fig.show()"
   ]
  },
  {
   "cell_type": "code",
   "execution_count": 72,
   "metadata": {},
   "outputs": [
    {
     "data": {
      "application/vnd.plotly.v1+json": {
       "config": {
        "plotlyServerURL": "https://plot.ly"
       },
       "data": [
        {
         "lat": [
          17.42,
          17.48,
          17.43,
          17.42,
          17.45,
          17.45,
          28.67,
          28.57,
          28.46,
          28.57,
          28.56,
          28.64,
          28.54,
          28.53,
          28.63,
          28.63,
          28.54,
          28.69,
          28.55,
          28.56,
          28.56,
          28.55,
          28.53,
          28.48,
          28.47,
          28.48,
          28.5,
          28.5,
          28.41,
          13.01,
          12.91,
          13,
          12.94,
          12.97,
          12.99,
          13.01,
          12.99,
          12.99,
          12.97,
          19.01,
          19.18,
          19.08,
          18.93,
          19.13,
          19.05,
          19.14,
          19.1,
          19.21,
          19.01,
          19.1,
          19.06,
          19.2,
          19.09,
          19,
          19.07,
          19.11,
          19.1,
          19.07,
          18.92,
          19.09,
          19.17,
          19.06,
          19.12,
          19.17,
          19.09,
          19.1,
          19.21,
          19.07,
          18.56,
          18.5,
          18.56,
          18.52,
          18.54,
          18.55,
          18.52,
          18.52,
          13.06,
          13.06,
          13.09,
          12.99,
          13.03,
          28.57,
          34.51,
          34.16,
          34.15,
          33.87,
          37.79,
          37.76,
          37.78,
          37.76,
          37.77,
          37.78,
          32.82,
          32.71,
          34.11,
          34.11,
          34.1,
          34.11,
          34.28,
          37.78,
          37.77,
          37.78,
          40.67,
          40.65,
          40.67,
          42.92,
          42.96,
          42.89,
          42.92,
          42.89,
          42.88,
          43.1,
          39.24,
          39.16,
          39.13,
          39.15,
          39.13,
          39.14,
          41.41,
          41.51,
          41.46,
          61.6,
          61.6,
          60.13,
          60.49,
          60.48,
          61.58,
          61.58,
          61.58,
          61.58,
          35.65,
          35.65,
          36.39,
          34.67,
          35.99,
          34.63,
          34.62,
          35.44,
          35.44,
          35.32,
          44.59,
          44.58,
          43.8,
          44.93,
          44.93,
          45.42,
          44.01,
          44.04,
          44.05,
          40.44,
          40.44,
          40.45,
          40.21,
          40.1,
          40.1,
          40.11,
          40.24,
          40.45,
          40.46,
          35.16,
          35.26,
          35.21,
          35.05,
          35.05,
          35.05,
          35.6,
          36.14,
          36.17,
          35.16,
          30.21,
          30.23,
          30.28,
          30.34,
          29.49,
          33.08,
          33.08,
          30.11,
          29.79,
          29.77,
          40.37,
          40.88,
          40.88,
          41.51,
          37.66,
          40.92,
          41.12,
          41.14,
          40.53,
          40.36,
          25.77,
          25.76,
          25.77,
          25.65,
          25.75,
          25.81,
          25.78,
          25.77,
          25.79,
          25.79,
          39.66,
          38.72,
          38.72,
          38.47,
          39.83,
          32.46,
          32.47,
          30.67,
          33.6,
          33.21,
          33.2,
          33.2,
          33.21,
          33.46,
          33.45,
          38.89,
          38.9,
          38.86,
          38.9,
          38.91,
          38.88,
          38.9,
          38.9,
          38.85,
          38.85,
          38.86,
          39.89,
          39.88,
          39.53,
          39.53,
          39.54,
          39.5,
          37.35,
          40.51,
          39.75,
          34.01,
          33.91,
          34.8,
          34.76,
          34.35,
          33.79,
          33.79,
          33.78,
          33.68,
          33.73,
          21.39,
          21.33,
          21.33,
          19.7,
          19.7,
          19.72,
          19.7,
          21.28,
          21.3,
          21.29,
          34.9,
          34.85,
          36.35,
          34.82,
          34.8,
          36.33,
          36.3,
          36.28,
          36.31,
          35.28,
          35.25,
          35.25,
          36.18,
          33.46,
          35.47,
          42.02,
          41.73,
          41.71,
          41.71,
          41.71,
          41.54,
          41.55,
          40.82,
          42.51,
          42.47,
          47.69,
          43.69,
          43.69,
          43.86,
          43.65,
          43.53,
          47.74,
          43.51,
          43.5,
          43.48,
          40.15,
          40.11,
          40.11,
          40.09,
          39.48,
          41.88,
          41.88,
          41.9,
          41.81,
          41.98,
          39.63,
          39.63,
          39.63,
          39.61,
          41.57,
          41.52,
          39.85,
          39.91,
          39.86,
          39.77,
          38.87,
          38.88,
          38.11,
          38.07,
          39.02,
          39.12,
          39.13,
          39.13,
          38.94,
          38.97,
          29.94,
          29.95,
          29.95,
          29.93,
          29.95,
          29.95,
          32.54,
          32.51,
          32.45,
          32.39,
          42.56,
          42.58,
          42.35,
          42.35,
          42.34,
          35.02,
          35.02,
          33.61,
          33.61,
          33.57,
          33.28
         ],
         "lon": [
          78.45,
          78.39,
          78.39,
          78.42,
          78.38,
          78.38,
          77.13,
          77.12,
          77.07,
          77.17,
          77.12,
          77.11,
          77.16,
          77.22,
          77.22,
          77.22,
          77.16,
          77.15,
          77.24,
          77.1,
          77.1,
          77.19,
          77.24,
          77.08,
          77.06,
          77.09,
          77.09,
          77.1,
          77.05,
          77.56,
          77.59,
          77.7,
          77.61,
          77.64,
          77.57,
          77.58,
          77.73,
          77.66,
          77.61,
          72.82,
          72.83,
          72.83,
          72.82,
          72.82,
          72.83,
          72.83,
          72.92,
          72.97,
          72.84,
          72.87,
          72.85,
          72.97,
          72.92,
          72.82,
          72.83,
          72.83,
          72.88,
          72.87,
          72.83,
          72.89,
          72.84,
          72.86,
          72.91,
          72.86,
          72.86,
          72.83,
          72.84,
          73,
          73.92,
          73.82,
          73.81,
          73.93,
          73.89,
          73.95,
          73.94,
          73.84,
          80.25,
          80.26,
          80.21,
          80.22,
          80.25,
          77.33,
          -117.4,
          -118.76,
          -118.76,
          -117.75,
          -122.28,
          -122.24,
          -122.28,
          -122.25,
          -122.23,
          -122.28,
          -117.18,
          -117.16,
          -117.8,
          -117.83,
          -117.82,
          -117.81,
          -118.44,
          -122.41,
          -122.43,
          -122.4,
          -73.98,
          -73.87,
          -73.98,
          -78.88,
          -78.87,
          -78.87,
          -78.76,
          -78.88,
          -77.26,
          -75.84,
          -84.59,
          -84.51,
          -84.51,
          -84.38,
          -84.52,
          -84.62,
          -81.84,
          -81.6,
          -81.69,
          -149.13,
          -149.12,
          -149.43,
          -151.05,
          -151.07,
          -149.41,
          -149.44,
          -149.41,
          -149.41,
          -97.47,
          -97.46,
          -97.91,
          -98.4,
          -96.01,
          -98.49,
          -98.44,
          -97.4,
          -97.4,
          -97.5,
          -123.28,
          -123.26,
          -123.05,
          -123.31,
          -123.31,
          -122.46,
          -123.09,
          -123.09,
          -123.14,
          -80,
          -80,
          -80.18,
          -77.28,
          -75.29,
          -75.29,
          -75.29,
          -75.57,
          -75.36,
          -75.37,
          -84.88,
          -84.84,
          -84.86,
          -89.73,
          -89.69,
          -89.69,
          -87.06,
          -85.51,
          -85.5,
          -89.73,
          -97.82,
          -97.83,
          -97.78,
          -97.76,
          -98.55,
          -97.13,
          -97.13,
          -97.33,
          -94.98,
          -94.98,
          -111.79,
          -111.89,
          -111.89,
          -112.02,
          -113.08,
          -111.89,
          -112.02,
          -112.06,
          -111.86,
          -111.97,
          -80.26,
          -80.19,
          -80.19,
          -80.34,
          -80.24,
          -80.13,
          -80.14,
          -80.13,
          -80.13,
          -80.14,
          -75.69,
          -75.13,
          -75.09,
          -75.11,
          -75.54,
          -86.39,
          -86.43,
          -87.85,
          -86.65,
          -87.55,
          -87.53,
          -87.51,
          -87.55,
          -86.74,
          -86.79,
          -77.02,
          -77.02,
          -77.04,
          -77.04,
          -77.04,
          -77.03,
          -77.05,
          -77.03,
          -77.05,
          -77.05,
          -104.88,
          -104.81,
          -104.77,
          -105.31,
          -105.3,
          -105.29,
          -106.15,
          -108.58,
          -107.55,
          -105.01,
          -84.75,
          -84.82,
          -84.96,
          -84.99,
          -84.05,
          -84.27,
          -84.29,
          -84.3,
          -84.23,
          -84.74,
          -157.95,
          -158.02,
          -158.02,
          -155.07,
          -155.06,
          -155.08,
          -155.07,
          -157.83,
          -157.86,
          -157.84,
          -92.15,
          -92.4,
          -92.37,
          -92.23,
          -92.25,
          -94.18,
          -94.17,
          -94.15,
          -94.18,
          -93.11,
          -91.73,
          -91.69,
          -94.18,
          -94.04,
          -94.36,
          -93.62,
          -93.6,
          -93.62,
          -93.58,
          -93.58,
          -90.52,
          -90.48,
          -91.14,
          -92.44,
          -92.46,
          -116.79,
          -116.35,
          -116.33,
          -116.49,
          -116.28,
          -114.32,
          -116.79,
          -112.02,
          -112.05,
          -112.02,
          -88.26,
          -88.23,
          -88.23,
          -88.25,
          -88.19,
          -87.65,
          -87.64,
          -87.63,
          -87.72,
          -87.9,
          -86.16,
          -86.13,
          -86.12,
          -86.16,
          -87.48,
          -87.47,
          -86.26,
          -86.07,
          -86.2,
          -86.16,
          -99.34,
          -99.32,
          -97.92,
          -97.9,
          -96.82,
          -94.76,
          -94.83,
          -94.83,
          -95.25,
          -95.3,
          -90.06,
          -90.07,
          -90.07,
          -90.08,
          -90.08,
          -90.21,
          -92.65,
          -93.66,
          -93.72,
          -93.73,
          -70.89,
          -71.29,
          -71.13,
          -71.08,
          -71.1,
          -114.6,
          -114.6,
          -111.73,
          -111.73,
          -111.72,
          -111.79
         ],
         "marker": {
          "color": "Purple",
          "size": [
           1.0586718344676047,
           0.5292519913327434,
           2.2525101474044007,
           1.702764976958525,
           3.666356395153661,
           1.5598010193182166,
           2.5976287118137154,
           3.865764336069826,
           1.057023834955901,
           2.327082125309,
           3.239112521744438,
           2.823404644917142,
           3.901882992034669,
           1.0469985045930357,
           2.37061677907651,
           1.415738395336772,
           3.52394177068392,
           0.6527146214178899,
           2.103366191595202,
           2.899075289162877,
           4.8430280465102085,
           0.9482558671834468,
           4.780266731772819,
           2.7147740104373304,
           2.7481460005493332,
           2.000366222113712,
           2.8449659718619342,
           3.2841578417310093,
           3.4698324533829767,
           0.8883785515915402,
           0.5005493331705679,
           3.4256111331522567,
           1.0176091799676505,
           1.4340037232581562,
           3.9764549699392684,
           1.1181371501815853,
           3.2067018646809293,
           4.1894589068269905,
           4.877086703085421,
           3.5141911069063387,
           4.428281502731406,
           3.1832178716391493,
           1.7565996276741844,
           3.282235175634022,
           0.935621204260384,
           3.628864406262398,
           3.805612353892636,
           4.10719626453444,
           2.6565446943571276,
           0.5484786523026215,
           3.293221839045381,
           4.924878688924833,
           2.3000274666585283,
           4.513840144047364,
           4.656392101809748,
           3.2207098605304116,
           4.273781548509171,
           4.958937345500046,
           2.372264778588214,
           3.470793786431471,
           2.174779503769036,
           2.2680288094729457,
           4.510544145023957,
           1.0507065034943692,
           2.8728446302682578,
           3.590136417737358,
           3.1006805627613145,
           4.194677571947387,
           3.9495376445814383,
           1.0835291604358044,
           1.708670308542131,
           1.327433088167974,
           4.508484145634327,
           3.0468459120456557,
           1.3619037446211126,
           3.8546403393658255,
           1.1247291482284003,
           1.6327249977111118,
           1.2126224555192724,
           4.230521561326945,
           3.947614978484451,
           1.606494338816492,
           9.672612689596239,
           7.61375774407178,
           14.315317239906001,
           12.17741935483871,
           19.813608203375345,
           11.621448408459731,
           15.657444990386669,
           20.589083529160433,
           9.666203802606281,
           14.605319376201667,
           18.15210425122837,
           16.535462508011108,
           20.729544969023713,
           9.627216406750694,
           13.70487075411237,
           14.77462080751976,
           11.061204870754112,
           19.25977355265969,
           8.093890194402904,
           13.735312967314675,
           16.82973723563341,
           24.389553514206366,
           9.24321726126896,
           24.145481734672078,
           16.113010040589618,
           16.242790002136296,
           13.334757530442214,
           16.61931211279641,
           18.32728049562059,
           19.049348429822686,
           9.0103610339671,
           7.50213629566332,
           18.877376628925443,
           9.512924588763084,
           11.132236701559496,
           21.019547105319376,
           9.90386669515061,
           18.026062807092504,
           24.522003845332193,
           19.221854304635762,
           22.776650288399914,
           17.93473616748558,
           12.38677632984405,
           18.319803460798973,
           9.194082461012604,
           19.667806024353773,
           20.355159154026918,
           21.52798547318949,
           15.886562700277718,
           7.688528092287973,
           18.36252937406537,
           24.707861568041018,
           14.500106814783168,
           23.10937833796197,
           23.663747062593462,
           18.080538346507154,
           22.17581713309122,
           24.840311899166846,
           14.781029694509721,
           19.0530869472335,
           14.013031403546252,
           14.375667592394787,
           23.096560563982056,
           9.641636402478102,
           16.72772911770989,
           17.613757744071783,
           21.86819055757317,
           20.914868617816705,
           9.76928006836146,
           12.200384533219397,
           10.717795342875455,
           23.088549455244607,
           17.404400769066438,
           10.851847895748772,
           20.54582354197821,
           9.929502243110447,
           11.905041657765436,
           10.271309549241616,
           22.007583849604785,
           20.907391582995086,
           11.803033539841914,
           7.822580645161291,
           12.906430249946592,
           14.189275795770135,
           16.61503952146977,
           24.13907284768212,
           22.541657765434735,
           22.028412732322156,
           15.381328775902585,
           18.44637897885067,
           17.92992950224311,
           23.03353984191412,
           22.03962828455458,
           20.892971587267677,
           16.50929288613544,
           17.50480666524247,
           9.104358043153173,
           9.929502243110447,
           18.67549668874172,
           13.25197607348857,
           22.408673360393077,
           16.544541764580217,
           12.27248451185644,
           23.06398205511643,
           15.86466566972869,
           18.39457380901517,
           12.38784447767571,
           8.762016663106174,
           21.507690664387948,
           18.128070925016022,
           21.06601153599658,
           12.998290963469346,
           18.784981841486864,
           8.950544755394146,
           10.295342875453963,
           11.224097415082248,
           13.332087160863065,
           11.733603930784021,
           22.886669515060888,
           22.50427259132664,
           21.723456526383252,
           9.197286904507585,
           22.089297158726765,
           11.593142490920743,
           17.42736594744713,
           13.986861781670584,
           22.069002349925228,
           15.950117496261482,
           24.45364238410596,
           8.668553727835933,
           7.593997009186071,
           12.61001922666097,
           11.421170690023498,
           11.95738090151677,
           17.549134800256358,
           11.08684041871395,
           17.541123691518905,
           9.213843195898313,
           23.127002777184362,
           9.728690450758384,
           23.23809015167699,
           19.01089510788293,
           10.31670583208716,
           21.695150608844266,
           14.401837214270454,
           16.316492202520827,
           20.0411236915189,
           17.982268745994446,
           15.503631702627644,
           19.093142490920744,
           13.05330057679983,
           11.166417432172613,
           15.55223242896817,
           23.849604785302287,
           12.958235419782099,
           22.28476821192053,
           17.138966032898956,
           9.45738090151677,
           9.45684682760094,
           14.527878658406324,
           10.042191839350567,
           9.7682119205298,
           22.68852809228797,
           8.670690023499253,
           12.136295663319803,
           19.32760093997009,
           20.75891903439436,
           8.899807733390302,
           14.080858790856656,
           12.742469557786796,
           21.338389233069854,
           23.97671437726981,
           23.02980132450331,
           16.992095706045717,
           16.920529801324502,
           22.392117069002353,
           24.34469130527665,
           9.723883785515916,
           19.6058534501175,
           18.950010681478314,
           21.544541764580217,
           20.347682119205295,
           22.526703695791497,
           8.936658833582568,
           8.47628711813715,
           14.4525742362743,
           16.261482589190344,
           17.308801538132876,
           16.44360179448836,
           8.36947233497116,
           14.858470412305063,
           14.063768425550096,
           20.272911770989104,
           11.899700918607135,
           19.819483016449475,
           15.725806451612904,
           21.05586413159581,
           18.526490066225165,
           16.658833582567826,
           19.104892117069003,
           19.55351420636616,
           8.647724845118564,
           19.89532151249733,
           17.261268959624015,
           22.98974578081606,
           10.127643665883358,
           16.08310190130314,
           23.844264046143987,
           9.22452467421491,
           24.21224097415082,
           13.248771629993591,
           23.224204229865414,
           8.540910061952575,
           18.611941892757958,
           11.336252937406536,
           17.597735526596882,
           17.026276436658833,
           23.292031617175816,
           14.519867549668875,
           18.476821192052984,
           24.2848750267037,
           23.270668660542622,
           22.50213629566332,
           13.741187780388806,
           9.467528305917538,
           16.468169194616532,
           16.645481734672078,
           20.176244392223882,
           13.351313821832942,
           18.411664174321725,
           18.054368724631487,
           7.662892544328136,
           17.949690237128817,
           14.331873531296733,
           23.467207861568042,
           14.949262977996156,
           21.39606921597949,
           7.957701345866267,
           18.558534501174965,
           15.66385387737663,
           22.077013458662677,
           10.052873317667164,
           14.527344584490493,
           12.009186071352275,
           19.752723776970733,
           10.9842982268746,
           10.061418500320444,
           19.79010895107883,
           10.153279213843197,
           7.885601367229224,
           17.052446058534503,
           19.709463789788508,
           10.77547532578509,
           8.192693868831446,
           17.166203802606276,
           11.103930784020509,
           24.372463148899808,
           10.11429181798761
          ]
         },
         "text": [
          [
           "Banjara Hills",
           0.7477324177455131
          ],
          [
           "Kukatpally",
           0.44229941190402877
          ],
          [
           "Madhapur",
           0.9335883605416941
          ],
          [
           "Jubilee Hills",
           0.9345590265242413
          ],
          [
           "Hi-Tech City",
           0.25246131578677383
          ],
          [
           "Mindspace",
           0.9106035236287127
          ],
          [
           "Punjabi Bagh",
           0.8574862197129135
          ],
          [
           "T3 Domestic Arrivals",
           0.07775888161576121
          ],
          [
           "HUDA Metro Station",
           0.746994263417137
          ],
          [
           "R K Puram",
           0.9220761978194343
          ],
          [
           "Indira Gandhi International Airport",
           0.5613262289337935
          ],
          [
           "Subhash Nagar",
           0.7761928581157294
          ],
          [
           "Vasant Kunj - Ambience Mall",
           0.0440356557040438
          ],
          [
           "Saket",
           0.7424752175001229
          ],
          [
           "Connaught Place - A Block",
           0.9140986016503161
          ],
          [
           "Connaught Place - N Block",
           0.8763561951492438
          ],
          [
           "Vasant Kunj - DLF Promenade",
           0.3653318947420665
          ],
          [
           "Pitampura",
           0.5257791869240023
          ],
          [
           "Greater Kailash 1",
           0.9484565821495943
          ],
          [
           "Indira Gandhi Itnl Arpt-T3Gate15",
           0.7433707870585192
          ],
          [
           "Indira Gandhi Itnl Arpt-T3Gate27",
           -1.0595186178596896
          ],
          [
           "Hauz Khas",
           0.6953403683202696
          ],
          [
           "Greater Kailash 2",
           -0.9724510019425414
          ],
          [
           "M G Road",
           0.8184173293222454
          ],
          [
           "Sector 29",
           0.8060596452735863
          ],
          [
           "One Horizon Center",
           0.9523762691568579
          ],
          [
           "DLF Cyber Hub",
           0.7671258384285695
          ],
          [
           "Ambience Island",
           0.5329702975307117
          ],
          [
           "Sohna Road -",
           0.40561681659712967
          ],
          [
           "Malleswaram - Orion Mall",
           0.6644362316266073
          ],
          [
           "JP Nagar",
           0.42182436632909576
          ],
          [
           "Mahadevapura",
           0.43747710647263843
          ],
          [
           "Koramangala",
           0.7289444463088076
          ],
          [
           "Indiranagar",
           0.8812599925078536
          ],
          [
           "Malleswaram - Mantri Mall",
           -0.027608371399920898
          ],
          [
           "Sadashiv Nagar",
           0.7734791453516024
          ],
          [
           "Whitefield",
           0.5811150142666507
          ],
          [
           "Benniganahalli",
           -0.2472224415491391
          ],
          [
           "Church Street",
           -1.1075736345612817
          ],
          [
           "Prabhadevi",
           0.3726970890105963
          ],
          [
           "Malad West - Infiniti Mall",
           -0.5198335154349306
          ],
          [
           "Santacruz West",
           0.5951326335474281
          ],
          [
           "Nariman Point",
           0.940989947343431
          ],
          [
           "Andheri West - Four Bunglows",
           0.5342008786784336
          ],
          [
           "Bandra West - Chapel road",
           0.6889652196184431
          ],
          [
           "Andheri West - Infiniti Mall",
           0.28313714227883097
          ],
          [
           "Ghatkopar West",
           0.1325059704750548
          ],
          [
           "Thane West - Viviana Mall",
           -0.1597779191992562
          ],
          [
           "Elphinstone Road (West)",
           0.8386758703954201
          ],
          [
           "Chhatrapati Shivaji Intnl-T2Arrival",
           0.45578949280493986
          ],
          [
           "Bandra East - One BKC",
           0.5271446438731966
          ],
          [
           "Thane West - Korum Mall",
           -1.1759618930636542
          ],
          [
           "Vikhroli East",
           0.9265670511607988
          ],
          [
           "Lower Parel - High Street Phoenix",
           -0.6242811598496605
          ],
          [
           "Bandra West - Link corner",
           -0.8062534326861706
          ],
          [
           "Vile Parle West",
           0.5726252481300729
          ],
          [
           "Chhatrapati Shivaji International A",
           -0.3402904159691292
          ],
          [
           "Bandra East - FIFC",
           -1.2253797965263626
          ],
          [
           "Colaba",
           0.9137784090526747
          ],
          [
           "Kurla West",
           0.404913584014148
          ],
          [
           "Malad West - Inorbit Mall",
           0.9426942717927524
          ],
          [
           "Bandra East - The Capital",
           0.931416659281371
          ],
          [
           "Powai",
           -0.620191216498029
          ],
          [
           "Goregaon East - Oberoi Mall",
           0.7441523714695725
          ],
          [
           "Chhatrapati Shivaji DomesticAirport",
           0.7550653169448915
          ],
          [
           "Juhu",
           0.31410269729817986
          ],
          [
           "Kandivali West",
           0.6422601738204164
          ],
          [
           "Vashi",
           -0.25288143789864376
          ],
          [
           "Viman Nagar",
           -0.0014343546241810546
          ],
          [
           "Sangam Solitaire",
           0.7587051929392099
          ],
          [
           "Aundh",
           0.9353336463594013
          ],
          [
           "Magarpatta",
           0.850347956599049
          ],
          [
           "Koregaon Park",
           -0.6176376989452164
          ],
          [
           "Kharadi",
           0.671204337641846
          ],
          [
           "Hadapsar",
           0.8609540921416399
          ],
          [
           "FC Road",
           0.08801666011272045
          ],
          [
           "Numgambakkam",
           0.7762268428002882
          ],
          [
           "Royapettah",
           0.9240714241478425
          ],
          [
           "Anna Nagar",
           0.8108327890996206
          ],
          [
           "Velachery",
           -0.2921095929594478
          ],
          [
           "Alwarpet",
           0.00042166363794915375
          ],
          [
           "Sector 16",
           0.9195264327943078
          ],
          [
           "Palmdale & Hwy 395",
           7.956503986603356
          ],
          [
           "Kanan & Thousand Oaks",
           3.8299058013378575
          ],
          [
           "Vons-Agoura Hills #2001",
           6.046623637415543
          ],
          [
           "Target Anaheim T-0677",
           3.286829195778208
          ],
          [
           "Safeway - Alameda 3281",
           -4.022706074214142
          ],
          [
           "Park & Central Alameda",
           -1.1925754653598386
          ],
          [
           "Webster & Atlantic - Alameda",
           -1.1016166777806171
          ],
          [
           "Safeway - Alameda #2708",
           7.153869252485648
          ],
          [
           "Tilden & Blanding",
           1.4963190267024702
          ],
          [
           "Target Alameda T-2829",
           2.7350150972738843
          ],
          [
           "Vons - San Diego #2040",
           -2.423973734601114
          ],
          [
           "San Diego Conv Ctr - Lobby C",
           -1.1750488128270433
          ],
          [
           "Albertsons-San Dimas #6594",
           0.021003475843731315
          ],
          [
           "San Dimas",
           2.662490770530559
          ],
          [
           "Target San Dimas T-767",
           2.932617321681397
          ],
          [
           "Bonita & San Dimas, San Dimas",
           10.962942686350036
          ],
          [
           "Truman & Maclay",
           7.633841576806955
          ],
          [
           "Teavana - San Francisco Centre",
           2.7040211875257345
          ],
          [
           "Church & Market - S.F.",
           3.8956246487902084
          ],
          [
           "120 4th Street",
           -1.294683298161201
          ],
          [
           "164 7th Avenue",
           4.617122101687765
          ],
          [
           "Target Gateway T-1401",
           13.240415502693475
          ],
          [
           "7th Ave and 9th St",
           -1.2519965566176334
          ],
          [
           "Elmwood Avenue",
           7.656004870104752
          ],
          [
           "Delaware & Kenmore",
           2.546747611933155
          ],
          [
           "Hyatt Buffalo",
           8.699982741492766
          ],
          [
           "Teavana - Walden Galleria",
           10.181492500110526
          ],
          [
           "235 Delaware Ave",
           -0.6253227303038668
          ],
          [
           "Canadaigua",
           3.203736379615627
          ],
          [
           "NY Chittenango Travel Plaza",
           -0.18789481528729202
          ],
          [
           "Target Colerain T-1545",
           4.480404567730936
          ],
          [
           "Kroger - Cincinnati #428",
           1.0016509317269642
          ],
          [
           "U of Cincinnati Student Life Ctr",
           14.189747294028216
          ],
          [
           "Mariemont/The Strand",
           6.346546463596159
          ],
          [
           "University Square",
           6.776983087497428
          ],
          [
           "Kroger-Cincinnati #948",
           10.010954624192129
          ],
          [
           "CLE C371",
           5.712004564906621
          ],
          [
           "CWRU - Residential Village",
           -2.240728672736853
          ],
          [
           "Target Cleveland South T-2228",
           -1.2552493987785132
          ],
          [
           "Safeway-Palmer #1739",
           14.150562813863166
          ],
          [
           "Fred Meyer - Palmer #649",
           -1.6896719724430815
          ],
          [
           "Safeway-Seward #2728",
           10.50211341330087
          ],
          [
           "Fred Meyer-Soldotna #17",
           2.7108618957776
          ],
          [
           "Safeway-Soldotna #548",
           7.971157990711668
          ],
          [
           "Parks Hwy & Palmer Wasilla Hwy",
           -0.6703287758830255
          ],
          [
           "Safeway - Wasilla #1811",
           6.130590850274428
          ],
          [
           "Target Wasilla T-2339",
           -4.535137162510254
          ],
          [
           "Fred Meyer - Wasilla #653",
           16.563743844817267
          ],
          [
           "Universiy of Central Oklahoma",
           13.296238943486626
          ],
          [
           "Super Target Edmond ST-1398",
           4.010766305560091
          ],
          [
           "Cleveland & Owen K. Garriott",
           10.951110576774598
          ],
          [
           "Fort Sill BX",
           13.902592733190186
          ],
          [
           "Hwy 75 & 121st",
           3.0623825553252977
          ],
          [
           "Target Lawton T-2739",
           14.267697884776522
          ],
          [
           "Cache & NW 40th",
           5.009634102108773
          ],
          [
           "29th & Air Depot",
           13.291543555731819
          ],
          [
           "Target Midwest City T-2061",
           -3.0915662174039187
          ],
          [
           "19th & Telephone",
           17.456977028389986
          ],
          [
           "Timberhill",
           -2.163857580541203
          ],
          [
           "9th & Garfield - Corvallis",
           2.273322206149606
          ],
          [
           "Safeway - Cottage Grove #1458",
           9.329975268271944
          ],
          [
           "244 Ellendale Ave- Dallas, OR",
           -0.7102940712328628
          ],
          [
           "Safeway - Dallas -#4404",
           9.447125541393046
          ],
          [
           "Safeway - Boring #521",
           2.7833247747636514
          ],
          [
           "Safeway-Eugene #4513",
           0.9126304313403759
          ],
          [
           "Eugene",
           5.984656791652403
          ],
          [
           "W. 11th & Acorn Park - Eugene",
           2.49615180893689
          ],
          [
           "One Oliver Plaza",
           10.32760599759319
          ],
          [
           "Sixth Street",
           5.982674079524168
          ],
          [
           "Robinson, Lafayette Plaza",
           4.108074667559322
          ],
          [
           "Cumberland Valley Travel Plaza",
           -1.9809947726246175
          ],
          [
           "Target Plymouth Meeting T-1269",
           11.53891955394575
          ],
          [
           "Giant-Plymouth Meeting #11",
           -1.5049784581766017
          ],
          [
           "Plymouth Meeting",
           2.571663078563152
          ],
          [
           "Philadelphia Premium Outlets",
           14.789331107227236
          ],
          [
           "Quakertown",
           7.147805235736186
          ],
          [
           "Target Richlandtown (Quakertown) T-",
           4.775168996490713
          ],
          [
           "Keith & 1st",
           7.015943577384896
          ],
          [
           "Target Cleveland T-2367",
           15.411554934226546
          ],
          [
           "Paul Huff & I-75",
           -2.338498799147833
          ],
          [
           "Houston Levee & Winchester",
           9.07973038510493
          ],
          [
           "Collierville",
           4.3136278927363
          ],
          [
           "Target Collierville T-1907",
           1.2830016557253021
          ],
          [
           "Kroger Columbia #507",
           0.13393789494405128
          ],
          [
           "Jefferson & Interstate",
           12.542182059866649
          ],
          [
           "Tennessee Tech University",
           10.360566387156195
          ],
          [
           "Houston Levee & Macon",
           11.571320112062189
          ],
          [
           "William Cannon & Westgate",
           -0.5944249561424367
          ],
          [
           "Target Austin T-1061",
           -2.965859293554723
          ],
          [
           "Randalls - Austin #2483",
           -2.458935475988697
          ],
          [
           "Northland & Balcones",
           4.414548150648414
          ],
          [
           "Super Target Balcones Hts ST-1523",
           5.774728531794932
          ],
          [
           "407 & McMakin",
           -2.0545074189023116
          ],
          [
           "Kroger Southwest Store #572",
           -4.511879520513471
          ],
          [
           "71 & Hasler",
           11.607191224840397
          ],
          [
           "Kroger Baytown #150",
           1.433954956231693
          ],
          [
           "Target Baytown T-887",
           1.121130549153816
          ],
          [
           "American Fork - 500 E and State",
           -0.39661038654081804
          ],
          [
           "Smith's - Bountiful #444",
           0.6590312454967536
          ],
          [
           "Bountiful 500S",
           -1.3474412880044486
          ],
          [
           "Smiths Brigham City #178",
           16.86371152460087
          ],
          [
           "Providence Crossing- Cedar City",
           12.929402612988135
          ],
          [
           "Centerville Starbucks",
           4.980642911683038
          ],
          [
           "Clearfield - Falcon Hill",
           6.737805164476346
          ],
          [
           "1800 North & 2000 West-Clinton, UT",
           3.590235765884554
          ],
          [
           "12300 South & 1300 East-Draper",
           5.163134058462948
          ],
          [
           "Ridley's Family Markets - Eagle Mou",
           9.764155952921488
          ],
          [
           "MIA - Main E Food Ct",
           3.332411507226642
          ],
          [
           "The Bond At Brickell",
           9.254273504078471
          ],
          [
           "47 W. Flagler St",
           0.7249126051530056
          ],
          [
           "Teavana - The Falls",
           11.929777418228895
          ],
          [
           "2645 SW 22nd St",
           0.8902482552634626
          ],
          [
           "827 Arthur Godfrey Road",
           6.120268277387658
          ],
          [
           "10th St. & West Ave.",
           -0.0825754472351959
          ],
          [
           "Marriott South Beach-Miami",
           1.541866392795045
          ],
          [
           "416 Lincoln Rd.",
           2.998618999958191
          ],
          [
           "16th & Alton",
           1.5119490917620546
          ],
          [
           "Delaware House Travel Plaza Cafe",
           0.9997931508758515
          ],
          [
           "Safeway-Rehoboth Beach #2706",
           17.639086640014273
          ],
          [
           "301 Rehoboth Ave.",
           1.434031836014595
          ],
          [
           "Harris Teeter-Selbyville #327",
           4.9810075250716395
          ],
          [
           "Target Brandywine T-1146",
           -1.2028581591411094
          ],
          [
           "Cobbs Ford Road",
           14.969717208684672
          ],
          [
           "Target Prattville T-2274",
           3.516755202833768
          ],
          [
           "I-10 & Hwy 181",
           -3.215289715222534
          ],
          [
           "US Hwy 11 & I-459",
           10.272768811233384
          ],
          [
           "U of AL - Ferguson Cntr",
           -4.5821113830148095
          ],
          [
           "McFarland Blvd & 15th St",
           7.680073818087273
          ],
          [
           "Super Target Tuscaloosa ST-1787",
           -3.5585284884222634
          ],
          [
           "Aramark @ U of Alabama Paul W Bryan",
           6.739180811880629
          ],
          [
           "Cahaba Heights & Dolly Ridge Rd",
           1.0965141163231926
          ],
          [
           "Montgomery Hwy & Canyon Dr",
           7.587716455103725
          ],
          [
           "6th & C Street, SW",
           2.377229173866948
          ],
          [
           "Renaissance Hotel",
           2.9183497587697973
          ],
          [
           "DCA - Wash Nat'l-Reagan-Level 1",
           -2.628594427309735
          ],
          [
           "1734 L Street",
           4.4525674150842685
          ],
          [
           "DuPont South",
           2.6817839059124458
          ],
          [
           "The Portals",
           -1.9551051471529706
          ],
          [
           "2001 L St",
           -3.4330192421712318
          ],
          [
           "1401 New York Ave II",
           -0.9741754276553635
          ],
          [
           "DCA B63",
           10.470012400776788
          ],
          [
           "DCA B35",
           13.67233035263574
          ],
          [
           "Safeway-Colorado Springs #1286",
           2.87984292838379
          ],
          [
           "King Soopers-Commerce City #114",
           5.814263285365335
          ],
          [
           "104th & Tower, Commerce City",
           0.6634154207348824
          ],
          [
           "Conifer Town Center - Conifer",
           7.751317257365642
          ],
          [
           "Safeway - Conifer #2792",
           3.146077823555246
          ],
          [
           "King Soopers-Aspen Park #87",
           3.226732552440677
          ],
          [
           "Copper Mtn Village Mountain Plaza",
           12.908605657025921
          ],
          [
           "City Market - Cortez #408",
           3.551696262242781
          ],
          [
           "King Soopers - Craig #415",
           5.3965619960244835
          ],
          [
           "Auraria Tivoli - Student Union",
           -1.7955143945625518
          ],
          [
           "Hwy 381 & Hwy 92",
           5.826142408179791
          ],
          [
           "Kroger Dallas #673",
           -0.730037952807948
          ],
          [
           "Cleveland Hwy & North By-Pass",
           10.549135455481778
          ],
          [
           "Kroger - Dalton #458",
           3.2925580109369457
          ],
          [
           "Kroger Dawsonville #670",
           5.650727614466298
          ],
          [
           "Kroger - Decatur #459",
           -0.6942878432141654
          ],
          [
           "N Decatur & Church",
           6.453265461606928
          ],
          [
           "Decatur Square",
           5.8276891346158814
          ],
          [
           "Kroger - Decatur #475",
           5.617828966045093
          ],
          [
           "Chapel Hill Rd @ I-20",
           0.7100116071390696
          ],
          [
           "Waimalu Shopping Center",
           14.154104647923354
          ],
          [
           "Keaunui & Ft Weaver",
           5.912142024354605
          ],
          [
           "Safeway-Ewa #2897",
           0.8536185984451771
          ],
          [
           "Safeway-Hilo #2893",
           13.06699656310469
          ],
          [
           "Prince Kuhio Plaza Mall",
           16.993652653672413
          ],
          [
           "Downtown Hilo on Kilauea Ave",
           2.1574707104293687
          ],
          [
           "Target Hilo T-2682",
           1.061769032882126
          ],
          [
           "Waikiki Shopping Plaza",
           8.11657239363698
          ],
          [
           "Ala Moana & Coral",
           17.05612415177402
          ],
          [
           "Macy's Ala Moana Center - L2",
           5.640934206194438
          ],
          [
           "Little Rock AFB - Troop Store",
           14.193827348505412
          ],
          [
           "Maumelle & Audubon",
           -3.6991398754825258
          ],
          [
           "Harp's Marketplace #91",
           11.48109095384894
          ],
          [
           "JFK and North Hills",
           -2.4098502039286496
          ],
          [
           "JFK & McCain",
           8.228322892115205
          ],
          [
           "Walnut & 46th",
           4.914853922512208
          ],
          [
           "Target Rogers T-2498",
           -1.1279932530949264
          ],
          [
           "I-540 & Pleasant Grove",
           0.13434514851244725
          ],
          [
           "Promenade & New Hope",
           16.269820935758784
          ],
          [
           "Weir & Parkway",
           6.684735510630238
          ],
          [
           "Harding University",
           8.465371215811585
          ],
          [
           "E Race and Rand",
           5.554981529912504
          ],
          [
           "Sunset & Reiff",
           3.4067084436657438
          ],
          [
           "N. State Line Ave & Arkansas Blvd.",
           7.4582463695442565
          ],
          [
           "Fayetteville and Rena Rd",
           7.053722662585504
          ],
          [
           "Hy Vee Foods-Ames #2",
           3.0041998384859543
          ],
          [
           "Hy-Vee - Ankeny #1",
           0.08566310087341443
          ],
          [
           "Hy-Vee @ Ankeny #2",
           2.65799136363344
          ],
          [
           "Super Target Ankeny ST-1767",
           12.286635920577735
          ],
          [
           "Delaware & Shurfine - Ankeny",
           8.499766167649812
          ],
          [
           "Kimberly & Middle Rd",
           15.658654256171245
          ],
          [
           "Hy-Vee - Bettendorf #1",
           -2.7683047017535456
          ],
          [
           "Agency and Roosevelt - Burlington",
           -3.2900208737868497
          ],
          [
           "6421 University Ave - Cedar Falls",
           6.012588146807812
          ],
          [
           "Target Cedar Falls - T-2526",
           9.12630692941567
          ],
          [
           "210 W. Ironwood Drive",
           7.774996882463521
          ],
          [
           "Albertsons -- Eagle #182",
           5.152967121172961
          ],
          [
           "Hwy 44 and Edgewood - Eagle",
           -4.881901354906423
          ],
          [
           "Albertsons - Emmett #126",
           -1.3855801457491275
          ],
          [
           "Glenwood & Chinden- Boise",
           4.732641407898317
          ],
          [
           "Albertsons-Hailey #130",
           5.946373828322478
          ],
          [
           "Corner Stone Plaza- Hayden, ID",
           1.8822142397148516
          ],
          [
           "Fred Meyer - Idaho Falls #156",
           1.9573593181957714
          ],
          [
           "I-15 & Broadway- Idaho Falls",
           5.89240507643361
          ],
          [
           "Albertsons - Idaho Falls #138",
           3.7373934482034574
          ],
          [
           "Champaign - N Prospect Ave",
           -0.8827624352054558
          ],
          [
           "Unv of Illinois Champaign-Bookstore",
           0.5782113476476353
          ],
          [
           "Champaign - 5th & Green",
           -1.8457520288501046
          ],
          [
           "South Neil & Carriage Center",
           10.675800095600323
          ],
          [
           "Charleston-Lincoln & E St",
           -0.5471689707771875
          ],
          [
           "Target Chicago T-2781",
           0.22942927446915024
          ],
          [
           "Washington & Clinton",
           -3.7187531227114627
          ],
          [
           "Oak & Rush",
           3.6306315981240793
          ],
          [
           "Target Chicago T-1879",
           -2.666002958085254
          ],
          [
           "ORD OHare Terminal 3, Baggage Claim",
           0.39163501542130114
          ],
          [
           "State Rd 135 & Stonegate",
           -2.359698115676649
          ],
          [
           "Teavana - Greenwood Park",
           11.520179101207667
          ],
          [
           "Greenwood Park Mall",
           13.600850839875449
          ],
          [
           "SR 135 & Faith",
           19.459398394379555
          ],
          [
           "Indianapolis & Interstate, Hammond",
           3.608526704644408
          ],
          [
           "Target Highland T-731",
           18.178954477917124
          ],
          [
           "56th & Lafayette",
           2.339780361397177
          ],
          [
           "Castleton Square Mall Kiosk",
           7.3949697167523105
          ],
          [
           "Kessler & Michigan",
           -2.903980481075894
          ],
          [
           "Hyatt Regency-Indianapolis-Lobby",
           -3.102886043383604
          ],
          [
           "Fort Hays State University",
           -1.7683692822055053
          ],
          [
           "Dillons - Hays #61",
           5.271012477858678
          ],
          [
           "Dillons - Hutchinson #97",
           14.872502579778962
          ],
          [
           "17th & Lorraine",
           11.715862088857214
          ],
          [
           "Junction City - I70 & Chestnut",
           3.4738976283753997
          ],
          [
           "Price Chopper - Kansas City, KS #6",
           5.4311412047491
          ],
          [
           "10620 Parallel Prkwy-KCK Speedway",
           11.157884253835839
          ],
          [
           "Target Kansas City T-2222",
           -4.788908926906556
          ],
          [
           "Dillon Food Store-Lawrence #70",
           6.1191744649303725
          ],
          [
           "Bauer Farms, W. 6th Street",
           6.797873414712242
          ],
          [
           "New Orleans Marriott Convention Ctr",
           5.257153746272215
          ],
          [
           "Canal Place",
           9.960904149667778
          ],
          [
           "Sheraton Lobby",
           -2.8715232964877373
          ],
          [
           "Magazine & Washington",
           -3.658840345080955
          ],
          [
           "Hyatt New Orleans",
           -0.8800827783764181
          ],
          [
           "Jefferson Hwy & Upstream St",
           0.35658874017474057
          ],
          [
           "I-20 & Cooktown",
           3.3579321788487415
          ],
          [
           "Barksdale AFB",
           -0.06420072274688632
          ],
          [
           "Kroger Shreveport # 539",
           -2.4244434970008006
          ],
          [
           "Kroger - Shreveport #533",
           8.425282682665259
          ],
          [
           "Beverly, 242 Elliott St",
           -2.506513600813996
          ],
          [
           "Billerica",
           7.13642256679285
          ],
          [
           "1304 Commonwealth Ave.",
           0.37410099567729327
          ],
          [
           "755 Boylston St",
           3.881360917806396
          ],
          [
           "Fenway Triangle Trilogy",
           -0.8620146048507876
          ],
          [
           "Smiths Fort Mohave #473",
           4.095285710458679
          ],
          [
           "Safeway - Fort Mohave #1474",
           5.549639366209383
          ],
          [
           "E. Palisades & Ave of the Fountain",
           -1.1098021221180205
          ],
          [
           "Safeway - Fountain Hills #1291",
           -2.2916788940097375
          ],
          [
           "Target Fountain Hills T-1432",
           10.3871009288443
          ],
          [
           "Super Target Gilbert ST-1960",
           4.493539676184466
          ]
         ],
         "type": "scattergeo"
        }
       ],
       "layout": {
        "geo": {
         "coastlinecolor": "White",
         "resolution": 110,
         "scope": "world",
         "showcoastlines": true
        },
        "height": 500,
        "template": {
         "data": {
          "bar": [
           {
            "error_x": {
             "color": "#2a3f5f"
            },
            "error_y": {
             "color": "#2a3f5f"
            },
            "marker": {
             "line": {
              "color": "#E5ECF6",
              "width": 0.5
             },
             "pattern": {
              "fillmode": "overlay",
              "size": 10,
              "solidity": 0.2
             }
            },
            "type": "bar"
           }
          ],
          "barpolar": [
           {
            "marker": {
             "line": {
              "color": "#E5ECF6",
              "width": 0.5
             },
             "pattern": {
              "fillmode": "overlay",
              "size": 10,
              "solidity": 0.2
             }
            },
            "type": "barpolar"
           }
          ],
          "carpet": [
           {
            "aaxis": {
             "endlinecolor": "#2a3f5f",
             "gridcolor": "white",
             "linecolor": "white",
             "minorgridcolor": "white",
             "startlinecolor": "#2a3f5f"
            },
            "baxis": {
             "endlinecolor": "#2a3f5f",
             "gridcolor": "white",
             "linecolor": "white",
             "minorgridcolor": "white",
             "startlinecolor": "#2a3f5f"
            },
            "type": "carpet"
           }
          ],
          "choropleth": [
           {
            "colorbar": {
             "outlinewidth": 0,
             "ticks": ""
            },
            "type": "choropleth"
           }
          ],
          "contour": [
           {
            "colorbar": {
             "outlinewidth": 0,
             "ticks": ""
            },
            "colorscale": [
             [
              0,
              "#0d0887"
             ],
             [
              0.1111111111111111,
              "#46039f"
             ],
             [
              0.2222222222222222,
              "#7201a8"
             ],
             [
              0.3333333333333333,
              "#9c179e"
             ],
             [
              0.4444444444444444,
              "#bd3786"
             ],
             [
              0.5555555555555556,
              "#d8576b"
             ],
             [
              0.6666666666666666,
              "#ed7953"
             ],
             [
              0.7777777777777778,
              "#fb9f3a"
             ],
             [
              0.8888888888888888,
              "#fdca26"
             ],
             [
              1,
              "#f0f921"
             ]
            ],
            "type": "contour"
           }
          ],
          "contourcarpet": [
           {
            "colorbar": {
             "outlinewidth": 0,
             "ticks": ""
            },
            "type": "contourcarpet"
           }
          ],
          "heatmap": [
           {
            "colorbar": {
             "outlinewidth": 0,
             "ticks": ""
            },
            "colorscale": [
             [
              0,
              "#0d0887"
             ],
             [
              0.1111111111111111,
              "#46039f"
             ],
             [
              0.2222222222222222,
              "#7201a8"
             ],
             [
              0.3333333333333333,
              "#9c179e"
             ],
             [
              0.4444444444444444,
              "#bd3786"
             ],
             [
              0.5555555555555556,
              "#d8576b"
             ],
             [
              0.6666666666666666,
              "#ed7953"
             ],
             [
              0.7777777777777778,
              "#fb9f3a"
             ],
             [
              0.8888888888888888,
              "#fdca26"
             ],
             [
              1,
              "#f0f921"
             ]
            ],
            "type": "heatmap"
           }
          ],
          "heatmapgl": [
           {
            "colorbar": {
             "outlinewidth": 0,
             "ticks": ""
            },
            "colorscale": [
             [
              0,
              "#0d0887"
             ],
             [
              0.1111111111111111,
              "#46039f"
             ],
             [
              0.2222222222222222,
              "#7201a8"
             ],
             [
              0.3333333333333333,
              "#9c179e"
             ],
             [
              0.4444444444444444,
              "#bd3786"
             ],
             [
              0.5555555555555556,
              "#d8576b"
             ],
             [
              0.6666666666666666,
              "#ed7953"
             ],
             [
              0.7777777777777778,
              "#fb9f3a"
             ],
             [
              0.8888888888888888,
              "#fdca26"
             ],
             [
              1,
              "#f0f921"
             ]
            ],
            "type": "heatmapgl"
           }
          ],
          "histogram": [
           {
            "marker": {
             "pattern": {
              "fillmode": "overlay",
              "size": 10,
              "solidity": 0.2
             }
            },
            "type": "histogram"
           }
          ],
          "histogram2d": [
           {
            "colorbar": {
             "outlinewidth": 0,
             "ticks": ""
            },
            "colorscale": [
             [
              0,
              "#0d0887"
             ],
             [
              0.1111111111111111,
              "#46039f"
             ],
             [
              0.2222222222222222,
              "#7201a8"
             ],
             [
              0.3333333333333333,
              "#9c179e"
             ],
             [
              0.4444444444444444,
              "#bd3786"
             ],
             [
              0.5555555555555556,
              "#d8576b"
             ],
             [
              0.6666666666666666,
              "#ed7953"
             ],
             [
              0.7777777777777778,
              "#fb9f3a"
             ],
             [
              0.8888888888888888,
              "#fdca26"
             ],
             [
              1,
              "#f0f921"
             ]
            ],
            "type": "histogram2d"
           }
          ],
          "histogram2dcontour": [
           {
            "colorbar": {
             "outlinewidth": 0,
             "ticks": ""
            },
            "colorscale": [
             [
              0,
              "#0d0887"
             ],
             [
              0.1111111111111111,
              "#46039f"
             ],
             [
              0.2222222222222222,
              "#7201a8"
             ],
             [
              0.3333333333333333,
              "#9c179e"
             ],
             [
              0.4444444444444444,
              "#bd3786"
             ],
             [
              0.5555555555555556,
              "#d8576b"
             ],
             [
              0.6666666666666666,
              "#ed7953"
             ],
             [
              0.7777777777777778,
              "#fb9f3a"
             ],
             [
              0.8888888888888888,
              "#fdca26"
             ],
             [
              1,
              "#f0f921"
             ]
            ],
            "type": "histogram2dcontour"
           }
          ],
          "mesh3d": [
           {
            "colorbar": {
             "outlinewidth": 0,
             "ticks": ""
            },
            "type": "mesh3d"
           }
          ],
          "parcoords": [
           {
            "line": {
             "colorbar": {
              "outlinewidth": 0,
              "ticks": ""
             }
            },
            "type": "parcoords"
           }
          ],
          "pie": [
           {
            "automargin": true,
            "type": "pie"
           }
          ],
          "scatter": [
           {
            "fillpattern": {
             "fillmode": "overlay",
             "size": 10,
             "solidity": 0.2
            },
            "type": "scatter"
           }
          ],
          "scatter3d": [
           {
            "line": {
             "colorbar": {
              "outlinewidth": 0,
              "ticks": ""
             }
            },
            "marker": {
             "colorbar": {
              "outlinewidth": 0,
              "ticks": ""
             }
            },
            "type": "scatter3d"
           }
          ],
          "scattercarpet": [
           {
            "marker": {
             "colorbar": {
              "outlinewidth": 0,
              "ticks": ""
             }
            },
            "type": "scattercarpet"
           }
          ],
          "scattergeo": [
           {
            "marker": {
             "colorbar": {
              "outlinewidth": 0,
              "ticks": ""
             }
            },
            "type": "scattergeo"
           }
          ],
          "scattergl": [
           {
            "marker": {
             "colorbar": {
              "outlinewidth": 0,
              "ticks": ""
             }
            },
            "type": "scattergl"
           }
          ],
          "scattermapbox": [
           {
            "marker": {
             "colorbar": {
              "outlinewidth": 0,
              "ticks": ""
             }
            },
            "type": "scattermapbox"
           }
          ],
          "scatterpolar": [
           {
            "marker": {
             "colorbar": {
              "outlinewidth": 0,
              "ticks": ""
             }
            },
            "type": "scatterpolar"
           }
          ],
          "scatterpolargl": [
           {
            "marker": {
             "colorbar": {
              "outlinewidth": 0,
              "ticks": ""
             }
            },
            "type": "scatterpolargl"
           }
          ],
          "scatterternary": [
           {
            "marker": {
             "colorbar": {
              "outlinewidth": 0,
              "ticks": ""
             }
            },
            "type": "scatterternary"
           }
          ],
          "surface": [
           {
            "colorbar": {
             "outlinewidth": 0,
             "ticks": ""
            },
            "colorscale": [
             [
              0,
              "#0d0887"
             ],
             [
              0.1111111111111111,
              "#46039f"
             ],
             [
              0.2222222222222222,
              "#7201a8"
             ],
             [
              0.3333333333333333,
              "#9c179e"
             ],
             [
              0.4444444444444444,
              "#bd3786"
             ],
             [
              0.5555555555555556,
              "#d8576b"
             ],
             [
              0.6666666666666666,
              "#ed7953"
             ],
             [
              0.7777777777777778,
              "#fb9f3a"
             ],
             [
              0.8888888888888888,
              "#fdca26"
             ],
             [
              1,
              "#f0f921"
             ]
            ],
            "type": "surface"
           }
          ],
          "table": [
           {
            "cells": {
             "fill": {
              "color": "#EBF0F8"
             },
             "line": {
              "color": "white"
             }
            },
            "header": {
             "fill": {
              "color": "#C8D4E3"
             },
             "line": {
              "color": "white"
             }
            },
            "type": "table"
           }
          ]
         },
         "layout": {
          "annotationdefaults": {
           "arrowcolor": "#2a3f5f",
           "arrowhead": 0,
           "arrowwidth": 1
          },
          "autotypenumbers": "strict",
          "coloraxis": {
           "colorbar": {
            "outlinewidth": 0,
            "ticks": ""
           }
          },
          "colorscale": {
           "diverging": [
            [
             0,
             "#8e0152"
            ],
            [
             0.1,
             "#c51b7d"
            ],
            [
             0.2,
             "#de77ae"
            ],
            [
             0.3,
             "#f1b6da"
            ],
            [
             0.4,
             "#fde0ef"
            ],
            [
             0.5,
             "#f7f7f7"
            ],
            [
             0.6,
             "#e6f5d0"
            ],
            [
             0.7,
             "#b8e186"
            ],
            [
             0.8,
             "#7fbc41"
            ],
            [
             0.9,
             "#4d9221"
            ],
            [
             1,
             "#276419"
            ]
           ],
           "sequential": [
            [
             0,
             "#0d0887"
            ],
            [
             0.1111111111111111,
             "#46039f"
            ],
            [
             0.2222222222222222,
             "#7201a8"
            ],
            [
             0.3333333333333333,
             "#9c179e"
            ],
            [
             0.4444444444444444,
             "#bd3786"
            ],
            [
             0.5555555555555556,
             "#d8576b"
            ],
            [
             0.6666666666666666,
             "#ed7953"
            ],
            [
             0.7777777777777778,
             "#fb9f3a"
            ],
            [
             0.8888888888888888,
             "#fdca26"
            ],
            [
             1,
             "#f0f921"
            ]
           ],
           "sequentialminus": [
            [
             0,
             "#0d0887"
            ],
            [
             0.1111111111111111,
             "#46039f"
            ],
            [
             0.2222222222222222,
             "#7201a8"
            ],
            [
             0.3333333333333333,
             "#9c179e"
            ],
            [
             0.4444444444444444,
             "#bd3786"
            ],
            [
             0.5555555555555556,
             "#d8576b"
            ],
            [
             0.6666666666666666,
             "#ed7953"
            ],
            [
             0.7777777777777778,
             "#fb9f3a"
            ],
            [
             0.8888888888888888,
             "#fdca26"
            ],
            [
             1,
             "#f0f921"
            ]
           ]
          },
          "colorway": [
           "#636efa",
           "#EF553B",
           "#00cc96",
           "#ab63fa",
           "#FFA15A",
           "#19d3f3",
           "#FF6692",
           "#B6E880",
           "#FF97FF",
           "#FECB52"
          ],
          "font": {
           "color": "#2a3f5f"
          },
          "geo": {
           "bgcolor": "white",
           "lakecolor": "white",
           "landcolor": "#E5ECF6",
           "showlakes": true,
           "showland": true,
           "subunitcolor": "white"
          },
          "hoverlabel": {
           "align": "left"
          },
          "hovermode": "closest",
          "mapbox": {
           "style": "light"
          },
          "paper_bgcolor": "white",
          "plot_bgcolor": "#E5ECF6",
          "polar": {
           "angularaxis": {
            "gridcolor": "white",
            "linecolor": "white",
            "ticks": ""
           },
           "bgcolor": "#E5ECF6",
           "radialaxis": {
            "gridcolor": "white",
            "linecolor": "white",
            "ticks": ""
           }
          },
          "scene": {
           "xaxis": {
            "backgroundcolor": "#E5ECF6",
            "gridcolor": "white",
            "gridwidth": 2,
            "linecolor": "white",
            "showbackground": true,
            "ticks": "",
            "zerolinecolor": "white"
           },
           "yaxis": {
            "backgroundcolor": "#E5ECF6",
            "gridcolor": "white",
            "gridwidth": 2,
            "linecolor": "white",
            "showbackground": true,
            "ticks": "",
            "zerolinecolor": "white"
           },
           "zaxis": {
            "backgroundcolor": "#E5ECF6",
            "gridcolor": "white",
            "gridwidth": 2,
            "linecolor": "white",
            "showbackground": true,
            "ticks": "",
            "zerolinecolor": "white"
           }
          },
          "shapedefaults": {
           "line": {
            "color": "#2a3f5f"
           }
          },
          "ternary": {
           "aaxis": {
            "gridcolor": "white",
            "linecolor": "white",
            "ticks": ""
           },
           "baxis": {
            "gridcolor": "white",
            "linecolor": "white",
            "ticks": ""
           },
           "bgcolor": "#E5ECF6",
           "caxis": {
            "gridcolor": "white",
            "linecolor": "white",
            "ticks": ""
           }
          },
          "title": {
           "x": 0.05
          },
          "xaxis": {
           "automargin": true,
           "gridcolor": "white",
           "linecolor": "white",
           "ticks": "",
           "title": {
            "standoff": 15
           },
           "zerolinecolor": "white",
           "zerolinewidth": 2
          },
          "yaxis": {
           "automargin": true,
           "gridcolor": "white",
           "linecolor": "white",
           "ticks": "",
           "title": {
            "standoff": 15
           },
           "zerolinecolor": "white",
           "zerolinewidth": 2
          }
         }
        },
        "title": {
         "text": "Gross Profit Margin per Outlet (in million INR)",
         "x": 0.5
        },
        "width": 1000
       }
      }
     },
     "metadata": {},
     "output_type": "display_data"
    }
   ],
   "source": [
    "# Initiate an empty figure\n",
    "fig = go.Figure()\n",
    "\n",
    "# Add a trace of scattergeo to the figure\n",
    "fig.add_trace(trace=go.Scattergeo(lon=data['Longitude'], \n",
    "                                  lat=data['Latitude'], \n",
    "                                  text=data[['Store_Name', 'Gross_Profit_Margin']],\n",
    "                                  marker=dict(size=data['Revenue'] / 2, \n",
    "                                              color='Purple')))\n",
    "\n",
    "# Update the layout with some cosmetics\n",
    "fig.update_layout(height=500, \n",
    "                  width=1000, \n",
    "                  title_text='Gross Profit Margin per Outlet (in million INR)', \n",
    "                  title_x=0.5,\n",
    "                  geo=dict(scope='world', \n",
    "                           resolution=110, \n",
    "                           showcoastlines=True,\n",
    "                           coastlinecolor='White'))\n",
    "\n",
    "# Display the figure\n",
    "fig.show()"
   ]
  },
  {
   "cell_type": "code",
   "execution_count": 79,
   "metadata": {},
   "outputs": [
    {
     "data": {
      "text/html": [
       "<div>\n",
       "<style scoped>\n",
       "    .dataframe tbody tr th:only-of-type {\n",
       "        vertical-align: middle;\n",
       "    }\n",
       "\n",
       "    .dataframe tbody tr th {\n",
       "        vertical-align: top;\n",
       "    }\n",
       "\n",
       "    .dataframe thead th {\n",
       "        text-align: right;\n",
       "    }\n",
       "</style>\n",
       "<table border=\"1\" class=\"dataframe\">\n",
       "  <thead>\n",
       "    <tr style=\"text-align: right;\">\n",
       "      <th></th>\n",
       "      <th>Energy</th>\n",
       "      <th>Protein</th>\n",
       "      <th>Sugars</th>\n",
       "      <th>Total_Fat</th>\n",
       "      <th>Saturated_Fat</th>\n",
       "      <th>Cholestrol</th>\n",
       "      <th>Carbohydrates</th>\n",
       "      <th>Dietary_Fibre</th>\n",
       "      <th>Sodium</th>\n",
       "    </tr>\n",
       "    <tr>\n",
       "      <th>Category</th>\n",
       "      <th></th>\n",
       "      <th></th>\n",
       "      <th></th>\n",
       "      <th></th>\n",
       "      <th></th>\n",
       "      <th></th>\n",
       "      <th></th>\n",
       "      <th></th>\n",
       "      <th></th>\n",
       "    </tr>\n",
       "  </thead>\n",
       "  <tbody>\n",
       "    <tr>\n",
       "      <th>Breakfast</th>\n",
       "      <td>291.875000</td>\n",
       "      <td>11.125000</td>\n",
       "      <td>2.375000</td>\n",
       "      <td>12.250000</td>\n",
       "      <td>6.000000</td>\n",
       "      <td>105.875000</td>\n",
       "      <td>34.250000</td>\n",
       "      <td>2.375000</td>\n",
       "      <td>781.250000</td>\n",
       "    </tr>\n",
       "    <tr>\n",
       "      <th>Chicken Wings</th>\n",
       "      <td>384.000000</td>\n",
       "      <td>16.500000</td>\n",
       "      <td>0.000000</td>\n",
       "      <td>25.500000</td>\n",
       "      <td>10.750000</td>\n",
       "      <td>61.500000</td>\n",
       "      <td>22.500000</td>\n",
       "      <td>2.000000</td>\n",
       "      <td>965.000000</td>\n",
       "    </tr>\n",
       "    <tr>\n",
       "      <th>Cold Beverages</th>\n",
       "      <td>138.722222</td>\n",
       "      <td>0.277778</td>\n",
       "      <td>32.944444</td>\n",
       "      <td>0.166667</td>\n",
       "      <td>0.000000</td>\n",
       "      <td>0.000000</td>\n",
       "      <td>33.888889</td>\n",
       "      <td>0.000000</td>\n",
       "      <td>166.111111</td>\n",
       "    </tr>\n",
       "    <tr>\n",
       "      <th>Condiments</th>\n",
       "      <td>39.200000</td>\n",
       "      <td>0.600000</td>\n",
       "      <td>3.400000</td>\n",
       "      <td>1.800000</td>\n",
       "      <td>0.720000</td>\n",
       "      <td>2.000000</td>\n",
       "      <td>5.000000</td>\n",
       "      <td>0.000000</td>\n",
       "      <td>158.000000</td>\n",
       "    </tr>\n",
       "    <tr>\n",
       "      <th>Desserts</th>\n",
       "      <td>174.117647</td>\n",
       "      <td>3.117647</td>\n",
       "      <td>23.470588</td>\n",
       "      <td>5.294118</td>\n",
       "      <td>3.294118</td>\n",
       "      <td>4.823529</td>\n",
       "      <td>28.529412</td>\n",
       "      <td>0.058824</td>\n",
       "      <td>470.588235</td>\n",
       "    </tr>\n",
       "    <tr>\n",
       "      <th>Hot Beverages</th>\n",
       "      <td>16.750000</td>\n",
       "      <td>0.500000</td>\n",
       "      <td>0.500000</td>\n",
       "      <td>1.000000</td>\n",
       "      <td>0.700000</td>\n",
       "      <td>1.500000</td>\n",
       "      <td>1.500000</td>\n",
       "      <td>0.000000</td>\n",
       "      <td>125.000000</td>\n",
       "    </tr>\n",
       "    <tr>\n",
       "      <th>New Products</th>\n",
       "      <td>334.400000</td>\n",
       "      <td>9.600000</td>\n",
       "      <td>3.600000</td>\n",
       "      <td>18.200000</td>\n",
       "      <td>6.020000</td>\n",
       "      <td>61.000000</td>\n",
       "      <td>33.800000</td>\n",
       "      <td>2.800000</td>\n",
       "      <td>738.000000</td>\n",
       "    </tr>\n",
       "    <tr>\n",
       "      <th>Nuggets</th>\n",
       "      <td>280.666667</td>\n",
       "      <td>17.666667</td>\n",
       "      <td>0.000000</td>\n",
       "      <td>15.333333</td>\n",
       "      <td>6.400000</td>\n",
       "      <td>49.333333</td>\n",
       "      <td>18.000000</td>\n",
       "      <td>1.333333</td>\n",
       "      <td>506.666667</td>\n",
       "    </tr>\n",
       "    <tr>\n",
       "      <th>Sandwiches and Wraps</th>\n",
       "      <td>505.700000</td>\n",
       "      <td>17.700000</td>\n",
       "      <td>5.900000</td>\n",
       "      <td>26.100000</td>\n",
       "      <td>9.930000</td>\n",
       "      <td>33.400000</td>\n",
       "      <td>50.000000</td>\n",
       "      <td>3.900000</td>\n",
       "      <td>1068.000000</td>\n",
       "    </tr>\n",
       "    <tr>\n",
       "      <th>Smoothies &amp; Shakes</th>\n",
       "      <td>246.166667</td>\n",
       "      <td>5.666667</td>\n",
       "      <td>33.833333</td>\n",
       "      <td>6.000000</td>\n",
       "      <td>3.833333</td>\n",
       "      <td>9.166667</td>\n",
       "      <td>42.333333</td>\n",
       "      <td>0.166667</td>\n",
       "      <td>148.333333</td>\n",
       "    </tr>\n",
       "    <tr>\n",
       "      <th>Snacks &amp; Sides</th>\n",
       "      <td>435.250000</td>\n",
       "      <td>6.500000</td>\n",
       "      <td>0.750000</td>\n",
       "      <td>22.500000</td>\n",
       "      <td>10.375000</td>\n",
       "      <td>1.250000</td>\n",
       "      <td>51.250000</td>\n",
       "      <td>5.750000</td>\n",
       "      <td>432.500000</td>\n",
       "    </tr>\n",
       "  </tbody>\n",
       "</table>\n",
       "</div>"
      ],
      "text/plain": [
       "                          Energy    Protein     Sugars  Total_Fat  \\\n",
       "Category                                                            \n",
       "Breakfast             291.875000  11.125000   2.375000  12.250000   \n",
       "Chicken Wings         384.000000  16.500000   0.000000  25.500000   \n",
       "Cold Beverages        138.722222   0.277778  32.944444   0.166667   \n",
       "Condiments             39.200000   0.600000   3.400000   1.800000   \n",
       "Desserts              174.117647   3.117647  23.470588   5.294118   \n",
       "Hot Beverages          16.750000   0.500000   0.500000   1.000000   \n",
       "New Products          334.400000   9.600000   3.600000  18.200000   \n",
       "Nuggets               280.666667  17.666667   0.000000  15.333333   \n",
       "Sandwiches and Wraps  505.700000  17.700000   5.900000  26.100000   \n",
       "Smoothies & Shakes    246.166667   5.666667  33.833333   6.000000   \n",
       "Snacks & Sides        435.250000   6.500000   0.750000  22.500000   \n",
       "\n",
       "                      Saturated_Fat  Cholestrol  Carbohydrates  Dietary_Fibre  \\\n",
       "Category                                                                        \n",
       "Breakfast                  6.000000  105.875000      34.250000       2.375000   \n",
       "Chicken Wings             10.750000   61.500000      22.500000       2.000000   \n",
       "Cold Beverages             0.000000    0.000000      33.888889       0.000000   \n",
       "Condiments                 0.720000    2.000000       5.000000       0.000000   \n",
       "Desserts                   3.294118    4.823529      28.529412       0.058824   \n",
       "Hot Beverages              0.700000    1.500000       1.500000       0.000000   \n",
       "New Products               6.020000   61.000000      33.800000       2.800000   \n",
       "Nuggets                    6.400000   49.333333      18.000000       1.333333   \n",
       "Sandwiches and Wraps       9.930000   33.400000      50.000000       3.900000   \n",
       "Smoothies & Shakes         3.833333    9.166667      42.333333       0.166667   \n",
       "Snacks & Sides            10.375000    1.250000      51.250000       5.750000   \n",
       "\n",
       "                           Sodium  \n",
       "Category                           \n",
       "Breakfast              781.250000  \n",
       "Chicken Wings          965.000000  \n",
       "Cold Beverages         166.111111  \n",
       "Condiments             158.000000  \n",
       "Desserts               470.588235  \n",
       "Hot Beverages          125.000000  \n",
       "New Products           738.000000  \n",
       "Nuggets                506.666667  \n",
       "Sandwiches and Wraps  1068.000000  \n",
       "Smoothies & Shakes     148.333333  \n",
       "Snacks & Sides         432.500000  "
      ]
     },
     "execution_count": 79,
     "metadata": {},
     "output_type": "execute_result"
    }
   ],
   "source": [
    "#nutrifactoral analysis \n",
    "\n",
    "nutrifactors = ['Energy', 'Protein', 'Sugars', 'Total_Fat', 'Saturated_Fat', \n",
    "                'Cholestrol', 'Carbohydrates', 'Dietary_Fibre', 'Sodium']\n",
    "\n",
    "dataIN = data[data['Country'] == 'IN'].groupby(['Category'])[nutrifactors].mean()\n",
    "dataUS = data[data['Country'] == 'US'].groupby(['Category'])[nutrifactors].mean()\n",
    "dataIN\n",
    "# dataUS"
   ]
  },
  {
   "cell_type": "code",
   "execution_count": 82,
   "metadata": {},
   "outputs": [
    {
     "data": {
      "application/vnd.plotly.v1+json": {
       "config": {
        "plotlyServerURL": "https://plot.ly"
       },
       "data": [
        {
         "name": "IN",
         "orientation": "h",
         "type": "bar",
         "x": [
          291.875,
          384,
          138.72222222222223,
          39.2,
          174.11764705882354,
          16.75,
          334.4,
          280.6666666666667,
          505.7,
          246.16666666666666,
          435.25
         ],
         "y": [
          "Breakfast",
          "Chicken Wings",
          "Cold Beverages",
          "Condiments",
          "Desserts",
          "Hot Beverages",
          "New Products",
          "Nuggets",
          "Sandwiches and Wraps",
          "Smoothies & Shakes",
          "Snacks & Sides"
         ]
        },
        {
         "name": "US",
         "orientation": "h",
         "type": "bar",
         "x": [
          494,
          535.8536585365854,
          560.3846153846154,
          113.70370370370371,
          222.14285714285714,
          283.89473684210526,
          270,
          531.4285714285714,
          245.76923076923077
         ],
         "y": [
          "Beef & Pork",
          "Breakfast",
          "Chicken & Fish",
          "Cold Beverages",
          "Desserts",
          "Hot Beverages",
          "Salads",
          "Smoothies & Shakes",
          "Snacks & Sides"
         ]
        }
       ],
       "layout": {
        "annotations": [
         {
          "showarrow": false,
          "text": "Category",
          "x": 1.2,
          "xanchor": "left",
          "xref": "paper",
          "y": 1.08,
          "yanchor": "top",
          "yref": "paper"
         }
        ],
        "height": 500,
        "template": {
         "data": {
          "bar": [
           {
            "error_x": {
             "color": "#2a3f5f"
            },
            "error_y": {
             "color": "#2a3f5f"
            },
            "marker": {
             "line": {
              "color": "#E5ECF6",
              "width": 0.5
             },
             "pattern": {
              "fillmode": "overlay",
              "size": 10,
              "solidity": 0.2
             }
            },
            "type": "bar"
           }
          ],
          "barpolar": [
           {
            "marker": {
             "line": {
              "color": "#E5ECF6",
              "width": 0.5
             },
             "pattern": {
              "fillmode": "overlay",
              "size": 10,
              "solidity": 0.2
             }
            },
            "type": "barpolar"
           }
          ],
          "carpet": [
           {
            "aaxis": {
             "endlinecolor": "#2a3f5f",
             "gridcolor": "white",
             "linecolor": "white",
             "minorgridcolor": "white",
             "startlinecolor": "#2a3f5f"
            },
            "baxis": {
             "endlinecolor": "#2a3f5f",
             "gridcolor": "white",
             "linecolor": "white",
             "minorgridcolor": "white",
             "startlinecolor": "#2a3f5f"
            },
            "type": "carpet"
           }
          ],
          "choropleth": [
           {
            "colorbar": {
             "outlinewidth": 0,
             "ticks": ""
            },
            "type": "choropleth"
           }
          ],
          "contour": [
           {
            "colorbar": {
             "outlinewidth": 0,
             "ticks": ""
            },
            "colorscale": [
             [
              0,
              "#0d0887"
             ],
             [
              0.1111111111111111,
              "#46039f"
             ],
             [
              0.2222222222222222,
              "#7201a8"
             ],
             [
              0.3333333333333333,
              "#9c179e"
             ],
             [
              0.4444444444444444,
              "#bd3786"
             ],
             [
              0.5555555555555556,
              "#d8576b"
             ],
             [
              0.6666666666666666,
              "#ed7953"
             ],
             [
              0.7777777777777778,
              "#fb9f3a"
             ],
             [
              0.8888888888888888,
              "#fdca26"
             ],
             [
              1,
              "#f0f921"
             ]
            ],
            "type": "contour"
           }
          ],
          "contourcarpet": [
           {
            "colorbar": {
             "outlinewidth": 0,
             "ticks": ""
            },
            "type": "contourcarpet"
           }
          ],
          "heatmap": [
           {
            "colorbar": {
             "outlinewidth": 0,
             "ticks": ""
            },
            "colorscale": [
             [
              0,
              "#0d0887"
             ],
             [
              0.1111111111111111,
              "#46039f"
             ],
             [
              0.2222222222222222,
              "#7201a8"
             ],
             [
              0.3333333333333333,
              "#9c179e"
             ],
             [
              0.4444444444444444,
              "#bd3786"
             ],
             [
              0.5555555555555556,
              "#d8576b"
             ],
             [
              0.6666666666666666,
              "#ed7953"
             ],
             [
              0.7777777777777778,
              "#fb9f3a"
             ],
             [
              0.8888888888888888,
              "#fdca26"
             ],
             [
              1,
              "#f0f921"
             ]
            ],
            "type": "heatmap"
           }
          ],
          "heatmapgl": [
           {
            "colorbar": {
             "outlinewidth": 0,
             "ticks": ""
            },
            "colorscale": [
             [
              0,
              "#0d0887"
             ],
             [
              0.1111111111111111,
              "#46039f"
             ],
             [
              0.2222222222222222,
              "#7201a8"
             ],
             [
              0.3333333333333333,
              "#9c179e"
             ],
             [
              0.4444444444444444,
              "#bd3786"
             ],
             [
              0.5555555555555556,
              "#d8576b"
             ],
             [
              0.6666666666666666,
              "#ed7953"
             ],
             [
              0.7777777777777778,
              "#fb9f3a"
             ],
             [
              0.8888888888888888,
              "#fdca26"
             ],
             [
              1,
              "#f0f921"
             ]
            ],
            "type": "heatmapgl"
           }
          ],
          "histogram": [
           {
            "marker": {
             "pattern": {
              "fillmode": "overlay",
              "size": 10,
              "solidity": 0.2
             }
            },
            "type": "histogram"
           }
          ],
          "histogram2d": [
           {
            "colorbar": {
             "outlinewidth": 0,
             "ticks": ""
            },
            "colorscale": [
             [
              0,
              "#0d0887"
             ],
             [
              0.1111111111111111,
              "#46039f"
             ],
             [
              0.2222222222222222,
              "#7201a8"
             ],
             [
              0.3333333333333333,
              "#9c179e"
             ],
             [
              0.4444444444444444,
              "#bd3786"
             ],
             [
              0.5555555555555556,
              "#d8576b"
             ],
             [
              0.6666666666666666,
              "#ed7953"
             ],
             [
              0.7777777777777778,
              "#fb9f3a"
             ],
             [
              0.8888888888888888,
              "#fdca26"
             ],
             [
              1,
              "#f0f921"
             ]
            ],
            "type": "histogram2d"
           }
          ],
          "histogram2dcontour": [
           {
            "colorbar": {
             "outlinewidth": 0,
             "ticks": ""
            },
            "colorscale": [
             [
              0,
              "#0d0887"
             ],
             [
              0.1111111111111111,
              "#46039f"
             ],
             [
              0.2222222222222222,
              "#7201a8"
             ],
             [
              0.3333333333333333,
              "#9c179e"
             ],
             [
              0.4444444444444444,
              "#bd3786"
             ],
             [
              0.5555555555555556,
              "#d8576b"
             ],
             [
              0.6666666666666666,
              "#ed7953"
             ],
             [
              0.7777777777777778,
              "#fb9f3a"
             ],
             [
              0.8888888888888888,
              "#fdca26"
             ],
             [
              1,
              "#f0f921"
             ]
            ],
            "type": "histogram2dcontour"
           }
          ],
          "mesh3d": [
           {
            "colorbar": {
             "outlinewidth": 0,
             "ticks": ""
            },
            "type": "mesh3d"
           }
          ],
          "parcoords": [
           {
            "line": {
             "colorbar": {
              "outlinewidth": 0,
              "ticks": ""
             }
            },
            "type": "parcoords"
           }
          ],
          "pie": [
           {
            "automargin": true,
            "type": "pie"
           }
          ],
          "scatter": [
           {
            "fillpattern": {
             "fillmode": "overlay",
             "size": 10,
             "solidity": 0.2
            },
            "type": "scatter"
           }
          ],
          "scatter3d": [
           {
            "line": {
             "colorbar": {
              "outlinewidth": 0,
              "ticks": ""
             }
            },
            "marker": {
             "colorbar": {
              "outlinewidth": 0,
              "ticks": ""
             }
            },
            "type": "scatter3d"
           }
          ],
          "scattercarpet": [
           {
            "marker": {
             "colorbar": {
              "outlinewidth": 0,
              "ticks": ""
             }
            },
            "type": "scattercarpet"
           }
          ],
          "scattergeo": [
           {
            "marker": {
             "colorbar": {
              "outlinewidth": 0,
              "ticks": ""
             }
            },
            "type": "scattergeo"
           }
          ],
          "scattergl": [
           {
            "marker": {
             "colorbar": {
              "outlinewidth": 0,
              "ticks": ""
             }
            },
            "type": "scattergl"
           }
          ],
          "scattermapbox": [
           {
            "marker": {
             "colorbar": {
              "outlinewidth": 0,
              "ticks": ""
             }
            },
            "type": "scattermapbox"
           }
          ],
          "scatterpolar": [
           {
            "marker": {
             "colorbar": {
              "outlinewidth": 0,
              "ticks": ""
             }
            },
            "type": "scatterpolar"
           }
          ],
          "scatterpolargl": [
           {
            "marker": {
             "colorbar": {
              "outlinewidth": 0,
              "ticks": ""
             }
            },
            "type": "scatterpolargl"
           }
          ],
          "scatterternary": [
           {
            "marker": {
             "colorbar": {
              "outlinewidth": 0,
              "ticks": ""
             }
            },
            "type": "scatterternary"
           }
          ],
          "surface": [
           {
            "colorbar": {
             "outlinewidth": 0,
             "ticks": ""
            },
            "colorscale": [
             [
              0,
              "#0d0887"
             ],
             [
              0.1111111111111111,
              "#46039f"
             ],
             [
              0.2222222222222222,
              "#7201a8"
             ],
             [
              0.3333333333333333,
              "#9c179e"
             ],
             [
              0.4444444444444444,
              "#bd3786"
             ],
             [
              0.5555555555555556,
              "#d8576b"
             ],
             [
              0.6666666666666666,
              "#ed7953"
             ],
             [
              0.7777777777777778,
              "#fb9f3a"
             ],
             [
              0.8888888888888888,
              "#fdca26"
             ],
             [
              1,
              "#f0f921"
             ]
            ],
            "type": "surface"
           }
          ],
          "table": [
           {
            "cells": {
             "fill": {
              "color": "#EBF0F8"
             },
             "line": {
              "color": "white"
             }
            },
            "header": {
             "fill": {
              "color": "#C8D4E3"
             },
             "line": {
              "color": "white"
             }
            },
            "type": "table"
           }
          ]
         },
         "layout": {
          "annotationdefaults": {
           "arrowcolor": "#2a3f5f",
           "arrowhead": 0,
           "arrowwidth": 1
          },
          "autotypenumbers": "strict",
          "coloraxis": {
           "colorbar": {
            "outlinewidth": 0,
            "ticks": ""
           }
          },
          "colorscale": {
           "diverging": [
            [
             0,
             "#8e0152"
            ],
            [
             0.1,
             "#c51b7d"
            ],
            [
             0.2,
             "#de77ae"
            ],
            [
             0.3,
             "#f1b6da"
            ],
            [
             0.4,
             "#fde0ef"
            ],
            [
             0.5,
             "#f7f7f7"
            ],
            [
             0.6,
             "#e6f5d0"
            ],
            [
             0.7,
             "#b8e186"
            ],
            [
             0.8,
             "#7fbc41"
            ],
            [
             0.9,
             "#4d9221"
            ],
            [
             1,
             "#276419"
            ]
           ],
           "sequential": [
            [
             0,
             "#0d0887"
            ],
            [
             0.1111111111111111,
             "#46039f"
            ],
            [
             0.2222222222222222,
             "#7201a8"
            ],
            [
             0.3333333333333333,
             "#9c179e"
            ],
            [
             0.4444444444444444,
             "#bd3786"
            ],
            [
             0.5555555555555556,
             "#d8576b"
            ],
            [
             0.6666666666666666,
             "#ed7953"
            ],
            [
             0.7777777777777778,
             "#fb9f3a"
            ],
            [
             0.8888888888888888,
             "#fdca26"
            ],
            [
             1,
             "#f0f921"
            ]
           ],
           "sequentialminus": [
            [
             0,
             "#0d0887"
            ],
            [
             0.1111111111111111,
             "#46039f"
            ],
            [
             0.2222222222222222,
             "#7201a8"
            ],
            [
             0.3333333333333333,
             "#9c179e"
            ],
            [
             0.4444444444444444,
             "#bd3786"
            ],
            [
             0.5555555555555556,
             "#d8576b"
            ],
            [
             0.6666666666666666,
             "#ed7953"
            ],
            [
             0.7777777777777778,
             "#fb9f3a"
            ],
            [
             0.8888888888888888,
             "#fdca26"
            ],
            [
             1,
             "#f0f921"
            ]
           ]
          },
          "colorway": [
           "#636efa",
           "#EF553B",
           "#00cc96",
           "#ab63fa",
           "#FFA15A",
           "#19d3f3",
           "#FF6692",
           "#B6E880",
           "#FF97FF",
           "#FECB52"
          ],
          "font": {
           "color": "#2a3f5f"
          },
          "geo": {
           "bgcolor": "white",
           "lakecolor": "white",
           "landcolor": "#E5ECF6",
           "showlakes": true,
           "showland": true,
           "subunitcolor": "white"
          },
          "hoverlabel": {
           "align": "left"
          },
          "hovermode": "closest",
          "mapbox": {
           "style": "light"
          },
          "paper_bgcolor": "white",
          "plot_bgcolor": "#E5ECF6",
          "polar": {
           "angularaxis": {
            "gridcolor": "white",
            "linecolor": "white",
            "ticks": ""
           },
           "bgcolor": "#E5ECF6",
           "radialaxis": {
            "gridcolor": "white",
            "linecolor": "white",
            "ticks": ""
           }
          },
          "scene": {
           "xaxis": {
            "backgroundcolor": "#E5ECF6",
            "gridcolor": "white",
            "gridwidth": 2,
            "linecolor": "white",
            "showbackground": true,
            "ticks": "",
            "zerolinecolor": "white"
           },
           "yaxis": {
            "backgroundcolor": "#E5ECF6",
            "gridcolor": "white",
            "gridwidth": 2,
            "linecolor": "white",
            "showbackground": true,
            "ticks": "",
            "zerolinecolor": "white"
           },
           "zaxis": {
            "backgroundcolor": "#E5ECF6",
            "gridcolor": "white",
            "gridwidth": 2,
            "linecolor": "white",
            "showbackground": true,
            "ticks": "",
            "zerolinecolor": "white"
           }
          },
          "shapedefaults": {
           "line": {
            "color": "#2a3f5f"
           }
          },
          "ternary": {
           "aaxis": {
            "gridcolor": "white",
            "linecolor": "white",
            "ticks": ""
           },
           "baxis": {
            "gridcolor": "white",
            "linecolor": "white",
            "ticks": ""
           },
           "bgcolor": "#E5ECF6",
           "caxis": {
            "gridcolor": "white",
            "linecolor": "white",
            "ticks": ""
           }
          },
          "title": {
           "x": 0.05
          },
          "xaxis": {
           "automargin": true,
           "gridcolor": "white",
           "linecolor": "white",
           "ticks": "",
           "title": {
            "standoff": 15
           },
           "zerolinecolor": "white",
           "zerolinewidth": 2
          },
          "yaxis": {
           "automargin": true,
           "gridcolor": "white",
           "linecolor": "white",
           "ticks": "",
           "title": {
            "standoff": 15
           },
           "zerolinecolor": "white",
           "zerolinewidth": 2
          }
         }
        },
        "title": {
         "text": "Categorical Nutritional Difference in India & USA",
         "x": 0.5
        },
        "updatemenus": [
         {
          "active": 0,
          "buttons": [
           {
            "args": [
             {
              "visible": [
               true,
               true
              ],
              "x": [
               [
                291.875,
                384,
                138.72222222222223,
                39.2,
                174.11764705882354,
                16.75,
                334.4,
                280.6666666666667,
                505.7,
                246.16666666666666,
                435.25
               ],
               [
                494,
                535.8536585365854,
                560.3846153846154,
                113.70370370370371,
                222.14285714285714,
                283.89473684210526,
                270,
                531.4285714285714,
                245.76923076923077
               ]
              ],
              "y": [
               [
                "Breakfast",
                "Chicken Wings",
                "Cold Beverages",
                "Condiments",
                "Desserts",
                "Hot Beverages",
                "New Products",
                "Nuggets",
                "Sandwiches and Wraps",
                "Smoothies & Shakes",
                "Snacks & Sides"
               ],
               [
                "Beef & Pork",
                "Breakfast",
                "Chicken & Fish",
                "Cold Beverages",
                "Desserts",
                "Hot Beverages",
                "Salads",
                "Smoothies & Shakes",
                "Snacks & Sides"
               ]
              ]
             }
            ],
            "label": "Energy",
            "method": "update"
           },
           {
            "args": [
             {
              "visible": [
               true,
               true
              ],
              "x": [
               [
                11.125,
                16.5,
                0.2777777777777778,
                0.6,
                3.1176470588235294,
                0.5,
                9.6,
                17.666666666666668,
                17.7,
                5.666666666666667,
                6.5
               ],
               [
                27.333333333333332,
                20.317073170731707,
                29.692307692307693,
                1.3333333333333333,
                4,
                8.863157894736842,
                19.833333333333332,
                10.857142857142858,
                8.384615384615385
               ]
              ],
              "y": [
               [
                "Breakfast",
                "Chicken Wings",
                "Cold Beverages",
                "Condiments",
                "Desserts",
                "Hot Beverages",
                "New Products",
                "Nuggets",
                "Sandwiches and Wraps",
                "Smoothies & Shakes",
                "Snacks & Sides"
               ],
               [
                "Beef & Pork",
                "Breakfast",
                "Chicken & Fish",
                "Cold Beverages",
                "Desserts",
                "Hot Beverages",
                "Salads",
                "Smoothies & Shakes",
                "Snacks & Sides"
               ]
              ]
             }
            ],
            "label": "Protein",
            "method": "update"
           },
           {
            "args": [
             {
              "visible": [
               true,
               true
              ],
              "x": [
               [
                2.375,
                0,
                32.94444444444444,
                3.4,
                23.470588235294116,
                0.5,
                3.6,
                0,
                5.9,
                33.833333333333336,
                0.75
               ],
               [
                8.8,
                8.463414634146341,
                7.423076923076923,
                27.85185185185185,
                26.142857142857142,
                39.61052631578947,
                6.833333333333333,
                77.89285714285714,
                4.076923076923077
               ]
              ],
              "y": [
               [
                "Breakfast",
                "Chicken Wings",
                "Cold Beverages",
                "Condiments",
                "Desserts",
                "Hot Beverages",
                "New Products",
                "Nuggets",
                "Sandwiches and Wraps",
                "Smoothies & Shakes",
                "Snacks & Sides"
               ],
               [
                "Beef & Pork",
                "Breakfast",
                "Chicken & Fish",
                "Cold Beverages",
                "Desserts",
                "Hot Beverages",
                "Salads",
                "Smoothies & Shakes",
                "Snacks & Sides"
               ]
              ]
             }
            ],
            "label": "Sugars",
            "method": "update"
           },
           {
            "args": [
             {
              "visible": [
               true,
               true
              ],
              "x": [
               [
                12.25,
                25.5,
                0.16666666666666666,
                1.8,
                5.294117647058823,
                1,
                18.2,
                15.333333333333334,
                26.1,
                6,
                22.5
               ],
               [
                24.866666666666667,
                28.146341463414632,
                27.384615384615383,
                0.09259259259259259,
                7.357142857142857,
                8.021052631578947,
                11.75,
                14.125,
                10.538461538461538
               ]
              ],
              "y": [
               [
                "Breakfast",
                "Chicken Wings",
                "Cold Beverages",
                "Condiments",
                "Desserts",
                "Hot Beverages",
                "New Products",
                "Nuggets",
                "Sandwiches and Wraps",
                "Smoothies & Shakes",
                "Snacks & Sides"
               ],
               [
                "Beef & Pork",
                "Breakfast",
                "Chicken & Fish",
                "Cold Beverages",
                "Desserts",
                "Hot Beverages",
                "Salads",
                "Smoothies & Shakes",
                "Snacks & Sides"
               ]
              ]
             }
            ],
            "label": "Total_Fat",
            "method": "update"
           },
           {
            "args": [
             {
              "visible": [
               true,
               true
              ],
              "x": [
               [
                6,
                10.75,
                0,
                0.72,
                3.2941176470588234,
                0.7,
                6.0200000000000005,
                6.3999999999999995,
                9.93,
                3.8333333333333335,
                10.375
               ],
               [
                10.466666666666667,
                10.878048780487806,
                6.288461538461538,
                0.05555555555555555,
                4.285714285714286,
                4.921052631578948,
                3.75,
                8.375,
                2.6923076923076925
               ]
              ],
              "y": [
               [
                "Breakfast",
                "Chicken Wings",
                "Cold Beverages",
                "Condiments",
                "Desserts",
                "Hot Beverages",
                "New Products",
                "Nuggets",
                "Sandwiches and Wraps",
                "Smoothies & Shakes",
                "Snacks & Sides"
               ],
               [
                "Beef & Pork",
                "Breakfast",
                "Chicken & Fish",
                "Cold Beverages",
                "Desserts",
                "Hot Beverages",
                "Salads",
                "Smoothies & Shakes",
                "Snacks & Sides"
               ]
              ]
             }
            ],
            "label": "Saturated_Fat",
            "method": "update"
           },
           {
            "args": [
             {
              "visible": [
               true,
               true
              ],
              "x": [
               [
                105.875,
                61.5,
                0,
                2,
                4.823529411764706,
                1.5,
                61,
                49.333333333333336,
                33.4,
                9.166666666666666,
                1.25
               ],
               [
                87.33333333333333,
                156.58536585365854,
                76.92307692307692,
                0.5555555555555556,
                15,
                27.263157894736842,
                51.666666666666664,
                45,
                18.46153846153846
               ]
              ],
              "y": [
               [
                "Breakfast",
                "Chicken Wings",
                "Cold Beverages",
                "Condiments",
                "Desserts",
                "Hot Beverages",
                "New Products",
                "Nuggets",
                "Sandwiches and Wraps",
                "Smoothies & Shakes",
                "Snacks & Sides"
               ],
               [
                "Beef & Pork",
                "Breakfast",
                "Chicken & Fish",
                "Cold Beverages",
                "Desserts",
                "Hot Beverages",
                "Salads",
                "Smoothies & Shakes",
                "Snacks & Sides"
               ]
              ]
             }
            ],
            "label": "Cholestrol",
            "method": "update"
           },
           {
            "args": [
             {
              "visible": [
               true,
               true
              ],
              "x": [
               [
                34.25,
                22.5,
                33.888888888888886,
                5,
                28.529411764705884,
                1.5,
                33.8,
                18,
                50,
                42.333333333333336,
                51.25
               ],
               [
                40.13333333333333,
                50.609756097560975,
                49.42307692307692,
                28.814814814814813,
                34.857142857142854,
                44.526315789473685,
                21.666666666666668,
                90.42857142857143,
                29.153846153846153
               ]
              ],
              "y": [
               [
                "Breakfast",
                "Chicken Wings",
                "Cold Beverages",
                "Condiments",
                "Desserts",
                "Hot Beverages",
                "New Products",
                "Nuggets",
                "Sandwiches and Wraps",
                "Smoothies & Shakes",
                "Snacks & Sides"
               ],
               [
                "Beef & Pork",
                "Breakfast",
                "Chicken & Fish",
                "Cold Beverages",
                "Desserts",
                "Hot Beverages",
                "Salads",
                "Smoothies & Shakes",
                "Snacks & Sides"
               ]
              ]
             }
            ],
            "label": "Carbohydrates",
            "method": "update"
           },
           {
            "args": [
             {
              "visible": [
               true,
               true
              ],
              "x": [
               [
                2.375,
                2,
                0,
                0,
                0.058823529411764705,
                0,
                2.8,
                1.3333333333333333,
                3.9,
                0.16666666666666666,
                5.75
               ],
               [
                2.533333333333333,
                3.292682926829268,
                2.9615384615384617,
                0.037037037037037035,
                1,
                0.7789473684210526,
                4.5,
                1.4642857142857142,
                1.5384615384615385
               ]
              ],
              "y": [
               [
                "Breakfast",
                "Chicken Wings",
                "Cold Beverages",
                "Condiments",
                "Desserts",
                "Hot Beverages",
                "New Products",
                "Nuggets",
                "Sandwiches and Wraps",
                "Smoothies & Shakes",
                "Snacks & Sides"
               ],
               [
                "Beef & Pork",
                "Breakfast",
                "Chicken & Fish",
                "Cold Beverages",
                "Desserts",
                "Hot Beverages",
                "Salads",
                "Smoothies & Shakes",
                "Snacks & Sides"
               ]
              ]
             }
            ],
            "label": "Dietary_Fibre",
            "method": "update"
           },
           {
            "args": [
             {
              "visible": [
               true,
               true
              ],
              "x": [
               [
                781.25,
                965,
                166.11111111111111,
                158,
                470.5882352941176,
                125,
                738,
                506.6666666666667,
                1068,
                148.33333333333334,
                432.5
               ],
               [
                1020.6666666666666,
                1233.0487804878048,
                1275.3846153846155,
                41.48148148148148,
                117.14285714285714,
                136.89473684210526,
                588.3333333333334,
                183.57142857142858,
                395.7692307692308
               ]
              ],
              "y": [
               [
                "Breakfast",
                "Chicken Wings",
                "Cold Beverages",
                "Condiments",
                "Desserts",
                "Hot Beverages",
                "New Products",
                "Nuggets",
                "Sandwiches and Wraps",
                "Smoothies & Shakes",
                "Snacks & Sides"
               ],
               [
                "Beef & Pork",
                "Breakfast",
                "Chicken & Fish",
                "Cold Beverages",
                "Desserts",
                "Hot Beverages",
                "Salads",
                "Smoothies & Shakes",
                "Snacks & Sides"
               ]
              ]
             }
            ],
            "label": "Sodium",
            "method": "update"
           }
          ],
          "x": 1.2,
          "xanchor": "left",
          "y": 1,
          "yanchor": "top"
         }
        ],
        "width": 1000,
        "xaxis": {
         "title": {
          "text": "Nutritional Value"
         }
        },
        "yaxis": {
         "title": {
          "text": "Category"
         }
        }
       }
      }
     },
     "metadata": {},
     "output_type": "display_data"
    }
   ],
   "source": [
    "fig = go.Figure()\n",
    "fig.add_bar(x=dataIN['Energy'], y = dataIN.index, orientation='h', name='IN')\n",
    "fig.add_bar(x=dataUS['Energy'], y=dataUS.index, orientation='h', name='US')\n",
    "button = [dict(method='update', args = [{'x'}])]\n",
    "\n",
    "\n",
    "# Adding a button to select different features\n",
    "button = [dict(method='update',\n",
    "               args = [{'x': [dataIN[nutrifactors[k]], dataUS[nutrifactors[k]]],\n",
    "                        'y': [dataIN[nutrifactors[k]].index, dataUS[nutrifactors[k]].index],\n",
    "                        'visible': [True, True]}],\n",
    "               label=nutrifactors[k]) for k in range(0, len(nutrifactors))]\n",
    "\n",
    "\n",
    "# Updating the layout of the graph\n",
    "fig.update_layout(title_text='Categorical Nutritional Difference in India & USA',\n",
    "                  title_x=0.5,\n",
    "                  width=1000,\n",
    "                  height=500,\n",
    "                  xaxis_title='Nutritional Value', \n",
    "                  yaxis_title='Category',\n",
    "                  updatemenus=[dict(active=0,\n",
    "                                    buttons=button,\n",
    "                                    x=1.2,\n",
    "                                    y=1,\n",
    "                                    xanchor='left',\n",
    "                                    yanchor='top')])\n",
    "\n",
    "\n",
    "# Adding extra annotaions alongside the button\n",
    "fig.add_annotation(x=1.2,\n",
    "                   y=1.08,\n",
    "                   xref='paper',\n",
    "                   yref='paper',\n",
    "                   showarrow=False,\n",
    "                   xanchor='left',\n",
    "                   yanchor = 'top',\n",
    "                   text='Category')\n",
    "\n",
    "# Display the graph\n",
    "fig.show()"
   ]
  },
  {
   "cell_type": "code",
   "execution_count": 86,
   "metadata": {},
   "outputs": [
    {
     "data": {
      "application/vnd.plotly.v1+json": {
       "config": {
        "plotlyServerURL": "https://plot.ly"
       },
       "data": [
        {
         "orientation": "h",
         "type": "box",
         "x": [
          290,
          273,
          355,
          299,
          299,
          372,
          166,
          281,
          545,
          431,
          388,
          282,
          426,
          353,
          705,
          808,
          481,
          638,
          343,
          487,
          685,
          226,
          177,
          266,
          399,
          256,
          512,
          8,
          50,
          78,
          51,
          9,
          162,
          224,
          326,
          175,
          241,
          349,
          110,
          151,
          217,
          129,
          179,
          257,
          100,
          138,
          198,
          120,
          165,
          237,
          1,
          0,
          96,
          84,
          182,
          133,
          139,
          152,
          146,
          185,
          86,
          164,
          185,
          127,
          207,
          102,
          158,
          199,
          293,
          117,
          211,
          153,
          336,
          0,
          26,
          7,
          34,
          358,
          339,
          357,
          308,
          310,
          300,
          250,
          370,
          450,
          400,
          430,
          460,
          520,
          410,
          470,
          430,
          480,
          510,
          570,
          460,
          520,
          410,
          470,
          540,
          460,
          400,
          420,
          550,
          500,
          620,
          570,
          670,
          740,
          800,
          640,
          690,
          1090,
          1150,
          990,
          1050,
          350,
          520,
          300,
          460,
          290,
          260,
          530,
          520,
          600,
          610,
          540,
          750,
          240,
          290,
          430,
          720,
          380,
          440,
          430,
          430,
          500,
          510,
          350,
          670,
          510,
          610,
          450,
          750,
          590,
          430,
          480,
          430,
          360,
          630,
          480,
          610,
          450,
          670,
          520,
          540,
          380,
          190,
          280,
          470,
          940,
          1880,
          390,
          140,
          380,
          220,
          140,
          450,
          290,
          340,
          260,
          330,
          250,
          360,
          280,
          230,
          340,
          510,
          110,
          20,
          15,
          150,
          250,
          160,
          150,
          45,
          330,
          340,
          280,
          140,
          200,
          280,
          100,
          0,
          0,
          0,
          0,
          140,
          190,
          270,
          100,
          0,
          0,
          0,
          0,
          140,
          200,
          280,
          100,
          100,
          130,
          80,
          150,
          190,
          280,
          0,
          0,
          0,
          0,
          0,
          150,
          180,
          220,
          110,
          0,
          0,
          0,
          170,
          210,
          280,
          270,
          340,
          430,
          270,
          330,
          430,
          260,
          330,
          420,
          210,
          260,
          330,
          100,
          130,
          170,
          200,
          250,
          310,
          200,
          250,
          310,
          190,
          240,
          300,
          140,
          170,
          220,
          340,
          410,
          500,
          270,
          330,
          390,
          320,
          390,
          480,
          250,
          310,
          370,
          360,
          440,
          540,
          280,
          340,
          400,
          140,
          190,
          270,
          130,
          180,
          260,
          130,
          180,
          250,
          120,
          170,
          240,
          80,
          120,
          160,
          290,
          350,
          480,
          240,
          290,
          390,
          280,
          340,
          460,
          230,
          270,
          370,
          450,
          550,
          670,
          450,
          550,
          670,
          530,
          630,
          760,
          220,
          260,
          340,
          210,
          250,
          330,
          210,
          260,
          340,
          530,
          660,
          820,
          550,
          690,
          850,
          560,
          700,
          850,
          660,
          820,
          650,
          930,
          430,
          510,
          690,
          340,
          810,
          410
         ],
         "y": [
          "IN",
          "IN",
          "IN",
          "IN",
          "IN",
          "IN",
          "IN",
          "IN",
          "IN",
          "IN",
          "IN",
          "IN",
          "IN",
          "IN",
          "IN",
          "IN",
          "IN",
          "IN",
          "IN",
          "IN",
          "IN",
          "IN",
          "IN",
          "IN",
          "IN",
          "IN",
          "IN",
          "IN",
          "IN",
          "IN",
          "IN",
          "IN",
          "IN",
          "IN",
          "IN",
          "IN",
          "IN",
          "IN",
          "IN",
          "IN",
          "IN",
          "IN",
          "IN",
          "IN",
          "IN",
          "IN",
          "IN",
          "IN",
          "IN",
          "IN",
          "IN",
          "IN",
          "IN",
          "IN",
          "IN",
          "IN",
          "IN",
          "IN",
          "IN",
          "IN",
          "IN",
          "IN",
          "IN",
          "IN",
          "IN",
          "IN",
          "IN",
          "IN",
          "IN",
          "IN",
          "IN",
          "IN",
          "IN",
          "IN",
          "IN",
          "IN",
          "IN",
          "IN",
          "IN",
          "IN",
          "IN",
          "IN",
          "US",
          "US",
          "US",
          "US",
          "US",
          "US",
          "US",
          "US",
          "US",
          "US",
          "US",
          "US",
          "US",
          "US",
          "US",
          "US",
          "US",
          "US",
          "US",
          "US",
          "US",
          "US",
          "US",
          "US",
          "US",
          "US",
          "US",
          "US",
          "US",
          "US",
          "US",
          "US",
          "US",
          "US",
          "US",
          "US",
          "US",
          "US",
          "US",
          "US",
          "US",
          "US",
          "US",
          "US",
          "US",
          "US",
          "US",
          "US",
          "US",
          "US",
          "US",
          "US",
          "US",
          "US",
          "US",
          "US",
          "US",
          "US",
          "US",
          "US",
          "US",
          "US",
          "US",
          "US",
          "US",
          "US",
          "US",
          "US",
          "US",
          "US",
          "US",
          "US",
          "US",
          "US",
          "US",
          "US",
          "US",
          "US",
          "US",
          "US",
          "US",
          "US",
          "US",
          "US",
          "US",
          "US",
          "US",
          "US",
          "US",
          "US",
          "US",
          "US",
          "US",
          "US",
          "US",
          "US",
          "US",
          "US",
          "US",
          "US",
          "US",
          "US",
          "US",
          "US",
          "US",
          "US",
          "US",
          "US",
          "US",
          "US",
          "US",
          "US",
          "US",
          "US",
          "US",
          "US",
          "US",
          "US",
          "US",
          "US",
          "US",
          "US",
          "US",
          "US",
          "US",
          "US",
          "US",
          "US",
          "US",
          "US",
          "US",
          "US",
          "US",
          "US",
          "US",
          "US",
          "US",
          "US",
          "US",
          "US",
          "US",
          "US",
          "US",
          "US",
          "US",
          "US",
          "US",
          "US",
          "US",
          "US",
          "US",
          "US",
          "US",
          "US",
          "US",
          "US",
          "US",
          "US",
          "US",
          "US",
          "US",
          "US",
          "US",
          "US",
          "US",
          "US",
          "US",
          "US",
          "US",
          "US",
          "US",
          "US",
          "US",
          "US",
          "US",
          "US",
          "US",
          "US",
          "US",
          "US",
          "US",
          "US",
          "US",
          "US",
          "US",
          "US",
          "US",
          "US",
          "US",
          "US",
          "US",
          "US",
          "US",
          "US",
          "US",
          "US",
          "US",
          "US",
          "US",
          "US",
          "US",
          "US",
          "US",
          "US",
          "US",
          "US",
          "US",
          "US",
          "US",
          "US",
          "US",
          "US",
          "US",
          "US",
          "US",
          "US",
          "US",
          "US",
          "US",
          "US",
          "US",
          "US",
          "US",
          "US",
          "US",
          "US",
          "US",
          "US",
          "US",
          "US",
          "US",
          "US",
          "US",
          "US",
          "US",
          "US",
          "US",
          "US",
          "US",
          "US",
          "US",
          "US",
          "US",
          "US",
          "US",
          "US",
          "US",
          "US",
          "US",
          "US",
          "US",
          "US",
          "US",
          "US",
          "US",
          "US",
          "US",
          "US"
         ]
        }
       ],
       "layout": {
        "annotations": [
         {
          "showarrow": false,
          "text": "Nutrition",
          "x": 1.03,
          "xanchor": "left",
          "xref": "paper",
          "y": 0.97,
          "yanchor": "top",
          "yref": "paper"
         }
        ],
        "height": 500,
        "template": {
         "data": {
          "bar": [
           {
            "error_x": {
             "color": "#2a3f5f"
            },
            "error_y": {
             "color": "#2a3f5f"
            },
            "marker": {
             "line": {
              "color": "#E5ECF6",
              "width": 0.5
             },
             "pattern": {
              "fillmode": "overlay",
              "size": 10,
              "solidity": 0.2
             }
            },
            "type": "bar"
           }
          ],
          "barpolar": [
           {
            "marker": {
             "line": {
              "color": "#E5ECF6",
              "width": 0.5
             },
             "pattern": {
              "fillmode": "overlay",
              "size": 10,
              "solidity": 0.2
             }
            },
            "type": "barpolar"
           }
          ],
          "carpet": [
           {
            "aaxis": {
             "endlinecolor": "#2a3f5f",
             "gridcolor": "white",
             "linecolor": "white",
             "minorgridcolor": "white",
             "startlinecolor": "#2a3f5f"
            },
            "baxis": {
             "endlinecolor": "#2a3f5f",
             "gridcolor": "white",
             "linecolor": "white",
             "minorgridcolor": "white",
             "startlinecolor": "#2a3f5f"
            },
            "type": "carpet"
           }
          ],
          "choropleth": [
           {
            "colorbar": {
             "outlinewidth": 0,
             "ticks": ""
            },
            "type": "choropleth"
           }
          ],
          "contour": [
           {
            "colorbar": {
             "outlinewidth": 0,
             "ticks": ""
            },
            "colorscale": [
             [
              0,
              "#0d0887"
             ],
             [
              0.1111111111111111,
              "#46039f"
             ],
             [
              0.2222222222222222,
              "#7201a8"
             ],
             [
              0.3333333333333333,
              "#9c179e"
             ],
             [
              0.4444444444444444,
              "#bd3786"
             ],
             [
              0.5555555555555556,
              "#d8576b"
             ],
             [
              0.6666666666666666,
              "#ed7953"
             ],
             [
              0.7777777777777778,
              "#fb9f3a"
             ],
             [
              0.8888888888888888,
              "#fdca26"
             ],
             [
              1,
              "#f0f921"
             ]
            ],
            "type": "contour"
           }
          ],
          "contourcarpet": [
           {
            "colorbar": {
             "outlinewidth": 0,
             "ticks": ""
            },
            "type": "contourcarpet"
           }
          ],
          "heatmap": [
           {
            "colorbar": {
             "outlinewidth": 0,
             "ticks": ""
            },
            "colorscale": [
             [
              0,
              "#0d0887"
             ],
             [
              0.1111111111111111,
              "#46039f"
             ],
             [
              0.2222222222222222,
              "#7201a8"
             ],
             [
              0.3333333333333333,
              "#9c179e"
             ],
             [
              0.4444444444444444,
              "#bd3786"
             ],
             [
              0.5555555555555556,
              "#d8576b"
             ],
             [
              0.6666666666666666,
              "#ed7953"
             ],
             [
              0.7777777777777778,
              "#fb9f3a"
             ],
             [
              0.8888888888888888,
              "#fdca26"
             ],
             [
              1,
              "#f0f921"
             ]
            ],
            "type": "heatmap"
           }
          ],
          "heatmapgl": [
           {
            "colorbar": {
             "outlinewidth": 0,
             "ticks": ""
            },
            "colorscale": [
             [
              0,
              "#0d0887"
             ],
             [
              0.1111111111111111,
              "#46039f"
             ],
             [
              0.2222222222222222,
              "#7201a8"
             ],
             [
              0.3333333333333333,
              "#9c179e"
             ],
             [
              0.4444444444444444,
              "#bd3786"
             ],
             [
              0.5555555555555556,
              "#d8576b"
             ],
             [
              0.6666666666666666,
              "#ed7953"
             ],
             [
              0.7777777777777778,
              "#fb9f3a"
             ],
             [
              0.8888888888888888,
              "#fdca26"
             ],
             [
              1,
              "#f0f921"
             ]
            ],
            "type": "heatmapgl"
           }
          ],
          "histogram": [
           {
            "marker": {
             "pattern": {
              "fillmode": "overlay",
              "size": 10,
              "solidity": 0.2
             }
            },
            "type": "histogram"
           }
          ],
          "histogram2d": [
           {
            "colorbar": {
             "outlinewidth": 0,
             "ticks": ""
            },
            "colorscale": [
             [
              0,
              "#0d0887"
             ],
             [
              0.1111111111111111,
              "#46039f"
             ],
             [
              0.2222222222222222,
              "#7201a8"
             ],
             [
              0.3333333333333333,
              "#9c179e"
             ],
             [
              0.4444444444444444,
              "#bd3786"
             ],
             [
              0.5555555555555556,
              "#d8576b"
             ],
             [
              0.6666666666666666,
              "#ed7953"
             ],
             [
              0.7777777777777778,
              "#fb9f3a"
             ],
             [
              0.8888888888888888,
              "#fdca26"
             ],
             [
              1,
              "#f0f921"
             ]
            ],
            "type": "histogram2d"
           }
          ],
          "histogram2dcontour": [
           {
            "colorbar": {
             "outlinewidth": 0,
             "ticks": ""
            },
            "colorscale": [
             [
              0,
              "#0d0887"
             ],
             [
              0.1111111111111111,
              "#46039f"
             ],
             [
              0.2222222222222222,
              "#7201a8"
             ],
             [
              0.3333333333333333,
              "#9c179e"
             ],
             [
              0.4444444444444444,
              "#bd3786"
             ],
             [
              0.5555555555555556,
              "#d8576b"
             ],
             [
              0.6666666666666666,
              "#ed7953"
             ],
             [
              0.7777777777777778,
              "#fb9f3a"
             ],
             [
              0.8888888888888888,
              "#fdca26"
             ],
             [
              1,
              "#f0f921"
             ]
            ],
            "type": "histogram2dcontour"
           }
          ],
          "mesh3d": [
           {
            "colorbar": {
             "outlinewidth": 0,
             "ticks": ""
            },
            "type": "mesh3d"
           }
          ],
          "parcoords": [
           {
            "line": {
             "colorbar": {
              "outlinewidth": 0,
              "ticks": ""
             }
            },
            "type": "parcoords"
           }
          ],
          "pie": [
           {
            "automargin": true,
            "type": "pie"
           }
          ],
          "scatter": [
           {
            "fillpattern": {
             "fillmode": "overlay",
             "size": 10,
             "solidity": 0.2
            },
            "type": "scatter"
           }
          ],
          "scatter3d": [
           {
            "line": {
             "colorbar": {
              "outlinewidth": 0,
              "ticks": ""
             }
            },
            "marker": {
             "colorbar": {
              "outlinewidth": 0,
              "ticks": ""
             }
            },
            "type": "scatter3d"
           }
          ],
          "scattercarpet": [
           {
            "marker": {
             "colorbar": {
              "outlinewidth": 0,
              "ticks": ""
             }
            },
            "type": "scattercarpet"
           }
          ],
          "scattergeo": [
           {
            "marker": {
             "colorbar": {
              "outlinewidth": 0,
              "ticks": ""
             }
            },
            "type": "scattergeo"
           }
          ],
          "scattergl": [
           {
            "marker": {
             "colorbar": {
              "outlinewidth": 0,
              "ticks": ""
             }
            },
            "type": "scattergl"
           }
          ],
          "scattermapbox": [
           {
            "marker": {
             "colorbar": {
              "outlinewidth": 0,
              "ticks": ""
             }
            },
            "type": "scattermapbox"
           }
          ],
          "scatterpolar": [
           {
            "marker": {
             "colorbar": {
              "outlinewidth": 0,
              "ticks": ""
             }
            },
            "type": "scatterpolar"
           }
          ],
          "scatterpolargl": [
           {
            "marker": {
             "colorbar": {
              "outlinewidth": 0,
              "ticks": ""
             }
            },
            "type": "scatterpolargl"
           }
          ],
          "scatterternary": [
           {
            "marker": {
             "colorbar": {
              "outlinewidth": 0,
              "ticks": ""
             }
            },
            "type": "scatterternary"
           }
          ],
          "surface": [
           {
            "colorbar": {
             "outlinewidth": 0,
             "ticks": ""
            },
            "colorscale": [
             [
              0,
              "#0d0887"
             ],
             [
              0.1111111111111111,
              "#46039f"
             ],
             [
              0.2222222222222222,
              "#7201a8"
             ],
             [
              0.3333333333333333,
              "#9c179e"
             ],
             [
              0.4444444444444444,
              "#bd3786"
             ],
             [
              0.5555555555555556,
              "#d8576b"
             ],
             [
              0.6666666666666666,
              "#ed7953"
             ],
             [
              0.7777777777777778,
              "#fb9f3a"
             ],
             [
              0.8888888888888888,
              "#fdca26"
             ],
             [
              1,
              "#f0f921"
             ]
            ],
            "type": "surface"
           }
          ],
          "table": [
           {
            "cells": {
             "fill": {
              "color": "#EBF0F8"
             },
             "line": {
              "color": "white"
             }
            },
            "header": {
             "fill": {
              "color": "#C8D4E3"
             },
             "line": {
              "color": "white"
             }
            },
            "type": "table"
           }
          ]
         },
         "layout": {
          "annotationdefaults": {
           "arrowcolor": "#2a3f5f",
           "arrowhead": 0,
           "arrowwidth": 1
          },
          "autotypenumbers": "strict",
          "coloraxis": {
           "colorbar": {
            "outlinewidth": 0,
            "ticks": ""
           }
          },
          "colorscale": {
           "diverging": [
            [
             0,
             "#8e0152"
            ],
            [
             0.1,
             "#c51b7d"
            ],
            [
             0.2,
             "#de77ae"
            ],
            [
             0.3,
             "#f1b6da"
            ],
            [
             0.4,
             "#fde0ef"
            ],
            [
             0.5,
             "#f7f7f7"
            ],
            [
             0.6,
             "#e6f5d0"
            ],
            [
             0.7,
             "#b8e186"
            ],
            [
             0.8,
             "#7fbc41"
            ],
            [
             0.9,
             "#4d9221"
            ],
            [
             1,
             "#276419"
            ]
           ],
           "sequential": [
            [
             0,
             "#0d0887"
            ],
            [
             0.1111111111111111,
             "#46039f"
            ],
            [
             0.2222222222222222,
             "#7201a8"
            ],
            [
             0.3333333333333333,
             "#9c179e"
            ],
            [
             0.4444444444444444,
             "#bd3786"
            ],
            [
             0.5555555555555556,
             "#d8576b"
            ],
            [
             0.6666666666666666,
             "#ed7953"
            ],
            [
             0.7777777777777778,
             "#fb9f3a"
            ],
            [
             0.8888888888888888,
             "#fdca26"
            ],
            [
             1,
             "#f0f921"
            ]
           ],
           "sequentialminus": [
            [
             0,
             "#0d0887"
            ],
            [
             0.1111111111111111,
             "#46039f"
            ],
            [
             0.2222222222222222,
             "#7201a8"
            ],
            [
             0.3333333333333333,
             "#9c179e"
            ],
            [
             0.4444444444444444,
             "#bd3786"
            ],
            [
             0.5555555555555556,
             "#d8576b"
            ],
            [
             0.6666666666666666,
             "#ed7953"
            ],
            [
             0.7777777777777778,
             "#fb9f3a"
            ],
            [
             0.8888888888888888,
             "#fdca26"
            ],
            [
             1,
             "#f0f921"
            ]
           ]
          },
          "colorway": [
           "#636efa",
           "#EF553B",
           "#00cc96",
           "#ab63fa",
           "#FFA15A",
           "#19d3f3",
           "#FF6692",
           "#B6E880",
           "#FF97FF",
           "#FECB52"
          ],
          "font": {
           "color": "#2a3f5f"
          },
          "geo": {
           "bgcolor": "white",
           "lakecolor": "white",
           "landcolor": "#E5ECF6",
           "showlakes": true,
           "showland": true,
           "subunitcolor": "white"
          },
          "hoverlabel": {
           "align": "left"
          },
          "hovermode": "closest",
          "mapbox": {
           "style": "light"
          },
          "paper_bgcolor": "white",
          "plot_bgcolor": "#E5ECF6",
          "polar": {
           "angularaxis": {
            "gridcolor": "white",
            "linecolor": "white",
            "ticks": ""
           },
           "bgcolor": "#E5ECF6",
           "radialaxis": {
            "gridcolor": "white",
            "linecolor": "white",
            "ticks": ""
           }
          },
          "scene": {
           "xaxis": {
            "backgroundcolor": "#E5ECF6",
            "gridcolor": "white",
            "gridwidth": 2,
            "linecolor": "white",
            "showbackground": true,
            "ticks": "",
            "zerolinecolor": "white"
           },
           "yaxis": {
            "backgroundcolor": "#E5ECF6",
            "gridcolor": "white",
            "gridwidth": 2,
            "linecolor": "white",
            "showbackground": true,
            "ticks": "",
            "zerolinecolor": "white"
           },
           "zaxis": {
            "backgroundcolor": "#E5ECF6",
            "gridcolor": "white",
            "gridwidth": 2,
            "linecolor": "white",
            "showbackground": true,
            "ticks": "",
            "zerolinecolor": "white"
           }
          },
          "shapedefaults": {
           "line": {
            "color": "#2a3f5f"
           }
          },
          "ternary": {
           "aaxis": {
            "gridcolor": "white",
            "linecolor": "white",
            "ticks": ""
           },
           "baxis": {
            "gridcolor": "white",
            "linecolor": "white",
            "ticks": ""
           },
           "bgcolor": "#E5ECF6",
           "caxis": {
            "gridcolor": "white",
            "linecolor": "white",
            "ticks": ""
           }
          },
          "title": {
           "x": 0.05
          },
          "xaxis": {
           "automargin": true,
           "gridcolor": "white",
           "linecolor": "white",
           "ticks": "",
           "title": {
            "standoff": 15
           },
           "zerolinecolor": "white",
           "zerolinewidth": 2
          },
          "yaxis": {
           "automargin": true,
           "gridcolor": "white",
           "linecolor": "white",
           "ticks": "",
           "title": {
            "standoff": 15
           },
           "zerolinecolor": "white",
           "zerolinewidth": 2
          }
         }
        },
        "title": {
         "text": "Nutritional Factors vs Country",
         "x": 0.5
        },
        "updatemenus": [
         {
          "active": 0,
          "buttons": [
           {
            "args": [
             {
              "visible": [
               true,
               false
              ],
              "x": [
               [
                290,
                273,
                355,
                299,
                299,
                372,
                166,
                281,
                545,
                431,
                388,
                282,
                426,
                353,
                705,
                808,
                481,
                638,
                343,
                487,
                685,
                226,
                177,
                266,
                399,
                256,
                512,
                8,
                50,
                78,
                51,
                9,
                162,
                224,
                326,
                175,
                241,
                349,
                110,
                151,
                217,
                129,
                179,
                257,
                100,
                138,
                198,
                120,
                165,
                237,
                1,
                0,
                96,
                84,
                182,
                133,
                139,
                152,
                146,
                185,
                86,
                164,
                185,
                127,
                207,
                102,
                158,
                199,
                293,
                117,
                211,
                153,
                336,
                0,
                26,
                7,
                34,
                358,
                339,
                357,
                308,
                310,
                300,
                250,
                370,
                450,
                400,
                430,
                460,
                520,
                410,
                470,
                430,
                480,
                510,
                570,
                460,
                520,
                410,
                470,
                540,
                460,
                400,
                420,
                550,
                500,
                620,
                570,
                670,
                740,
                800,
                640,
                690,
                1090,
                1150,
                990,
                1050,
                350,
                520,
                300,
                460,
                290,
                260,
                530,
                520,
                600,
                610,
                540,
                750,
                240,
                290,
                430,
                720,
                380,
                440,
                430,
                430,
                500,
                510,
                350,
                670,
                510,
                610,
                450,
                750,
                590,
                430,
                480,
                430,
                360,
                630,
                480,
                610,
                450,
                670,
                520,
                540,
                380,
                190,
                280,
                470,
                940,
                1880,
                390,
                140,
                380,
                220,
                140,
                450,
                290,
                340,
                260,
                330,
                250,
                360,
                280,
                230,
                340,
                510,
                110,
                20,
                15,
                150,
                250,
                160,
                150,
                45,
                330,
                340,
                280,
                140,
                200,
                280,
                100,
                0,
                0,
                0,
                0,
                140,
                190,
                270,
                100,
                0,
                0,
                0,
                0,
                140,
                200,
                280,
                100,
                100,
                130,
                80,
                150,
                190,
                280,
                0,
                0,
                0,
                0,
                0,
                150,
                180,
                220,
                110,
                0,
                0,
                0,
                170,
                210,
                280,
                270,
                340,
                430,
                270,
                330,
                430,
                260,
                330,
                420,
                210,
                260,
                330,
                100,
                130,
                170,
                200,
                250,
                310,
                200,
                250,
                310,
                190,
                240,
                300,
                140,
                170,
                220,
                340,
                410,
                500,
                270,
                330,
                390,
                320,
                390,
                480,
                250,
                310,
                370,
                360,
                440,
                540,
                280,
                340,
                400,
                140,
                190,
                270,
                130,
                180,
                260,
                130,
                180,
                250,
                120,
                170,
                240,
                80,
                120,
                160,
                290,
                350,
                480,
                240,
                290,
                390,
                280,
                340,
                460,
                230,
                270,
                370,
                450,
                550,
                670,
                450,
                550,
                670,
                530,
                630,
                760,
                220,
                260,
                340,
                210,
                250,
                330,
                210,
                260,
                340,
                530,
                660,
                820,
                550,
                690,
                850,
                560,
                700,
                850,
                660,
                820,
                650,
                930,
                430,
                510,
                690,
                340,
                810,
                410
               ]
              ],
              "y": [
               [
                "IN",
                "IN",
                "IN",
                "IN",
                "IN",
                "IN",
                "IN",
                "IN",
                "IN",
                "IN",
                "IN",
                "IN",
                "IN",
                "IN",
                "IN",
                "IN",
                "IN",
                "IN",
                "IN",
                "IN",
                "IN",
                "IN",
                "IN",
                "IN",
                "IN",
                "IN",
                "IN",
                "IN",
                "IN",
                "IN",
                "IN",
                "IN",
                "IN",
                "IN",
                "IN",
                "IN",
                "IN",
                "IN",
                "IN",
                "IN",
                "IN",
                "IN",
                "IN",
                "IN",
                "IN",
                "IN",
                "IN",
                "IN",
                "IN",
                "IN",
                "IN",
                "IN",
                "IN",
                "IN",
                "IN",
                "IN",
                "IN",
                "IN",
                "IN",
                "IN",
                "IN",
                "IN",
                "IN",
                "IN",
                "IN",
                "IN",
                "IN",
                "IN",
                "IN",
                "IN",
                "IN",
                "IN",
                "IN",
                "IN",
                "IN",
                "IN",
                "IN",
                "IN",
                "IN",
                "IN",
                "IN",
                "IN",
                "US",
                "US",
                "US",
                "US",
                "US",
                "US",
                "US",
                "US",
                "US",
                "US",
                "US",
                "US",
                "US",
                "US",
                "US",
                "US",
                "US",
                "US",
                "US",
                "US",
                "US",
                "US",
                "US",
                "US",
                "US",
                "US",
                "US",
                "US",
                "US",
                "US",
                "US",
                "US",
                "US",
                "US",
                "US",
                "US",
                "US",
                "US",
                "US",
                "US",
                "US",
                "US",
                "US",
                "US",
                "US",
                "US",
                "US",
                "US",
                "US",
                "US",
                "US",
                "US",
                "US",
                "US",
                "US",
                "US",
                "US",
                "US",
                "US",
                "US",
                "US",
                "US",
                "US",
                "US",
                "US",
                "US",
                "US",
                "US",
                "US",
                "US",
                "US",
                "US",
                "US",
                "US",
                "US",
                "US",
                "US",
                "US",
                "US",
                "US",
                "US",
                "US",
                "US",
                "US",
                "US",
                "US",
                "US",
                "US",
                "US",
                "US",
                "US",
                "US",
                "US",
                "US",
                "US",
                "US",
                "US",
                "US",
                "US",
                "US",
                "US",
                "US",
                "US",
                "US",
                "US",
                "US",
                "US",
                "US",
                "US",
                "US",
                "US",
                "US",
                "US",
                "US",
                "US",
                "US",
                "US",
                "US",
                "US",
                "US",
                "US",
                "US",
                "US",
                "US",
                "US",
                "US",
                "US",
                "US",
                "US",
                "US",
                "US",
                "US",
                "US",
                "US",
                "US",
                "US",
                "US",
                "US",
                "US",
                "US",
                "US",
                "US",
                "US",
                "US",
                "US",
                "US",
                "US",
                "US",
                "US",
                "US",
                "US",
                "US",
                "US",
                "US",
                "US",
                "US",
                "US",
                "US",
                "US",
                "US",
                "US",
                "US",
                "US",
                "US",
                "US",
                "US",
                "US",
                "US",
                "US",
                "US",
                "US",
                "US",
                "US",
                "US",
                "US",
                "US",
                "US",
                "US",
                "US",
                "US",
                "US",
                "US",
                "US",
                "US",
                "US",
                "US",
                "US",
                "US",
                "US",
                "US",
                "US",
                "US",
                "US",
                "US",
                "US",
                "US",
                "US",
                "US",
                "US",
                "US",
                "US",
                "US",
                "US",
                "US",
                "US",
                "US",
                "US",
                "US",
                "US",
                "US",
                "US",
                "US",
                "US",
                "US",
                "US",
                "US",
                "US",
                "US",
                "US",
                "US",
                "US",
                "US",
                "US",
                "US",
                "US",
                "US",
                "US",
                "US",
                "US",
                "US",
                "US",
                "US",
                "US",
                "US",
                "US",
                "US",
                "US",
                "US",
                "US",
                "US",
                "US",
                "US",
                "US",
                "US",
                "US",
                "US",
                "US",
                "US",
                "US",
                "US",
                "US",
                "US",
                "US",
                "US",
                "US",
                "US",
                "US",
                "US"
               ]
              ]
             }
            ],
            "label": "Energy",
            "method": "update"
           },
           {
            "args": [
             {
              "visible": [
               true,
               false
              ],
              "x": [
               [
                14,
                16,
                22,
                10,
                7,
                6,
                2,
                12,
                26,
                15,
                15,
                12,
                9,
                8,
                21,
                24,
                22,
                25,
                5,
                7,
                10,
                4,
                11,
                17,
                25,
                11,
                22,
                0,
                0,
                0,
                3,
                0,
                4,
                5,
                7,
                4,
                6,
                8,
                0,
                0,
                0,
                0,
                0,
                0,
                0,
                0,
                0,
                0,
                0,
                0,
                0,
                0,
                0,
                0,
                5,
                0,
                2,
                2,
                2,
                5,
                2,
                3,
                3,
                2,
                4,
                2,
                3,
                4,
                5,
                2,
                4,
                3,
                5,
                0,
                1,
                0,
                1,
                9,
                14,
                5,
                10,
                10,
                17,
                18,
                14,
                21,
                21,
                26,
                19,
                19,
                20,
                20,
                11,
                11,
                18,
                18,
                18,
                18,
                17,
                17,
                25,
                19,
                20,
                11,
                20,
                21,
                30,
                30,
                33,
                28,
                28,
                26,
                26,
                36,
                36,
                35,
                35,
                8,
                15,
                12,
                6,
                5,
                5,
                24,
                30,
                37,
                37,
                29,
                48,
                12,
                15,
                24,
                39,
                22,
                27,
                22,
                22,
                22,
                24,
                28,
                36,
                40,
                32,
                36,
                36,
                40,
                21,
                22,
                20,
                14,
                32,
                36,
                27,
                30,
                27,
                31,
                23,
                27,
                9,
                13,
                22,
                44,
                87,
                15,
                9,
                25,
                29,
                6,
                23,
                27,
                14,
                16,
                14,
                16,
                15,
                16,
                2,
                4,
                6,
                1,
                1,
                0,
                4,
                2,
                2,
                2,
                1,
                8,
                7,
                6,
                0,
                0,
                0,
                0,
                0,
                0,
                0,
                0,
                0,
                0,
                0,
                0,
                2,
                3,
                4,
                1,
                0,
                0,
                0,
                0,
                8,
                9,
                0,
                2,
                3,
                4,
                0,
                0,
                0,
                0,
                0,
                1,
                1,
                1,
                0,
                0,
                0,
                0,
                9,
                11,
                15,
                9,
                11,
                15,
                9,
                11,
                15,
                9,
                11,
                15,
                9,
                12,
                15,
                10,
                12,
                16,
                10,
                12,
                16,
                10,
                12,
                16,
                10,
                12,
                16,
                10,
                12,
                16,
                10,
                13,
                16,
                11,
                13,
                17,
                10,
                12,
                16,
                10,
                13,
                17,
                11,
                14,
                17,
                12,
                14,
                19,
                1,
                1,
                2,
                1,
                1,
                2,
                1,
                1,
                2,
                1,
                1,
                2,
                1,
                1,
                2,
                8,
                9,
                14,
                8,
                10,
                14,
                8,
                9,
                13,
                8,
                10,
                14,
                7,
                9,
                11,
                7,
                9,
                11,
                8,
                9,
                12,
                2,
                3,
                4,
                3,
                4,
                5,
                2,
                3,
                4,
                11,
                14,
                18,
                12,
                15,
                18,
                12,
                15,
                19,
                14,
                18,
                13,
                20,
                9,
                12,
                15,
                8,
                21,
                10
               ]
              ],
              "y": [
               [
                "IN",
                "IN",
                "IN",
                "IN",
                "IN",
                "IN",
                "IN",
                "IN",
                "IN",
                "IN",
                "IN",
                "IN",
                "IN",
                "IN",
                "IN",
                "IN",
                "IN",
                "IN",
                "IN",
                "IN",
                "IN",
                "IN",
                "IN",
                "IN",
                "IN",
                "IN",
                "IN",
                "IN",
                "IN",
                "IN",
                "IN",
                "IN",
                "IN",
                "IN",
                "IN",
                "IN",
                "IN",
                "IN",
                "IN",
                "IN",
                "IN",
                "IN",
                "IN",
                "IN",
                "IN",
                "IN",
                "IN",
                "IN",
                "IN",
                "IN",
                "IN",
                "IN",
                "IN",
                "IN",
                "IN",
                "IN",
                "IN",
                "IN",
                "IN",
                "IN",
                "IN",
                "IN",
                "IN",
                "IN",
                "IN",
                "IN",
                "IN",
                "IN",
                "IN",
                "IN",
                "IN",
                "IN",
                "IN",
                "IN",
                "IN",
                "IN",
                "IN",
                "IN",
                "IN",
                "IN",
                "IN",
                "IN",
                "US",
                "US",
                "US",
                "US",
                "US",
                "US",
                "US",
                "US",
                "US",
                "US",
                "US",
                "US",
                "US",
                "US",
                "US",
                "US",
                "US",
                "US",
                "US",
                "US",
                "US",
                "US",
                "US",
                "US",
                "US",
                "US",
                "US",
                "US",
                "US",
                "US",
                "US",
                "US",
                "US",
                "US",
                "US",
                "US",
                "US",
                "US",
                "US",
                "US",
                "US",
                "US",
                "US",
                "US",
                "US",
                "US",
                "US",
                "US",
                "US",
                "US",
                "US",
                "US",
                "US",
                "US",
                "US",
                "US",
                "US",
                "US",
                "US",
                "US",
                "US",
                "US",
                "US",
                "US",
                "US",
                "US",
                "US",
                "US",
                "US",
                "US",
                "US",
                "US",
                "US",
                "US",
                "US",
                "US",
                "US",
                "US",
                "US",
                "US",
                "US",
                "US",
                "US",
                "US",
                "US",
                "US",
                "US",
                "US",
                "US",
                "US",
                "US",
                "US",
                "US",
                "US",
                "US",
                "US",
                "US",
                "US",
                "US",
                "US",
                "US",
                "US",
                "US",
                "US",
                "US",
                "US",
                "US",
                "US",
                "US",
                "US",
                "US",
                "US",
                "US",
                "US",
                "US",
                "US",
                "US",
                "US",
                "US",
                "US",
                "US",
                "US",
                "US",
                "US",
                "US",
                "US",
                "US",
                "US",
                "US",
                "US",
                "US",
                "US",
                "US",
                "US",
                "US",
                "US",
                "US",
                "US",
                "US",
                "US",
                "US",
                "US",
                "US",
                "US",
                "US",
                "US",
                "US",
                "US",
                "US",
                "US",
                "US",
                "US",
                "US",
                "US",
                "US",
                "US",
                "US",
                "US",
                "US",
                "US",
                "US",
                "US",
                "US",
                "US",
                "US",
                "US",
                "US",
                "US",
                "US",
                "US",
                "US",
                "US",
                "US",
                "US",
                "US",
                "US",
                "US",
                "US",
                "US",
                "US",
                "US",
                "US",
                "US",
                "US",
                "US",
                "US",
                "US",
                "US",
                "US",
                "US",
                "US",
                "US",
                "US",
                "US",
                "US",
                "US",
                "US",
                "US",
                "US",
                "US",
                "US",
                "US",
                "US",
                "US",
                "US",
                "US",
                "US",
                "US",
                "US",
                "US",
                "US",
                "US",
                "US",
                "US",
                "US",
                "US",
                "US",
                "US",
                "US",
                "US",
                "US",
                "US",
                "US",
                "US",
                "US",
                "US",
                "US",
                "US",
                "US",
                "US",
                "US",
                "US",
                "US",
                "US",
                "US",
                "US",
                "US",
                "US",
                "US",
                "US",
                "US",
                "US",
                "US",
                "US",
                "US",
                "US",
                "US",
                "US",
                "US",
                "US",
                "US",
                "US",
                "US",
                "US",
                "US",
                "US",
                "US",
                "US"
               ]
              ]
             }
            ],
            "label": "Protein",
            "method": "update"
           },
           {
            "args": [
             {
              "visible": [
               true,
               false
              ],
              "x": [
               [
                2,
                2,
                2,
                3,
                4,
                2,
                2,
                2,
                7,
                5,
                5,
                5,
                8,
                8,
                8,
                6,
                5,
                2,
                0,
                0,
                1,
                2,
                0,
                0,
                0,
                0,
                0,
                2,
                7,
                6,
                0,
                2,
                22,
                31,
                45,
                24,
                33,
                48,
                27,
                38,
                54,
                32,
                45,
                64,
                25,
                34,
                49,
                30,
                41,
                59,
                0,
                0,
                23,
                18,
                21,
                33,
                28,
                31,
                30,
                24,
                11,
                15,
                17,
                18,
                28,
                18,
                29,
                25,
                36,
                14,
                25,
                17,
                33,
                0,
                1,
                0,
                1,
                6,
                5,
                3,
                2,
                2,
                3,
                3,
                2,
                2,
                2,
                3,
                3,
                4,
                3,
                4,
                2,
                3,
                2,
                3,
                3,
                3,
                3,
                4,
                3,
                15,
                16,
                15,
                15,
                15,
                7,
                8,
                7,
                3,
                3,
                3,
                4,
                17,
                17,
                17,
                18,
                14,
                14,
                2,
                32,
                32,
                18,
                9,
                10,
                12,
                10,
                9,
                10,
                6,
                7,
                7,
                14,
                7,
                7,
                7,
                6,
                11,
                10,
                8,
                11,
                9,
                11,
                9,
                16,
                14,
                7,
                6,
                6,
                5,
                7,
                6,
                8,
                6,
                12,
                10,
                14,
                12,
                0,
                0,
                0,
                0,
                1,
                5,
                4,
                5,
                4,
                6,
                12,
                10,
                8,
                7,
                3,
                2,
                3,
                2,
                0,
                0,
                0,
                0,
                2,
                3,
                23,
                13,
                15,
                13,
                6,
                48,
                43,
                45,
                39,
                55,
                76,
                28,
                0,
                0,
                0,
                0,
                35,
                51,
                70,
                26,
                0,
                0,
                0,
                0,
                37,
                54,
                74,
                27,
                12,
                22,
                19,
                30,
                39,
                58,
                0,
                0,
                0,
                0,
                0,
                36,
                45,
                54,
                27,
                0,
                0,
                0,
                12,
                15,
                20,
                38,
                48,
                59,
                38,
                47,
                58,
                36,
                45,
                56,
                12,
                15,
                20,
                13,
                16,
                21,
                39,
                48,
                59,
                38,
                48,
                59,
                37,
                46,
                56,
                13,
                16,
                21,
                42,
                53,
                63,
                43,
                53,
                64,
                40,
                50,
                60,
                41,
                51,
                61,
                45,
                56,
                68,
                46,
                57,
                69,
                22,
                30,
                45,
                21,
                28,
                42,
                20,
                28,
                41,
                19,
                26,
                39,
                1,
                2,
                2,
                34,
                43,
                62,
                35,
                43,
                62,
                33,
                41,
                59,
                33,
                41,
                59,
                57,
                71,
                88,
                57,
                71,
                88,
                67,
                81,
                99,
                44,
                54,
                70,
                44,
                54,
                70,
                46,
                56,
                72,
                63,
                81,
                101,
                79,
                100,
                123,
                77,
                97,
                120,
                93,
                115,
                89,
                128,
                59,
                64,
                85,
                43,
                103,
                51
               ]
              ],
              "y": [
               [
                "IN",
                "IN",
                "IN",
                "IN",
                "IN",
                "IN",
                "IN",
                "IN",
                "IN",
                "IN",
                "IN",
                "IN",
                "IN",
                "IN",
                "IN",
                "IN",
                "IN",
                "IN",
                "IN",
                "IN",
                "IN",
                "IN",
                "IN",
                "IN",
                "IN",
                "IN",
                "IN",
                "IN",
                "IN",
                "IN",
                "IN",
                "IN",
                "IN",
                "IN",
                "IN",
                "IN",
                "IN",
                "IN",
                "IN",
                "IN",
                "IN",
                "IN",
                "IN",
                "IN",
                "IN",
                "IN",
                "IN",
                "IN",
                "IN",
                "IN",
                "IN",
                "IN",
                "IN",
                "IN",
                "IN",
                "IN",
                "IN",
                "IN",
                "IN",
                "IN",
                "IN",
                "IN",
                "IN",
                "IN",
                "IN",
                "IN",
                "IN",
                "IN",
                "IN",
                "IN",
                "IN",
                "IN",
                "IN",
                "IN",
                "IN",
                "IN",
                "IN",
                "IN",
                "IN",
                "IN",
                "IN",
                "IN",
                "US",
                "US",
                "US",
                "US",
                "US",
                "US",
                "US",
                "US",
                "US",
                "US",
                "US",
                "US",
                "US",
                "US",
                "US",
                "US",
                "US",
                "US",
                "US",
                "US",
                "US",
                "US",
                "US",
                "US",
                "US",
                "US",
                "US",
                "US",
                "US",
                "US",
                "US",
                "US",
                "US",
                "US",
                "US",
                "US",
                "US",
                "US",
                "US",
                "US",
                "US",
                "US",
                "US",
                "US",
                "US",
                "US",
                "US",
                "US",
                "US",
                "US",
                "US",
                "US",
                "US",
                "US",
                "US",
                "US",
                "US",
                "US",
                "US",
                "US",
                "US",
                "US",
                "US",
                "US",
                "US",
                "US",
                "US",
                "US",
                "US",
                "US",
                "US",
                "US",
                "US",
                "US",
                "US",
                "US",
                "US",
                "US",
                "US",
                "US",
                "US",
                "US",
                "US",
                "US",
                "US",
                "US",
                "US",
                "US",
                "US",
                "US",
                "US",
                "US",
                "US",
                "US",
                "US",
                "US",
                "US",
                "US",
                "US",
                "US",
                "US",
                "US",
                "US",
                "US",
                "US",
                "US",
                "US",
                "US",
                "US",
                "US",
                "US",
                "US",
                "US",
                "US",
                "US",
                "US",
                "US",
                "US",
                "US",
                "US",
                "US",
                "US",
                "US",
                "US",
                "US",
                "US",
                "US",
                "US",
                "US",
                "US",
                "US",
                "US",
                "US",
                "US",
                "US",
                "US",
                "US",
                "US",
                "US",
                "US",
                "US",
                "US",
                "US",
                "US",
                "US",
                "US",
                "US",
                "US",
                "US",
                "US",
                "US",
                "US",
                "US",
                "US",
                "US",
                "US",
                "US",
                "US",
                "US",
                "US",
                "US",
                "US",
                "US",
                "US",
                "US",
                "US",
                "US",
                "US",
                "US",
                "US",
                "US",
                "US",
                "US",
                "US",
                "US",
                "US",
                "US",
                "US",
                "US",
                "US",
                "US",
                "US",
                "US",
                "US",
                "US",
                "US",
                "US",
                "US",
                "US",
                "US",
                "US",
                "US",
                "US",
                "US",
                "US",
                "US",
                "US",
                "US",
                "US",
                "US",
                "US",
                "US",
                "US",
                "US",
                "US",
                "US",
                "US",
                "US",
                "US",
                "US",
                "US",
                "US",
                "US",
                "US",
                "US",
                "US",
                "US",
                "US",
                "US",
                "US",
                "US",
                "US",
                "US",
                "US",
                "US",
                "US",
                "US",
                "US",
                "US",
                "US",
                "US",
                "US",
                "US",
                "US",
                "US",
                "US",
                "US",
                "US",
                "US",
                "US",
                "US",
                "US",
                "US",
                "US",
                "US",
                "US",
                "US",
                "US",
                "US",
                "US",
                "US",
                "US",
                "US",
                "US",
                "US",
                "US",
                "US",
                "US"
               ]
              ]
             }
            ],
            "label": "Sugars",
            "method": "update"
           },
           {
            "args": [
             {
              "visible": [
               true,
               false
              ],
              "x": [
               [
                13,
                11,
                17,
                12,
                13,
                10,
                10,
                12,
                26,
                20,
                19,
                11,
                18,
                14,
                46,
                51,
                22,
                34,
                17,
                25,
                35,
                13,
                10,
                14,
                22,
                17,
                34,
                0,
                0,
                5,
                4,
                0,
                4,
                6,
                8,
                4,
                6,
                8,
                0,
                0,
                0,
                0,
                0,
                0,
                0,
                0,
                0,
                0,
                0,
                0,
                0,
                0,
                0,
                0,
                3,
                0,
                2,
                2,
                2,
                4,
                2,
                8,
                9,
                4,
                6,
                2,
                2,
                6,
                9,
                4,
                7,
                5,
                16,
                0,
                2,
                0,
                2,
                16,
                16,
                20,
                19,
                20,
                13,
                8,
                23,
                28,
                23,
                23,
                26,
                30,
                20,
                25,
                27,
                31,
                33,
                37,
                27,
                32,
                20,
                24,
                32,
                21,
                15,
                22,
                31,
                26,
                31,
                25,
                35,
                48,
                52,
                37,
                41,
                56,
                60,
                46,
                50,
                9,
                24,
                16,
                19,
                4,
                4,
                27,
                26,
                29,
                31,
                27,
                43,
                8,
                11,
                21,
                40,
                17,
                22,
                22,
                23,
                26,
                22,
                9,
                33,
                20,
                28,
                15,
                38,
                25,
                19,
                24,
                21,
                16,
                32,
                19,
                31,
                18,
                33,
                20,
                23,
                10,
                12,
                18,
                30,
                59,
                118,
                19,
                7,
                21,
                8,
                4.5,
                22,
                8,
                15,
                8,
                15,
                8,
                20,
                13,
                11,
                16,
                24,
                5,
                0,
                0,
                2,
                13,
                8,
                6,
                1.5,
                9,
                8,
                6,
                0,
                0,
                0,
                0,
                0,
                0,
                0,
                0,
                0,
                0,
                0,
                0,
                0,
                0,
                0,
                0,
                0,
                0,
                0,
                0,
                2.5,
                0,
                0,
                0,
                0,
                0,
                0,
                0,
                0,
                0,
                0,
                0,
                0,
                0,
                0,
                0,
                0,
                0,
                9,
                10,
                14,
                9,
                10,
                14,
                9,
                10,
                14,
                9,
                10,
                14,
                9,
                10,
                14,
                0,
                0,
                0.5,
                0,
                0,
                0.5,
                0,
                0,
                0.5,
                0,
                0,
                0.5,
                0,
                0,
                0.5,
                11,
                14,
                17,
                3.5,
                3.5,
                4,
                11,
                14,
                17,
                3.5,
                3.5,
                3.5,
                13,
                16,
                20,
                3.5,
                3.5,
                3.5,
                4.5,
                7,
                9,
                4.5,
                7,
                9,
                4.5,
                7,
                9,
                4.5,
                7,
                9,
                4.5,
                7,
                9,
                11,
                13,
                16,
                5,
                5,
                6,
                11,
                13,
                16,
                5,
                5,
                6,
                18,
                22,
                26,
                19,
                23,
                27,
                23,
                26,
                31,
                0.5,
                1,
                1,
                0.5,
                1,
                1,
                0.5,
                1,
                1,
                15,
                19,
                23,
                16,
                20,
                24,
                16,
                20,
                23,
                19,
                23,
                23,
                33,
                15,
                17,
                23,
                11,
                32,
                16
               ]
              ],
              "y": [
               [
                "IN",
                "IN",
                "IN",
                "IN",
                "IN",
                "IN",
                "IN",
                "IN",
                "IN",
                "IN",
                "IN",
                "IN",
                "IN",
                "IN",
                "IN",
                "IN",
                "IN",
                "IN",
                "IN",
                "IN",
                "IN",
                "IN",
                "IN",
                "IN",
                "IN",
                "IN",
                "IN",
                "IN",
                "IN",
                "IN",
                "IN",
                "IN",
                "IN",
                "IN",
                "IN",
                "IN",
                "IN",
                "IN",
                "IN",
                "IN",
                "IN",
                "IN",
                "IN",
                "IN",
                "IN",
                "IN",
                "IN",
                "IN",
                "IN",
                "IN",
                "IN",
                "IN",
                "IN",
                "IN",
                "IN",
                "IN",
                "IN",
                "IN",
                "IN",
                "IN",
                "IN",
                "IN",
                "IN",
                "IN",
                "IN",
                "IN",
                "IN",
                "IN",
                "IN",
                "IN",
                "IN",
                "IN",
                "IN",
                "IN",
                "IN",
                "IN",
                "IN",
                "IN",
                "IN",
                "IN",
                "IN",
                "IN",
                "US",
                "US",
                "US",
                "US",
                "US",
                "US",
                "US",
                "US",
                "US",
                "US",
                "US",
                "US",
                "US",
                "US",
                "US",
                "US",
                "US",
                "US",
                "US",
                "US",
                "US",
                "US",
                "US",
                "US",
                "US",
                "US",
                "US",
                "US",
                "US",
                "US",
                "US",
                "US",
                "US",
                "US",
                "US",
                "US",
                "US",
                "US",
                "US",
                "US",
                "US",
                "US",
                "US",
                "US",
                "US",
                "US",
                "US",
                "US",
                "US",
                "US",
                "US",
                "US",
                "US",
                "US",
                "US",
                "US",
                "US",
                "US",
                "US",
                "US",
                "US",
                "US",
                "US",
                "US",
                "US",
                "US",
                "US",
                "US",
                "US",
                "US",
                "US",
                "US",
                "US",
                "US",
                "US",
                "US",
                "US",
                "US",
                "US",
                "US",
                "US",
                "US",
                "US",
                "US",
                "US",
                "US",
                "US",
                "US",
                "US",
                "US",
                "US",
                "US",
                "US",
                "US",
                "US",
                "US",
                "US",
                "US",
                "US",
                "US",
                "US",
                "US",
                "US",
                "US",
                "US",
                "US",
                "US",
                "US",
                "US",
                "US",
                "US",
                "US",
                "US",
                "US",
                "US",
                "US",
                "US",
                "US",
                "US",
                "US",
                "US",
                "US",
                "US",
                "US",
                "US",
                "US",
                "US",
                "US",
                "US",
                "US",
                "US",
                "US",
                "US",
                "US",
                "US",
                "US",
                "US",
                "US",
                "US",
                "US",
                "US",
                "US",
                "US",
                "US",
                "US",
                "US",
                "US",
                "US",
                "US",
                "US",
                "US",
                "US",
                "US",
                "US",
                "US",
                "US",
                "US",
                "US",
                "US",
                "US",
                "US",
                "US",
                "US",
                "US",
                "US",
                "US",
                "US",
                "US",
                "US",
                "US",
                "US",
                "US",
                "US",
                "US",
                "US",
                "US",
                "US",
                "US",
                "US",
                "US",
                "US",
                "US",
                "US",
                "US",
                "US",
                "US",
                "US",
                "US",
                "US",
                "US",
                "US",
                "US",
                "US",
                "US",
                "US",
                "US",
                "US",
                "US",
                "US",
                "US",
                "US",
                "US",
                "US",
                "US",
                "US",
                "US",
                "US",
                "US",
                "US",
                "US",
                "US",
                "US",
                "US",
                "US",
                "US",
                "US",
                "US",
                "US",
                "US",
                "US",
                "US",
                "US",
                "US",
                "US",
                "US",
                "US",
                "US",
                "US",
                "US",
                "US",
                "US",
                "US",
                "US",
                "US",
                "US",
                "US",
                "US",
                "US",
                "US",
                "US",
                "US",
                "US",
                "US",
                "US",
                "US",
                "US",
                "US",
                "US",
                "US",
                "US",
                "US",
                "US",
                "US",
                "US",
                "US",
                "US",
                "US",
                "US"
               ]
              ]
             }
            ],
            "label": "Total_Fat",
            "method": "update"
           },
           {
            "args": [
             {
              "visible": [
               true,
               false
              ],
              "x": [
               [
                7,
                5.7,
                7.9,
                7.2,
                5.2,
                6.4,
                4.8,
                3.8,
                8.9,
                6,
                6.4,
                3.3,
                5.9,
                4.8,
                17.9,
                24.1,
                7.4,
                14.6,
                8.1,
                11.5,
                16.2,
                5.7,
                4,
                6.1,
                9.1,
                7.2,
                14.3,
                0,
                0,
                0.9,
                2.7,
                0,
                2.6,
                3.5,
                5.2,
                2.7,
                3.7,
                5.3,
                0,
                0,
                0,
                0,
                0,
                0,
                0,
                0,
                0,
                0,
                0,
                0,
                0,
                0,
                0,
                0,
                0,
                0,
                1.1,
                1.1,
                1.1,
                1.1,
                1.2,
                5.7,
                5.7,
                2.8,
                4.9,
                1.1,
                1.5,
                3.5,
                4.6,
                2.1,
                3.8,
                3.6,
                11.1,
                0,
                1.4,
                0,
                1.4,
                4.9,
                4.1,
                7.7,
                6.5,
                6.9,
                5,
                3,
                8,
                10,
                8,
                9,
                13,
                14,
                11,
                12,
                12,
                13,
                14,
                15,
                12,
                13,
                8,
                9,
                16,
                9,
                7,
                8,
                12,
                10,
                11,
                9,
                13,
                17,
                18,
                14,
                14,
                19,
                20,
                16,
                16,
                2,
                7,
                7,
                9,
                1.5,
                1.5,
                10,
                12,
                13,
                13,
                11,
                19,
                3,
                5,
                10,
                15,
                8,
                10,
                9,
                9,
                10,
                3.5,
                2,
                9,
                7,
                6,
                4.5,
                10,
                8,
                3,
                7,
                5,
                3,
                9,
                7,
                8,
                6,
                8,
                6,
                4.5,
                3,
                2,
                3,
                5,
                10,
                20,
                4,
                3.5,
                6,
                4,
                2,
                4.5,
                2.5,
                4.5,
                3.5,
                4.5,
                3.5,
                5,
                4.5,
                1.5,
                2.5,
                3.5,
                1,
                0,
                0,
                1,
                7,
                3.5,
                2.5,
                1,
                7,
                5,
                4,
                0,
                0,
                0,
                0,
                0,
                0,
                0,
                0,
                0,
                0,
                0,
                0,
                0,
                0,
                0,
                0,
                0,
                0,
                0,
                0,
                1.5,
                0,
                0,
                0,
                0,
                0,
                0,
                0,
                0,
                0,
                0,
                0,
                0,
                0,
                0,
                0,
                0,
                0,
                5,
                6,
                8,
                5,
                6,
                8,
                5,
                6,
                8,
                5,
                6,
                8,
                5,
                6,
                8,
                0,
                0,
                0,
                0,
                0,
                0,
                0,
                0,
                0,
                0,
                0,
                0,
                0,
                0,
                0,
                7,
                8,
                10,
                2,
                2,
                2.5,
                7,
                8,
                10,
                2,
                2,
                2.5,
                8,
                9,
                12,
                2,
                2,
                2.5,
                3,
                4.5,
                6,
                3,
                4.5,
                6,
                3,
                4.5,
                6,
                3,
                4.5,
                6,
                3,
                4.5,
                6,
                7,
                8,
                10,
                3,
                3.5,
                3.5,
                7,
                7,
                10,
                3,
                3,
                3.5,
                12,
                14,
                17,
                12,
                15,
                17,
                14,
                17,
                20,
                0,
                0,
                0.5,
                0,
                0,
                0.5,
                0,
                0,
                0.5,
                10,
                12,
                15,
                10,
                13,
                15,
                10,
                12,
                15,
                12,
                15,
                14,
                20,
                10,
                9,
                12,
                6,
                15,
                8
               ]
              ],
              "y": [
               [
                "IN",
                "IN",
                "IN",
                "IN",
                "IN",
                "IN",
                "IN",
                "IN",
                "IN",
                "IN",
                "IN",
                "IN",
                "IN",
                "IN",
                "IN",
                "IN",
                "IN",
                "IN",
                "IN",
                "IN",
                "IN",
                "IN",
                "IN",
                "IN",
                "IN",
                "IN",
                "IN",
                "IN",
                "IN",
                "IN",
                "IN",
                "IN",
                "IN",
                "IN",
                "IN",
                "IN",
                "IN",
                "IN",
                "IN",
                "IN",
                "IN",
                "IN",
                "IN",
                "IN",
                "IN",
                "IN",
                "IN",
                "IN",
                "IN",
                "IN",
                "IN",
                "IN",
                "IN",
                "IN",
                "IN",
                "IN",
                "IN",
                "IN",
                "IN",
                "IN",
                "IN",
                "IN",
                "IN",
                "IN",
                "IN",
                "IN",
                "IN",
                "IN",
                "IN",
                "IN",
                "IN",
                "IN",
                "IN",
                "IN",
                "IN",
                "IN",
                "IN",
                "IN",
                "IN",
                "IN",
                "IN",
                "IN",
                "US",
                "US",
                "US",
                "US",
                "US",
                "US",
                "US",
                "US",
                "US",
                "US",
                "US",
                "US",
                "US",
                "US",
                "US",
                "US",
                "US",
                "US",
                "US",
                "US",
                "US",
                "US",
                "US",
                "US",
                "US",
                "US",
                "US",
                "US",
                "US",
                "US",
                "US",
                "US",
                "US",
                "US",
                "US",
                "US",
                "US",
                "US",
                "US",
                "US",
                "US",
                "US",
                "US",
                "US",
                "US",
                "US",
                "US",
                "US",
                "US",
                "US",
                "US",
                "US",
                "US",
                "US",
                "US",
                "US",
                "US",
                "US",
                "US",
                "US",
                "US",
                "US",
                "US",
                "US",
                "US",
                "US",
                "US",
                "US",
                "US",
                "US",
                "US",
                "US",
                "US",
                "US",
                "US",
                "US",
                "US",
                "US",
                "US",
                "US",
                "US",
                "US",
                "US",
                "US",
                "US",
                "US",
                "US",
                "US",
                "US",
                "US",
                "US",
                "US",
                "US",
                "US",
                "US",
                "US",
                "US",
                "US",
                "US",
                "US",
                "US",
                "US",
                "US",
                "US",
                "US",
                "US",
                "US",
                "US",
                "US",
                "US",
                "US",
                "US",
                "US",
                "US",
                "US",
                "US",
                "US",
                "US",
                "US",
                "US",
                "US",
                "US",
                "US",
                "US",
                "US",
                "US",
                "US",
                "US",
                "US",
                "US",
                "US",
                "US",
                "US",
                "US",
                "US",
                "US",
                "US",
                "US",
                "US",
                "US",
                "US",
                "US",
                "US",
                "US",
                "US",
                "US",
                "US",
                "US",
                "US",
                "US",
                "US",
                "US",
                "US",
                "US",
                "US",
                "US",
                "US",
                "US",
                "US",
                "US",
                "US",
                "US",
                "US",
                "US",
                "US",
                "US",
                "US",
                "US",
                "US",
                "US",
                "US",
                "US",
                "US",
                "US",
                "US",
                "US",
                "US",
                "US",
                "US",
                "US",
                "US",
                "US",
                "US",
                "US",
                "US",
                "US",
                "US",
                "US",
                "US",
                "US",
                "US",
                "US",
                "US",
                "US",
                "US",
                "US",
                "US",
                "US",
                "US",
                "US",
                "US",
                "US",
                "US",
                "US",
                "US",
                "US",
                "US",
                "US",
                "US",
                "US",
                "US",
                "US",
                "US",
                "US",
                "US",
                "US",
                "US",
                "US",
                "US",
                "US",
                "US",
                "US",
                "US",
                "US",
                "US",
                "US",
                "US",
                "US",
                "US",
                "US",
                "US",
                "US",
                "US",
                "US",
                "US",
                "US",
                "US",
                "US",
                "US",
                "US",
                "US",
                "US",
                "US",
                "US",
                "US",
                "US",
                "US",
                "US",
                "US",
                "US",
                "US",
                "US",
                "US",
                "US",
                "US",
                "US",
                "US",
                "US"
               ]
              ]
             }
            ],
            "label": "Saturated_Fat",
            "method": "update"
           },
           {
            "args": [
             {
              "visible": [
               true,
               false
              ],
              "x": [
               [
                244,
                50,
                277,
                21,
                11,
                16,
                1,
                227,
                64,
                31,
                20,
                26,
                1,
                1,
                33,
                50,
                45,
                63,
                0,
                0,
                0,
                5,
                31,
                47,
                70,
                41,
                82,
                0,
                0,
                0,
                10,
                0,
                6,
                9,
                13,
                7,
                9,
                11,
                0,
                0,
                0,
                0,
                0,
                0,
                0,
                0,
                0,
                0,
                0,
                0,
                0,
                0,
                0,
                0,
                0,
                0,
                3,
                3,
                3,
                3,
                3,
                4,
                4,
                6,
                10,
                4,
                5,
                7,
                8,
                3,
                6,
                4,
                6,
                0,
                3,
                0,
                3,
                1,
                26,
                9,
                34,
                235,
                260,
                25,
                45,
                285,
                50,
                300,
                250,
                250,
                35,
                35,
                30,
                30,
                250,
                250,
                35,
                35,
                30,
                30,
                280,
                250,
                35,
                35,
                265,
                50,
                275,
                60,
                295,
                555,
                555,
                35,
                35,
                575,
                575,
                55,
                55,
                20,
                50,
                115,
                15,
                5,
                5,
                85,
                95,
                105,
                105,
                85,
                160,
                30,
                45,
                90,
                115,
                75,
                90,
                80,
                80,
                70,
                45,
                65,
                85,
                105,
                70,
                90,
                90,
                110,
                45,
                65,
                50,
                35,
                80,
                95,
                65,
                80,
                60,
                80,
                50,
                65,
                25,
                40,
                65,
                135,
                265,
                40,
                25,
                70,
                85,
                10,
                50,
                70,
                30,
                40,
                35,
                45,
                40,
                45,
                0,
                0,
                0,
                0,
                0,
                0,
                5,
                0,
                10,
                10,
                5,
                25,
                30,
                25,
                0,
                0,
                0,
                0,
                0,
                0,
                0,
                0,
                0,
                0,
                0,
                0,
                0,
                0,
                0,
                0,
                0,
                0,
                0,
                0,
                10,
                5,
                0,
                0,
                0,
                0,
                0,
                0,
                0,
                0,
                0,
                0,
                0,
                0,
                0,
                0,
                0,
                0,
                25,
                30,
                40,
                25,
                30,
                40,
                25,
                30,
                40,
                25,
                30,
                40,
                25,
                30,
                40,
                5,
                5,
                10,
                5,
                5,
                10,
                5,
                5,
                10,
                5,
                5,
                10,
                5,
                5,
                10,
                35,
                40,
                50,
                15,
                15,
                20,
                35,
                40,
                50,
                15,
                15,
                20,
                40,
                50,
                60,
                15,
                15,
                20,
                15,
                25,
                35,
                15,
                25,
                35,
                15,
                25,
                35,
                15,
                25,
                35,
                15,
                25,
                35,
                35,
                40,
                50,
                20,
                20,
                25,
                35,
                40,
                50,
                20,
                20,
                25,
                65,
                75,
                90,
                65,
                80,
                95,
                65,
                80,
                95,
                5,
                5,
                5,
                5,
                5,
                5,
                5,
                5,
                5,
                60,
                75,
                90,
                60,
                75,
                90,
                60,
                75,
                85,
                75,
                90,
                50,
                75,
                35,
                45,
                55,
                30,
                60,
                30
               ]
              ],
              "y": [
               [
                "IN",
                "IN",
                "IN",
                "IN",
                "IN",
                "IN",
                "IN",
                "IN",
                "IN",
                "IN",
                "IN",
                "IN",
                "IN",
                "IN",
                "IN",
                "IN",
                "IN",
                "IN",
                "IN",
                "IN",
                "IN",
                "IN",
                "IN",
                "IN",
                "IN",
                "IN",
                "IN",
                "IN",
                "IN",
                "IN",
                "IN",
                "IN",
                "IN",
                "IN",
                "IN",
                "IN",
                "IN",
                "IN",
                "IN",
                "IN",
                "IN",
                "IN",
                "IN",
                "IN",
                "IN",
                "IN",
                "IN",
                "IN",
                "IN",
                "IN",
                "IN",
                "IN",
                "IN",
                "IN",
                "IN",
                "IN",
                "IN",
                "IN",
                "IN",
                "IN",
                "IN",
                "IN",
                "IN",
                "IN",
                "IN",
                "IN",
                "IN",
                "IN",
                "IN",
                "IN",
                "IN",
                "IN",
                "IN",
                "IN",
                "IN",
                "IN",
                "IN",
                "IN",
                "IN",
                "IN",
                "IN",
                "IN",
                "US",
                "US",
                "US",
                "US",
                "US",
                "US",
                "US",
                "US",
                "US",
                "US",
                "US",
                "US",
                "US",
                "US",
                "US",
                "US",
                "US",
                "US",
                "US",
                "US",
                "US",
                "US",
                "US",
                "US",
                "US",
                "US",
                "US",
                "US",
                "US",
                "US",
                "US",
                "US",
                "US",
                "US",
                "US",
                "US",
                "US",
                "US",
                "US",
                "US",
                "US",
                "US",
                "US",
                "US",
                "US",
                "US",
                "US",
                "US",
                "US",
                "US",
                "US",
                "US",
                "US",
                "US",
                "US",
                "US",
                "US",
                "US",
                "US",
                "US",
                "US",
                "US",
                "US",
                "US",
                "US",
                "US",
                "US",
                "US",
                "US",
                "US",
                "US",
                "US",
                "US",
                "US",
                "US",
                "US",
                "US",
                "US",
                "US",
                "US",
                "US",
                "US",
                "US",
                "US",
                "US",
                "US",
                "US",
                "US",
                "US",
                "US",
                "US",
                "US",
                "US",
                "US",
                "US",
                "US",
                "US",
                "US",
                "US",
                "US",
                "US",
                "US",
                "US",
                "US",
                "US",
                "US",
                "US",
                "US",
                "US",
                "US",
                "US",
                "US",
                "US",
                "US",
                "US",
                "US",
                "US",
                "US",
                "US",
                "US",
                "US",
                "US",
                "US",
                "US",
                "US",
                "US",
                "US",
                "US",
                "US",
                "US",
                "US",
                "US",
                "US",
                "US",
                "US",
                "US",
                "US",
                "US",
                "US",
                "US",
                "US",
                "US",
                "US",
                "US",
                "US",
                "US",
                "US",
                "US",
                "US",
                "US",
                "US",
                "US",
                "US",
                "US",
                "US",
                "US",
                "US",
                "US",
                "US",
                "US",
                "US",
                "US",
                "US",
                "US",
                "US",
                "US",
                "US",
                "US",
                "US",
                "US",
                "US",
                "US",
                "US",
                "US",
                "US",
                "US",
                "US",
                "US",
                "US",
                "US",
                "US",
                "US",
                "US",
                "US",
                "US",
                "US",
                "US",
                "US",
                "US",
                "US",
                "US",
                "US",
                "US",
                "US",
                "US",
                "US",
                "US",
                "US",
                "US",
                "US",
                "US",
                "US",
                "US",
                "US",
                "US",
                "US",
                "US",
                "US",
                "US",
                "US",
                "US",
                "US",
                "US",
                "US",
                "US",
                "US",
                "US",
                "US",
                "US",
                "US",
                "US",
                "US",
                "US",
                "US",
                "US",
                "US",
                "US",
                "US",
                "US",
                "US",
                "US",
                "US",
                "US",
                "US",
                "US",
                "US",
                "US",
                "US",
                "US",
                "US",
                "US",
                "US",
                "US",
                "US",
                "US",
                "US",
                "US",
                "US",
                "US",
                "US",
                "US",
                "US",
                "US",
                "US",
                "US",
                "US",
                "US",
                "US"
               ]
              ]
             }
            ],
            "label": "Cholestrol",
            "method": "update"
           },
           {
            "args": [
             {
              "visible": [
               true,
               false
              ],
              "x": [
               [
                28,
                28,
                29,
                38,
                39,
                64,
                16,
                32,
                52,
                49,
                39,
                33,
                56,
                50,
                52,
                63,
                49,
                57,
                41,
                58,
                82,
                24,
                11,
                17,
                26,
                15,
                30,
                2,
                12,
                8,
                1,
                2,
                28,
                38,
                56,
                30,
                42,
                60,
                27,
                38,
                54,
                32,
                45,
                64,
                25,
                34,
                49,
                30,
                41,
                59,
                0,
                0,
                24,
                21,
                34,
                33,
                29,
                32,
                31,
                33,
                15,
                20,
                23,
                21,
                34,
                20,
                31,
                32,
                47,
                19,
                33,
                23,
                42,
                0,
                1,
                2,
                3,
                45,
                36,
                39,
                25,
                24,
                31,
                30,
                29,
                30,
                30,
                31,
                38,
                43,
                36,
                42,
                34,
                39,
                36,
                42,
                34,
                40,
                41,
                46,
                38,
                48,
                47,
                44,
                48,
                46,
                57,
                55,
                56,
                51,
                56,
                50,
                55,
                111,
                116,
                110,
                115,
                60,
                61,
                26,
                66,
                58,
                49,
                47,
                41,
                48,
                46,
                45,
                42,
                32,
                33,
                35,
                51,
                34,
                35,
                34,
                35,
                44,
                55,
                42,
                58,
                44,
                57,
                43,
                65,
                51,
                43,
                43,
                41,
                40,
                56,
                42,
                56,
                42,
                68,
                55,
                61,
                47,
                12,
                18,
                30,
                59,
                118,
                39,
                10,
                22,
                8,
                20,
                42,
                28,
                37,
                30,
                34,
                27,
                32,
                25,
                30,
                44,
                67,
                15,
                4,
                4,
                30,
                32,
                21,
                22,
                7,
                53,
                60,
                49,
                39,
                55,
                76,
                28,
                0,
                0,
                0,
                0,
                37,
                53,
                72,
                27,
                0,
                0,
                0,
                0,
                37,
                54,
                74,
                27,
                12,
                23,
                21,
                34,
                44,
                65,
                0,
                0,
                0,
                0,
                0,
                36,
                45,
                54,
                27,
                0,
                0,
                0,
                15,
                18,
                24,
                40,
                50,
                62,
                40,
                50,
                62,
                38,
                48,
                60,
                24,
                29,
                37,
                15,
                19,
                25,
                41,
                51,
                63,
                40,
                51,
                63,
                39,
                49,
                60,
                24,
                30,
                38,
                49,
                60,
                72,
                49,
                60,
                73,
                45,
                55,
                66,
                45,
                56,
                67,
                50,
                61,
                73,
                50,
                61,
                74,
                23,
                31,
                47,
                22,
                29,
                43,
                21,
                29,
                43,
                20,
                27,
                41,
                9,
                12,
                18,
                41,
                50,
                70,
                41,
                50,
                71,
                38,
                46,
                65,
                38,
                47,
                65,
                65,
                80,
                98,
                64,
                79,
                96,
                76,
                91,
                111,
                50,
                62,
                79,
                47,
                58,
                74,
                50,
                61,
                78,
                86,
                109,
                135,
                90,
                114,
                140,
                91,
                114,
                141,
                109,
                135,
                96,
                139,
                64,
                80,
                106,
                53,
                114,
                57
               ]
              ],
              "y": [
               [
                "IN",
                "IN",
                "IN",
                "IN",
                "IN",
                "IN",
                "IN",
                "IN",
                "IN",
                "IN",
                "IN",
                "IN",
                "IN",
                "IN",
                "IN",
                "IN",
                "IN",
                "IN",
                "IN",
                "IN",
                "IN",
                "IN",
                "IN",
                "IN",
                "IN",
                "IN",
                "IN",
                "IN",
                "IN",
                "IN",
                "IN",
                "IN",
                "IN",
                "IN",
                "IN",
                "IN",
                "IN",
                "IN",
                "IN",
                "IN",
                "IN",
                "IN",
                "IN",
                "IN",
                "IN",
                "IN",
                "IN",
                "IN",
                "IN",
                "IN",
                "IN",
                "IN",
                "IN",
                "IN",
                "IN",
                "IN",
                "IN",
                "IN",
                "IN",
                "IN",
                "IN",
                "IN",
                "IN",
                "IN",
                "IN",
                "IN",
                "IN",
                "IN",
                "IN",
                "IN",
                "IN",
                "IN",
                "IN",
                "IN",
                "IN",
                "IN",
                "IN",
                "IN",
                "IN",
                "IN",
                "IN",
                "IN",
                "US",
                "US",
                "US",
                "US",
                "US",
                "US",
                "US",
                "US",
                "US",
                "US",
                "US",
                "US",
                "US",
                "US",
                "US",
                "US",
                "US",
                "US",
                "US",
                "US",
                "US",
                "US",
                "US",
                "US",
                "US",
                "US",
                "US",
                "US",
                "US",
                "US",
                "US",
                "US",
                "US",
                "US",
                "US",
                "US",
                "US",
                "US",
                "US",
                "US",
                "US",
                "US",
                "US",
                "US",
                "US",
                "US",
                "US",
                "US",
                "US",
                "US",
                "US",
                "US",
                "US",
                "US",
                "US",
                "US",
                "US",
                "US",
                "US",
                "US",
                "US",
                "US",
                "US",
                "US",
                "US",
                "US",
                "US",
                "US",
                "US",
                "US",
                "US",
                "US",
                "US",
                "US",
                "US",
                "US",
                "US",
                "US",
                "US",
                "US",
                "US",
                "US",
                "US",
                "US",
                "US",
                "US",
                "US",
                "US",
                "US",
                "US",
                "US",
                "US",
                "US",
                "US",
                "US",
                "US",
                "US",
                "US",
                "US",
                "US",
                "US",
                "US",
                "US",
                "US",
                "US",
                "US",
                "US",
                "US",
                "US",
                "US",
                "US",
                "US",
                "US",
                "US",
                "US",
                "US",
                "US",
                "US",
                "US",
                "US",
                "US",
                "US",
                "US",
                "US",
                "US",
                "US",
                "US",
                "US",
                "US",
                "US",
                "US",
                "US",
                "US",
                "US",
                "US",
                "US",
                "US",
                "US",
                "US",
                "US",
                "US",
                "US",
                "US",
                "US",
                "US",
                "US",
                "US",
                "US",
                "US",
                "US",
                "US",
                "US",
                "US",
                "US",
                "US",
                "US",
                "US",
                "US",
                "US",
                "US",
                "US",
                "US",
                "US",
                "US",
                "US",
                "US",
                "US",
                "US",
                "US",
                "US",
                "US",
                "US",
                "US",
                "US",
                "US",
                "US",
                "US",
                "US",
                "US",
                "US",
                "US",
                "US",
                "US",
                "US",
                "US",
                "US",
                "US",
                "US",
                "US",
                "US",
                "US",
                "US",
                "US",
                "US",
                "US",
                "US",
                "US",
                "US",
                "US",
                "US",
                "US",
                "US",
                "US",
                "US",
                "US",
                "US",
                "US",
                "US",
                "US",
                "US",
                "US",
                "US",
                "US",
                "US",
                "US",
                "US",
                "US",
                "US",
                "US",
                "US",
                "US",
                "US",
                "US",
                "US",
                "US",
                "US",
                "US",
                "US",
                "US",
                "US",
                "US",
                "US",
                "US",
                "US",
                "US",
                "US",
                "US",
                "US",
                "US",
                "US",
                "US",
                "US",
                "US",
                "US",
                "US",
                "US",
                "US",
                "US",
                "US",
                "US",
                "US",
                "US",
                "US",
                "US",
                "US",
                "US",
                "US",
                "US"
               ]
              ]
             }
            ],
            "label": "Carbohydrates",
            "method": "update"
           },
           {
            "args": [
             {
              "visible": [
               true,
               false
              ],
              "x": [
               [
                2,
                2,
                2,
                3,
                4,
                2,
                2,
                2,
                5,
                3,
                3,
                3,
                5,
                4,
                3,
                5,
                3,
                5,
                5,
                7,
                9,
                2,
                1,
                1,
                2,
                1,
                3,
                0,
                0,
                0,
                0,
                0,
                0,
                0,
                0,
                0,
                0,
                1,
                0,
                0,
                0,
                0,
                0,
                0,
                0,
                0,
                0,
                0,
                0,
                0,
                0,
                0,
                0,
                0,
                0,
                0,
                0,
                0,
                0,
                0,
                0,
                0,
                0,
                0,
                0,
                0,
                0,
                0,
                0,
                0,
                0,
                0,
                1,
                0,
                0,
                0,
                0,
                4,
                3,
                3,
                2,
                2,
                4,
                4,
                4,
                4,
                4,
                4,
                2,
                3,
                2,
                3,
                2,
                3,
                2,
                3,
                2,
                3,
                2,
                3,
                2,
                2,
                2,
                2,
                2,
                2,
                3,
                3,
                3,
                3,
                4,
                3,
                4,
                6,
                7,
                6,
                7,
                3,
                3,
                1,
                3,
                5,
                5,
                3,
                3,
                3,
                3,
                3,
                3,
                1,
                2,
                2,
                4,
                2,
                2,
                2,
                2,
                3,
                3,
                3,
                3,
                3,
                3,
                3,
                4,
                4,
                2,
                2,
                2,
                2,
                3,
                3,
                3,
                3,
                5,
                5,
                3,
                3,
                1,
                1,
                2,
                3,
                6,
                2,
                3,
                2,
                2,
                6,
                7,
                7,
                1,
                1,
                1,
                1,
                1,
                1,
                2,
                4,
                5,
                1,
                1,
                0,
                1,
                4,
                1,
                1,
                0,
                1,
                0,
                0,
                0,
                0,
                0,
                0,
                0,
                0,
                0,
                0,
                0,
                0,
                0,
                0,
                0,
                0,
                0,
                0,
                0,
                0,
                0,
                0,
                0,
                1,
                0,
                0,
                0,
                0,
                0,
                0,
                0,
                0,
                0,
                0,
                0,
                0,
                0,
                0,
                0,
                0,
                1,
                1,
                1,
                1,
                1,
                1,
                1,
                1,
                1,
                1,
                1,
                1,
                1,
                1,
                2,
                1,
                1,
                1,
                1,
                1,
                1,
                1,
                1,
                1,
                1,
                1,
                1,
                1,
                1,
                2,
                2,
                2,
                2,
                2,
                2,
                2,
                1,
                1,
                1,
                1,
                1,
                1,
                1,
                1,
                1,
                1,
                1,
                1,
                0,
                0,
                0,
                0,
                0,
                0,
                0,
                0,
                0,
                0,
                0,
                0,
                0,
                0,
                0,
                1,
                1,
                2,
                1,
                1,
                2,
                0,
                1,
                1,
                0,
                1,
                1,
                1,
                1,
                1,
                0,
                0,
                0,
                1,
                1,
                1,
                3,
                4,
                5,
                3,
                3,
                4,
                1,
                1,
                2,
                0,
                0,
                0,
                0,
                0,
                0,
                1,
                2,
                2,
                0,
                0,
                1,
                2,
                1,
                1,
                1,
                1,
                2,
                1
               ]
              ],
              "y": [
               [
                "IN",
                "IN",
                "IN",
                "IN",
                "IN",
                "IN",
                "IN",
                "IN",
                "IN",
                "IN",
                "IN",
                "IN",
                "IN",
                "IN",
                "IN",
                "IN",
                "IN",
                "IN",
                "IN",
                "IN",
                "IN",
                "IN",
                "IN",
                "IN",
                "IN",
                "IN",
                "IN",
                "IN",
                "IN",
                "IN",
                "IN",
                "IN",
                "IN",
                "IN",
                "IN",
                "IN",
                "IN",
                "IN",
                "IN",
                "IN",
                "IN",
                "IN",
                "IN",
                "IN",
                "IN",
                "IN",
                "IN",
                "IN",
                "IN",
                "IN",
                "IN",
                "IN",
                "IN",
                "IN",
                "IN",
                "IN",
                "IN",
                "IN",
                "IN",
                "IN",
                "IN",
                "IN",
                "IN",
                "IN",
                "IN",
                "IN",
                "IN",
                "IN",
                "IN",
                "IN",
                "IN",
                "IN",
                "IN",
                "IN",
                "IN",
                "IN",
                "IN",
                "IN",
                "IN",
                "IN",
                "IN",
                "IN",
                "US",
                "US",
                "US",
                "US",
                "US",
                "US",
                "US",
                "US",
                "US",
                "US",
                "US",
                "US",
                "US",
                "US",
                "US",
                "US",
                "US",
                "US",
                "US",
                "US",
                "US",
                "US",
                "US",
                "US",
                "US",
                "US",
                "US",
                "US",
                "US",
                "US",
                "US",
                "US",
                "US",
                "US",
                "US",
                "US",
                "US",
                "US",
                "US",
                "US",
                "US",
                "US",
                "US",
                "US",
                "US",
                "US",
                "US",
                "US",
                "US",
                "US",
                "US",
                "US",
                "US",
                "US",
                "US",
                "US",
                "US",
                "US",
                "US",
                "US",
                "US",
                "US",
                "US",
                "US",
                "US",
                "US",
                "US",
                "US",
                "US",
                "US",
                "US",
                "US",
                "US",
                "US",
                "US",
                "US",
                "US",
                "US",
                "US",
                "US",
                "US",
                "US",
                "US",
                "US",
                "US",
                "US",
                "US",
                "US",
                "US",
                "US",
                "US",
                "US",
                "US",
                "US",
                "US",
                "US",
                "US",
                "US",
                "US",
                "US",
                "US",
                "US",
                "US",
                "US",
                "US",
                "US",
                "US",
                "US",
                "US",
                "US",
                "US",
                "US",
                "US",
                "US",
                "US",
                "US",
                "US",
                "US",
                "US",
                "US",
                "US",
                "US",
                "US",
                "US",
                "US",
                "US",
                "US",
                "US",
                "US",
                "US",
                "US",
                "US",
                "US",
                "US",
                "US",
                "US",
                "US",
                "US",
                "US",
                "US",
                "US",
                "US",
                "US",
                "US",
                "US",
                "US",
                "US",
                "US",
                "US",
                "US",
                "US",
                "US",
                "US",
                "US",
                "US",
                "US",
                "US",
                "US",
                "US",
                "US",
                "US",
                "US",
                "US",
                "US",
                "US",
                "US",
                "US",
                "US",
                "US",
                "US",
                "US",
                "US",
                "US",
                "US",
                "US",
                "US",
                "US",
                "US",
                "US",
                "US",
                "US",
                "US",
                "US",
                "US",
                "US",
                "US",
                "US",
                "US",
                "US",
                "US",
                "US",
                "US",
                "US",
                "US",
                "US",
                "US",
                "US",
                "US",
                "US",
                "US",
                "US",
                "US",
                "US",
                "US",
                "US",
                "US",
                "US",
                "US",
                "US",
                "US",
                "US",
                "US",
                "US",
                "US",
                "US",
                "US",
                "US",
                "US",
                "US",
                "US",
                "US",
                "US",
                "US",
                "US",
                "US",
                "US",
                "US",
                "US",
                "US",
                "US",
                "US",
                "US",
                "US",
                "US",
                "US",
                "US",
                "US",
                "US",
                "US",
                "US",
                "US",
                "US",
                "US",
                "US",
                "US",
                "US",
                "US",
                "US",
                "US",
                "US",
                "US",
                "US",
                "US",
                "US",
                "US",
                "US",
                "US",
                "US"
               ]
              ]
             }
            ],
            "label": "Dietary_Fibre",
            "method": "update"
           },
           {
            "args": [
             {
              "visible": [
               true,
               false
              ],
              "x": [
               [
                620,
                950,
                1020,
                1000,
                960,
                630,
                370,
                700,
                1030,
                840,
                670,
                570,
                650,
                790,
                940,
                1830,
                1330,
                2030,
                260,
                370,
                520,
                580,
                320,
                480,
                720,
                640,
                1290,
                70,
                210,
                230,
                220,
                60,
                80,
                110,
                170,
                120,
                170,
                240,
                230,
                230,
                230,
                230,
                230,
                230,
                230,
                230,
                230,
                230,
                230,
                230,
                230,
                0,
                0,
                0,
                0,
                0,
                390,
                390,
                390,
                390,
                390,
                400,
                410,
                410,
                560,
                390,
                520,
                450,
                610,
                440,
                740,
                420,
                700,
                230,
                20,
                230,
                20,
                920,
                740,
                820,
                640,
                570,
                750,
                770,
                780,
                860,
                880,
                960,
                1300,
                1410,
                1300,
                1420,
                1080,
                1190,
                1170,
                1280,
                1180,
                1290,
                1180,
                1290,
                1470,
                1250,
                1250,
                1030,
                1320,
                1320,
                1480,
                1480,
                1510,
                1560,
                1680,
                1590,
                1700,
                2150,
                2260,
                2170,
                2290,
                590,
                930,
                790,
                370,
                160,
                115,
                960,
                1100,
                1440,
                1180,
                960,
                1280,
                480,
                680,
                1040,
                1470,
                840,
                1110,
                760,
                1030,
                980,
                990,
                820,
                1410,
                1250,
                1400,
                1230,
                1720,
                1560,
                910,
                1260,
                1260,
                990,
                1540,
                1370,
                1340,
                1170,
                1480,
                1320,
                1260,
                1090,
                360,
                540,
                900,
                1800,
                3600,
                590,
                300,
                860,
                690,
                150,
                850,
                680,
                780,
                700,
                730,
                650,
                810,
                720,
                130,
                190,
                290,
                65,
                10,
                0,
                70,
                170,
                90,
                135,
                20,
                170,
                150,
                85,
                0,
                5,
                5,
                0,
                10,
                20,
                35,
                15,
                45,
                65,
                90,
                30,
                70,
                100,
                140,
                50,
                30,
                45,
                60,
                25,
                125,
                135,
                15,
                0,
                0,
                5,
                0,
                10,
                10,
                15,
                5,
                10,
                10,
                10,
                5,
                0,
                0,
                0,
                115,
                140,
                180,
                115,
                140,
                180,
                115,
                140,
                180,
                115,
                140,
                190,
                150,
                190,
                240,
                110,
                135,
                180,
                110,
                135,
                180,
                110,
                135,
                180,
                115,
                140,
                180,
                150,
                180,
                240,
                150,
                190,
                240,
                150,
                190,
                240,
                170,
                220,
                270,
                170,
                210,
                270,
                180,
                220,
                280,
                180,
                220,
                280,
                35,
                50,
                75,
                35,
                50,
                65,
                35,
                50,
                75,
                40,
                55,
                80,
                65,
                90,
                135,
                125,
                150,
                220,
                125,
                150,
                220,
                140,
                170,
                250,
                140,
                170,
                250,
                125,
                160,
                190,
                125,
                160,
                190,
                135,
                160,
                200,
                40,
                50,
                65,
                50,
                60,
                80,
                40,
                45,
                60,
                160,
                200,
                260,
                160,
                210,
                260,
                240,
                300,
                380,
                210,
                260,
                180,
                260,
                120,
                280,
                380,
                190,
                400,
                200
               ]
              ],
              "y": [
               [
                "IN",
                "IN",
                "IN",
                "IN",
                "IN",
                "IN",
                "IN",
                "IN",
                "IN",
                "IN",
                "IN",
                "IN",
                "IN",
                "IN",
                "IN",
                "IN",
                "IN",
                "IN",
                "IN",
                "IN",
                "IN",
                "IN",
                "IN",
                "IN",
                "IN",
                "IN",
                "IN",
                "IN",
                "IN",
                "IN",
                "IN",
                "IN",
                "IN",
                "IN",
                "IN",
                "IN",
                "IN",
                "IN",
                "IN",
                "IN",
                "IN",
                "IN",
                "IN",
                "IN",
                "IN",
                "IN",
                "IN",
                "IN",
                "IN",
                "IN",
                "IN",
                "IN",
                "IN",
                "IN",
                "IN",
                "IN",
                "IN",
                "IN",
                "IN",
                "IN",
                "IN",
                "IN",
                "IN",
                "IN",
                "IN",
                "IN",
                "IN",
                "IN",
                "IN",
                "IN",
                "IN",
                "IN",
                "IN",
                "IN",
                "IN",
                "IN",
                "IN",
                "IN",
                "IN",
                "IN",
                "IN",
                "IN",
                "US",
                "US",
                "US",
                "US",
                "US",
                "US",
                "US",
                "US",
                "US",
                "US",
                "US",
                "US",
                "US",
                "US",
                "US",
                "US",
                "US",
                "US",
                "US",
                "US",
                "US",
                "US",
                "US",
                "US",
                "US",
                "US",
                "US",
                "US",
                "US",
                "US",
                "US",
                "US",
                "US",
                "US",
                "US",
                "US",
                "US",
                "US",
                "US",
                "US",
                "US",
                "US",
                "US",
                "US",
                "US",
                "US",
                "US",
                "US",
                "US",
                "US",
                "US",
                "US",
                "US",
                "US",
                "US",
                "US",
                "US",
                "US",
                "US",
                "US",
                "US",
                "US",
                "US",
                "US",
                "US",
                "US",
                "US",
                "US",
                "US",
                "US",
                "US",
                "US",
                "US",
                "US",
                "US",
                "US",
                "US",
                "US",
                "US",
                "US",
                "US",
                "US",
                "US",
                "US",
                "US",
                "US",
                "US",
                "US",
                "US",
                "US",
                "US",
                "US",
                "US",
                "US",
                "US",
                "US",
                "US",
                "US",
                "US",
                "US",
                "US",
                "US",
                "US",
                "US",
                "US",
                "US",
                "US",
                "US",
                "US",
                "US",
                "US",
                "US",
                "US",
                "US",
                "US",
                "US",
                "US",
                "US",
                "US",
                "US",
                "US",
                "US",
                "US",
                "US",
                "US",
                "US",
                "US",
                "US",
                "US",
                "US",
                "US",
                "US",
                "US",
                "US",
                "US",
                "US",
                "US",
                "US",
                "US",
                "US",
                "US",
                "US",
                "US",
                "US",
                "US",
                "US",
                "US",
                "US",
                "US",
                "US",
                "US",
                "US",
                "US",
                "US",
                "US",
                "US",
                "US",
                "US",
                "US",
                "US",
                "US",
                "US",
                "US",
                "US",
                "US",
                "US",
                "US",
                "US",
                "US",
                "US",
                "US",
                "US",
                "US",
                "US",
                "US",
                "US",
                "US",
                "US",
                "US",
                "US",
                "US",
                "US",
                "US",
                "US",
                "US",
                "US",
                "US",
                "US",
                "US",
                "US",
                "US",
                "US",
                "US",
                "US",
                "US",
                "US",
                "US",
                "US",
                "US",
                "US",
                "US",
                "US",
                "US",
                "US",
                "US",
                "US",
                "US",
                "US",
                "US",
                "US",
                "US",
                "US",
                "US",
                "US",
                "US",
                "US",
                "US",
                "US",
                "US",
                "US",
                "US",
                "US",
                "US",
                "US",
                "US",
                "US",
                "US",
                "US",
                "US",
                "US",
                "US",
                "US",
                "US",
                "US",
                "US",
                "US",
                "US",
                "US",
                "US",
                "US",
                "US",
                "US",
                "US",
                "US",
                "US",
                "US",
                "US",
                "US",
                "US",
                "US",
                "US",
                "US",
                "US",
                "US",
                "US",
                "US",
                "US",
                "US"
               ]
              ]
             }
            ],
            "label": "Sodium",
            "method": "update"
           }
          ],
          "x": 1.15,
          "xanchor": "left",
          "y": 1,
          "yanchor": "top"
         }
        ],
        "width": 1000,
        "xaxis": {
         "title": {
          "text": "Nutritional Value"
         }
        },
        "yaxis": {
         "title": {
          "text": "Country"
         }
        }
       }
      }
     },
     "metadata": {},
     "output_type": "display_data"
    }
   ],
   "source": [
    "fig = go.Figure()\n",
    "\n",
    "# Adding first graph of Energy vs Country\n",
    "fig.add_box(x=data['Energy'], y=data['Country'], orientation='h')\n",
    "\n",
    "\n",
    "# Adding a button to select different features\n",
    "button = [dict(method='update',\n",
    "               args = [{'x': [data[k]],\n",
    "                        'y': [data['Country']],\n",
    "                        'visible':[True, False]}], \n",
    "               label = k) for k in nutrifactors]\n",
    "\n",
    "# Updating the layout of the graph\n",
    "fig.update_layout(title_text='Nutritional Factors vs Country',\n",
    "                  title_x=0.5,\n",
    "                  width=1000,\n",
    "                  height=500,\n",
    "                  xaxis_title='Nutritional Value', \n",
    "                  yaxis_title='Country',\n",
    "                  updatemenus=[dict(active=0,\n",
    "                                    buttons=button,\n",
    "                                    x=1.15,\n",
    "                                    y=1,\n",
    "                                    xanchor='left',\n",
    "                                    yanchor='top')])\n",
    "\n",
    "# Adding extra annotaions alongside the button\n",
    "fig.add_annotation(x=1.03,\n",
    "                   y=0.97,\n",
    "                   xref='paper',\n",
    "                   yref='paper',\n",
    "                   showarrow=False,\n",
    "                   xanchor='left',\n",
    "                   yanchor = 'top',\n",
    "                   text='Nutrition')\n",
    "\n",
    "# Display the graph\n",
    "fig.show()"
   ]
  },
  {
   "cell_type": "code",
   "execution_count": 91,
   "metadata": {},
   "outputs": [
    {
     "data": {
      "application/vnd.plotly.v1+json": {
       "config": {
        "plotlyServerURL": "https://plot.ly"
       },
       "data": [
        {
         "hole": 0.8,
         "labels": [
          [
           "IN",
           "Breakfast"
          ],
          [
           "IN",
           "Chicken Wings"
          ],
          [
           "IN",
           "Cold Beverages"
          ],
          [
           "IN",
           "Condiments"
          ],
          [
           "IN",
           "Desserts"
          ],
          [
           "IN",
           "Hot Beverages"
          ],
          [
           "IN",
           "New Products"
          ],
          [
           "IN",
           "Nuggets"
          ],
          [
           "IN",
           "Sandwiches and Wraps"
          ],
          [
           "IN",
           "Smoothies & Shakes"
          ],
          [
           "IN",
           "Snacks & Sides"
          ],
          [
           "US",
           "Beef & Pork"
          ],
          [
           "US",
           "Breakfast"
          ],
          [
           "US",
           "Chicken & Fish"
          ],
          [
           "US",
           "Cold Beverages"
          ],
          [
           "US",
           "Desserts"
          ],
          [
           "US",
           "Hot Beverages"
          ],
          [
           "US",
           "Salads"
          ],
          [
           "US",
           "Smoothies & Shakes"
          ],
          [
           "US",
           "Snacks & Sides"
          ]
         ],
         "type": "pie",
         "values": [
          4.308187353129673,
          4.845332193975646,
          6.625888851588488,
          4.62741172521134,
          6.048921170690024,
          4.694059572130497,
          5.051991332743309,
          6.828791161839656,
          4.4717032380138555,
          4.98078859828486,
          5.396862697225867,
          35.3847468489639,
          30.59540123279891,
          32.17893941136838,
          31.237192116277782,
          30.654316843165383,
          33.19620189118385,
          37.4732963042085,
          29.69801934873501,
          34.63198198938425
         ]
        }
       ],
       "layout": {
        "height": 500,
        "template": {
         "data": {
          "bar": [
           {
            "error_x": {
             "color": "#2a3f5f"
            },
            "error_y": {
             "color": "#2a3f5f"
            },
            "marker": {
             "line": {
              "color": "#E5ECF6",
              "width": 0.5
             },
             "pattern": {
              "fillmode": "overlay",
              "size": 10,
              "solidity": 0.2
             }
            },
            "type": "bar"
           }
          ],
          "barpolar": [
           {
            "marker": {
             "line": {
              "color": "#E5ECF6",
              "width": 0.5
             },
             "pattern": {
              "fillmode": "overlay",
              "size": 10,
              "solidity": 0.2
             }
            },
            "type": "barpolar"
           }
          ],
          "carpet": [
           {
            "aaxis": {
             "endlinecolor": "#2a3f5f",
             "gridcolor": "white",
             "linecolor": "white",
             "minorgridcolor": "white",
             "startlinecolor": "#2a3f5f"
            },
            "baxis": {
             "endlinecolor": "#2a3f5f",
             "gridcolor": "white",
             "linecolor": "white",
             "minorgridcolor": "white",
             "startlinecolor": "#2a3f5f"
            },
            "type": "carpet"
           }
          ],
          "choropleth": [
           {
            "colorbar": {
             "outlinewidth": 0,
             "ticks": ""
            },
            "type": "choropleth"
           }
          ],
          "contour": [
           {
            "colorbar": {
             "outlinewidth": 0,
             "ticks": ""
            },
            "colorscale": [
             [
              0,
              "#0d0887"
             ],
             [
              0.1111111111111111,
              "#46039f"
             ],
             [
              0.2222222222222222,
              "#7201a8"
             ],
             [
              0.3333333333333333,
              "#9c179e"
             ],
             [
              0.4444444444444444,
              "#bd3786"
             ],
             [
              0.5555555555555556,
              "#d8576b"
             ],
             [
              0.6666666666666666,
              "#ed7953"
             ],
             [
              0.7777777777777778,
              "#fb9f3a"
             ],
             [
              0.8888888888888888,
              "#fdca26"
             ],
             [
              1,
              "#f0f921"
             ]
            ],
            "type": "contour"
           }
          ],
          "contourcarpet": [
           {
            "colorbar": {
             "outlinewidth": 0,
             "ticks": ""
            },
            "type": "contourcarpet"
           }
          ],
          "heatmap": [
           {
            "colorbar": {
             "outlinewidth": 0,
             "ticks": ""
            },
            "colorscale": [
             [
              0,
              "#0d0887"
             ],
             [
              0.1111111111111111,
              "#46039f"
             ],
             [
              0.2222222222222222,
              "#7201a8"
             ],
             [
              0.3333333333333333,
              "#9c179e"
             ],
             [
              0.4444444444444444,
              "#bd3786"
             ],
             [
              0.5555555555555556,
              "#d8576b"
             ],
             [
              0.6666666666666666,
              "#ed7953"
             ],
             [
              0.7777777777777778,
              "#fb9f3a"
             ],
             [
              0.8888888888888888,
              "#fdca26"
             ],
             [
              1,
              "#f0f921"
             ]
            ],
            "type": "heatmap"
           }
          ],
          "heatmapgl": [
           {
            "colorbar": {
             "outlinewidth": 0,
             "ticks": ""
            },
            "colorscale": [
             [
              0,
              "#0d0887"
             ],
             [
              0.1111111111111111,
              "#46039f"
             ],
             [
              0.2222222222222222,
              "#7201a8"
             ],
             [
              0.3333333333333333,
              "#9c179e"
             ],
             [
              0.4444444444444444,
              "#bd3786"
             ],
             [
              0.5555555555555556,
              "#d8576b"
             ],
             [
              0.6666666666666666,
              "#ed7953"
             ],
             [
              0.7777777777777778,
              "#fb9f3a"
             ],
             [
              0.8888888888888888,
              "#fdca26"
             ],
             [
              1,
              "#f0f921"
             ]
            ],
            "type": "heatmapgl"
           }
          ],
          "histogram": [
           {
            "marker": {
             "pattern": {
              "fillmode": "overlay",
              "size": 10,
              "solidity": 0.2
             }
            },
            "type": "histogram"
           }
          ],
          "histogram2d": [
           {
            "colorbar": {
             "outlinewidth": 0,
             "ticks": ""
            },
            "colorscale": [
             [
              0,
              "#0d0887"
             ],
             [
              0.1111111111111111,
              "#46039f"
             ],
             [
              0.2222222222222222,
              "#7201a8"
             ],
             [
              0.3333333333333333,
              "#9c179e"
             ],
             [
              0.4444444444444444,
              "#bd3786"
             ],
             [
              0.5555555555555556,
              "#d8576b"
             ],
             [
              0.6666666666666666,
              "#ed7953"
             ],
             [
              0.7777777777777778,
              "#fb9f3a"
             ],
             [
              0.8888888888888888,
              "#fdca26"
             ],
             [
              1,
              "#f0f921"
             ]
            ],
            "type": "histogram2d"
           }
          ],
          "histogram2dcontour": [
           {
            "colorbar": {
             "outlinewidth": 0,
             "ticks": ""
            },
            "colorscale": [
             [
              0,
              "#0d0887"
             ],
             [
              0.1111111111111111,
              "#46039f"
             ],
             [
              0.2222222222222222,
              "#7201a8"
             ],
             [
              0.3333333333333333,
              "#9c179e"
             ],
             [
              0.4444444444444444,
              "#bd3786"
             ],
             [
              0.5555555555555556,
              "#d8576b"
             ],
             [
              0.6666666666666666,
              "#ed7953"
             ],
             [
              0.7777777777777778,
              "#fb9f3a"
             ],
             [
              0.8888888888888888,
              "#fdca26"
             ],
             [
              1,
              "#f0f921"
             ]
            ],
            "type": "histogram2dcontour"
           }
          ],
          "mesh3d": [
           {
            "colorbar": {
             "outlinewidth": 0,
             "ticks": ""
            },
            "type": "mesh3d"
           }
          ],
          "parcoords": [
           {
            "line": {
             "colorbar": {
              "outlinewidth": 0,
              "ticks": ""
             }
            },
            "type": "parcoords"
           }
          ],
          "pie": [
           {
            "automargin": true,
            "type": "pie"
           }
          ],
          "scatter": [
           {
            "fillpattern": {
             "fillmode": "overlay",
             "size": 10,
             "solidity": 0.2
            },
            "type": "scatter"
           }
          ],
          "scatter3d": [
           {
            "line": {
             "colorbar": {
              "outlinewidth": 0,
              "ticks": ""
             }
            },
            "marker": {
             "colorbar": {
              "outlinewidth": 0,
              "ticks": ""
             }
            },
            "type": "scatter3d"
           }
          ],
          "scattercarpet": [
           {
            "marker": {
             "colorbar": {
              "outlinewidth": 0,
              "ticks": ""
             }
            },
            "type": "scattercarpet"
           }
          ],
          "scattergeo": [
           {
            "marker": {
             "colorbar": {
              "outlinewidth": 0,
              "ticks": ""
             }
            },
            "type": "scattergeo"
           }
          ],
          "scattergl": [
           {
            "marker": {
             "colorbar": {
              "outlinewidth": 0,
              "ticks": ""
             }
            },
            "type": "scattergl"
           }
          ],
          "scattermapbox": [
           {
            "marker": {
             "colorbar": {
              "outlinewidth": 0,
              "ticks": ""
             }
            },
            "type": "scattermapbox"
           }
          ],
          "scatterpolar": [
           {
            "marker": {
             "colorbar": {
              "outlinewidth": 0,
              "ticks": ""
             }
            },
            "type": "scatterpolar"
           }
          ],
          "scatterpolargl": [
           {
            "marker": {
             "colorbar": {
              "outlinewidth": 0,
              "ticks": ""
             }
            },
            "type": "scatterpolargl"
           }
          ],
          "scatterternary": [
           {
            "marker": {
             "colorbar": {
              "outlinewidth": 0,
              "ticks": ""
             }
            },
            "type": "scatterternary"
           }
          ],
          "surface": [
           {
            "colorbar": {
             "outlinewidth": 0,
             "ticks": ""
            },
            "colorscale": [
             [
              0,
              "#0d0887"
             ],
             [
              0.1111111111111111,
              "#46039f"
             ],
             [
              0.2222222222222222,
              "#7201a8"
             ],
             [
              0.3333333333333333,
              "#9c179e"
             ],
             [
              0.4444444444444444,
              "#bd3786"
             ],
             [
              0.5555555555555556,
              "#d8576b"
             ],
             [
              0.6666666666666666,
              "#ed7953"
             ],
             [
              0.7777777777777778,
              "#fb9f3a"
             ],
             [
              0.8888888888888888,
              "#fdca26"
             ],
             [
              1,
              "#f0f921"
             ]
            ],
            "type": "surface"
           }
          ],
          "table": [
           {
            "cells": {
             "fill": {
              "color": "#EBF0F8"
             },
             "line": {
              "color": "white"
             }
            },
            "header": {
             "fill": {
              "color": "#C8D4E3"
             },
             "line": {
              "color": "white"
             }
            },
            "type": "table"
           }
          ]
         },
         "layout": {
          "annotationdefaults": {
           "arrowcolor": "#2a3f5f",
           "arrowhead": 0,
           "arrowwidth": 1
          },
          "autotypenumbers": "strict",
          "coloraxis": {
           "colorbar": {
            "outlinewidth": 0,
            "ticks": ""
           }
          },
          "colorscale": {
           "diverging": [
            [
             0,
             "#8e0152"
            ],
            [
             0.1,
             "#c51b7d"
            ],
            [
             0.2,
             "#de77ae"
            ],
            [
             0.3,
             "#f1b6da"
            ],
            [
             0.4,
             "#fde0ef"
            ],
            [
             0.5,
             "#f7f7f7"
            ],
            [
             0.6,
             "#e6f5d0"
            ],
            [
             0.7,
             "#b8e186"
            ],
            [
             0.8,
             "#7fbc41"
            ],
            [
             0.9,
             "#4d9221"
            ],
            [
             1,
             "#276419"
            ]
           ],
           "sequential": [
            [
             0,
             "#0d0887"
            ],
            [
             0.1111111111111111,
             "#46039f"
            ],
            [
             0.2222222222222222,
             "#7201a8"
            ],
            [
             0.3333333333333333,
             "#9c179e"
            ],
            [
             0.4444444444444444,
             "#bd3786"
            ],
            [
             0.5555555555555556,
             "#d8576b"
            ],
            [
             0.6666666666666666,
             "#ed7953"
            ],
            [
             0.7777777777777778,
             "#fb9f3a"
            ],
            [
             0.8888888888888888,
             "#fdca26"
            ],
            [
             1,
             "#f0f921"
            ]
           ],
           "sequentialminus": [
            [
             0,
             "#0d0887"
            ],
            [
             0.1111111111111111,
             "#46039f"
            ],
            [
             0.2222222222222222,
             "#7201a8"
            ],
            [
             0.3333333333333333,
             "#9c179e"
            ],
            [
             0.4444444444444444,
             "#bd3786"
            ],
            [
             0.5555555555555556,
             "#d8576b"
            ],
            [
             0.6666666666666666,
             "#ed7953"
            ],
            [
             0.7777777777777778,
             "#fb9f3a"
            ],
            [
             0.8888888888888888,
             "#fdca26"
            ],
            [
             1,
             "#f0f921"
            ]
           ]
          },
          "colorway": [
           "#636efa",
           "#EF553B",
           "#00cc96",
           "#ab63fa",
           "#FFA15A",
           "#19d3f3",
           "#FF6692",
           "#B6E880",
           "#FF97FF",
           "#FECB52"
          ],
          "font": {
           "color": "#2a3f5f"
          },
          "geo": {
           "bgcolor": "white",
           "lakecolor": "white",
           "landcolor": "#E5ECF6",
           "showlakes": true,
           "showland": true,
           "subunitcolor": "white"
          },
          "hoverlabel": {
           "align": "left"
          },
          "hovermode": "closest",
          "mapbox": {
           "style": "light"
          },
          "paper_bgcolor": "white",
          "plot_bgcolor": "#E5ECF6",
          "polar": {
           "angularaxis": {
            "gridcolor": "white",
            "linecolor": "white",
            "ticks": ""
           },
           "bgcolor": "#E5ECF6",
           "radialaxis": {
            "gridcolor": "white",
            "linecolor": "white",
            "ticks": ""
           }
          },
          "scene": {
           "xaxis": {
            "backgroundcolor": "#E5ECF6",
            "gridcolor": "white",
            "gridwidth": 2,
            "linecolor": "white",
            "showbackground": true,
            "ticks": "",
            "zerolinecolor": "white"
           },
           "yaxis": {
            "backgroundcolor": "#E5ECF6",
            "gridcolor": "white",
            "gridwidth": 2,
            "linecolor": "white",
            "showbackground": true,
            "ticks": "",
            "zerolinecolor": "white"
           },
           "zaxis": {
            "backgroundcolor": "#E5ECF6",
            "gridcolor": "white",
            "gridwidth": 2,
            "linecolor": "white",
            "showbackground": true,
            "ticks": "",
            "zerolinecolor": "white"
           }
          },
          "shapedefaults": {
           "line": {
            "color": "#2a3f5f"
           }
          },
          "ternary": {
           "aaxis": {
            "gridcolor": "white",
            "linecolor": "white",
            "ticks": ""
           },
           "baxis": {
            "gridcolor": "white",
            "linecolor": "white",
            "ticks": ""
           },
           "bgcolor": "#E5ECF6",
           "caxis": {
            "gridcolor": "white",
            "linecolor": "white",
            "ticks": ""
           }
          },
          "title": {
           "x": 0.05
          },
          "xaxis": {
           "automargin": true,
           "gridcolor": "white",
           "linecolor": "white",
           "ticks": "",
           "title": {
            "standoff": 15
           },
           "zerolinecolor": "white",
           "zerolinewidth": 2
          },
          "yaxis": {
           "automargin": true,
           "gridcolor": "white",
           "linecolor": "white",
           "ticks": "",
           "title": {
            "standoff": 15
           },
           "zerolinecolor": "white",
           "zerolinewidth": 2
          }
         }
        },
        "title": {
         "text": "Proportion of Revenue in India vs USA",
         "x": 0.5
        },
        "width": 1000
       }
      }
     },
     "metadata": {},
     "output_type": "display_data"
    }
   ],
   "source": [
    "labels = data.groupby(['Country', 'Category'])['Revenue'].mean().index\n",
    "values = data.groupby(['Country', 'Category'])['Revenue'].mean().values\n",
    "fig = go.Figure()\n",
    "\n",
    "\n",
    "fig.add_trace(trace=go.Pie(labels=labels, \n",
    "                           values=values, \n",
    "                           hole=.8))\n",
    "\n",
    "\n",
    "# Update the layout with some cosmetics\n",
    "fig.update_layout(height=500, \n",
    "                  width=1000, \n",
    "                  title_text='Proportion of Revenue in India vs USA', \n",
    "                  title_x=0.5)\n",
    "fig.show()"
   ]
  }
 ],
 "metadata": {
  "kernelspec": {
   "display_name": "Python 3",
   "language": "python",
   "name": "python3"
  },
  "language_info": {
   "codemirror_mode": {
    "name": "ipython",
    "version": 3
   },
   "file_extension": ".py",
   "mimetype": "text/x-python",
   "name": "python",
   "nbconvert_exporter": "python",
   "pygments_lexer": "ipython3",
   "version": "3.11.3"
  },
  "orig_nbformat": 4
 },
 "nbformat": 4,
 "nbformat_minor": 2
}
